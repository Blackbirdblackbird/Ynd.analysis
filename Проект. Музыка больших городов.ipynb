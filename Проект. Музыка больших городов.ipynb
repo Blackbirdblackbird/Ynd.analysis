{
 "cells": [
  {
   "cell_type": "markdown",
   "metadata": {
    "deletable": false,
    "editable": false,
    "id": "E0vqbgi9ay0H"
   },
   "source": [
    "# Яндекс Музыка"
   ]
  },
  {
   "cell_type": "markdown",
   "metadata": {
    "deletable": false,
    "editable": false,
    "id": "VUC88oWjTJw2"
   },
   "source": [
    "Сравнение Москвы и Петербурга окружено мифами. Например:\n",
    " * Москва — мегаполис, подчинённый жёсткому ритму рабочей недели;\n",
    " * Петербург — культурная столица, со своими вкусами.\n",
    "\n",
    "На данных Яндекс Музыки вы сравните поведение пользователей двух столиц.\n",
    "\n",
    "**Цель исследования** — проверьте три гипотезы:\n",
    "1. Активность пользователей зависит от дня недели. Причём в Москве и Петербурге это проявляется по-разному.\n",
    "2. В понедельник утром в Москве преобладают одни жанры, а в Петербурге — другие. Так же и вечером пятницы преобладают разные жанры — в зависимости от города. \n",
    "3. Москва и Петербург предпочитают разные жанры музыки. В Москве чаще слушают поп-музыку, в Петербурге — русский рэп.\n",
    "\n",
    "**Ход исследования**\n",
    "\n",
    "Данные о поведении пользователей вы получите из файла `yandex_music_project.csv`. О качестве данных ничего не известно. Поэтому перед проверкой гипотез понадобится обзор данных. \n",
    "\n",
    "Вы проверите данные на ошибки и оцените их влияние на исследование. Затем, на этапе предобработки вы поищете возможность исправить самые критичные ошибки данных.\n",
    " \n",
    "Таким образом, исследование пройдёт в три этапа:\n",
    " 1. Обзор данных.\n",
    " 2. Предобработка данных.\n",
    " 3. Проверка гипотез.\n",
    "\n"
   ]
  },
  {
   "cell_type": "markdown",
   "metadata": {
    "deletable": false,
    "editable": false,
    "id": "Ml1hmfXC_Zcs"
   },
   "source": [
    "## Обзор данных\n",
    "\n",
    "Составьте первое представление о данных Яндекс Музыки.\n",
    "\n",
    "\n"
   ]
  },
  {
   "cell_type": "markdown",
   "metadata": {
    "deletable": false,
    "editable": false,
    "id": "57eAOGIz_Zcs",
    "tags": [
     "start_task"
    ]
   },
   "source": [
    "**Задание 1**\n",
    "\n",
    "Основной инструмент аналитика — `pandas`. Импортируйте эту библиотеку."
   ]
  },
  {
   "cell_type": "code",
   "execution_count": 1,
   "metadata": {
    "deletable": false,
    "id": "AXN7PHPN_Zcs"
   },
   "outputs": [],
   "source": [
    "import pandas as pd# импорт библиотеки pandas"
   ]
  },
  {
   "cell_type": "markdown",
   "metadata": {
    "deletable": false,
    "editable": false,
    "id": "SG23P8tt_Zcs",
    "tags": [
     "start_task"
    ]
   },
   "source": [
    "**Задание 2**\n",
    "\n",
    "Прочитайте файл `yandex_music_project.csv` из папки `/datasets` и сохраните его в переменной `df`:"
   ]
  },
  {
   "cell_type": "code",
   "execution_count": 2,
   "metadata": {
    "deletable": false,
    "id": "fFVu7vqh_Zct"
   },
   "outputs": [],
   "source": [
    "df = pd.read_csv('/datasets/yandex_music_project.csv')# чтение файла с данными и сохранение в df"
   ]
  },
  {
   "cell_type": "markdown",
   "metadata": {
    "deletable": false,
    "editable": false,
    "id": "rDoOMd3uTqnZ",
    "tags": [
     "start_task"
    ]
   },
   "source": [
    "**Задание 3**\n",
    "\n",
    "\n",
    "Выведите на экран первые десять строк таблицы:"
   ]
  },
  {
   "cell_type": "code",
   "execution_count": 3,
   "metadata": {
    "deletable": false,
    "id": "oWTVX3gW_Zct"
   },
   "outputs": [
    {
     "data": {
      "text/html": [
       "<div>\n",
       "<style scoped>\n",
       "    .dataframe tbody tr th:only-of-type {\n",
       "        vertical-align: middle;\n",
       "    }\n",
       "\n",
       "    .dataframe tbody tr th {\n",
       "        vertical-align: top;\n",
       "    }\n",
       "\n",
       "    .dataframe thead th {\n",
       "        text-align: right;\n",
       "    }\n",
       "</style>\n",
       "<table border=\"1\" class=\"dataframe\">\n",
       "  <thead>\n",
       "    <tr style=\"text-align: right;\">\n",
       "      <th></th>\n",
       "      <th>userID</th>\n",
       "      <th>Track</th>\n",
       "      <th>artist</th>\n",
       "      <th>genre</th>\n",
       "      <th>City</th>\n",
       "      <th>time</th>\n",
       "      <th>Day</th>\n",
       "    </tr>\n",
       "  </thead>\n",
       "  <tbody>\n",
       "    <tr>\n",
       "      <th>0</th>\n",
       "      <td>FFB692EC</td>\n",
       "      <td>Kamigata To Boots</td>\n",
       "      <td>The Mass Missile</td>\n",
       "      <td>rock</td>\n",
       "      <td>Saint-Petersburg</td>\n",
       "      <td>20:28:33</td>\n",
       "      <td>Wednesday</td>\n",
       "    </tr>\n",
       "    <tr>\n",
       "      <th>1</th>\n",
       "      <td>55204538</td>\n",
       "      <td>Delayed Because of Accident</td>\n",
       "      <td>Andreas Rönnberg</td>\n",
       "      <td>rock</td>\n",
       "      <td>Moscow</td>\n",
       "      <td>14:07:09</td>\n",
       "      <td>Friday</td>\n",
       "    </tr>\n",
       "    <tr>\n",
       "      <th>2</th>\n",
       "      <td>20EC38</td>\n",
       "      <td>Funiculì funiculà</td>\n",
       "      <td>Mario Lanza</td>\n",
       "      <td>pop</td>\n",
       "      <td>Saint-Petersburg</td>\n",
       "      <td>20:58:07</td>\n",
       "      <td>Wednesday</td>\n",
       "    </tr>\n",
       "    <tr>\n",
       "      <th>3</th>\n",
       "      <td>A3DD03C9</td>\n",
       "      <td>Dragons in the Sunset</td>\n",
       "      <td>Fire + Ice</td>\n",
       "      <td>folk</td>\n",
       "      <td>Saint-Petersburg</td>\n",
       "      <td>08:37:09</td>\n",
       "      <td>Monday</td>\n",
       "    </tr>\n",
       "    <tr>\n",
       "      <th>4</th>\n",
       "      <td>E2DC1FAE</td>\n",
       "      <td>Soul People</td>\n",
       "      <td>Space Echo</td>\n",
       "      <td>dance</td>\n",
       "      <td>Moscow</td>\n",
       "      <td>08:34:34</td>\n",
       "      <td>Monday</td>\n",
       "    </tr>\n",
       "    <tr>\n",
       "      <th>5</th>\n",
       "      <td>842029A1</td>\n",
       "      <td>Преданная</td>\n",
       "      <td>IMPERVTOR</td>\n",
       "      <td>rusrap</td>\n",
       "      <td>Saint-Petersburg</td>\n",
       "      <td>13:09:41</td>\n",
       "      <td>Friday</td>\n",
       "    </tr>\n",
       "    <tr>\n",
       "      <th>6</th>\n",
       "      <td>4CB90AA5</td>\n",
       "      <td>True</td>\n",
       "      <td>Roman Messer</td>\n",
       "      <td>dance</td>\n",
       "      <td>Moscow</td>\n",
       "      <td>13:00:07</td>\n",
       "      <td>Wednesday</td>\n",
       "    </tr>\n",
       "    <tr>\n",
       "      <th>7</th>\n",
       "      <td>F03E1C1F</td>\n",
       "      <td>Feeling This Way</td>\n",
       "      <td>Polina Griffith</td>\n",
       "      <td>dance</td>\n",
       "      <td>Moscow</td>\n",
       "      <td>20:47:49</td>\n",
       "      <td>Wednesday</td>\n",
       "    </tr>\n",
       "    <tr>\n",
       "      <th>8</th>\n",
       "      <td>8FA1D3BE</td>\n",
       "      <td>И вновь продолжается бой</td>\n",
       "      <td>NaN</td>\n",
       "      <td>ruspop</td>\n",
       "      <td>Moscow</td>\n",
       "      <td>09:17:40</td>\n",
       "      <td>Friday</td>\n",
       "    </tr>\n",
       "    <tr>\n",
       "      <th>9</th>\n",
       "      <td>E772D5C0</td>\n",
       "      <td>Pessimist</td>\n",
       "      <td>NaN</td>\n",
       "      <td>dance</td>\n",
       "      <td>Saint-Petersburg</td>\n",
       "      <td>21:20:49</td>\n",
       "      <td>Wednesday</td>\n",
       "    </tr>\n",
       "  </tbody>\n",
       "</table>\n",
       "</div>"
      ],
      "text/plain": [
       "     userID                        Track            artist   genre  \\\n",
       "0  FFB692EC            Kamigata To Boots  The Mass Missile    rock   \n",
       "1  55204538  Delayed Because of Accident  Andreas Rönnberg    rock   \n",
       "2    20EC38            Funiculì funiculà       Mario Lanza     pop   \n",
       "3  A3DD03C9        Dragons in the Sunset        Fire + Ice    folk   \n",
       "4  E2DC1FAE                  Soul People        Space Echo   dance   \n",
       "5  842029A1                    Преданная         IMPERVTOR  rusrap   \n",
       "6  4CB90AA5                         True      Roman Messer   dance   \n",
       "7  F03E1C1F             Feeling This Way   Polina Griffith   dance   \n",
       "8  8FA1D3BE     И вновь продолжается бой               NaN  ruspop   \n",
       "9  E772D5C0                    Pessimist               NaN   dance   \n",
       "\n",
       "             City        time        Day  \n",
       "0  Saint-Petersburg  20:28:33  Wednesday  \n",
       "1            Moscow  14:07:09     Friday  \n",
       "2  Saint-Petersburg  20:58:07  Wednesday  \n",
       "3  Saint-Petersburg  08:37:09     Monday  \n",
       "4            Moscow  08:34:34     Monday  \n",
       "5  Saint-Petersburg  13:09:41     Friday  \n",
       "6            Moscow  13:00:07  Wednesday  \n",
       "7            Moscow  20:47:49  Wednesday  \n",
       "8            Moscow  09:17:40     Friday  \n",
       "9  Saint-Petersburg  21:20:49  Wednesday  "
      ]
     },
     "execution_count": 3,
     "metadata": {},
     "output_type": "execute_result"
    }
   ],
   "source": [
    "df.head(10)# получение первых 10 строк таблицы df"
   ]
  },
  {
   "cell_type": "markdown",
   "metadata": {
    "deletable": false,
    "editable": false,
    "id": "EO73Kwic_Zct",
    "tags": [
     "start_task"
    ]
   },
   "source": [
    "**Задание 4**\n",
    "\n",
    "\n",
    "Одной командой получить общую информацию о таблице c помощью метода `info()`:"
   ]
  },
  {
   "cell_type": "code",
   "execution_count": 4,
   "metadata": {
    "deletable": false,
    "id": "DSf2kIb-_Zct"
   },
   "outputs": [
    {
     "name": "stdout",
     "output_type": "stream",
     "text": [
      "<class 'pandas.core.frame.DataFrame'>\n",
      "RangeIndex: 65079 entries, 0 to 65078\n",
      "Data columns (total 7 columns):\n",
      " #   Column    Non-Null Count  Dtype \n",
      "---  ------    --------------  ----- \n",
      " 0     userID  65079 non-null  object\n",
      " 1   Track     63848 non-null  object\n",
      " 2   artist    57876 non-null  object\n",
      " 3   genre     63881 non-null  object\n",
      " 4     City    65079 non-null  object\n",
      " 5   time      65079 non-null  object\n",
      " 6   Day       65079 non-null  object\n",
      "dtypes: object(7)\n",
      "memory usage: 3.5+ MB\n"
     ]
    }
   ],
   "source": [
    "df.info()# получение общей информации о данных в таблице df"
   ]
  },
  {
   "cell_type": "markdown",
   "metadata": {
    "deletable": false,
    "editable": false,
    "id": "TaQ2Iwbr_Zct"
   },
   "source": [
    "Итак, в таблице семь столбцов. Тип данных во всех столбцах — `object`.\n",
    "\n",
    "Согласно документации к данным:\n",
    "* `userID` — идентификатор пользователя;\n",
    "* `Track` — название трека;  \n",
    "* `artist` — имя исполнителя;\n",
    "* `genre` — название жанра;\n",
    "* `City` — город пользователя;\n",
    "* `time` — время начала прослушивания;\n",
    "* `Day` — день недели.\n",
    "\n",
    "Количество значений в столбцах различается. Значит, в данных есть пропущенные значения."
   ]
  },
  {
   "cell_type": "markdown",
   "metadata": {
    "deletable": false,
    "editable": false,
    "id": "rAfziTBDmf2h",
    "tags": [
     "start_task"
    ]
   },
   "source": [
    "**Задание 5**\n",
    "\n",
    "**Вопрос со свободной формой ответа**\n",
    "\n",
    "В названиях колонок видны нарушения стиля:\n",
    "* Строчные буквы сочетаются с прописными.\n",
    "* Встречаются пробелы.\n",
    "\n",
    "Какое третье нарушение?"
   ]
  },
  {
   "cell_type": "code",
   "execution_count": 5,
   "metadata": {
    "id": "jD8EXEIvmf2h"
   },
   "outputs": [],
   "source": [
    " #Нет змеинного регистра в индентификаторе пользователя user_id. Не говорящие имена столбцов, например для восприятия можно было бы назвать day_week, city_residence и тд.# Напишите ваш ответ здесь комментарием. Не удаляйте символ #. Не меняйте тип этой ячейки на Markdown."
   ]
  },
  {
   "cell_type": "markdown",
   "metadata": {
    "deletable": false,
    "editable": false,
    "id": "MCB6-dXG_Zct"
   },
   "source": [
    "**Выводы**\n",
    "\n",
    "В каждой строке таблицы — данные о прослушанном треке. Часть колонок описывает саму композицию: название, исполнителя и жанр. Остальные данные рассказывают о пользователе: из какого он города, когда он слушал музыку. \n",
    "\n",
    "Предварительно можно утверждать, что данных достаточно для проверки гипотез. Но встречаются пропуски в данных, а в названиях колонок — расхождения с хорошим стилем.\n",
    "\n",
    "Чтобы двигаться дальше, нужно устранить проблемы в данных."
   ]
  },
  {
   "cell_type": "markdown",
   "metadata": {
    "deletable": false,
    "editable": false,
    "id": "SjYF6Ub9_Zct"
   },
   "source": [
    "## Предобработка данных\n",
    "Исправьте стиль в заголовках столбцов, исключите пропуски. Затем проверьте данные на дубликаты."
   ]
  },
  {
   "cell_type": "markdown",
   "metadata": {
    "deletable": false,
    "editable": false,
    "id": "dIaKXr29_Zct",
    "tags": [
     "start_task"
    ]
   },
   "source": [
    "### Стиль заголовков\n",
    "\n",
    "**Задание 6**\n",
    "\n",
    "Выведите на экран названия столбцов:"
   ]
  },
  {
   "cell_type": "code",
   "execution_count": 6,
   "metadata": {
    "deletable": false,
    "id": "oKOTdF_Q_Zct"
   },
   "outputs": [
    {
     "name": "stdout",
     "output_type": "stream",
     "text": [
      "Index(['  userID', 'Track', 'artist', 'genre', '  City  ', 'time', 'Day'], dtype='object')\n"
     ]
    }
   ],
   "source": [
    "print(df.columns)# перечень названий столбцов таблицы df"
   ]
  },
  {
   "cell_type": "markdown",
   "metadata": {
    "deletable": false,
    "editable": false,
    "id": "zj5534cv_Zct",
    "tags": [
     "start_task"
    ]
   },
   "source": [
    "**Задание 7**\n",
    "\n",
    "\n",
    "Приведите названия в соответствие с хорошим стилем:\n",
    "* несколько слов в названии запишите в «змеином_регистре»,\n",
    "* все символы сделайте строчными,\n",
    "* устраните пробелы.\n",
    "\n",
    "Для этого переименуйте колонки так:\n",
    "* `'  userID'` → `'user_id'`;\n",
    "* `'Track'` → `'track'`;\n",
    "* `'  City  '` → `'city'`;\n",
    "* `'Day'` → `'day'`."
   ]
  },
  {
   "cell_type": "code",
   "execution_count": 7,
   "metadata": {
    "deletable": false,
    "id": "ISlFqs5y_Zct"
   },
   "outputs": [],
   "source": [
    "df = df.rename(columns = {'  userID': 'user_id', 'Track' : 'track', '  City  ': 'city','Day': 'day'})# переименование столбцов"
   ]
  },
  {
   "cell_type": "markdown",
   "metadata": {
    "deletable": false,
    "editable": false,
    "id": "1dqbh00J_Zct",
    "tags": [
     "start_task"
    ]
   },
   "source": [
    "**Задание 8**\n",
    "\n",
    "\n",
    "Проверьте результат. Для этого ещё раз выведите на экран названия столбцов:"
   ]
  },
  {
   "cell_type": "code",
   "execution_count": 8,
   "metadata": {
    "deletable": false,
    "id": "d4NOAmTW_Zct"
   },
   "outputs": [
    {
     "name": "stdout",
     "output_type": "stream",
     "text": [
      "Index(['user_id', 'track', 'artist', 'genre', 'city', 'time', 'day'], dtype='object')\n"
     ]
    }
   ],
   "source": [
    "print(df.columns)# проверка результатов - перечень названий столбцов"
   ]
  },
  {
   "cell_type": "markdown",
   "metadata": {
    "deletable": false,
    "editable": false,
    "id": "5ISfbcfY_Zct",
    "tags": [
     "start_task"
    ]
   },
   "source": [
    "### Пропуски значений\n",
    "\n",
    "**Задание 9**\n",
    "\n",
    "Сначала посчитайте, сколько в таблице пропущенных значений. Для этого достаточно двух методов `pandas`:"
   ]
  },
  {
   "cell_type": "code",
   "execution_count": 9,
   "metadata": {
    "deletable": false,
    "id": "RskX29qr_Zct"
   },
   "outputs": [
    {
     "name": "stdout",
     "output_type": "stream",
     "text": [
      "user_id       0\n",
      "track      1231\n",
      "artist     7203\n",
      "genre      1198\n",
      "city          0\n",
      "time          0\n",
      "day           0\n",
      "dtype: int64\n"
     ]
    }
   ],
   "source": [
    "print(df.isna().sum())# подсчёт пропусков"
   ]
  },
  {
   "cell_type": "markdown",
   "metadata": {
    "deletable": false,
    "editable": false,
    "id": "qubhgnlO_Zct"
   },
   "source": [
    "Не все пропущенные значения влияют на исследование. Так в `track` и `artist` пропуски не важны для вашей работы. Достаточно заменить их явными обозначениями.\n",
    "\n",
    "Но пропуски в `genre` могут помешать сравнению музыкальных вкусов в Москве и Санкт-Петербурге. На практике было бы правильно установить причину пропусков и восстановить данные. Такой возможности нет в учебном проекте. Придётся:\n",
    "* заполнить и эти пропуски явными обозначениями;\n",
    "* оценить, насколько они повредят расчётам. "
   ]
  },
  {
   "cell_type": "markdown",
   "metadata": {
    "deletable": false,
    "editable": false,
    "id": "fSv2laPA_Zct",
    "tags": [
     "start_task"
    ]
   },
   "source": [
    "**Задание 10**\n",
    "\n",
    "Замените пропущенные значения в столбцах `track`, `artist` и `genre` на строку `'unknown'`. Для этого создайте список `columns_to_replace`, переберите его элементы циклом `for` и для каждого столбца выполните замену пропущенных значений:"
   ]
  },
  {
   "cell_type": "code",
   "execution_count": 10,
   "metadata": {
    "deletable": false,
    "id": "KplB5qWs_Zct"
   },
   "outputs": [],
   "source": [
    "columns_to_replace = ['track', 'artist', 'genre']\n",
    "\n",
    "for column in columns_to_replace:\n",
    "    df[column] = df[column].fillna('unknown')# перебор названий столбцов в цикле и замена пропущенных значений на 'unknown'"
   ]
  },
  {
   "cell_type": "markdown",
   "metadata": {
    "deletable": false,
    "editable": false,
    "id": "Ilsm-MZo_Zct",
    "tags": [
     "start_task"
    ]
   },
   "source": [
    "**Задание 11**\n",
    "\n",
    "Убедитесь, что в таблице не осталось пропусков. Для этого ещё раз посчитайте пропущенные значения."
   ]
  },
  {
   "cell_type": "code",
   "execution_count": 11,
   "metadata": {
    "deletable": false,
    "id": "Tq4nYRX4_Zct"
   },
   "outputs": [
    {
     "name": "stdout",
     "output_type": "stream",
     "text": [
      "user_id    0\n",
      "track      0\n",
      "artist     0\n",
      "genre      0\n",
      "city       0\n",
      "time       0\n",
      "day        0\n",
      "dtype: int64\n"
     ]
    }
   ],
   "source": [
    "print(df.isna().sum())# подсчёт пропусков"
   ]
  },
  {
   "cell_type": "markdown",
   "metadata": {
    "deletable": false,
    "editable": false,
    "id": "BWKRtBJ3_Zct",
    "tags": [
     "start_task"
    ]
   },
   "source": [
    "### Дубликаты\n",
    "\n",
    "**Задание 12**\n",
    "\n",
    "Посчитайте явные дубликаты в таблице одной командой:"
   ]
  },
  {
   "cell_type": "code",
   "execution_count": 12,
   "metadata": {
    "deletable": false,
    "id": "36eES_S0_Zct"
   },
   "outputs": [
    {
     "name": "stdout",
     "output_type": "stream",
     "text": [
      "3826\n"
     ]
    }
   ],
   "source": [
    "print(df.duplicated().sum()) # подсчёт явных дубликатов"
   ]
  },
  {
   "cell_type": "markdown",
   "metadata": {
    "deletable": false,
    "editable": false,
    "id": "Ot25h6XR_Zct",
    "tags": [
     "start_task"
    ]
   },
   "source": [
    "**Задание 13**\n",
    "\n",
    "Вызовите специальный метод `pandas`, чтобы удалить явные дубликаты:"
   ]
  },
  {
   "cell_type": "code",
   "execution_count": 13,
   "metadata": {
    "deletable": false,
    "id": "exFHq6tt_Zct"
   },
   "outputs": [],
   "source": [
    "df = df.drop_duplicates() # удаление явных дубликатов"
   ]
  },
  {
   "cell_type": "markdown",
   "metadata": {
    "deletable": false,
    "editable": false,
    "id": "Im2YwBEG_Zct",
    "tags": [
     "start_task"
    ]
   },
   "source": [
    "**Задание 14**\n",
    "\n",
    "Ещё раз посчитайте явные дубликаты в таблице — убедитесь, что полностью от них избавились:"
   ]
  },
  {
   "cell_type": "code",
   "execution_count": 14,
   "metadata": {
    "deletable": false,
    "id": "-8PuNWQ0_Zct"
   },
   "outputs": [
    {
     "name": "stdout",
     "output_type": "stream",
     "text": [
      "0\n"
     ]
    }
   ],
   "source": [
    "print(df.duplicated().sum())# проверка на отсутствие дубликатов"
   ]
  },
  {
   "cell_type": "markdown",
   "metadata": {
    "deletable": false,
    "editable": false,
    "id": "QlFBsxAr_Zct"
   },
   "source": [
    "Теперь избавьтесь от неявных дубликатов в колонке `genre`. Например, название одного и того же жанра может быть записано немного по-разному. Такие ошибки тоже повлияют на результат исследования."
   ]
  },
  {
   "cell_type": "markdown",
   "metadata": {
    "deletable": false,
    "editable": false,
    "id": "eSjWwsOh_Zct",
    "tags": [
     "start_task"
    ]
   },
   "source": [
    "**Задание 15**\n",
    "\n",
    "Выведите на экран список уникальных названий жанров, отсортированный в алфавитном порядке. Для этого:\n",
    "1. извлеките нужный столбец датафрейма; \n",
    "2. примените к нему метод сортировки;\n",
    "3. для отсортированного столбца вызовите метод, который вернёт уникальные значения из столбца."
   ]
  },
  {
   "cell_type": "code",
   "execution_count": 15,
   "metadata": {
    "deletable": false,
    "id": "JIUcqzZN_Zct"
   },
   "outputs": [
    {
     "name": "stdout",
     "output_type": "stream",
     "text": [
      "['acid' 'acoustic' 'action' 'adult' 'africa' 'afrikaans' 'alternative'\n",
      " 'alternativepunk' 'ambient' 'americana' 'animated' 'anime' 'arabesk'\n",
      " 'arabic' 'arena' 'argentinetango' 'art' 'audiobook' 'author' 'avantgarde'\n",
      " 'axé' 'baile' 'balkan' 'beats' 'bigroom' 'black' 'bluegrass' 'blues'\n",
      " 'bollywood' 'bossa' 'brazilian' 'breakbeat' 'breaks' 'broadway'\n",
      " 'cantautori' 'cantopop' 'canzone' 'caribbean' 'caucasian' 'celtic'\n",
      " 'chamber' 'chanson' 'children' 'chill' 'chinese' 'choral' 'christian'\n",
      " 'christmas' 'classical' 'classicmetal' 'club' 'colombian' 'comedy'\n",
      " 'conjazz' 'contemporary' 'country' 'cuban' 'dance' 'dancehall' 'dancepop'\n",
      " 'dark' 'death' 'deep' 'deutschrock' 'deutschspr' 'dirty' 'disco' 'dnb'\n",
      " 'documentary' 'downbeat' 'downtempo' 'drum' 'dub' 'dubstep' 'eastern'\n",
      " 'easy' 'electronic' 'electropop' 'emo' 'entehno' 'epicmetal' 'estrada'\n",
      " 'ethnic' 'eurofolk' 'european' 'experimental' 'extrememetal' 'fado'\n",
      " 'fairytail' 'film' 'fitness' 'flamenco' 'folk' 'folklore' 'folkmetal'\n",
      " 'folkrock' 'folktronica' 'forró' 'frankreich' 'französisch' 'french'\n",
      " 'funk' 'future' 'gangsta' 'garage' 'german' 'ghazal' 'gitarre' 'glitch'\n",
      " 'gospel' 'gothic' 'grime' 'grunge' 'gypsy' 'handsup' \"hard'n'heavy\"\n",
      " 'hardcore' 'hardstyle' 'hardtechno' 'hip' 'hip-hop' 'hiphop' 'historisch'\n",
      " 'holiday' 'hop' 'horror' 'house' 'hymn' 'idm' 'independent' 'indian'\n",
      " 'indie' 'indipop' 'industrial' 'inspirational' 'instrumental'\n",
      " 'international' 'irish' 'jam' 'japanese' 'jazz' 'jewish' 'jpop' 'jungle'\n",
      " 'k-pop' 'karadeniz' 'karaoke' 'kayokyoku' 'korean' 'laiko' 'latin'\n",
      " 'latino' 'leftfield' 'local' 'lounge' 'loungeelectronic' 'lovers'\n",
      " 'malaysian' 'mandopop' 'marschmusik' 'meditative' 'mediterranean'\n",
      " 'melodic' 'metal' 'metalcore' 'mexican' 'middle' 'minimal'\n",
      " 'miscellaneous' 'modern' 'mood' 'mpb' 'muslim' 'native' 'neoklassik'\n",
      " 'neue' 'new' 'newage' 'newwave' 'nu' 'nujazz' 'numetal' 'oceania' 'old'\n",
      " 'opera' 'orchestral' 'other' 'piano' 'podcasts' 'pop' 'popdance'\n",
      " 'popelectronic' 'popeurodance' 'poprussian' 'post' 'posthardcore'\n",
      " 'postrock' 'power' 'progmetal' 'progressive' 'psychedelic' 'punjabi'\n",
      " 'punk' 'quebecois' 'ragga' 'ram' 'rancheras' 'rap' 'rave' 'reggae'\n",
      " 'reggaeton' 'regional' 'relax' 'religious' 'retro' 'rhythm' 'rnb' 'rnr'\n",
      " 'rock' 'rockabilly' 'rockalternative' 'rockindie' 'rockother' 'romance'\n",
      " 'roots' 'ruspop' 'rusrap' 'rusrock' 'russian' 'salsa' 'samba' 'scenic'\n",
      " 'schlager' 'self' 'sertanejo' 'shanson' 'shoegazing' 'showtunes' 'singer'\n",
      " 'ska' 'skarock' 'slow' 'smooth' 'soft' 'soul' 'soulful' 'sound'\n",
      " 'soundtrack' 'southern' 'specialty' 'speech' 'spiritual' 'sport'\n",
      " 'stonerrock' 'surf' 'swing' 'synthpop' 'synthrock' 'sängerportrait'\n",
      " 'tango' 'tanzorchester' 'taraftar' 'tatar' 'tech' 'techno' 'teen'\n",
      " 'thrash' 'top' 'traditional' 'tradjazz' 'trance' 'tribal' 'trip'\n",
      " 'triphop' 'tropical' 'türk' 'türkçe' 'ukrrock' 'unknown' 'urban' 'uzbek'\n",
      " 'variété' 'vi' 'videogame' 'vocal' 'western' 'world' 'worldbeat' 'ïîï'\n",
      " 'электроника']\n"
     ]
    }
   ],
   "source": [
    "print(df['genre'].sort_values().unique())"
   ]
  },
  {
   "cell_type": "markdown",
   "metadata": {
    "deletable": false,
    "editable": false,
    "id": "qej-Qmuo_Zct",
    "tags": [
     "start_task"
    ]
   },
   "source": [
    "**Задание 16**\n",
    "\n",
    "Просмотрите список и найдите неявные дубликаты названия `hiphop`. Это могут быть названия с ошибками или альтернативные названия того же жанра.\n",
    "\n",
    "Вы увидите следующие неявные дубликаты:\n",
    "* *hip*,\n",
    "* *hop*,\n",
    "* *hip-hop*.\n",
    "\n",
    "Чтобы очистить от них таблицу используйте метод `replace()` с двумя аргументами: списком строк-дубликатов (включащий *hip*, *hop* и *hip-hop*) и строкой с правильным значением. Вам нужно исправить колонку `genre` в таблице `df`: заменить каждое значение из списка дубликатов на верное. Вместо `hip`, `hop` и `hip-hop` в таблице должно быть значение `hiphop`:"
   ]
  },
  {
   "cell_type": "code",
   "execution_count": 16,
   "metadata": {
    "deletable": false,
    "id": "ErNDkmns_Zct"
   },
   "outputs": [],
   "source": [
    "df['genre'] = df['genre'].replace('hip', 'hiphop')\n",
    "df['genre'] = df['genre'].replace('hop', 'hiphop')\n",
    "df['genre'] = df['genre'].replace('hip-hop', 'hiphop')"
   ]
  },
  {
   "cell_type": "markdown",
   "metadata": {
    "deletable": false,
    "editable": false,
    "id": "zQKF16_RG15m",
    "tags": [
     "start_task"
    ]
   },
   "source": [
    "**Задание 17**\n",
    "\n",
    "Проверьте, что заменили неправильные названия:\n",
    "\n",
    "*   hip,\n",
    "*   hop,\n",
    "*   hip-hop.\n",
    "\n",
    "Выведите отсортированный список уникальных значений столбца `genre`:"
   ]
  },
  {
   "cell_type": "code",
   "execution_count": 17,
   "metadata": {
    "deletable": false,
    "id": "wvixALnFG15m"
   },
   "outputs": [
    {
     "name": "stdout",
     "output_type": "stream",
     "text": [
      "['acid' 'acoustic' 'action' 'adult' 'africa' 'afrikaans' 'alternative'\n",
      " 'alternativepunk' 'ambient' 'americana' 'animated' 'anime' 'arabesk'\n",
      " 'arabic' 'arena' 'argentinetango' 'art' 'audiobook' 'author' 'avantgarde'\n",
      " 'axé' 'baile' 'balkan' 'beats' 'bigroom' 'black' 'bluegrass' 'blues'\n",
      " 'bollywood' 'bossa' 'brazilian' 'breakbeat' 'breaks' 'broadway'\n",
      " 'cantautori' 'cantopop' 'canzone' 'caribbean' 'caucasian' 'celtic'\n",
      " 'chamber' 'chanson' 'children' 'chill' 'chinese' 'choral' 'christian'\n",
      " 'christmas' 'classical' 'classicmetal' 'club' 'colombian' 'comedy'\n",
      " 'conjazz' 'contemporary' 'country' 'cuban' 'dance' 'dancehall' 'dancepop'\n",
      " 'dark' 'death' 'deep' 'deutschrock' 'deutschspr' 'dirty' 'disco' 'dnb'\n",
      " 'documentary' 'downbeat' 'downtempo' 'drum' 'dub' 'dubstep' 'eastern'\n",
      " 'easy' 'electronic' 'electropop' 'emo' 'entehno' 'epicmetal' 'estrada'\n",
      " 'ethnic' 'eurofolk' 'european' 'experimental' 'extrememetal' 'fado'\n",
      " 'fairytail' 'film' 'fitness' 'flamenco' 'folk' 'folklore' 'folkmetal'\n",
      " 'folkrock' 'folktronica' 'forró' 'frankreich' 'französisch' 'french'\n",
      " 'funk' 'future' 'gangsta' 'garage' 'german' 'ghazal' 'gitarre' 'glitch'\n",
      " 'gospel' 'gothic' 'grime' 'grunge' 'gypsy' 'handsup' \"hard'n'heavy\"\n",
      " 'hardcore' 'hardstyle' 'hardtechno' 'hiphop' 'historisch' 'holiday'\n",
      " 'horror' 'house' 'hymn' 'idm' 'independent' 'indian' 'indie' 'indipop'\n",
      " 'industrial' 'inspirational' 'instrumental' 'international' 'irish' 'jam'\n",
      " 'japanese' 'jazz' 'jewish' 'jpop' 'jungle' 'k-pop' 'karadeniz' 'karaoke'\n",
      " 'kayokyoku' 'korean' 'laiko' 'latin' 'latino' 'leftfield' 'local'\n",
      " 'lounge' 'loungeelectronic' 'lovers' 'malaysian' 'mandopop' 'marschmusik'\n",
      " 'meditative' 'mediterranean' 'melodic' 'metal' 'metalcore' 'mexican'\n",
      " 'middle' 'minimal' 'miscellaneous' 'modern' 'mood' 'mpb' 'muslim'\n",
      " 'native' 'neoklassik' 'neue' 'new' 'newage' 'newwave' 'nu' 'nujazz'\n",
      " 'numetal' 'oceania' 'old' 'opera' 'orchestral' 'other' 'piano' 'podcasts'\n",
      " 'pop' 'popdance' 'popelectronic' 'popeurodance' 'poprussian' 'post'\n",
      " 'posthardcore' 'postrock' 'power' 'progmetal' 'progressive' 'psychedelic'\n",
      " 'punjabi' 'punk' 'quebecois' 'ragga' 'ram' 'rancheras' 'rap' 'rave'\n",
      " 'reggae' 'reggaeton' 'regional' 'relax' 'religious' 'retro' 'rhythm'\n",
      " 'rnb' 'rnr' 'rock' 'rockabilly' 'rockalternative' 'rockindie' 'rockother'\n",
      " 'romance' 'roots' 'ruspop' 'rusrap' 'rusrock' 'russian' 'salsa' 'samba'\n",
      " 'scenic' 'schlager' 'self' 'sertanejo' 'shanson' 'shoegazing' 'showtunes'\n",
      " 'singer' 'ska' 'skarock' 'slow' 'smooth' 'soft' 'soul' 'soulful' 'sound'\n",
      " 'soundtrack' 'southern' 'specialty' 'speech' 'spiritual' 'sport'\n",
      " 'stonerrock' 'surf' 'swing' 'synthpop' 'synthrock' 'sängerportrait'\n",
      " 'tango' 'tanzorchester' 'taraftar' 'tatar' 'tech' 'techno' 'teen'\n",
      " 'thrash' 'top' 'traditional' 'tradjazz' 'trance' 'tribal' 'trip'\n",
      " 'triphop' 'tropical' 'türk' 'türkçe' 'ukrrock' 'unknown' 'urban' 'uzbek'\n",
      " 'variété' 'vi' 'videogame' 'vocal' 'western' 'world' 'worldbeat' 'ïîï'\n",
      " 'электроника']\n"
     ]
    }
   ],
   "source": [
    "print(df['genre'].sort_values().unique())"
   ]
  },
  {
   "cell_type": "markdown",
   "metadata": {
    "deletable": false,
    "editable": false,
    "id": "jz6a9-7HQUDd"
   },
   "source": [
    "**Выводы**\n",
    "\n",
    "Предобработка обнаружила три проблемы в данных:\n",
    "\n",
    "- нарушения в стиле заголовков,\n",
    "- пропущенные значения,\n",
    "- дубликаты — явные и неявные.\n",
    "\n",
    "Вы исправили заголовки, чтобы упростить работу с таблицей. Без дубликатов исследование станет более точным.\n",
    "\n",
    "Пропущенные значения вы заменили на `'unknown'`. Ещё предстоит увидеть, не повредят ли исследованию пропуски в колонке `genre`.\n",
    "\n",
    "Теперь можно перейти к проверке гипотез. "
   ]
  },
  {
   "cell_type": "markdown",
   "metadata": {
    "deletable": false,
    "editable": false,
    "id": "WttZHXH0SqKk"
   },
   "source": [
    "## Проверка гипотез"
   ]
  },
  {
   "cell_type": "markdown",
   "metadata": {
    "deletable": false,
    "editable": false,
    "id": "Im936VVi_Zcu"
   },
   "source": [
    "### Сравнение поведения пользователей двух столиц"
   ]
  },
  {
   "cell_type": "markdown",
   "metadata": {
    "deletable": false,
    "editable": false,
    "id": "nwt_MuaL_Zcu"
   },
   "source": [
    "Первая гипотеза утверждает, что пользователи по-разному слушают музыку в Москве и Санкт-Петербурге. Проверьте это предположение по данным о трёх днях недели — понедельнике, среде и пятнице. Для этого:\n",
    "\n",
    "* Разделите пользователей Москвы и Санкт-Петербурга.\n",
    "* Сравните, сколько треков послушала каждая группа пользователей в понедельник, среду и пятницу.\n"
   ]
  },
  {
   "cell_type": "markdown",
   "metadata": {
    "deletable": false,
    "editable": false,
    "id": "8Dw_YMmT_Zcu",
    "tags": [
     "start_task"
    ]
   },
   "source": [
    "**Задание 18**\n",
    "\n",
    "Для тренировки сначала выполните каждый из расчётов по отдельности. \n",
    "\n",
    "Оцените активность пользователей в каждом городе. Сгруппируйте данные по городу и посчитайте прослушивания в каждой группе.\n",
    "\n"
   ]
  },
  {
   "cell_type": "code",
   "execution_count": 18,
   "metadata": {
    "deletable": false,
    "id": "0_Qs96oh_Zcu",
    "scrolled": true
   },
   "outputs": [
    {
     "data": {
      "text/plain": [
       "city\n",
       "Moscow              42741\n",
       "Saint-Petersburg    18512\n",
       "Name: user_id, dtype: int64"
      ]
     },
     "execution_count": 18,
     "metadata": {},
     "output_type": "execute_result"
    }
   ],
   "source": [
    "df.groupby('city')['user_id'].count() # Подсчёт прослушиваний в каждом городе"
   ]
  },
  {
   "cell_type": "markdown",
   "metadata": {
    "deletable": false,
    "editable": false,
    "id": "dzli3w8o_Zcu",
    "tags": [
     "start_task"
    ]
   },
   "source": [
    "В Москве прослушиваний больше, чем в Петербурге. Из этого не следует, что московские пользователи чаще слушают музыку. Просто самих пользователей в Москве больше.\n",
    "\n",
    "**Задание 19**\n",
    "\n",
    "Теперь сгруппируйте данные по дню недели и посчитайте прослушивания в понедельник, среду и пятницу. Учтите, что в данных есть информация о прослушиваниях только за эти дни.\n"
   ]
  },
  {
   "cell_type": "code",
   "execution_count": 19,
   "metadata": {
    "deletable": false,
    "id": "uZMKjiJz_Zcu"
   },
   "outputs": [
    {
     "data": {
      "text/plain": [
       "day\n",
       "Friday       21840\n",
       "Monday       21354\n",
       "Wednesday    18059\n",
       "Name: user_id, dtype: int64"
      ]
     },
     "execution_count": 19,
     "metadata": {},
     "output_type": "execute_result"
    }
   ],
   "source": [
    "df.groupby('day')['user_id'].count()# Подсчёт прослушиваний в каждый из трёх дней"
   ]
  },
  {
   "cell_type": "markdown",
   "metadata": {
    "deletable": false,
    "editable": false,
    "id": "cC2tNrlL_Zcu"
   },
   "source": [
    "В среднем пользователи из двух городов менее активны по средам. Но картина может измениться, если рассмотреть каждый город в отдельности."
   ]
  },
  {
   "cell_type": "markdown",
   "metadata": {
    "deletable": false,
    "editable": false,
    "id": "POzs8bGa_Zcu",
    "tags": [
     "start_task"
    ]
   },
   "source": [
    "**Задание 20**\n",
    "\n",
    "\n",
    "Вы видели, как работает группировка по городу и по дням недели. Теперь напишите функцию, которая объединит два эти расчёта.\n",
    "\n",
    "Создайте функцию `number_tracks()`, которая посчитает прослушивания для заданного дня и города. Ей понадобятся два параметра:\n",
    "* день недели,\n",
    "* название города.\n",
    "\n",
    "В функции сохраните в переменную строки исходной таблицы, у которых значение:\n",
    "  * в колонке `day` равно параметру `day`,\n",
    "  * в колонке `city` равно параметру `city`.\n",
    "\n",
    "Для этого примените последовательную фильтрацию с логической индексацией (или сложные логические выражения в одну строку, если вы уже знакомы с ними).\n",
    "\n",
    "Затем посчитайте значения в столбце `user_id` получившейся таблицы. Результат сохраните в новую переменную. Верните эту переменную из функции."
   ]
  },
  {
   "cell_type": "code",
   "execution_count": 20,
   "metadata": {
    "deletable": false,
    "id": "Nz3GdQB1_Zcu"
   },
   "outputs": [],
   "source": [
    "def number_tracks(day,city):\n",
    "   \n",
    "    track_list = df[df['day']== day]  # В переменной track_list сохраняются те строки таблицы df, для которых  # значение в столбце 'day' равно параметру day и одновременно значение\n",
    "    track_list = track_list[track_list['city']== city]  # в столбце 'city' равно параметру city (используйте последовательную фильтрацию # с помощью логической индексации).\n",
    "    track_list_count = track_list['user_id'].count()  # В переменной track_list_count сохраняется число значений столбца 'user_id', # рассчитанное методом count() для таблицы track_list.\n",
    "    return track_list_count  # Функция возвращает число - значение track_list_count."
   ]
  },
  {
   "cell_type": "markdown",
   "metadata": {
    "deletable": false,
    "editable": false,
    "id": "ytf7xFrFJQ2r",
    "tags": [
     "start_task"
    ]
   },
   "source": [
    "**Задание 21**\n",
    "\n",
    "Вызовите `number_tracks()` шесть раз, меняя значение параметров — так, чтобы получить данные для каждого города в каждый из трёх дней."
   ]
  },
  {
   "cell_type": "code",
   "execution_count": 21,
   "metadata": {
    "deletable": false,
    "id": "rJcRATNQ_Zcu"
   },
   "outputs": [
    {
     "data": {
      "text/plain": [
       "15740"
      ]
     },
     "execution_count": 21,
     "metadata": {},
     "output_type": "execute_result"
    }
   ],
   "source": [
    "number_tracks('Monday', 'Moscow')"
   ]
  },
  {
   "cell_type": "code",
   "execution_count": 22,
   "metadata": {
    "deletable": false,
    "id": "hq_ncZ5T_Zcu"
   },
   "outputs": [
    {
     "data": {
      "text/plain": [
       "5614"
      ]
     },
     "execution_count": 22,
     "metadata": {},
     "output_type": "execute_result"
    }
   ],
   "source": [
    "number_tracks('Monday', 'Saint-Petersburg')# количество прослушиваний в Санкт-Петербурге по понедельникам"
   ]
  },
  {
   "cell_type": "code",
   "execution_count": 23,
   "metadata": {
    "deletable": false,
    "id": "_NTy2VPU_Zcu"
   },
   "outputs": [
    {
     "data": {
      "text/plain": [
       "11056"
      ]
     },
     "execution_count": 23,
     "metadata": {},
     "output_type": "execute_result"
    }
   ],
   "source": [
    "number_tracks('Wednesday', 'Moscow')# количество прослушиваний в Москве по средам"
   ]
  },
  {
   "cell_type": "code",
   "execution_count": 24,
   "metadata": {
    "deletable": false,
    "id": "j2y3TAwo_Zcu"
   },
   "outputs": [
    {
     "data": {
      "text/plain": [
       "7003"
      ]
     },
     "execution_count": 24,
     "metadata": {},
     "output_type": "execute_result"
    }
   ],
   "source": [
    "number_tracks('Wednesday', 'Saint-Petersburg')# количество прослушиваний в Санкт-Петербурге по средам"
   ]
  },
  {
   "cell_type": "code",
   "execution_count": 25,
   "metadata": {
    "deletable": false,
    "id": "vYDw5u_K_Zcu"
   },
   "outputs": [
    {
     "data": {
      "text/plain": [
       "15945"
      ]
     },
     "execution_count": 25,
     "metadata": {},
     "output_type": "execute_result"
    }
   ],
   "source": [
    "number_tracks('Friday', 'Moscow')# количество прослушиваний в Москве по пятницам"
   ]
  },
  {
   "cell_type": "code",
   "execution_count": 26,
   "metadata": {
    "deletable": false,
    "id": "8_yzFtW3_Zcu"
   },
   "outputs": [
    {
     "data": {
      "text/plain": [
       "5895"
      ]
     },
     "execution_count": 26,
     "metadata": {},
     "output_type": "execute_result"
    }
   ],
   "source": [
    "number_tracks('Friday', 'Saint-Petersburg')# количество прослушиваний в Санкт-Петербурге по пятницам"
   ]
  },
  {
   "cell_type": "markdown",
   "metadata": {
    "deletable": false,
    "editable": false,
    "id": "7QXffbO-_Zcu",
    "tags": [
     "start_task"
    ]
   },
   "source": [
    "**Задание 22**\n",
    "\n",
    "Создайте c помощью конструктора `pd.DataFrame` таблицу, где\n",
    "* названия колонок — `['city', 'monday', 'wednesday', 'friday']`;\n",
    "* данные — результаты, которые вы получили с помощью `number_tracks`."
   ]
  },
  {
   "cell_type": "code",
   "execution_count": 27,
   "metadata": {
    "deletable": false,
    "id": "APAcLpOr_Zcu"
   },
   "outputs": [
    {
     "data": {
      "text/html": [
       "<div>\n",
       "<style scoped>\n",
       "    .dataframe tbody tr th:only-of-type {\n",
       "        vertical-align: middle;\n",
       "    }\n",
       "\n",
       "    .dataframe tbody tr th {\n",
       "        vertical-align: top;\n",
       "    }\n",
       "\n",
       "    .dataframe thead th {\n",
       "        text-align: right;\n",
       "    }\n",
       "</style>\n",
       "<table border=\"1\" class=\"dataframe\">\n",
       "  <thead>\n",
       "    <tr style=\"text-align: right;\">\n",
       "      <th></th>\n",
       "      <th>city</th>\n",
       "      <th>monday</th>\n",
       "      <th>wednesday</th>\n",
       "      <th>friday</th>\n",
       "    </tr>\n",
       "  </thead>\n",
       "  <tbody>\n",
       "    <tr>\n",
       "      <th>0</th>\n",
       "      <td>Moscow</td>\n",
       "      <td>15740</td>\n",
       "      <td>11056</td>\n",
       "      <td>15945</td>\n",
       "    </tr>\n",
       "    <tr>\n",
       "      <th>1</th>\n",
       "      <td>Saint-Petersburg</td>\n",
       "      <td>5614</td>\n",
       "      <td>7003</td>\n",
       "      <td>5895</td>\n",
       "    </tr>\n",
       "  </tbody>\n",
       "</table>\n",
       "</div>"
      ],
      "text/plain": [
       "               city  monday  wednesday  friday\n",
       "0            Moscow   15740      11056   15945\n",
       "1  Saint-Petersburg    5614       7003    5895"
      ]
     },
     "execution_count": 27,
     "metadata": {},
     "output_type": "execute_result"
    }
   ],
   "source": [
    "data=[['Moscow',15740,11056, 15945], ['Saint-Petersburg',5614, 7003,5895 ]]\n",
    "pd.DataFrame(data = data, columns = ['city', 'monday', 'wednesday', 'friday'])"
   ]
  },
  {
   "cell_type": "markdown",
   "metadata": {
    "deletable": false,
    "editable": false,
    "id": "-EgPIHYu_Zcu"
   },
   "source": [
    "**Выводы**\n",
    "\n",
    "Данные показывают разницу поведения пользователей:\n",
    "\n",
    "- В Москве пик прослушиваний приходится на понедельник и пятницу, а в среду заметен спад.\n",
    "- В Петербурге, наоборот, больше слушают музыку по средам. Активность в понедельник и пятницу здесь почти в равной мере уступает среде.\n",
    "\n",
    "Значит, данные говорят в пользу первой гипотезы."
   ]
  },
  {
   "cell_type": "markdown",
   "metadata": {
    "deletable": false,
    "editable": false,
    "id": "atZAxtq4_Zcu"
   },
   "source": [
    "### Музыка в начале и в конце недели"
   ]
  },
  {
   "cell_type": "markdown",
   "metadata": {
    "deletable": false,
    "editable": false,
    "id": "eXrQqXFH_Zcu"
   },
   "source": [
    "Согласно второй гипотезе, утром в понедельник в Москве преобладают одни жанры, а в Петербурге — другие. Так же и вечером пятницы преобладают разные жанры — в зависимости от города."
   ]
  },
  {
   "cell_type": "markdown",
   "metadata": {
    "deletable": false,
    "editable": false,
    "id": "S8UcW6Hw_Zcu",
    "tags": [
     "start_task"
    ]
   },
   "source": [
    "**Задание 23**\n",
    "\n",
    "Сохраните таблицы с данными в две переменные:\n",
    "* по Москве — в `moscow_general`;\n",
    "* по Санкт-Петербургу — в `spb_general`."
   ]
  },
  {
   "cell_type": "code",
   "execution_count": 28,
   "metadata": {
    "deletable": false,
    "id": "qeaFfM_P_Zcu"
   },
   "outputs": [],
   "source": [
    "moscow_general = df[df['city']=='Moscow']# получение таблицы moscow_general из тех строк таблицы df, \n",
    "# для которых значение в столбце 'city' равно 'Moscow'\n"
   ]
  },
  {
   "cell_type": "code",
   "execution_count": 29,
   "metadata": {
    "deletable": false,
    "id": "ORaVRKto_Zcu"
   },
   "outputs": [],
   "source": [
    "spb_general = df[df['city']=='Saint-Petersburg']# получение таблицы spb_general из тех строк таблицы df,\n",
    "# для которых значение в столбце 'city' равно 'Saint-Petersburg'\n"
   ]
  },
  {
   "cell_type": "markdown",
   "metadata": {
    "deletable": false,
    "editable": false,
    "id": "MEJV-CX2_Zcu",
    "tags": [
     "start_task"
    ]
   },
   "source": [
    "**Задание 24**\n",
    "\n",
    "Создайте функцию `genre_weekday()` с четырьмя параметрами:\n",
    "* таблица (датафрейм) с данными,\n",
    "* день недели,\n",
    "* начальная временная метка в формате 'hh:mm', \n",
    "* последняя временная метка в формате 'hh:mm'.\n",
    "\n",
    "Функция должна вернуть информацию о топ-10 жанров тех треков, которые прослушивали в указанный день, в промежутке между двумя отметками времени."
   ]
  },
  {
   "cell_type": "code",
   "execution_count": 30,
   "metadata": {
    "deletable": false,
    "id": "laJT9BYl_Zcu",
    "scrolled": true
   },
   "outputs": [],
   "source": [
    "# Объявление функции genre_weekday() с параметрами table, day, time1, time2,\n",
    "# которая возвращает информацию о самых популярных жанрах в указанный день в\n",
    "# заданное время:\n",
    "# 1) в переменную genre_df сохраняются те строки переданного датафрейма table, для\n",
    "#    которых одновременно:\n",
    "#    - значение в столбце day равно значению аргумента day\n",
    "#    - значение в столбце time больше значения аргумента time1\n",
    "#    - значение в столбце time меньше значения аргумента time2\n",
    "#    Используйте последовательную фильтрацию с помощью логической индексации.\n",
    "# 2) сгруппировать датафрейм genre_df по столбцу genre, взять один из его\n",
    "#    столбцов и посчитать методом count() количество записей для каждого из\n",
    "#    присутствующих жанров, получившийся Series записать в переменную\n",
    "#    genre_df_count\n",
    "# 3) отсортировать genre_df_count по убыванию встречаемости и сохранить\n",
    "#    в переменную genre_df_sorted\n",
    "# 4) вернуть Series из 10 первых значений genre_df_sorted, это будут топ-10\n",
    "#    популярных жанров (в указанный день, в заданное время)\n",
    "\n",
    "def genre_weekday(df, day, time1, time2): \n",
    "    genre_df = df[df['day'] == day]\n",
    "    genre_df = genre_df[genre_df['time'] > time1]\n",
    "    genre_df = genre_df[genre_df['time'] < time2]\n",
    "    genre_df_grouped = genre_df.groupby('genre')['genre'].count()\n",
    "    genre_df_sorted =  genre_df_grouped.sort_values(ascending=False)\n",
    "    return genre_df_sorted[:10]"
   ]
  },
  {
   "cell_type": "markdown",
   "metadata": {
    "deletable": false,
    "editable": false,
    "id": "la2s2_PF_Zcu",
    "tags": [
     "start_task"
    ]
   },
   "source": [
    "**Задание 25**\n",
    "\n",
    "\n",
    "Cравните результаты функции `genre_weekday()` для Москвы и Санкт-Петербурга в понедельник утром (с 7:00 до 11:00) и в пятницу вечером (с 17:00 до 23:00):"
   ]
  },
  {
   "cell_type": "code",
   "execution_count": 31,
   "metadata": {
    "deletable": false,
    "id": "yz7itPUQ_Zcu"
   },
   "outputs": [
    {
     "data": {
      "text/plain": [
       "genre\n",
       "pop            781\n",
       "dance          549\n",
       "electronic     480\n",
       "rock           474\n",
       "hiphop         286\n",
       "ruspop         186\n",
       "world          181\n",
       "rusrap         175\n",
       "alternative    164\n",
       "unknown        161\n",
       "Name: genre, dtype: int64"
      ]
     },
     "execution_count": 31,
     "metadata": {},
     "output_type": "execute_result"
    }
   ],
   "source": [
    "genre_weekday (moscow_general, 'Monday', '07:00', '11:00')"
   ]
  },
  {
   "cell_type": "code",
   "execution_count": 32,
   "metadata": {
    "deletable": false,
    "id": "kwUcHPdy_Zcu"
   },
   "outputs": [
    {
     "data": {
      "text/plain": [
       "genre\n",
       "pop            218\n",
       "dance          182\n",
       "rock           162\n",
       "electronic     147\n",
       "hiphop          80\n",
       "ruspop          64\n",
       "alternative     58\n",
       "rusrap          55\n",
       "jazz            44\n",
       "classical       40\n",
       "Name: genre, dtype: int64"
      ]
     },
     "execution_count": 32,
     "metadata": {},
     "output_type": "execute_result"
    }
   ],
   "source": [
    "genre_weekday (spb_general, 'Monday', '07:00', '11:00')"
   ]
  },
  {
   "cell_type": "code",
   "execution_count": 33,
   "metadata": {
    "deletable": false,
    "id": "EzXVRE1o_Zcu"
   },
   "outputs": [
    {
     "data": {
      "text/plain": [
       "genre\n",
       "pop            713\n",
       "rock           517\n",
       "dance          495\n",
       "electronic     482\n",
       "hiphop         273\n",
       "world          208\n",
       "ruspop         170\n",
       "alternative    163\n",
       "classical      163\n",
       "rusrap         142\n",
       "Name: genre, dtype: int64"
      ]
     },
     "execution_count": 33,
     "metadata": {},
     "output_type": "execute_result"
    }
   ],
   "source": [
    "genre_weekday (moscow_general, 'Friday', '17:00', '23:00')"
   ]
  },
  {
   "cell_type": "code",
   "execution_count": 34,
   "metadata": {
    "deletable": false,
    "id": "JZaEKu5v_Zcu",
    "scrolled": true
   },
   "outputs": [
    {
     "data": {
      "text/plain": [
       "genre\n",
       "pop            256\n",
       "electronic     216\n",
       "rock           216\n",
       "dance          210\n",
       "hiphop          97\n",
       "alternative     63\n",
       "jazz            61\n",
       "classical       60\n",
       "rusrap          59\n",
       "world           54\n",
       "Name: genre, dtype: int64"
      ]
     },
     "execution_count": 34,
     "metadata": {},
     "output_type": "execute_result"
    }
   ],
   "source": [
    "genre_weekday (spb_general, 'Friday', '17:00', '23:00')"
   ]
  },
  {
   "cell_type": "markdown",
   "metadata": {
    "deletable": false,
    "editable": false,
    "id": "wrCe4MNX_Zcu"
   },
   "source": [
    "**Выводы**\n",
    "\n",
    "Если сравнить топ-10 жанров в понедельник утром, можно сделать такие выводы:\n",
    "\n",
    "1. В Москве и Петербурге слушают похожую музыку. Единственное отличие — в московский рейтинг вошёл жанр “world”, а в петербургский — джаз и классика.\n",
    "\n",
    "2. В Москве пропущенных значений оказалось так много, что значение `'unknown'` заняло десятое место среди самых популярных жанров. Значит, пропущенные значения занимают существенную долю в данных и угрожают достоверности исследования.\n",
    "\n",
    "Вечер пятницы не меняет эту картину. Некоторые жанры поднимаются немного выше, другие спускаются, но в целом топ-10 остаётся тем же самым.\n",
    "\n",
    "Таким образом, вторая гипотеза подтвердилась лишь частично:\n",
    "* Пользователи слушают похожую музыку в начале недели и в конце.\n",
    "* Разница между Москвой и Петербургом не слишком выражена. В Москве чаще слушают русскую популярную музыку, в Петербурге — джаз.\n",
    "\n",
    "Однако пропуски в данных ставят под сомнение этот результат. В Москве их так много, что рейтинг топ-10 мог бы выглядеть иначе, если бы не утерянные  данные о жанрах."
   ]
  },
  {
   "cell_type": "markdown",
   "metadata": {
    "deletable": false,
    "editable": false,
    "id": "JolODAqr_Zcu"
   },
   "source": [
    "### Жанровые предпочтения в Москве и Петербурге\n",
    "\n",
    "Гипотеза: Петербург — столица рэпа, музыку этого жанра там слушают чаще, чем в Москве.  А Москва — город контрастов, в котором, тем не менее, преобладает поп-музыка."
   ]
  },
  {
   "cell_type": "markdown",
   "metadata": {
    "deletable": false,
    "editable": false,
    "id": "DlegSvaT_Zcu",
    "tags": [
     "start_task"
    ]
   },
   "source": [
    "**Задание 26**\n",
    "\n",
    "Сгруппируйте таблицу `moscow_general` по жанру и посчитайте прослушивания треков каждого жанра методом `count()`. Затем отсортируйте результат в порядке убывания и сохраните его в таблице `moscow_genres`."
   ]
  },
  {
   "cell_type": "code",
   "execution_count": 35,
   "metadata": {
    "deletable": false,
    "id": "r19lIPke_Zcu"
   },
   "outputs": [],
   "source": [
    "moscow_genres = moscow_general.groupby('genre')['genre'].count().sort_values(ascending = False)# одной строкой: группировка таблицы moscow_general по столбцу 'genre', \n",
    "# подсчёт числа значений 'genre' в этой группировке методом count(), \n",
    "# сортировка получившегося Series в порядке убывания и сохранение в moscow_genres"
   ]
  },
  {
   "cell_type": "markdown",
   "metadata": {
    "deletable": false,
    "editable": false,
    "id": "6kMuomxTiIr8",
    "tags": [
     "start_task"
    ]
   },
   "source": [
    "**Задание 27**\n",
    "\n",
    "Выведите на экран первые десять строк `moscow_genres`:"
   ]
  },
  {
   "cell_type": "code",
   "execution_count": 36,
   "metadata": {
    "deletable": false,
    "id": "WhCSooF8_Zcv"
   },
   "outputs": [
    {
     "data": {
      "text/plain": [
       "genre\n",
       "pop            5892\n",
       "dance          4435\n",
       "rock           3965\n",
       "electronic     3786\n",
       "hiphop         2096\n",
       "classical      1616\n",
       "world          1432\n",
       "alternative    1379\n",
       "ruspop         1372\n",
       "rusrap         1161\n",
       "Name: genre, dtype: int64"
      ]
     },
     "execution_count": 36,
     "metadata": {},
     "output_type": "execute_result"
    }
   ],
   "source": [
    "moscow_genres.head(10)# просмотр первых 10 строк moscow_genres"
   ]
  },
  {
   "cell_type": "markdown",
   "metadata": {
    "deletable": false,
    "editable": false,
    "id": "cnPG2vnN_Zcv",
    "tags": [
     "start_task"
    ]
   },
   "source": [
    "**Задание 28**\n",
    "\n",
    "\n",
    "Теперь повторите то же и для Петербурга.\n",
    "\n",
    "Сгруппируйте таблицу `spb_general` по жанру. Посчитайте прослушивания треков каждого жанра. Результат отсортируйте в порядке убывания и сохраните в таблице `spb_genres`:\n"
   ]
  },
  {
   "cell_type": "code",
   "execution_count": 37,
   "metadata": {
    "deletable": false,
    "id": "gluLIpE7_Zcv"
   },
   "outputs": [],
   "source": [
    "spb_genres = spb_general.groupby('genre')['genre'].count().sort_values(ascending = False)# одной строкой: группировка таблицы spb_general по столбцу 'genre', \n",
    "# подсчёт числа значений 'genre' в этой группировке методом count(), \n",
    "# сортировка получившегося Series в порядке убывания и сохранение в spb_genres"
   ]
  },
  {
   "cell_type": "markdown",
   "metadata": {
    "deletable": false,
    "editable": false,
    "id": "5Doha_ODgyQ8",
    "tags": [
     "start_task"
    ]
   },
   "source": [
    "**Задание 29**\n",
    "\n",
    "Выведите на экран первые десять строк `spb_genres`:"
   ]
  },
  {
   "cell_type": "code",
   "execution_count": 38,
   "metadata": {
    "deletable": false,
    "id": "uaGJHjVU_Zcv"
   },
   "outputs": [
    {
     "data": {
      "text/plain": [
       "genre\n",
       "pop            2431\n",
       "dance          1932\n",
       "rock           1879\n",
       "electronic     1736\n",
       "hiphop          960\n",
       "alternative     649\n",
       "classical       646\n",
       "rusrap          564\n",
       "ruspop          538\n",
       "world           515\n",
       "Name: genre, dtype: int64"
      ]
     },
     "execution_count": 38,
     "metadata": {},
     "output_type": "execute_result"
    }
   ],
   "source": [
    "spb_genres.head(10)# просмотр первых 10 строк spb_genres"
   ]
  },
  {
   "cell_type": "markdown",
   "metadata": {
    "deletable": false,
    "editable": false,
    "id": "RY51YJYu_Zcv"
   },
   "source": [
    "**Выводы**"
   ]
  },
  {
   "cell_type": "markdown",
   "metadata": {
    "deletable": false,
    "editable": false,
    "id": "nVhnJEm__Zcv"
   },
   "source": [
    "Гипотеза частично подтвердилась:\n",
    "* Поп-музыка — самый популярный жанр в Москве, как и предполагала гипотеза. Более того, в топ-10 жанров встречается близкий жанр — русская популярная музыка.\n",
    "* Вопреки ожиданиям, рэп одинаково популярен в Москве и Петербурге. \n"
   ]
  },
  {
   "cell_type": "markdown",
   "metadata": {
    "deletable": false,
    "editable": false,
    "id": "ykKQ0N65_Zcv"
   },
   "source": [
    "## Итоги исследования"
   ]
  },
  {
   "cell_type": "markdown",
   "metadata": {
    "deletable": false,
    "editable": false,
    "id": "tjUwbHb3_Zcv"
   },
   "source": [
    "Вы проверили три гипотезы и установили:\n",
    "\n",
    "1. День недели по-разному влияет на активность пользователей в Москве и Петербурге. \n",
    "\n",
    "Первая гипотеза полностью подтвердилась.\n",
    "\n",
    "2. Музыкальные предпочтения не сильно меняются в течение недели — будь то Москва или Петербург. Небольшие различия заметны в начале недели, по понедельникам:\n",
    "* в Москве слушают музыку жанра “world”,\n",
    "* в Петербурге — джаз и классику.\n",
    "\n",
    "Таким образом, вторая гипотеза подтвердилась лишь отчасти. Этот результат мог оказаться иным, если бы не пропуски в данных.\n",
    "\n",
    "3. Во вкусах пользователей Москвы и Петербурга больше общего чем различий. Вопреки ожиданиям, предпочтения жанров в Петербурге напоминают московские.\n",
    "\n",
    "Третья гипотеза не подтвердилась. Если различия в предпочтениях и существуют, на основной массе пользователей они незаметны.\n",
    "\n",
    "**На практике исследования содержат проверки статистических гипотез.**\n",
    "Из данных одного сервиса не всегда можно сделать вывод о всех жителях города.\n",
    "Проверки статистических гипотез покажут, насколько они достоверны, исходя из имеющихся данных. \n",
    "С методами проверок гипотез вы ещё познакомитесь в следующих темах."
   ]
  },
  {
   "cell_type": "code",
   "execution_count": null,
   "metadata": {},
   "outputs": [],
   "source": []
  },
  {
   "cell_type": "code",
   "execution_count": null,
   "metadata": {},
   "outputs": [],
   "source": []
  },
  {
   "cell_type": "code",
   "execution_count": null,
   "metadata": {},
   "outputs": [],
   "source": []
  },
  {
   "cell_type": "code",
   "execution_count": null,
   "metadata": {},
   "outputs": [],
   "source": []
  },
  {
   "cell_type": "code",
   "execution_count": null,
   "metadata": {},
   "outputs": [],
   "source": []
  },
  {
   "cell_type": "code",
   "execution_count": null,
   "metadata": {},
   "outputs": [],
   "source": []
  },
  {
   "cell_type": "code",
   "execution_count": null,
   "metadata": {},
   "outputs": [],
   "source": []
  },
  {
   "cell_type": "code",
   "execution_count": null,
   "metadata": {},
   "outputs": [],
   "source": []
  },
  {
   "cell_type": "code",
   "execution_count": null,
   "metadata": {},
   "outputs": [],
   "source": []
  }
 ],
 "metadata": {
  "ExecuteTimeLog": [
   {
    "duration": 48,
    "start_time": "2023-01-12T14:36:45.213Z"
   },
   {
    "duration": 54,
    "start_time": "2023-01-13T11:14:21.691Z"
   },
   {
    "duration": 3,
    "start_time": "2023-01-13T13:28:07.203Z"
   },
   {
    "duration": 56,
    "start_time": "2023-01-13T14:06:31.155Z"
   },
   {
    "duration": 50,
    "start_time": "2023-01-13T14:06:53.620Z"
   },
   {
    "duration": 6,
    "start_time": "2023-01-13T14:39:34.594Z"
   },
   {
    "duration": 6,
    "start_time": "2023-01-13T14:54:37.482Z"
   },
   {
    "duration": 6,
    "start_time": "2023-01-13T15:08:13.169Z"
   },
   {
    "duration": 2,
    "start_time": "2023-01-13T15:08:18.561Z"
   },
   {
    "duration": 2,
    "start_time": "2023-01-13T15:08:19.924Z"
   },
   {
    "duration": 3,
    "start_time": "2023-01-13T15:08:20.521Z"
   },
   {
    "duration": 3,
    "start_time": "2023-01-13T15:08:20.993Z"
   },
   {
    "duration": 381,
    "start_time": "2023-01-13T15:08:29.962Z"
   },
   {
    "duration": 231,
    "start_time": "2023-01-13T15:08:30.392Z"
   },
   {
    "duration": 20,
    "start_time": "2023-01-13T15:08:30.843Z"
   },
   {
    "duration": 28,
    "start_time": "2023-01-13T15:08:31.291Z"
   },
   {
    "duration": 3,
    "start_time": "2023-01-13T15:08:31.989Z"
   },
   {
    "duration": 3,
    "start_time": "2023-01-13T15:08:33.122Z"
   },
   {
    "duration": 10,
    "start_time": "2023-01-13T15:08:33.534Z"
   },
   {
    "duration": 4,
    "start_time": "2023-01-13T15:08:34.001Z"
   },
   {
    "duration": 23,
    "start_time": "2023-01-13T15:08:34.452Z"
   },
   {
    "duration": 18,
    "start_time": "2023-01-13T15:08:35.121Z"
   },
   {
    "duration": 20,
    "start_time": "2023-01-13T15:08:35.538Z"
   },
   {
    "duration": 66,
    "start_time": "2023-01-13T15:08:35.971Z"
   },
   {
    "duration": 82,
    "start_time": "2023-01-13T15:08:36.401Z"
   },
   {
    "duration": 60,
    "start_time": "2023-01-13T15:08:36.833Z"
   },
   {
    "duration": 36,
    "start_time": "2023-01-13T15:08:37.481Z"
   },
   {
    "duration": 10,
    "start_time": "2023-01-13T15:08:37.892Z"
   },
   {
    "duration": 33,
    "start_time": "2023-01-13T15:08:38.301Z"
   },
   {
    "duration": 12,
    "start_time": "2023-01-13T15:08:39.692Z"
   },
   {
    "duration": 12,
    "start_time": "2023-01-13T15:08:40.071Z"
   },
   {
    "duration": 3,
    "start_time": "2023-01-13T15:08:40.695Z"
   },
   {
    "duration": 18,
    "start_time": "2023-01-13T15:08:41.161Z"
   },
   {
    "duration": 14,
    "start_time": "2023-01-13T15:08:41.390Z"
   },
   {
    "duration": 14,
    "start_time": "2023-01-13T15:08:41.602Z"
   },
   {
    "duration": 15,
    "start_time": "2023-01-13T15:08:41.830Z"
   },
   {
    "duration": 16,
    "start_time": "2023-01-13T15:08:42.022Z"
   },
   {
    "duration": 15,
    "start_time": "2023-01-13T15:08:42.213Z"
   },
   {
    "duration": 8,
    "start_time": "2023-01-13T15:08:42.691Z"
   },
   {
    "duration": 10,
    "start_time": "2023-01-13T15:08:43.732Z"
   },
   {
    "duration": 9,
    "start_time": "2023-01-13T15:08:43.983Z"
   },
   {
    "duration": 4,
    "start_time": "2023-01-13T15:08:44.397Z"
   },
   {
    "duration": 20,
    "start_time": "2023-01-13T15:08:45.012Z"
   },
   {
    "duration": 14,
    "start_time": "2023-01-13T15:08:45.242Z"
   },
   {
    "duration": 16,
    "start_time": "2023-01-13T15:08:45.471Z"
   },
   {
    "duration": 10,
    "start_time": "2023-01-13T15:08:45.692Z"
   },
   {
    "duration": 3,
    "start_time": "2023-01-13T15:08:46.532Z"
   },
   {
    "duration": 3,
    "start_time": "2023-01-13T15:08:46.961Z"
   },
   {
    "duration": 3,
    "start_time": "2023-01-13T15:08:47.402Z"
   },
   {
    "duration": 3,
    "start_time": "2023-01-13T15:08:47.801Z"
   },
   {
    "duration": 5,
    "start_time": "2023-01-13T15:09:30.532Z"
   },
   {
    "duration": 4,
    "start_time": "2023-01-13T15:10:13.119Z"
   },
   {
    "duration": 4,
    "start_time": "2023-01-13T15:10:49.511Z"
   },
   {
    "duration": 768,
    "start_time": "2023-01-13T15:10:51.121Z"
   },
   {
    "duration": 4,
    "start_time": "2023-01-13T15:11:12.213Z"
   },
   {
    "duration": 845,
    "start_time": "2023-01-13T15:11:14.401Z"
   },
   {
    "duration": 716,
    "start_time": "2023-01-13T15:11:15.551Z"
   },
   {
    "duration": 1035,
    "start_time": "2023-01-13T15:11:16.656Z"
   },
   {
    "duration": 0,
    "start_time": "2023-01-13T15:11:17.693Z"
   },
   {
    "duration": 4,
    "start_time": "2023-01-13T15:11:36.120Z"
   },
   {
    "duration": 18,
    "start_time": "2023-01-13T15:11:37.121Z"
   },
   {
    "duration": 12,
    "start_time": "2023-01-13T15:11:37.583Z"
   },
   {
    "duration": 17,
    "start_time": "2023-01-13T15:11:37.883Z"
   },
   {
    "duration": 13,
    "start_time": "2023-01-13T15:11:38.151Z"
   },
   {
    "duration": 2,
    "start_time": "2023-01-13T15:11:39.172Z"
   },
   {
    "duration": 12,
    "start_time": "2023-01-13T15:12:44.381Z"
   },
   {
    "duration": 3,
    "start_time": "2023-01-13T15:12:51.371Z"
   },
   {
    "duration": 163,
    "start_time": "2023-01-13T15:12:51.482Z"
   },
   {
    "duration": 11,
    "start_time": "2023-01-13T15:12:51.943Z"
   },
   {
    "duration": 27,
    "start_time": "2023-01-13T15:12:52.406Z"
   },
   {
    "duration": 3,
    "start_time": "2023-01-13T15:12:53.131Z"
   },
   {
    "duration": 3,
    "start_time": "2023-01-13T15:12:54.000Z"
   },
   {
    "duration": 9,
    "start_time": "2023-01-13T15:12:54.641Z"
   },
   {
    "duration": 3,
    "start_time": "2023-01-13T15:12:55.181Z"
   },
   {
    "duration": 22,
    "start_time": "2023-01-13T15:12:55.751Z"
   },
   {
    "duration": 21,
    "start_time": "2023-01-13T15:12:56.439Z"
   },
   {
    "duration": 21,
    "start_time": "2023-01-13T15:12:56.850Z"
   },
   {
    "duration": 60,
    "start_time": "2023-01-13T15:12:57.280Z"
   },
   {
    "duration": 64,
    "start_time": "2023-01-13T15:12:57.691Z"
   },
   {
    "duration": 55,
    "start_time": "2023-01-13T15:12:58.121Z"
   },
   {
    "duration": 34,
    "start_time": "2023-01-13T15:12:58.763Z"
   },
   {
    "duration": 9,
    "start_time": "2023-01-13T15:12:59.201Z"
   },
   {
    "duration": 35,
    "start_time": "2023-01-13T15:12:59.871Z"
   },
   {
    "duration": 11,
    "start_time": "2023-01-13T15:13:01.917Z"
   },
   {
    "duration": 13,
    "start_time": "2023-01-13T15:13:01.991Z"
   },
   {
    "duration": 3,
    "start_time": "2023-01-13T15:13:02.672Z"
   },
   {
    "duration": 17,
    "start_time": "2023-01-13T15:13:03.301Z"
   },
   {
    "duration": 16,
    "start_time": "2023-01-13T15:13:03.531Z"
   },
   {
    "duration": 14,
    "start_time": "2023-01-13T15:13:03.751Z"
   },
   {
    "duration": 14,
    "start_time": "2023-01-13T15:13:03.988Z"
   },
   {
    "duration": 16,
    "start_time": "2023-01-13T15:13:04.211Z"
   },
   {
    "duration": 14,
    "start_time": "2023-01-13T15:13:04.410Z"
   },
   {
    "duration": 8,
    "start_time": "2023-01-13T15:13:04.881Z"
   },
   {
    "duration": 11,
    "start_time": "2023-01-13T15:13:09.683Z"
   },
   {
    "duration": 8,
    "start_time": "2023-01-13T15:13:10.042Z"
   },
   {
    "duration": 6,
    "start_time": "2023-01-13T15:13:10.561Z"
   },
   {
    "duration": 19,
    "start_time": "2023-01-13T15:13:11.122Z"
   },
   {
    "duration": 13,
    "start_time": "2023-01-13T15:13:11.400Z"
   },
   {
    "duration": 15,
    "start_time": "2023-01-13T15:13:11.681Z"
   },
   {
    "duration": 12,
    "start_time": "2023-01-13T15:13:12.520Z"
   },
   {
    "duration": 11,
    "start_time": "2023-01-13T15:19:09.679Z"
   },
   {
    "duration": 11,
    "start_time": "2023-01-13T15:19:34.721Z"
   },
   {
    "duration": 12,
    "start_time": "2023-01-13T15:19:41.129Z"
   },
   {
    "duration": 11,
    "start_time": "2023-01-13T15:19:48.058Z"
   },
   {
    "duration": 3,
    "start_time": "2023-01-13T15:24:15.648Z"
   },
   {
    "duration": 193,
    "start_time": "2023-01-13T15:24:15.653Z"
   },
   {
    "duration": 12,
    "start_time": "2023-01-13T15:24:15.848Z"
   },
   {
    "duration": 29,
    "start_time": "2023-01-13T15:24:15.862Z"
   },
   {
    "duration": 18,
    "start_time": "2023-01-13T15:24:15.893Z"
   },
   {
    "duration": 6,
    "start_time": "2023-01-13T15:24:15.913Z"
   },
   {
    "duration": 9,
    "start_time": "2023-01-13T15:24:15.920Z"
   },
   {
    "duration": 4,
    "start_time": "2023-01-13T15:24:15.931Z"
   },
   {
    "duration": 25,
    "start_time": "2023-01-13T15:24:15.937Z"
   },
   {
    "duration": 54,
    "start_time": "2023-01-13T15:24:15.964Z"
   },
   {
    "duration": 37,
    "start_time": "2023-01-13T15:24:16.020Z"
   },
   {
    "duration": 83,
    "start_time": "2023-01-13T15:24:16.059Z"
   },
   {
    "duration": 75,
    "start_time": "2023-01-13T15:24:16.144Z"
   },
   {
    "duration": 67,
    "start_time": "2023-01-13T15:24:16.221Z"
   },
   {
    "duration": 61,
    "start_time": "2023-01-13T15:24:16.290Z"
   },
   {
    "duration": 12,
    "start_time": "2023-01-13T15:24:16.353Z"
   },
   {
    "duration": 68,
    "start_time": "2023-01-13T15:24:16.367Z"
   },
   {
    "duration": 31,
    "start_time": "2023-01-13T15:24:16.437Z"
   },
   {
    "duration": 37,
    "start_time": "2023-01-13T15:24:16.470Z"
   },
   {
    "duration": 9,
    "start_time": "2023-01-13T15:24:16.509Z"
   },
   {
    "duration": 72,
    "start_time": "2023-01-13T15:24:16.520Z"
   },
   {
    "duration": 23,
    "start_time": "2023-01-13T15:24:16.594Z"
   },
   {
    "duration": 53,
    "start_time": "2023-01-13T15:24:16.619Z"
   },
   {
    "duration": 15,
    "start_time": "2023-01-13T15:24:16.676Z"
   },
   {
    "duration": 19,
    "start_time": "2023-01-13T15:24:16.693Z"
   },
   {
    "duration": 18,
    "start_time": "2023-01-13T15:24:16.714Z"
   },
   {
    "duration": 12,
    "start_time": "2023-01-13T15:24:16.734Z"
   },
   {
    "duration": 18,
    "start_time": "2023-01-13T15:24:16.748Z"
   },
   {
    "duration": 10,
    "start_time": "2023-01-13T15:24:16.767Z"
   },
   {
    "duration": 35,
    "start_time": "2023-01-13T15:24:16.778Z"
   },
   {
    "duration": 39,
    "start_time": "2023-01-13T15:24:16.815Z"
   },
   {
    "duration": 15,
    "start_time": "2023-01-13T15:24:16.856Z"
   },
   {
    "duration": 43,
    "start_time": "2023-01-13T15:24:16.873Z"
   },
   {
    "duration": 19,
    "start_time": "2023-01-13T15:24:16.919Z"
   },
   {
    "duration": 4,
    "start_time": "2023-01-13T15:24:16.940Z"
   },
   {
    "duration": 6,
    "start_time": "2023-01-13T15:24:16.946Z"
   },
   {
    "duration": 7,
    "start_time": "2023-01-13T15:24:16.954Z"
   },
   {
    "duration": 6,
    "start_time": "2023-01-13T15:24:16.964Z"
   },
   {
    "duration": 3,
    "start_time": "2023-01-13T15:27:52.488Z"
   },
   {
    "duration": 185,
    "start_time": "2023-01-13T15:27:52.492Z"
   },
   {
    "duration": 12,
    "start_time": "2023-01-13T15:27:52.679Z"
   },
   {
    "duration": 42,
    "start_time": "2023-01-13T15:27:52.692Z"
   },
   {
    "duration": 2,
    "start_time": "2023-01-13T15:27:52.737Z"
   },
   {
    "duration": 9,
    "start_time": "2023-01-13T15:27:52.741Z"
   },
   {
    "duration": 7,
    "start_time": "2023-01-13T15:27:52.751Z"
   },
   {
    "duration": 3,
    "start_time": "2023-01-13T15:27:52.760Z"
   },
   {
    "duration": 23,
    "start_time": "2023-01-13T15:27:52.764Z"
   },
   {
    "duration": 40,
    "start_time": "2023-01-13T15:27:52.788Z"
   },
   {
    "duration": 23,
    "start_time": "2023-01-13T15:27:52.830Z"
   },
   {
    "duration": 78,
    "start_time": "2023-01-13T15:27:52.854Z"
   },
   {
    "duration": 63,
    "start_time": "2023-01-13T15:27:52.934Z"
   },
   {
    "duration": 63,
    "start_time": "2023-01-13T15:27:53.011Z"
   },
   {
    "duration": 46,
    "start_time": "2023-01-13T15:27:53.076Z"
   },
   {
    "duration": 9,
    "start_time": "2023-01-13T15:27:53.123Z"
   },
   {
    "duration": 33,
    "start_time": "2023-01-13T15:27:53.133Z"
   },
   {
    "duration": 11,
    "start_time": "2023-01-13T15:27:53.168Z"
   },
   {
    "duration": 36,
    "start_time": "2023-01-13T15:27:53.181Z"
   },
   {
    "duration": 3,
    "start_time": "2023-01-13T15:27:53.218Z"
   },
   {
    "duration": 18,
    "start_time": "2023-01-13T15:27:53.223Z"
   },
   {
    "duration": 13,
    "start_time": "2023-01-13T15:27:53.242Z"
   },
   {
    "duration": 14,
    "start_time": "2023-01-13T15:27:53.257Z"
   },
   {
    "duration": 45,
    "start_time": "2023-01-13T15:27:53.272Z"
   },
   {
    "duration": 16,
    "start_time": "2023-01-13T15:27:53.318Z"
   },
   {
    "duration": 16,
    "start_time": "2023-01-13T15:27:53.335Z"
   },
   {
    "duration": 10,
    "start_time": "2023-01-13T15:27:53.353Z"
   },
   {
    "duration": 48,
    "start_time": "2023-01-13T15:27:53.364Z"
   },
   {
    "duration": 11,
    "start_time": "2023-01-13T15:27:53.414Z"
   },
   {
    "duration": 5,
    "start_time": "2023-01-13T15:27:53.426Z"
   },
   {
    "duration": 740,
    "start_time": "2023-01-13T15:27:53.433Z"
   },
   {
    "duration": 0,
    "start_time": "2023-01-13T15:27:54.176Z"
   },
   {
    "duration": 0,
    "start_time": "2023-01-13T15:27:54.177Z"
   },
   {
    "duration": 0,
    "start_time": "2023-01-13T15:27:54.178Z"
   },
   {
    "duration": 0,
    "start_time": "2023-01-13T15:27:54.180Z"
   },
   {
    "duration": 0,
    "start_time": "2023-01-13T15:27:54.181Z"
   },
   {
    "duration": 0,
    "start_time": "2023-01-13T15:27:54.183Z"
   },
   {
    "duration": 0,
    "start_time": "2023-01-13T15:27:54.184Z"
   },
   {
    "duration": 6,
    "start_time": "2023-01-13T15:28:57.758Z"
   },
   {
    "duration": 3,
    "start_time": "2023-01-13T15:29:02.815Z"
   },
   {
    "duration": 185,
    "start_time": "2023-01-13T15:29:02.821Z"
   },
   {
    "duration": 12,
    "start_time": "2023-01-13T15:29:03.008Z"
   },
   {
    "duration": 44,
    "start_time": "2023-01-13T15:29:03.021Z"
   },
   {
    "duration": 8,
    "start_time": "2023-01-13T15:29:03.067Z"
   },
   {
    "duration": 23,
    "start_time": "2023-01-13T15:29:03.077Z"
   },
   {
    "duration": 29,
    "start_time": "2023-01-13T15:29:03.102Z"
   },
   {
    "duration": 14,
    "start_time": "2023-01-13T15:29:03.133Z"
   },
   {
    "duration": 37,
    "start_time": "2023-01-13T15:29:03.148Z"
   },
   {
    "duration": 31,
    "start_time": "2023-01-13T15:29:03.186Z"
   },
   {
    "duration": 29,
    "start_time": "2023-01-13T15:29:03.219Z"
   },
   {
    "duration": 79,
    "start_time": "2023-01-13T15:29:03.250Z"
   },
   {
    "duration": 71,
    "start_time": "2023-01-13T15:29:03.331Z"
   },
   {
    "duration": 59,
    "start_time": "2023-01-13T15:29:03.413Z"
   },
   {
    "duration": 53,
    "start_time": "2023-01-13T15:29:03.474Z"
   },
   {
    "duration": 15,
    "start_time": "2023-01-13T15:29:03.529Z"
   },
   {
    "duration": 63,
    "start_time": "2023-01-13T15:29:03.546Z"
   },
   {
    "duration": 19,
    "start_time": "2023-01-13T15:29:03.613Z"
   },
   {
    "duration": 18,
    "start_time": "2023-01-13T15:29:03.634Z"
   },
   {
    "duration": 22,
    "start_time": "2023-01-13T15:29:03.654Z"
   },
   {
    "duration": 35,
    "start_time": "2023-01-13T15:29:03.679Z"
   },
   {
    "duration": 25,
    "start_time": "2023-01-13T15:29:03.716Z"
   },
   {
    "duration": 22,
    "start_time": "2023-01-13T15:29:03.744Z"
   },
   {
    "duration": 43,
    "start_time": "2023-01-13T15:29:03.768Z"
   },
   {
    "duration": 26,
    "start_time": "2023-01-13T15:29:03.814Z"
   },
   {
    "duration": 17,
    "start_time": "2023-01-13T15:29:03.842Z"
   },
   {
    "duration": 27,
    "start_time": "2023-01-13T15:29:03.860Z"
   },
   {
    "duration": 39,
    "start_time": "2023-01-13T15:29:03.889Z"
   },
   {
    "duration": 19,
    "start_time": "2023-01-13T15:29:03.930Z"
   },
   {
    "duration": 17,
    "start_time": "2023-01-13T15:29:03.951Z"
   },
   {
    "duration": 934,
    "start_time": "2023-01-13T15:29:03.970Z"
   },
   {
    "duration": 0,
    "start_time": "2023-01-13T15:29:04.906Z"
   },
   {
    "duration": 0,
    "start_time": "2023-01-13T15:29:04.907Z"
   },
   {
    "duration": 0,
    "start_time": "2023-01-13T15:29:04.908Z"
   },
   {
    "duration": 0,
    "start_time": "2023-01-13T15:29:04.909Z"
   },
   {
    "duration": 0,
    "start_time": "2023-01-13T15:29:04.910Z"
   },
   {
    "duration": 0,
    "start_time": "2023-01-13T15:29:04.911Z"
   },
   {
    "duration": 0,
    "start_time": "2023-01-13T15:29:04.912Z"
   },
   {
    "duration": 4,
    "start_time": "2023-01-13T15:30:03.791Z"
   },
   {
    "duration": 1146,
    "start_time": "2023-01-13T15:30:04.688Z"
   },
   {
    "duration": 0,
    "start_time": "2023-01-13T15:30:05.836Z"
   },
   {
    "duration": 0,
    "start_time": "2023-01-13T15:30:05.837Z"
   },
   {
    "duration": 832,
    "start_time": "2023-01-13T15:30:06.165Z"
   },
   {
    "duration": 4,
    "start_time": "2023-01-13T15:30:12.609Z"
   },
   {
    "duration": 253,
    "start_time": "2023-01-13T15:30:12.615Z"
   },
   {
    "duration": 13,
    "start_time": "2023-01-13T15:30:12.870Z"
   },
   {
    "duration": 61,
    "start_time": "2023-01-13T15:30:12.884Z"
   },
   {
    "duration": 14,
    "start_time": "2023-01-13T15:30:12.948Z"
   },
   {
    "duration": 22,
    "start_time": "2023-01-13T15:30:12.964Z"
   },
   {
    "duration": 43,
    "start_time": "2023-01-13T15:30:12.989Z"
   },
   {
    "duration": 18,
    "start_time": "2023-01-13T15:30:13.034Z"
   },
   {
    "duration": 51,
    "start_time": "2023-01-13T15:30:13.054Z"
   },
   {
    "duration": 36,
    "start_time": "2023-01-13T15:30:13.107Z"
   },
   {
    "duration": 44,
    "start_time": "2023-01-13T15:30:13.145Z"
   },
   {
    "duration": 86,
    "start_time": "2023-01-13T15:30:13.191Z"
   },
   {
    "duration": 74,
    "start_time": "2023-01-13T15:30:13.278Z"
   },
   {
    "duration": 75,
    "start_time": "2023-01-13T15:30:13.355Z"
   },
   {
    "duration": 38,
    "start_time": "2023-01-13T15:30:13.432Z"
   },
   {
    "duration": 9,
    "start_time": "2023-01-13T15:30:13.472Z"
   },
   {
    "duration": 58,
    "start_time": "2023-01-13T15:30:13.483Z"
   },
   {
    "duration": 12,
    "start_time": "2023-01-13T15:30:13.543Z"
   },
   {
    "duration": 35,
    "start_time": "2023-01-13T15:30:13.557Z"
   },
   {
    "duration": 28,
    "start_time": "2023-01-13T15:30:13.594Z"
   },
   {
    "duration": 30,
    "start_time": "2023-01-13T15:30:13.624Z"
   },
   {
    "duration": 30,
    "start_time": "2023-01-13T15:30:13.656Z"
   },
   {
    "duration": 17,
    "start_time": "2023-01-13T15:30:13.689Z"
   },
   {
    "duration": 17,
    "start_time": "2023-01-13T15:30:13.708Z"
   },
   {
    "duration": 20,
    "start_time": "2023-01-13T15:30:13.727Z"
   },
   {
    "duration": 17,
    "start_time": "2023-01-13T15:30:13.749Z"
   },
   {
    "duration": 10,
    "start_time": "2023-01-13T15:30:13.768Z"
   },
   {
    "duration": 34,
    "start_time": "2023-01-13T15:30:13.780Z"
   },
   {
    "duration": 9,
    "start_time": "2023-01-13T15:30:13.816Z"
   },
   {
    "duration": 4,
    "start_time": "2023-01-13T15:30:13.827Z"
   },
   {
    "duration": 785,
    "start_time": "2023-01-13T15:30:13.833Z"
   },
   {
    "duration": 0,
    "start_time": "2023-01-13T15:30:14.619Z"
   },
   {
    "duration": 0,
    "start_time": "2023-01-13T15:30:14.620Z"
   },
   {
    "duration": 0,
    "start_time": "2023-01-13T15:30:14.621Z"
   },
   {
    "duration": 0,
    "start_time": "2023-01-13T15:30:14.623Z"
   },
   {
    "duration": 0,
    "start_time": "2023-01-13T15:30:14.624Z"
   },
   {
    "duration": 0,
    "start_time": "2023-01-13T15:30:14.625Z"
   },
   {
    "duration": 0,
    "start_time": "2023-01-13T15:30:14.626Z"
   },
   {
    "duration": 3,
    "start_time": "2023-01-13T15:34:11.127Z"
   },
   {
    "duration": 169,
    "start_time": "2023-01-13T15:34:11.132Z"
   },
   {
    "duration": 17,
    "start_time": "2023-01-13T15:34:11.303Z"
   },
   {
    "duration": 30,
    "start_time": "2023-01-13T15:34:11.322Z"
   },
   {
    "duration": 3,
    "start_time": "2023-01-13T15:34:11.353Z"
   },
   {
    "duration": 7,
    "start_time": "2023-01-13T15:34:11.357Z"
   },
   {
    "duration": 16,
    "start_time": "2023-01-13T15:34:11.365Z"
   },
   {
    "duration": 30,
    "start_time": "2023-01-13T15:34:11.382Z"
   },
   {
    "duration": 25,
    "start_time": "2023-01-13T15:34:11.415Z"
   },
   {
    "duration": 20,
    "start_time": "2023-01-13T15:34:11.441Z"
   },
   {
    "duration": 25,
    "start_time": "2023-01-13T15:34:11.462Z"
   },
   {
    "duration": 89,
    "start_time": "2023-01-13T15:34:11.488Z"
   },
   {
    "duration": 72,
    "start_time": "2023-01-13T15:34:11.579Z"
   },
   {
    "duration": 65,
    "start_time": "2023-01-13T15:34:11.652Z"
   },
   {
    "duration": 34,
    "start_time": "2023-01-13T15:34:11.719Z"
   },
   {
    "duration": 9,
    "start_time": "2023-01-13T15:34:11.754Z"
   },
   {
    "duration": 51,
    "start_time": "2023-01-13T15:34:11.764Z"
   },
   {
    "duration": 12,
    "start_time": "2023-01-13T15:34:11.817Z"
   },
   {
    "duration": 11,
    "start_time": "2023-01-13T15:34:11.830Z"
   },
   {
    "duration": 3,
    "start_time": "2023-01-13T15:34:11.843Z"
   },
   {
    "duration": 20,
    "start_time": "2023-01-13T15:34:11.847Z"
   },
   {
    "duration": 44,
    "start_time": "2023-01-13T15:34:11.868Z"
   },
   {
    "duration": 15,
    "start_time": "2023-01-13T15:34:11.914Z"
   },
   {
    "duration": 14,
    "start_time": "2023-01-13T15:34:11.932Z"
   },
   {
    "duration": 16,
    "start_time": "2023-01-13T15:34:11.948Z"
   },
   {
    "duration": 14,
    "start_time": "2023-01-13T15:34:11.966Z"
   },
   {
    "duration": 39,
    "start_time": "2023-01-13T15:34:11.981Z"
   },
   {
    "duration": 12,
    "start_time": "2023-01-13T15:34:12.022Z"
   },
   {
    "duration": 11,
    "start_time": "2023-01-13T15:34:12.036Z"
   },
   {
    "duration": 5,
    "start_time": "2023-01-13T15:34:12.049Z"
   },
   {
    "duration": 32,
    "start_time": "2023-01-13T15:34:12.055Z"
   },
   {
    "duration": 35,
    "start_time": "2023-01-13T15:34:12.089Z"
   },
   {
    "duration": 16,
    "start_time": "2023-01-13T15:34:12.125Z"
   },
   {
    "duration": 11,
    "start_time": "2023-01-13T15:34:12.143Z"
   },
   {
    "duration": 2,
    "start_time": "2023-01-13T15:34:12.156Z"
   },
   {
    "duration": 7,
    "start_time": "2023-01-13T15:34:12.160Z"
   },
   {
    "duration": 6,
    "start_time": "2023-01-13T15:34:12.169Z"
   },
   {
    "duration": 8,
    "start_time": "2023-01-13T15:34:12.177Z"
   },
   {
    "duration": 3,
    "start_time": "2023-01-13T15:34:21.160Z"
   },
   {
    "duration": 181,
    "start_time": "2023-01-13T15:34:21.165Z"
   },
   {
    "duration": 11,
    "start_time": "2023-01-13T15:34:21.348Z"
   },
   {
    "duration": 28,
    "start_time": "2023-01-13T15:34:21.361Z"
   },
   {
    "duration": 22,
    "start_time": "2023-01-13T15:34:21.391Z"
   },
   {
    "duration": 7,
    "start_time": "2023-01-13T15:34:21.414Z"
   },
   {
    "duration": 13,
    "start_time": "2023-01-13T15:34:21.422Z"
   },
   {
    "duration": 6,
    "start_time": "2023-01-13T15:34:21.437Z"
   },
   {
    "duration": 24,
    "start_time": "2023-01-13T15:34:21.445Z"
   },
   {
    "duration": 46,
    "start_time": "2023-01-13T15:34:21.471Z"
   },
   {
    "duration": 22,
    "start_time": "2023-01-13T15:34:21.519Z"
   },
   {
    "duration": 83,
    "start_time": "2023-01-13T15:34:21.543Z"
   },
   {
    "duration": 65,
    "start_time": "2023-01-13T15:34:21.628Z"
   },
   {
    "duration": 75,
    "start_time": "2023-01-13T15:34:21.695Z"
   },
   {
    "duration": 53,
    "start_time": "2023-01-13T15:34:21.772Z"
   },
   {
    "duration": 11,
    "start_time": "2023-01-13T15:34:21.826Z"
   },
   {
    "duration": 37,
    "start_time": "2023-01-13T15:34:21.839Z"
   },
   {
    "duration": 38,
    "start_time": "2023-01-13T15:34:21.878Z"
   },
   {
    "duration": 12,
    "start_time": "2023-01-13T15:34:21.918Z"
   },
   {
    "duration": 3,
    "start_time": "2023-01-13T15:34:21.932Z"
   },
   {
    "duration": 27,
    "start_time": "2023-01-13T15:34:21.936Z"
   },
   {
    "duration": 16,
    "start_time": "2023-01-13T15:34:21.965Z"
   },
   {
    "duration": 39,
    "start_time": "2023-01-13T15:34:21.984Z"
   },
   {
    "duration": 22,
    "start_time": "2023-01-13T15:34:22.027Z"
   },
   {
    "duration": 20,
    "start_time": "2023-01-13T15:34:22.050Z"
   },
   {
    "duration": 48,
    "start_time": "2023-01-13T15:34:22.072Z"
   },
   {
    "duration": 8,
    "start_time": "2023-01-13T15:34:22.121Z"
   },
   {
    "duration": 33,
    "start_time": "2023-01-13T15:34:22.131Z"
   },
   {
    "duration": 13,
    "start_time": "2023-01-13T15:34:22.166Z"
   },
   {
    "duration": 8,
    "start_time": "2023-01-13T15:34:22.181Z"
   },
   {
    "duration": 36,
    "start_time": "2023-01-13T15:34:22.191Z"
   },
   {
    "duration": 0,
    "start_time": "2023-01-13T15:34:22.229Z"
   },
   {
    "duration": 0,
    "start_time": "2023-01-13T15:34:22.231Z"
   },
   {
    "duration": 0,
    "start_time": "2023-01-13T15:34:22.232Z"
   },
   {
    "duration": 0,
    "start_time": "2023-01-13T15:34:22.234Z"
   },
   {
    "duration": 0,
    "start_time": "2023-01-13T15:34:22.235Z"
   },
   {
    "duration": 0,
    "start_time": "2023-01-13T15:34:22.236Z"
   },
   {
    "duration": 0,
    "start_time": "2023-01-13T15:34:22.238Z"
   },
   {
    "duration": 3,
    "start_time": "2023-01-13T15:35:28.017Z"
   },
   {
    "duration": 185,
    "start_time": "2023-01-13T15:35:28.023Z"
   },
   {
    "duration": 12,
    "start_time": "2023-01-13T15:35:28.210Z"
   },
   {
    "duration": 30,
    "start_time": "2023-01-13T15:35:28.224Z"
   },
   {
    "duration": 3,
    "start_time": "2023-01-13T15:35:28.255Z"
   },
   {
    "duration": 9,
    "start_time": "2023-01-13T15:35:28.260Z"
   },
   {
    "duration": 22,
    "start_time": "2023-01-13T15:35:28.271Z"
   },
   {
    "duration": 13,
    "start_time": "2023-01-13T15:35:28.294Z"
   },
   {
    "duration": 23,
    "start_time": "2023-01-13T15:35:28.313Z"
   },
   {
    "duration": 19,
    "start_time": "2023-01-13T15:35:28.339Z"
   },
   {
    "duration": 24,
    "start_time": "2023-01-13T15:35:28.360Z"
   },
   {
    "duration": 65,
    "start_time": "2023-01-13T15:35:28.413Z"
   },
   {
    "duration": 85,
    "start_time": "2023-01-13T15:35:28.480Z"
   },
   {
    "duration": 70,
    "start_time": "2023-01-13T15:35:28.567Z"
   },
   {
    "duration": 37,
    "start_time": "2023-01-13T15:35:28.639Z"
   },
   {
    "duration": 9,
    "start_time": "2023-01-13T15:35:28.678Z"
   },
   {
    "duration": 59,
    "start_time": "2023-01-13T15:35:28.689Z"
   },
   {
    "duration": 14,
    "start_time": "2023-01-13T15:35:28.750Z"
   },
   {
    "duration": 16,
    "start_time": "2023-01-13T15:35:28.766Z"
   },
   {
    "duration": 30,
    "start_time": "2023-01-13T15:35:28.784Z"
   },
   {
    "duration": 24,
    "start_time": "2023-01-13T15:35:28.816Z"
   },
   {
    "duration": 15,
    "start_time": "2023-01-13T15:35:28.841Z"
   },
   {
    "duration": 16,
    "start_time": "2023-01-13T15:35:28.857Z"
   },
   {
    "duration": 44,
    "start_time": "2023-01-13T15:35:28.876Z"
   },
   {
    "duration": 26,
    "start_time": "2023-01-13T15:35:28.922Z"
   },
   {
    "duration": 23,
    "start_time": "2023-01-13T15:35:28.950Z"
   },
   {
    "duration": 11,
    "start_time": "2023-01-13T15:35:28.975Z"
   },
   {
    "duration": 14,
    "start_time": "2023-01-13T15:35:29.013Z"
   },
   {
    "duration": 34,
    "start_time": "2023-01-13T15:35:29.029Z"
   },
   {
    "duration": 7,
    "start_time": "2023-01-13T15:35:29.066Z"
   },
   {
    "duration": 46,
    "start_time": "2023-01-13T15:35:29.075Z"
   },
   {
    "duration": 14,
    "start_time": "2023-01-13T15:35:29.123Z"
   },
   {
    "duration": 19,
    "start_time": "2023-01-13T15:35:29.138Z"
   },
   {
    "duration": 29,
    "start_time": "2023-01-13T15:35:29.159Z"
   },
   {
    "duration": 5,
    "start_time": "2023-01-13T15:35:29.190Z"
   },
   {
    "duration": 20,
    "start_time": "2023-01-13T15:35:29.196Z"
   },
   {
    "duration": 4,
    "start_time": "2023-01-13T15:35:29.218Z"
   },
   {
    "duration": 10,
    "start_time": "2023-01-13T15:35:29.224Z"
   },
   {
    "duration": 3,
    "start_time": "2023-01-13T15:38:05.620Z"
   },
   {
    "duration": 199,
    "start_time": "2023-01-13T15:38:05.625Z"
   },
   {
    "duration": 13,
    "start_time": "2023-01-13T15:38:05.826Z"
   },
   {
    "duration": 40,
    "start_time": "2023-01-13T15:38:05.841Z"
   },
   {
    "duration": 3,
    "start_time": "2023-01-13T15:38:05.883Z"
   },
   {
    "duration": 14,
    "start_time": "2023-01-13T15:38:05.888Z"
   },
   {
    "duration": 11,
    "start_time": "2023-01-13T15:38:05.912Z"
   },
   {
    "duration": 16,
    "start_time": "2023-01-13T15:38:05.925Z"
   },
   {
    "duration": 27,
    "start_time": "2023-01-13T15:38:05.942Z"
   },
   {
    "duration": 18,
    "start_time": "2023-01-13T15:38:05.971Z"
   },
   {
    "duration": 41,
    "start_time": "2023-01-13T15:38:05.990Z"
   },
   {
    "duration": 79,
    "start_time": "2023-01-13T15:38:06.033Z"
   },
   {
    "duration": 84,
    "start_time": "2023-01-13T15:38:06.116Z"
   },
   {
    "duration": 74,
    "start_time": "2023-01-13T15:38:06.203Z"
   },
   {
    "duration": 47,
    "start_time": "2023-01-13T15:38:06.279Z"
   },
   {
    "duration": 11,
    "start_time": "2023-01-13T15:38:06.327Z"
   },
   {
    "duration": 37,
    "start_time": "2023-01-13T15:38:06.340Z"
   },
   {
    "duration": 41,
    "start_time": "2023-01-13T15:38:06.378Z"
   },
   {
    "duration": 16,
    "start_time": "2023-01-13T15:38:06.422Z"
   },
   {
    "duration": 4,
    "start_time": "2023-01-13T15:38:06.441Z"
   },
   {
    "duration": 28,
    "start_time": "2023-01-13T15:38:06.447Z"
   },
   {
    "duration": 46,
    "start_time": "2023-01-13T15:38:06.477Z"
   },
   {
    "duration": 20,
    "start_time": "2023-01-13T15:38:06.525Z"
   },
   {
    "duration": 26,
    "start_time": "2023-01-13T15:38:06.548Z"
   },
   {
    "duration": 43,
    "start_time": "2023-01-13T15:38:06.577Z"
   },
   {
    "duration": 23,
    "start_time": "2023-01-13T15:38:06.622Z"
   },
   {
    "duration": 14,
    "start_time": "2023-01-13T15:38:06.647Z"
   },
   {
    "duration": 24,
    "start_time": "2023-01-13T15:38:06.664Z"
   },
   {
    "duration": 32,
    "start_time": "2023-01-13T15:38:06.691Z"
   },
   {
    "duration": 41,
    "start_time": "2023-01-13T15:38:06.726Z"
   },
   {
    "duration": 887,
    "start_time": "2023-01-13T15:38:06.769Z"
   },
   {
    "duration": 0,
    "start_time": "2023-01-13T15:38:07.658Z"
   },
   {
    "duration": 0,
    "start_time": "2023-01-13T15:38:07.659Z"
   },
   {
    "duration": 0,
    "start_time": "2023-01-13T15:38:07.660Z"
   },
   {
    "duration": 1,
    "start_time": "2023-01-13T15:38:07.661Z"
   },
   {
    "duration": 0,
    "start_time": "2023-01-13T15:38:07.663Z"
   },
   {
    "duration": 0,
    "start_time": "2023-01-13T15:38:07.664Z"
   },
   {
    "duration": 0,
    "start_time": "2023-01-13T15:38:07.665Z"
   },
   {
    "duration": 3,
    "start_time": "2023-01-13T15:38:42.207Z"
   },
   {
    "duration": 191,
    "start_time": "2023-01-13T15:38:42.213Z"
   },
   {
    "duration": 17,
    "start_time": "2023-01-13T15:38:42.406Z"
   },
   {
    "duration": 39,
    "start_time": "2023-01-13T15:38:42.425Z"
   },
   {
    "duration": 2,
    "start_time": "2023-01-13T15:38:42.468Z"
   },
   {
    "duration": 7,
    "start_time": "2023-01-13T15:38:42.472Z"
   },
   {
    "duration": 10,
    "start_time": "2023-01-13T15:38:42.481Z"
   },
   {
    "duration": 22,
    "start_time": "2023-01-13T15:38:42.493Z"
   },
   {
    "duration": 25,
    "start_time": "2023-01-13T15:38:42.516Z"
   },
   {
    "duration": 21,
    "start_time": "2023-01-13T15:38:42.543Z"
   },
   {
    "duration": 48,
    "start_time": "2023-01-13T15:38:42.567Z"
   },
   {
    "duration": 77,
    "start_time": "2023-01-13T15:38:42.617Z"
   },
   {
    "duration": 125,
    "start_time": "2023-01-13T15:38:42.696Z"
   },
   {
    "duration": 53,
    "start_time": "2023-01-13T15:38:42.824Z"
   },
   {
    "duration": 54,
    "start_time": "2023-01-13T15:38:42.878Z"
   },
   {
    "duration": 10,
    "start_time": "2023-01-13T15:38:42.934Z"
   },
   {
    "duration": 39,
    "start_time": "2023-01-13T15:38:42.945Z"
   },
   {
    "duration": 35,
    "start_time": "2023-01-13T15:38:42.987Z"
   },
   {
    "duration": 19,
    "start_time": "2023-01-13T15:38:43.025Z"
   },
   {
    "duration": 4,
    "start_time": "2023-01-13T15:38:43.046Z"
   },
   {
    "duration": 30,
    "start_time": "2023-01-13T15:38:43.052Z"
   },
   {
    "duration": 41,
    "start_time": "2023-01-13T15:38:43.084Z"
   },
   {
    "duration": 16,
    "start_time": "2023-01-13T15:38:43.126Z"
   },
   {
    "duration": 17,
    "start_time": "2023-01-13T15:38:43.145Z"
   },
   {
    "duration": 66,
    "start_time": "2023-01-13T15:38:43.164Z"
   },
   {
    "duration": 16,
    "start_time": "2023-01-13T15:38:43.235Z"
   },
   {
    "duration": 9,
    "start_time": "2023-01-13T15:38:43.253Z"
   },
   {
    "duration": 24,
    "start_time": "2023-01-13T15:38:43.264Z"
   },
   {
    "duration": 26,
    "start_time": "2023-01-13T15:38:43.293Z"
   },
   {
    "duration": 5,
    "start_time": "2023-01-13T15:38:43.322Z"
   },
   {
    "duration": 718,
    "start_time": "2023-01-13T15:38:43.330Z"
   },
   {
    "duration": 0,
    "start_time": "2023-01-13T15:38:44.051Z"
   },
   {
    "duration": 0,
    "start_time": "2023-01-13T15:38:44.052Z"
   },
   {
    "duration": 0,
    "start_time": "2023-01-13T15:38:44.053Z"
   },
   {
    "duration": 0,
    "start_time": "2023-01-13T15:38:44.054Z"
   },
   {
    "duration": 0,
    "start_time": "2023-01-13T15:38:44.056Z"
   },
   {
    "duration": 0,
    "start_time": "2023-01-13T15:38:44.057Z"
   },
   {
    "duration": 0,
    "start_time": "2023-01-13T15:38:44.058Z"
   },
   {
    "duration": 3,
    "start_time": "2023-01-13T15:43:15.839Z"
   },
   {
    "duration": 211,
    "start_time": "2023-01-13T15:43:15.844Z"
   },
   {
    "duration": 12,
    "start_time": "2023-01-13T15:43:16.057Z"
   },
   {
    "duration": 42,
    "start_time": "2023-01-13T15:43:16.071Z"
   },
   {
    "duration": 3,
    "start_time": "2023-01-13T15:43:16.115Z"
   },
   {
    "duration": 6,
    "start_time": "2023-01-13T15:43:16.120Z"
   },
   {
    "duration": 10,
    "start_time": "2023-01-13T15:43:16.128Z"
   },
   {
    "duration": 5,
    "start_time": "2023-01-13T15:43:16.140Z"
   },
   {
    "duration": 28,
    "start_time": "2023-01-13T15:43:16.148Z"
   },
   {
    "duration": 51,
    "start_time": "2023-01-13T15:43:16.178Z"
   },
   {
    "duration": 24,
    "start_time": "2023-01-13T15:43:16.230Z"
   },
   {
    "duration": 89,
    "start_time": "2023-01-13T15:43:16.256Z"
   },
   {
    "duration": 118,
    "start_time": "2023-01-13T15:43:16.347Z"
   },
   {
    "duration": 81,
    "start_time": "2023-01-13T15:43:16.467Z"
   },
   {
    "duration": 77,
    "start_time": "2023-01-13T15:43:16.550Z"
   },
   {
    "duration": 15,
    "start_time": "2023-01-13T15:43:16.629Z"
   },
   {
    "duration": 66,
    "start_time": "2023-01-13T15:43:16.646Z"
   },
   {
    "duration": 17,
    "start_time": "2023-01-13T15:43:16.715Z"
   },
   {
    "duration": 22,
    "start_time": "2023-01-13T15:43:16.735Z"
   },
   {
    "duration": 5,
    "start_time": "2023-01-13T15:43:16.759Z"
   },
   {
    "duration": 57,
    "start_time": "2023-01-13T15:43:16.766Z"
   },
   {
    "duration": 19,
    "start_time": "2023-01-13T15:43:16.825Z"
   },
   {
    "duration": 29,
    "start_time": "2023-01-13T15:43:16.846Z"
   },
   {
    "duration": 51,
    "start_time": "2023-01-13T15:43:16.881Z"
   },
   {
    "duration": 28,
    "start_time": "2023-01-13T15:43:16.934Z"
   },
   {
    "duration": 19,
    "start_time": "2023-01-13T15:43:16.964Z"
   },
   {
    "duration": 10,
    "start_time": "2023-01-13T15:43:17.012Z"
   },
   {
    "duration": 25,
    "start_time": "2023-01-13T15:43:17.024Z"
   },
   {
    "duration": 13,
    "start_time": "2023-01-13T15:43:17.051Z"
   },
   {
    "duration": 7,
    "start_time": "2023-01-13T15:43:17.066Z"
   },
   {
    "duration": 41,
    "start_time": "2023-01-13T15:43:17.075Z"
   },
   {
    "duration": 15,
    "start_time": "2023-01-13T15:43:17.118Z"
   },
   {
    "duration": 18,
    "start_time": "2023-01-13T15:43:17.134Z"
   },
   {
    "duration": 12,
    "start_time": "2023-01-13T15:43:17.153Z"
   },
   {
    "duration": 3,
    "start_time": "2023-01-13T15:43:17.167Z"
   },
   {
    "duration": 47,
    "start_time": "2023-01-13T15:43:17.171Z"
   },
   {
    "duration": 6,
    "start_time": "2023-01-13T15:43:17.220Z"
   },
   {
    "duration": 6,
    "start_time": "2023-01-13T15:43:17.227Z"
   },
   {
    "duration": 2,
    "start_time": "2023-01-13T15:45:52.799Z"
   },
   {
    "duration": 176,
    "start_time": "2023-01-13T15:45:52.803Z"
   },
   {
    "duration": 11,
    "start_time": "2023-01-13T15:45:52.981Z"
   },
   {
    "duration": 39,
    "start_time": "2023-01-13T15:45:52.994Z"
   },
   {
    "duration": 2,
    "start_time": "2023-01-13T15:45:53.036Z"
   },
   {
    "duration": 6,
    "start_time": "2023-01-13T15:45:53.040Z"
   },
   {
    "duration": 11,
    "start_time": "2023-01-13T15:45:53.047Z"
   },
   {
    "duration": 3,
    "start_time": "2023-01-13T15:45:53.060Z"
   },
   {
    "duration": 57,
    "start_time": "2023-01-13T15:45:53.065Z"
   },
   {
    "duration": 21,
    "start_time": "2023-01-13T15:45:53.123Z"
   },
   {
    "duration": 21,
    "start_time": "2023-01-13T15:45:53.146Z"
   },
   {
    "duration": 83,
    "start_time": "2023-01-13T15:45:53.169Z"
   },
   {
    "duration": 76,
    "start_time": "2023-01-13T15:45:53.254Z"
   },
   {
    "duration": 59,
    "start_time": "2023-01-13T15:45:53.333Z"
   },
   {
    "duration": 44,
    "start_time": "2023-01-13T15:45:53.394Z"
   },
   {
    "duration": 9,
    "start_time": "2023-01-13T15:45:53.440Z"
   },
   {
    "duration": 34,
    "start_time": "2023-01-13T15:45:53.450Z"
   },
   {
    "duration": 46,
    "start_time": "2023-01-13T15:45:53.485Z"
   },
   {
    "duration": 18,
    "start_time": "2023-01-13T15:45:53.534Z"
   },
   {
    "duration": 3,
    "start_time": "2023-01-13T15:45:53.553Z"
   },
   {
    "duration": 22,
    "start_time": "2023-01-13T15:45:53.558Z"
   },
   {
    "duration": 38,
    "start_time": "2023-01-13T15:45:53.581Z"
   },
   {
    "duration": 16,
    "start_time": "2023-01-13T15:45:53.622Z"
   },
   {
    "duration": 16,
    "start_time": "2023-01-13T15:45:53.641Z"
   },
   {
    "duration": 27,
    "start_time": "2023-01-13T15:45:53.659Z"
   },
   {
    "duration": 40,
    "start_time": "2023-01-13T15:45:53.688Z"
   },
   {
    "duration": 13,
    "start_time": "2023-01-13T15:45:53.731Z"
   },
   {
    "duration": 24,
    "start_time": "2023-01-13T15:45:53.747Z"
   },
   {
    "duration": 39,
    "start_time": "2023-01-13T15:45:53.773Z"
   },
   {
    "duration": 7,
    "start_time": "2023-01-13T15:45:53.815Z"
   },
   {
    "duration": 36,
    "start_time": "2023-01-13T15:45:53.825Z"
   },
   {
    "duration": 15,
    "start_time": "2023-01-13T15:45:53.863Z"
   },
   {
    "duration": 37,
    "start_time": "2023-01-13T15:45:53.880Z"
   },
   {
    "duration": 14,
    "start_time": "2023-01-13T15:45:53.919Z"
   },
   {
    "duration": 2,
    "start_time": "2023-01-13T15:45:53.935Z"
   },
   {
    "duration": 6,
    "start_time": "2023-01-13T15:45:53.939Z"
   },
   {
    "duration": 13,
    "start_time": "2023-01-13T15:45:53.946Z"
   },
   {
    "duration": 20,
    "start_time": "2023-01-13T15:45:53.961Z"
   },
   {
    "duration": 13,
    "start_time": "2023-01-13T15:46:17.579Z"
   },
   {
    "duration": 22,
    "start_time": "2023-01-13T15:46:21.927Z"
   },
   {
    "duration": 16,
    "start_time": "2023-01-13T15:46:23.877Z"
   },
   {
    "duration": 13,
    "start_time": "2023-01-13T15:46:53.997Z"
   },
   {
    "duration": 2,
    "start_time": "2023-01-13T15:48:40.349Z"
   },
   {
    "duration": 193,
    "start_time": "2023-01-13T15:48:40.354Z"
   },
   {
    "duration": 12,
    "start_time": "2023-01-13T15:48:40.549Z"
   },
   {
    "duration": 50,
    "start_time": "2023-01-13T15:48:40.562Z"
   },
   {
    "duration": 2,
    "start_time": "2023-01-13T15:48:40.614Z"
   },
   {
    "duration": 10,
    "start_time": "2023-01-13T15:48:40.618Z"
   },
   {
    "duration": 11,
    "start_time": "2023-01-13T15:48:40.630Z"
   },
   {
    "duration": 4,
    "start_time": "2023-01-13T15:48:40.642Z"
   },
   {
    "duration": 33,
    "start_time": "2023-01-13T15:48:40.649Z"
   },
   {
    "duration": 31,
    "start_time": "2023-01-13T15:48:40.684Z"
   },
   {
    "duration": 39,
    "start_time": "2023-01-13T15:48:40.718Z"
   },
   {
    "duration": 79,
    "start_time": "2023-01-13T15:48:40.759Z"
   },
   {
    "duration": 79,
    "start_time": "2023-01-13T15:48:40.840Z"
   },
   {
    "duration": 64,
    "start_time": "2023-01-13T15:48:40.922Z"
   },
   {
    "duration": 55,
    "start_time": "2023-01-13T15:48:40.988Z"
   },
   {
    "duration": 11,
    "start_time": "2023-01-13T15:48:41.045Z"
   },
   {
    "duration": 76,
    "start_time": "2023-01-13T15:48:41.057Z"
   },
   {
    "duration": 14,
    "start_time": "2023-01-13T15:48:41.135Z"
   },
   {
    "duration": 13,
    "start_time": "2023-01-13T15:48:41.151Z"
   },
   {
    "duration": 8,
    "start_time": "2023-01-13T15:48:41.167Z"
   },
   {
    "duration": 42,
    "start_time": "2023-01-13T15:48:41.177Z"
   },
   {
    "duration": 17,
    "start_time": "2023-01-13T15:48:41.221Z"
   },
   {
    "duration": 24,
    "start_time": "2023-01-13T15:48:41.241Z"
   },
   {
    "duration": 42,
    "start_time": "2023-01-13T15:48:41.271Z"
   },
   {
    "duration": 21,
    "start_time": "2023-01-13T15:48:41.316Z"
   },
   {
    "duration": 18,
    "start_time": "2023-01-13T15:48:41.339Z"
   },
   {
    "duration": 12,
    "start_time": "2023-01-13T15:48:41.359Z"
   },
   {
    "duration": 45,
    "start_time": "2023-01-13T15:48:41.372Z"
   },
   {
    "duration": 11,
    "start_time": "2023-01-13T15:48:41.420Z"
   },
   {
    "duration": 39,
    "start_time": "2023-01-13T15:48:41.433Z"
   },
   {
    "duration": 54,
    "start_time": "2023-01-13T15:48:41.474Z"
   },
   {
    "duration": 21,
    "start_time": "2023-01-13T15:48:41.530Z"
   },
   {
    "duration": 18,
    "start_time": "2023-01-13T15:48:41.553Z"
   },
   {
    "duration": 14,
    "start_time": "2023-01-13T15:48:41.573Z"
   },
   {
    "duration": 5,
    "start_time": "2023-01-13T15:48:41.613Z"
   },
   {
    "duration": 30,
    "start_time": "2023-01-13T15:48:41.619Z"
   },
   {
    "duration": 22,
    "start_time": "2023-01-13T15:48:41.651Z"
   },
   {
    "duration": 13,
    "start_time": "2023-01-13T15:48:41.674Z"
   },
   {
    "duration": 5,
    "start_time": "2023-01-13T15:48:58.513Z"
   },
   {
    "duration": 21,
    "start_time": "2023-01-13T15:48:59.698Z"
   },
   {
    "duration": 14,
    "start_time": "2023-01-13T15:49:01.491Z"
   },
   {
    "duration": 23,
    "start_time": "2023-01-13T15:49:02.179Z"
   },
   {
    "duration": 14,
    "start_time": "2023-01-13T15:49:02.885Z"
   },
   {
    "duration": 3,
    "start_time": "2023-01-13T15:49:10.139Z"
   },
   {
    "duration": 192,
    "start_time": "2023-01-13T15:49:10.144Z"
   },
   {
    "duration": 12,
    "start_time": "2023-01-13T15:49:10.338Z"
   },
   {
    "duration": 32,
    "start_time": "2023-01-13T15:49:10.352Z"
   },
   {
    "duration": 2,
    "start_time": "2023-01-13T15:49:10.386Z"
   },
   {
    "duration": 24,
    "start_time": "2023-01-13T15:49:10.390Z"
   },
   {
    "duration": 15,
    "start_time": "2023-01-13T15:49:10.417Z"
   },
   {
    "duration": 7,
    "start_time": "2023-01-13T15:49:10.434Z"
   },
   {
    "duration": 31,
    "start_time": "2023-01-13T15:49:10.442Z"
   },
   {
    "duration": 19,
    "start_time": "2023-01-13T15:49:10.475Z"
   },
   {
    "duration": 25,
    "start_time": "2023-01-13T15:49:10.511Z"
   },
   {
    "duration": 88,
    "start_time": "2023-01-13T15:49:10.539Z"
   },
   {
    "duration": 69,
    "start_time": "2023-01-13T15:49:10.630Z"
   },
   {
    "duration": 67,
    "start_time": "2023-01-13T15:49:10.714Z"
   },
   {
    "duration": 49,
    "start_time": "2023-01-13T15:49:10.784Z"
   },
   {
    "duration": 18,
    "start_time": "2023-01-13T15:49:10.835Z"
   },
   {
    "duration": 62,
    "start_time": "2023-01-13T15:49:10.855Z"
   },
   {
    "duration": 41,
    "start_time": "2023-01-13T15:49:10.919Z"
   },
   {
    "duration": 28,
    "start_time": "2023-01-13T15:49:10.962Z"
   },
   {
    "duration": 22,
    "start_time": "2023-01-13T15:49:10.992Z"
   },
   {
    "duration": 35,
    "start_time": "2023-01-13T15:49:11.016Z"
   },
   {
    "duration": 29,
    "start_time": "2023-01-13T15:49:11.053Z"
   },
   {
    "duration": 25,
    "start_time": "2023-01-13T15:49:11.084Z"
   },
   {
    "duration": 63,
    "start_time": "2023-01-13T15:49:11.111Z"
   },
   {
    "duration": 30,
    "start_time": "2023-01-13T15:49:11.176Z"
   },
   {
    "duration": 33,
    "start_time": "2023-01-13T15:49:11.208Z"
   },
   {
    "duration": 10,
    "start_time": "2023-01-13T15:49:11.322Z"
   },
   {
    "duration": 58,
    "start_time": "2023-01-13T15:49:11.334Z"
   },
   {
    "duration": 61,
    "start_time": "2023-01-13T15:49:11.394Z"
   },
   {
    "duration": 21,
    "start_time": "2023-01-13T15:49:11.457Z"
   },
   {
    "duration": 48,
    "start_time": "2023-01-13T15:49:11.480Z"
   },
   {
    "duration": 38,
    "start_time": "2023-01-13T15:49:11.530Z"
   },
   {
    "duration": 24,
    "start_time": "2023-01-13T15:49:11.571Z"
   },
   {
    "duration": 19,
    "start_time": "2023-01-13T15:49:11.597Z"
   },
   {
    "duration": 5,
    "start_time": "2023-01-13T15:49:11.618Z"
   },
   {
    "duration": 8,
    "start_time": "2023-01-13T15:49:11.625Z"
   },
   {
    "duration": 9,
    "start_time": "2023-01-13T15:49:11.634Z"
   },
   {
    "duration": 10,
    "start_time": "2023-01-13T15:49:11.644Z"
   },
   {
    "duration": 4,
    "start_time": "2023-01-13T15:49:46.946Z"
   },
   {
    "duration": 189,
    "start_time": "2023-01-13T15:49:46.953Z"
   },
   {
    "duration": 13,
    "start_time": "2023-01-13T15:49:47.143Z"
   },
   {
    "duration": 45,
    "start_time": "2023-01-13T15:49:47.159Z"
   },
   {
    "duration": 3,
    "start_time": "2023-01-13T15:49:47.211Z"
   },
   {
    "duration": 8,
    "start_time": "2023-01-13T15:49:47.216Z"
   },
   {
    "duration": 11,
    "start_time": "2023-01-13T15:49:47.226Z"
   },
   {
    "duration": 5,
    "start_time": "2023-01-13T15:49:47.239Z"
   },
   {
    "duration": 27,
    "start_time": "2023-01-13T15:49:47.246Z"
   },
   {
    "duration": 47,
    "start_time": "2023-01-13T15:49:47.275Z"
   },
   {
    "duration": 25,
    "start_time": "2023-01-13T15:49:47.325Z"
   },
   {
    "duration": 95,
    "start_time": "2023-01-13T15:49:47.352Z"
   },
   {
    "duration": 87,
    "start_time": "2023-01-13T15:49:47.449Z"
   },
   {
    "duration": 62,
    "start_time": "2023-01-13T15:49:47.539Z"
   },
   {
    "duration": 65,
    "start_time": "2023-01-13T15:49:47.612Z"
   },
   {
    "duration": 13,
    "start_time": "2023-01-13T15:49:47.679Z"
   },
   {
    "duration": 39,
    "start_time": "2023-01-13T15:49:47.711Z"
   },
   {
    "duration": 22,
    "start_time": "2023-01-13T15:49:47.752Z"
   },
   {
    "duration": 43,
    "start_time": "2023-01-13T15:49:47.776Z"
   },
   {
    "duration": 5,
    "start_time": "2023-01-13T15:49:47.821Z"
   },
   {
    "duration": 26,
    "start_time": "2023-01-13T15:49:47.828Z"
   },
   {
    "duration": 23,
    "start_time": "2023-01-13T15:49:47.856Z"
   },
   {
    "duration": 43,
    "start_time": "2023-01-13T15:49:47.881Z"
   },
   {
    "duration": 17,
    "start_time": "2023-01-13T15:49:47.925Z"
   },
   {
    "duration": 18,
    "start_time": "2023-01-13T15:49:47.944Z"
   },
   {
    "duration": 54,
    "start_time": "2023-01-13T15:49:47.964Z"
   },
   {
    "duration": 9,
    "start_time": "2023-01-13T15:49:48.020Z"
   },
   {
    "duration": 14,
    "start_time": "2023-01-13T15:49:48.031Z"
   },
   {
    "duration": 10,
    "start_time": "2023-01-13T15:49:48.047Z"
   },
   {
    "duration": 4,
    "start_time": "2023-01-13T15:49:48.059Z"
   },
   {
    "duration": 57,
    "start_time": "2023-01-13T15:49:48.065Z"
   },
   {
    "duration": 12,
    "start_time": "2023-01-13T15:49:48.124Z"
   },
   {
    "duration": 20,
    "start_time": "2023-01-13T15:49:48.138Z"
   },
   {
    "duration": 14,
    "start_time": "2023-01-13T15:49:48.159Z"
   },
   {
    "duration": 39,
    "start_time": "2023-01-13T15:49:48.176Z"
   },
   {
    "duration": 15,
    "start_time": "2023-01-13T15:49:48.218Z"
   },
   {
    "duration": 17,
    "start_time": "2023-01-13T15:49:48.235Z"
   },
   {
    "duration": 8,
    "start_time": "2023-01-13T15:49:48.254Z"
   },
   {
    "duration": 3,
    "start_time": "2023-01-13T15:50:15.620Z"
   },
   {
    "duration": 184,
    "start_time": "2023-01-13T15:50:15.625Z"
   },
   {
    "duration": 12,
    "start_time": "2023-01-13T15:50:15.811Z"
   },
   {
    "duration": 47,
    "start_time": "2023-01-13T15:50:15.825Z"
   },
   {
    "duration": 12,
    "start_time": "2023-01-13T15:50:15.874Z"
   },
   {
    "duration": 7,
    "start_time": "2023-01-13T15:50:15.888Z"
   },
   {
    "duration": 17,
    "start_time": "2023-01-13T15:50:15.897Z"
   },
   {
    "duration": 4,
    "start_time": "2023-01-13T15:50:15.916Z"
   },
   {
    "duration": 29,
    "start_time": "2023-01-13T15:50:15.922Z"
   },
   {
    "duration": 26,
    "start_time": "2023-01-13T15:50:15.953Z"
   },
   {
    "duration": 32,
    "start_time": "2023-01-13T15:50:15.981Z"
   },
   {
    "duration": 71,
    "start_time": "2023-01-13T15:50:16.015Z"
   },
   {
    "duration": 88,
    "start_time": "2023-01-13T15:50:16.087Z"
   },
   {
    "duration": 75,
    "start_time": "2023-01-13T15:50:16.176Z"
   },
   {
    "duration": 36,
    "start_time": "2023-01-13T15:50:16.253Z"
   },
   {
    "duration": 27,
    "start_time": "2023-01-13T15:50:16.291Z"
   },
   {
    "duration": 54,
    "start_time": "2023-01-13T15:50:16.321Z"
   },
   {
    "duration": 33,
    "start_time": "2023-01-13T15:50:16.379Z"
   },
   {
    "duration": 15,
    "start_time": "2023-01-13T15:50:16.414Z"
   },
   {
    "duration": 7,
    "start_time": "2023-01-13T15:50:16.431Z"
   },
   {
    "duration": 44,
    "start_time": "2023-01-13T15:50:16.440Z"
   },
   {
    "duration": 27,
    "start_time": "2023-01-13T15:50:16.487Z"
   },
   {
    "duration": 20,
    "start_time": "2023-01-13T15:50:16.517Z"
   },
   {
    "duration": 34,
    "start_time": "2023-01-13T15:50:16.539Z"
   },
   {
    "duration": 39,
    "start_time": "2023-01-13T15:50:16.577Z"
   },
   {
    "duration": 21,
    "start_time": "2023-01-13T15:50:16.618Z"
   },
   {
    "duration": 15,
    "start_time": "2023-01-13T15:50:16.641Z"
   },
   {
    "duration": 16,
    "start_time": "2023-01-13T15:50:16.658Z"
   },
   {
    "duration": 38,
    "start_time": "2023-01-13T15:50:16.678Z"
   },
   {
    "duration": 6,
    "start_time": "2023-01-13T15:50:16.718Z"
   },
   {
    "duration": 40,
    "start_time": "2023-01-13T15:50:16.726Z"
   },
   {
    "duration": 15,
    "start_time": "2023-01-13T15:50:16.768Z"
   },
   {
    "duration": 28,
    "start_time": "2023-01-13T15:50:16.784Z"
   },
   {
    "duration": 12,
    "start_time": "2023-01-13T15:50:16.814Z"
   },
   {
    "duration": 3,
    "start_time": "2023-01-13T15:50:16.827Z"
   },
   {
    "duration": 6,
    "start_time": "2023-01-13T15:50:16.831Z"
   },
   {
    "duration": 9,
    "start_time": "2023-01-13T15:50:16.839Z"
   },
   {
    "duration": 6,
    "start_time": "2023-01-13T15:50:16.850Z"
   },
   {
    "duration": 3,
    "start_time": "2023-01-13T15:51:08.800Z"
   },
   {
    "duration": 184,
    "start_time": "2023-01-13T15:51:08.805Z"
   },
   {
    "duration": 11,
    "start_time": "2023-01-13T15:51:08.991Z"
   },
   {
    "duration": 30,
    "start_time": "2023-01-13T15:51:09.011Z"
   },
   {
    "duration": 2,
    "start_time": "2023-01-13T15:51:09.044Z"
   },
   {
    "duration": 11,
    "start_time": "2023-01-13T15:51:09.048Z"
   },
   {
    "duration": 16,
    "start_time": "2023-01-13T15:51:09.061Z"
   },
   {
    "duration": 8,
    "start_time": "2023-01-13T15:51:09.079Z"
   },
   {
    "duration": 40,
    "start_time": "2023-01-13T15:51:09.089Z"
   },
   {
    "duration": 20,
    "start_time": "2023-01-13T15:51:09.131Z"
   },
   {
    "duration": 25,
    "start_time": "2023-01-13T15:51:09.153Z"
   },
   {
    "duration": 84,
    "start_time": "2023-01-13T15:51:09.180Z"
   },
   {
    "duration": 84,
    "start_time": "2023-01-13T15:51:09.266Z"
   },
   {
    "duration": 70,
    "start_time": "2023-01-13T15:51:09.353Z"
   },
   {
    "duration": 36,
    "start_time": "2023-01-13T15:51:09.425Z"
   },
   {
    "duration": 10,
    "start_time": "2023-01-13T15:51:09.462Z"
   },
   {
    "duration": 53,
    "start_time": "2023-01-13T15:51:09.473Z"
   },
   {
    "duration": 12,
    "start_time": "2023-01-13T15:51:09.527Z"
   },
   {
    "duration": 11,
    "start_time": "2023-01-13T15:51:09.541Z"
   },
   {
    "duration": 3,
    "start_time": "2023-01-13T15:51:09.554Z"
   },
   {
    "duration": 28,
    "start_time": "2023-01-13T15:51:09.559Z"
   },
   {
    "duration": 37,
    "start_time": "2023-01-13T15:51:09.589Z"
   },
   {
    "duration": 15,
    "start_time": "2023-01-13T15:51:09.628Z"
   },
   {
    "duration": 15,
    "start_time": "2023-01-13T15:51:09.644Z"
   },
   {
    "duration": 17,
    "start_time": "2023-01-13T15:51:09.660Z"
   },
   {
    "duration": 43,
    "start_time": "2023-01-13T15:51:09.679Z"
   },
   {
    "duration": 8,
    "start_time": "2023-01-13T15:51:09.724Z"
   },
   {
    "duration": 17,
    "start_time": "2023-01-13T15:51:09.734Z"
   },
   {
    "duration": 20,
    "start_time": "2023-01-13T15:51:09.753Z"
   },
   {
    "duration": 11,
    "start_time": "2023-01-13T15:51:09.775Z"
   },
   {
    "duration": 39,
    "start_time": "2023-01-13T15:51:09.788Z"
   },
   {
    "duration": 13,
    "start_time": "2023-01-13T15:51:09.829Z"
   },
   {
    "duration": 18,
    "start_time": "2023-01-13T15:51:09.844Z"
   },
   {
    "duration": 10,
    "start_time": "2023-01-13T15:51:09.864Z"
   },
   {
    "duration": 2,
    "start_time": "2023-01-13T15:51:09.876Z"
   },
   {
    "duration": 33,
    "start_time": "2023-01-13T15:51:09.879Z"
   },
   {
    "duration": 2,
    "start_time": "2023-01-13T15:51:09.914Z"
   },
   {
    "duration": 6,
    "start_time": "2023-01-13T15:51:09.918Z"
   },
   {
    "duration": 3,
    "start_time": "2023-01-13T15:51:21.359Z"
   },
   {
    "duration": 170,
    "start_time": "2023-01-13T15:51:21.364Z"
   },
   {
    "duration": 11,
    "start_time": "2023-01-13T15:51:21.535Z"
   },
   {
    "duration": 32,
    "start_time": "2023-01-13T15:51:21.548Z"
   },
   {
    "duration": 2,
    "start_time": "2023-01-13T15:51:21.583Z"
   },
   {
    "duration": 8,
    "start_time": "2023-01-13T15:51:21.587Z"
   },
   {
    "duration": 7,
    "start_time": "2023-01-13T15:51:21.611Z"
   },
   {
    "duration": 5,
    "start_time": "2023-01-13T15:51:21.620Z"
   },
   {
    "duration": 35,
    "start_time": "2023-01-13T15:51:21.626Z"
   },
   {
    "duration": 24,
    "start_time": "2023-01-13T15:51:21.663Z"
   },
   {
    "duration": 30,
    "start_time": "2023-01-13T15:51:21.688Z"
   },
   {
    "duration": 74,
    "start_time": "2023-01-13T15:51:21.720Z"
   },
   {
    "duration": 86,
    "start_time": "2023-01-13T15:51:21.796Z"
   },
   {
    "duration": 72,
    "start_time": "2023-01-13T15:51:21.884Z"
   },
   {
    "duration": 35,
    "start_time": "2023-01-13T15:51:21.958Z"
   },
   {
    "duration": 24,
    "start_time": "2023-01-13T15:51:21.995Z"
   },
   {
    "duration": 50,
    "start_time": "2023-01-13T15:51:22.021Z"
   },
   {
    "duration": 14,
    "start_time": "2023-01-13T15:51:22.073Z"
   },
   {
    "duration": 31,
    "start_time": "2023-01-13T15:51:22.088Z"
   },
   {
    "duration": 4,
    "start_time": "2023-01-13T15:51:22.153Z"
   },
   {
    "duration": 61,
    "start_time": "2023-01-13T15:51:22.158Z"
   },
   {
    "duration": 15,
    "start_time": "2023-01-13T15:51:22.221Z"
   },
   {
    "duration": 15,
    "start_time": "2023-01-13T15:51:22.238Z"
   },
   {
    "duration": 15,
    "start_time": "2023-01-13T15:51:22.255Z"
   },
   {
    "duration": 41,
    "start_time": "2023-01-13T15:51:22.271Z"
   },
   {
    "duration": 20,
    "start_time": "2023-01-13T15:51:22.314Z"
   },
   {
    "duration": 17,
    "start_time": "2023-01-13T15:51:22.335Z"
   },
   {
    "duration": 35,
    "start_time": "2023-01-13T15:51:22.354Z"
   },
   {
    "duration": 30,
    "start_time": "2023-01-13T15:51:22.391Z"
   },
   {
    "duration": 10,
    "start_time": "2023-01-13T15:51:22.423Z"
   },
   {
    "duration": 41,
    "start_time": "2023-01-13T15:51:22.434Z"
   },
   {
    "duration": 27,
    "start_time": "2023-01-13T15:51:22.476Z"
   },
   {
    "duration": 28,
    "start_time": "2023-01-13T15:51:22.505Z"
   },
   {
    "duration": 15,
    "start_time": "2023-01-13T15:51:22.534Z"
   },
   {
    "duration": 2,
    "start_time": "2023-01-13T15:51:22.551Z"
   },
   {
    "duration": 19,
    "start_time": "2023-01-13T15:51:22.554Z"
   },
   {
    "duration": 26,
    "start_time": "2023-01-13T15:51:22.575Z"
   },
   {
    "duration": 15,
    "start_time": "2023-01-13T15:51:22.603Z"
   },
   {
    "duration": 2,
    "start_time": "2023-01-13T15:51:52.592Z"
   },
   {
    "duration": 183,
    "start_time": "2023-01-13T15:51:52.596Z"
   },
   {
    "duration": 11,
    "start_time": "2023-01-13T15:51:52.781Z"
   },
   {
    "duration": 39,
    "start_time": "2023-01-13T15:51:52.794Z"
   },
   {
    "duration": 5,
    "start_time": "2023-01-13T15:51:52.836Z"
   },
   {
    "duration": 23,
    "start_time": "2023-01-13T15:51:52.842Z"
   },
   {
    "duration": 36,
    "start_time": "2023-01-13T15:51:52.867Z"
   },
   {
    "duration": 11,
    "start_time": "2023-01-13T15:51:52.905Z"
   },
   {
    "duration": 36,
    "start_time": "2023-01-13T15:51:52.918Z"
   },
   {
    "duration": 28,
    "start_time": "2023-01-13T15:51:52.955Z"
   },
   {
    "duration": 27,
    "start_time": "2023-01-13T15:51:52.986Z"
   },
   {
    "duration": 76,
    "start_time": "2023-01-13T15:51:53.015Z"
   },
   {
    "duration": 66,
    "start_time": "2023-01-13T15:51:53.093Z"
   },
   {
    "duration": 65,
    "start_time": "2023-01-13T15:51:53.161Z"
   },
   {
    "duration": 36,
    "start_time": "2023-01-13T15:51:53.228Z"
   },
   {
    "duration": 29,
    "start_time": "2023-01-13T15:51:53.267Z"
   },
   {
    "duration": 43,
    "start_time": "2023-01-13T15:51:53.298Z"
   },
   {
    "duration": 13,
    "start_time": "2023-01-13T15:51:53.342Z"
   },
   {
    "duration": 21,
    "start_time": "2023-01-13T15:51:53.356Z"
   },
   {
    "duration": 5,
    "start_time": "2023-01-13T15:51:53.379Z"
   },
   {
    "duration": 38,
    "start_time": "2023-01-13T15:51:53.385Z"
   },
   {
    "duration": 15,
    "start_time": "2023-01-13T15:51:53.425Z"
   },
   {
    "duration": 15,
    "start_time": "2023-01-13T15:51:53.442Z"
   },
   {
    "duration": 25,
    "start_time": "2023-01-13T15:51:53.459Z"
   },
   {
    "duration": 29,
    "start_time": "2023-01-13T15:51:53.485Z"
   },
   {
    "duration": 15,
    "start_time": "2023-01-13T15:51:53.516Z"
   },
   {
    "duration": 19,
    "start_time": "2023-01-13T15:51:53.533Z"
   },
   {
    "duration": 28,
    "start_time": "2023-01-13T15:51:53.553Z"
   },
   {
    "duration": 28,
    "start_time": "2023-01-13T15:51:53.584Z"
   },
   {
    "duration": 11,
    "start_time": "2023-01-13T15:51:53.614Z"
   },
   {
    "duration": 33,
    "start_time": "2023-01-13T15:51:53.626Z"
   },
   {
    "duration": 13,
    "start_time": "2023-01-13T15:51:53.660Z"
   },
   {
    "duration": 28,
    "start_time": "2023-01-13T15:51:53.674Z"
   },
   {
    "duration": 31,
    "start_time": "2023-01-13T15:51:53.704Z"
   },
   {
    "duration": 4,
    "start_time": "2023-01-13T15:51:53.738Z"
   },
   {
    "duration": 22,
    "start_time": "2023-01-13T15:51:53.743Z"
   },
   {
    "duration": 18,
    "start_time": "2023-01-13T15:51:53.767Z"
   },
   {
    "duration": 17,
    "start_time": "2023-01-13T15:51:53.786Z"
   },
   {
    "duration": 2,
    "start_time": "2023-01-13T15:52:18.440Z"
   },
   {
    "duration": 197,
    "start_time": "2023-01-13T15:52:18.444Z"
   },
   {
    "duration": 12,
    "start_time": "2023-01-13T15:52:18.642Z"
   },
   {
    "duration": 33,
    "start_time": "2023-01-13T15:52:18.656Z"
   },
   {
    "duration": 3,
    "start_time": "2023-01-13T15:52:18.690Z"
   },
   {
    "duration": 3,
    "start_time": "2023-01-13T15:52:18.712Z"
   },
   {
    "duration": 11,
    "start_time": "2023-01-13T15:52:18.717Z"
   },
   {
    "duration": 4,
    "start_time": "2023-01-13T15:52:18.730Z"
   },
   {
    "duration": 23,
    "start_time": "2023-01-13T15:52:18.737Z"
   },
   {
    "duration": 17,
    "start_time": "2023-01-13T15:52:18.762Z"
   },
   {
    "duration": 49,
    "start_time": "2023-01-13T15:52:18.781Z"
   },
   {
    "duration": 71,
    "start_time": "2023-01-13T15:52:18.832Z"
   },
   {
    "duration": 72,
    "start_time": "2023-01-13T15:52:18.912Z"
   },
   {
    "duration": 79,
    "start_time": "2023-01-13T15:52:18.986Z"
   },
   {
    "duration": 47,
    "start_time": "2023-01-13T15:52:19.067Z"
   },
   {
    "duration": 10,
    "start_time": "2023-01-13T15:52:19.116Z"
   },
   {
    "duration": 40,
    "start_time": "2023-01-13T15:52:19.128Z"
   },
   {
    "duration": 11,
    "start_time": "2023-01-13T15:52:19.171Z"
   },
   {
    "duration": 38,
    "start_time": "2023-01-13T15:52:19.184Z"
   },
   {
    "duration": 4,
    "start_time": "2023-01-13T15:52:19.223Z"
   },
   {
    "duration": 22,
    "start_time": "2023-01-13T15:52:19.228Z"
   },
   {
    "duration": 15,
    "start_time": "2023-01-13T15:52:19.252Z"
   },
   {
    "duration": 16,
    "start_time": "2023-01-13T15:52:19.269Z"
   },
   {
    "duration": 14,
    "start_time": "2023-01-13T15:52:19.315Z"
   },
   {
    "duration": 21,
    "start_time": "2023-01-13T15:52:19.331Z"
   },
   {
    "duration": 17,
    "start_time": "2023-01-13T15:52:19.354Z"
   },
   {
    "duration": 9,
    "start_time": "2023-01-13T15:52:19.372Z"
   },
   {
    "duration": 15,
    "start_time": "2023-01-13T15:52:19.412Z"
   },
   {
    "duration": 10,
    "start_time": "2023-01-13T15:52:19.429Z"
   },
   {
    "duration": 4,
    "start_time": "2023-01-13T15:52:19.441Z"
   },
   {
    "duration": 33,
    "start_time": "2023-01-13T15:52:19.447Z"
   },
   {
    "duration": 0,
    "start_time": "2023-01-13T15:52:19.482Z"
   },
   {
    "duration": 0,
    "start_time": "2023-01-13T15:52:19.483Z"
   },
   {
    "duration": 0,
    "start_time": "2023-01-13T15:52:19.484Z"
   },
   {
    "duration": 0,
    "start_time": "2023-01-13T15:52:19.485Z"
   },
   {
    "duration": 0,
    "start_time": "2023-01-13T15:52:19.512Z"
   },
   {
    "duration": 0,
    "start_time": "2023-01-13T15:52:19.513Z"
   },
   {
    "duration": 0,
    "start_time": "2023-01-13T15:52:19.514Z"
   },
   {
    "duration": 3,
    "start_time": "2023-01-13T15:52:37.129Z"
   },
   {
    "duration": 170,
    "start_time": "2023-01-13T15:52:37.134Z"
   },
   {
    "duration": 13,
    "start_time": "2023-01-13T15:52:37.305Z"
   },
   {
    "duration": 48,
    "start_time": "2023-01-13T15:52:37.319Z"
   },
   {
    "duration": 2,
    "start_time": "2023-01-13T15:52:37.370Z"
   },
   {
    "duration": 15,
    "start_time": "2023-01-13T15:52:37.373Z"
   },
   {
    "duration": 14,
    "start_time": "2023-01-13T15:52:37.390Z"
   },
   {
    "duration": 6,
    "start_time": "2023-01-13T15:52:37.406Z"
   },
   {
    "duration": 27,
    "start_time": "2023-01-13T15:52:37.414Z"
   },
   {
    "duration": 20,
    "start_time": "2023-01-13T15:52:37.443Z"
   },
   {
    "duration": 24,
    "start_time": "2023-01-13T15:52:37.465Z"
   },
   {
    "duration": 79,
    "start_time": "2023-01-13T15:52:37.491Z"
   },
   {
    "duration": 79,
    "start_time": "2023-01-13T15:52:37.573Z"
   },
   {
    "duration": 70,
    "start_time": "2023-01-13T15:52:37.654Z"
   },
   {
    "duration": 36,
    "start_time": "2023-01-13T15:52:37.726Z"
   },
   {
    "duration": 9,
    "start_time": "2023-01-13T15:52:37.764Z"
   },
   {
    "duration": 58,
    "start_time": "2023-01-13T15:52:37.775Z"
   },
   {
    "duration": 13,
    "start_time": "2023-01-13T15:52:37.835Z"
   },
   {
    "duration": 12,
    "start_time": "2023-01-13T15:52:37.849Z"
   },
   {
    "duration": 7,
    "start_time": "2023-01-13T15:52:37.862Z"
   },
   {
    "duration": 42,
    "start_time": "2023-01-13T15:52:37.871Z"
   },
   {
    "duration": 15,
    "start_time": "2023-01-13T15:52:37.915Z"
   },
   {
    "duration": 16,
    "start_time": "2023-01-13T15:52:37.932Z"
   },
   {
    "duration": 16,
    "start_time": "2023-01-13T15:52:37.950Z"
   },
   {
    "duration": 52,
    "start_time": "2023-01-13T15:52:37.968Z"
   },
   {
    "duration": 16,
    "start_time": "2023-01-13T15:52:38.022Z"
   },
   {
    "duration": 18,
    "start_time": "2023-01-13T15:52:38.040Z"
   },
   {
    "duration": 16,
    "start_time": "2023-01-13T15:52:38.060Z"
   },
   {
    "duration": 37,
    "start_time": "2023-01-13T15:52:38.078Z"
   },
   {
    "duration": 5,
    "start_time": "2023-01-13T15:52:38.117Z"
   },
   {
    "duration": 31,
    "start_time": "2023-01-13T15:52:38.124Z"
   },
   {
    "duration": 16,
    "start_time": "2023-01-13T15:52:38.157Z"
   },
   {
    "duration": 37,
    "start_time": "2023-01-13T15:52:38.175Z"
   },
   {
    "duration": 14,
    "start_time": "2023-01-13T15:52:38.215Z"
   },
   {
    "duration": 3,
    "start_time": "2023-01-13T15:52:38.231Z"
   },
   {
    "duration": 5,
    "start_time": "2023-01-13T15:52:38.236Z"
   },
   {
    "duration": 3,
    "start_time": "2023-01-13T15:52:38.246Z"
   },
   {
    "duration": 5,
    "start_time": "2023-01-13T15:52:38.251Z"
   },
   {
    "duration": 4,
    "start_time": "2023-01-13T15:58:58.650Z"
   },
   {
    "duration": 25,
    "start_time": "2023-01-13T15:59:00.310Z"
   },
   {
    "duration": 18,
    "start_time": "2023-01-13T15:59:01.730Z"
   },
   {
    "duration": 4,
    "start_time": "2023-01-13T15:59:18.246Z"
   },
   {
    "duration": 30,
    "start_time": "2023-01-13T15:59:19.040Z"
   },
   {
    "duration": 16,
    "start_time": "2023-01-13T15:59:19.920Z"
   },
   {
    "duration": 20,
    "start_time": "2023-01-13T15:59:20.611Z"
   },
   {
    "duration": 3,
    "start_time": "2023-01-13T16:01:39.641Z"
   },
   {
    "duration": 181,
    "start_time": "2023-01-13T16:01:39.647Z"
   },
   {
    "duration": 11,
    "start_time": "2023-01-13T16:01:39.830Z"
   },
   {
    "duration": 34,
    "start_time": "2023-01-13T16:01:39.843Z"
   },
   {
    "duration": 2,
    "start_time": "2023-01-13T16:01:39.879Z"
   },
   {
    "duration": 8,
    "start_time": "2023-01-13T16:01:39.883Z"
   },
   {
    "duration": 31,
    "start_time": "2023-01-13T16:01:39.893Z"
   },
   {
    "duration": 9,
    "start_time": "2023-01-13T16:01:39.926Z"
   },
   {
    "duration": 27,
    "start_time": "2023-01-13T16:01:39.937Z"
   },
   {
    "duration": 18,
    "start_time": "2023-01-13T16:01:39.966Z"
   },
   {
    "duration": 42,
    "start_time": "2023-01-13T16:01:39.986Z"
   },
   {
    "duration": 68,
    "start_time": "2023-01-13T16:01:40.030Z"
   },
   {
    "duration": 81,
    "start_time": "2023-01-13T16:01:40.100Z"
   },
   {
    "duration": 83,
    "start_time": "2023-01-13T16:01:40.186Z"
   },
   {
    "duration": 48,
    "start_time": "2023-01-13T16:01:40.271Z"
   },
   {
    "duration": 11,
    "start_time": "2023-01-13T16:01:40.321Z"
   },
   {
    "duration": 37,
    "start_time": "2023-01-13T16:01:40.334Z"
   },
   {
    "duration": 13,
    "start_time": "2023-01-13T16:01:40.373Z"
   },
   {
    "duration": 13,
    "start_time": "2023-01-13T16:01:40.413Z"
   },
   {
    "duration": 4,
    "start_time": "2023-01-13T16:01:40.428Z"
   },
   {
    "duration": 23,
    "start_time": "2023-01-13T16:01:40.433Z"
   },
   {
    "duration": 18,
    "start_time": "2023-01-13T16:01:40.458Z"
   },
   {
    "duration": 47,
    "start_time": "2023-01-13T16:01:40.477Z"
   },
   {
    "duration": 17,
    "start_time": "2023-01-13T16:01:40.526Z"
   },
   {
    "duration": 19,
    "start_time": "2023-01-13T16:01:40.545Z"
   },
   {
    "duration": 47,
    "start_time": "2023-01-13T16:01:40.565Z"
   },
   {
    "duration": 9,
    "start_time": "2023-01-13T16:01:40.614Z"
   },
   {
    "duration": 14,
    "start_time": "2023-01-13T16:01:40.625Z"
   },
   {
    "duration": 10,
    "start_time": "2023-01-13T16:01:40.641Z"
   },
   {
    "duration": 5,
    "start_time": "2023-01-13T16:01:40.653Z"
   },
   {
    "duration": 59,
    "start_time": "2023-01-13T16:01:40.659Z"
   },
   {
    "duration": 0,
    "start_time": "2023-01-13T16:01:40.719Z"
   },
   {
    "duration": 0,
    "start_time": "2023-01-13T16:01:40.721Z"
   },
   {
    "duration": 0,
    "start_time": "2023-01-13T16:01:40.722Z"
   },
   {
    "duration": 0,
    "start_time": "2023-01-13T16:01:40.724Z"
   },
   {
    "duration": 0,
    "start_time": "2023-01-13T16:01:40.725Z"
   },
   {
    "duration": 0,
    "start_time": "2023-01-13T16:01:40.726Z"
   },
   {
    "duration": 0,
    "start_time": "2023-01-13T16:01:40.727Z"
   },
   {
    "duration": 4,
    "start_time": "2023-01-13T16:02:25.600Z"
   },
   {
    "duration": 25,
    "start_time": "2023-01-13T16:02:26.720Z"
   },
   {
    "duration": 19,
    "start_time": "2023-01-13T16:02:42.912Z"
   },
   {
    "duration": 4,
    "start_time": "2023-01-13T16:04:02.411Z"
   },
   {
    "duration": 18,
    "start_time": "2023-01-13T16:04:03.571Z"
   },
   {
    "duration": 15,
    "start_time": "2023-01-13T16:04:04.801Z"
   },
   {
    "duration": 18,
    "start_time": "2023-01-13T16:04:05.520Z"
   },
   {
    "duration": 13,
    "start_time": "2023-01-13T16:04:05.921Z"
   },
   {
    "duration": 4,
    "start_time": "2023-01-13T16:10:02.911Z"
   },
   {
    "duration": 189,
    "start_time": "2023-01-13T16:10:02.917Z"
   },
   {
    "duration": 12,
    "start_time": "2023-01-13T16:10:03.111Z"
   },
   {
    "duration": 38,
    "start_time": "2023-01-13T16:10:03.125Z"
   },
   {
    "duration": 15,
    "start_time": "2023-01-13T16:10:03.166Z"
   },
   {
    "duration": 8,
    "start_time": "2023-01-13T16:10:03.183Z"
   },
   {
    "duration": 33,
    "start_time": "2023-01-13T16:10:03.193Z"
   },
   {
    "duration": 6,
    "start_time": "2023-01-13T16:10:03.228Z"
   },
   {
    "duration": 26,
    "start_time": "2023-01-13T16:10:03.236Z"
   },
   {
    "duration": 33,
    "start_time": "2023-01-13T16:10:03.264Z"
   },
   {
    "duration": 31,
    "start_time": "2023-01-13T16:10:03.299Z"
   },
   {
    "duration": 113,
    "start_time": "2023-01-13T16:10:03.332Z"
   },
   {
    "duration": 116,
    "start_time": "2023-01-13T16:10:03.448Z"
   },
   {
    "duration": 95,
    "start_time": "2023-01-13T16:10:03.568Z"
   },
   {
    "duration": 52,
    "start_time": "2023-01-13T16:10:03.665Z"
   },
   {
    "duration": 12,
    "start_time": "2023-01-13T16:10:03.719Z"
   },
   {
    "duration": 38,
    "start_time": "2023-01-13T16:10:03.733Z"
   },
   {
    "duration": 43,
    "start_time": "2023-01-13T16:10:03.773Z"
   },
   {
    "duration": 12,
    "start_time": "2023-01-13T16:10:03.817Z"
   },
   {
    "duration": 4,
    "start_time": "2023-01-13T16:10:03.831Z"
   },
   {
    "duration": 28,
    "start_time": "2023-01-13T16:10:03.837Z"
   },
   {
    "duration": 47,
    "start_time": "2023-01-13T16:10:03.866Z"
   },
   {
    "duration": 16,
    "start_time": "2023-01-13T16:10:03.915Z"
   },
   {
    "duration": 16,
    "start_time": "2023-01-13T16:10:03.933Z"
   },
   {
    "duration": 18,
    "start_time": "2023-01-13T16:10:03.951Z"
   },
   {
    "duration": 47,
    "start_time": "2023-01-13T16:10:03.971Z"
   },
   {
    "duration": 8,
    "start_time": "2023-01-13T16:10:04.020Z"
   },
   {
    "duration": 39,
    "start_time": "2023-01-13T16:10:04.030Z"
   },
   {
    "duration": 11,
    "start_time": "2023-01-13T16:10:04.071Z"
   },
   {
    "duration": 16,
    "start_time": "2023-01-13T16:10:04.084Z"
   },
   {
    "duration": 36,
    "start_time": "2023-01-13T16:10:04.101Z"
   },
   {
    "duration": 16,
    "start_time": "2023-01-13T16:10:04.139Z"
   },
   {
    "duration": 29,
    "start_time": "2023-01-13T16:10:04.158Z"
   },
   {
    "duration": 20,
    "start_time": "2023-01-13T16:10:04.188Z"
   },
   {
    "duration": 17,
    "start_time": "2023-01-13T16:10:04.210Z"
   },
   {
    "duration": 13,
    "start_time": "2023-01-13T16:10:04.228Z"
   },
   {
    "duration": 17,
    "start_time": "2023-01-13T16:10:04.243Z"
   },
   {
    "duration": 13,
    "start_time": "2023-01-13T16:10:04.262Z"
   },
   {
    "duration": 6,
    "start_time": "2023-01-13T16:10:32.410Z"
   },
   {
    "duration": 477,
    "start_time": "2023-08-18T11:06:18.365Z"
   },
   {
    "duration": 592,
    "start_time": "2023-08-18T11:06:18.844Z"
   },
   {
    "duration": 19,
    "start_time": "2023-08-18T11:06:19.438Z"
   },
   {
    "duration": 40,
    "start_time": "2023-08-18T11:06:19.459Z"
   },
   {
    "duration": 14,
    "start_time": "2023-08-18T11:06:19.502Z"
   },
   {
    "duration": 9,
    "start_time": "2023-08-18T11:06:19.518Z"
   },
   {
    "duration": 14,
    "start_time": "2023-08-18T11:06:19.529Z"
   },
   {
    "duration": 8,
    "start_time": "2023-08-18T11:06:19.545Z"
   },
   {
    "duration": 47,
    "start_time": "2023-08-18T11:06:19.554Z"
   },
   {
    "duration": 23,
    "start_time": "2023-08-18T11:06:19.611Z"
   },
   {
    "duration": 24,
    "start_time": "2023-08-18T11:06:19.636Z"
   },
   {
    "duration": 97,
    "start_time": "2023-08-18T11:06:19.662Z"
   },
   {
    "duration": 97,
    "start_time": "2023-08-18T11:06:19.761Z"
   },
   {
    "duration": 91,
    "start_time": "2023-08-18T11:06:19.860Z"
   },
   {
    "duration": 64,
    "start_time": "2023-08-18T11:06:19.953Z"
   },
   {
    "duration": 38,
    "start_time": "2023-08-18T11:06:20.019Z"
   },
   {
    "duration": 80,
    "start_time": "2023-08-18T11:06:20.059Z"
   },
   {
    "duration": 60,
    "start_time": "2023-08-18T11:06:20.141Z"
   },
   {
    "duration": 28,
    "start_time": "2023-08-18T11:06:20.202Z"
   },
   {
    "duration": 5,
    "start_time": "2023-08-18T11:06:20.231Z"
   },
   {
    "duration": 22,
    "start_time": "2023-08-18T11:06:20.238Z"
   },
   {
    "duration": 55,
    "start_time": "2023-08-18T11:06:20.261Z"
   },
   {
    "duration": 17,
    "start_time": "2023-08-18T11:06:20.318Z"
   },
   {
    "duration": 41,
    "start_time": "2023-08-18T11:06:20.337Z"
   },
   {
    "duration": 42,
    "start_time": "2023-08-18T11:06:20.383Z"
   },
   {
    "duration": 25,
    "start_time": "2023-08-18T11:06:20.427Z"
   },
   {
    "duration": 11,
    "start_time": "2023-08-18T11:06:20.454Z"
   },
   {
    "duration": 58,
    "start_time": "2023-08-18T11:06:20.467Z"
   },
   {
    "duration": 41,
    "start_time": "2023-08-18T11:06:20.529Z"
   },
   {
    "duration": 36,
    "start_time": "2023-08-18T11:06:20.571Z"
   },
   {
    "duration": 65,
    "start_time": "2023-08-18T11:06:20.610Z"
   },
   {
    "duration": 28,
    "start_time": "2023-08-18T11:06:20.677Z"
   },
   {
    "duration": 31,
    "start_time": "2023-08-18T11:06:20.708Z"
   },
   {
    "duration": 14,
    "start_time": "2023-08-18T11:06:20.741Z"
   },
   {
    "duration": 25,
    "start_time": "2023-08-18T11:06:20.757Z"
   },
   {
    "duration": 13,
    "start_time": "2023-08-18T11:06:20.790Z"
   },
   {
    "duration": 16,
    "start_time": "2023-08-18T11:06:20.805Z"
   },
   {
    "duration": 6,
    "start_time": "2023-08-18T11:06:20.822Z"
   }
  ],
  "colab": {
   "collapsed_sections": [
    "E0vqbgi9ay0H",
    "VUC88oWjTJw2"
   ],
   "name": "automatization_template_upd4.ipynb",
   "provenance": []
  },
  "kernelspec": {
   "display_name": "Python 3 (ipykernel)",
   "language": "python",
   "name": "python3"
  },
  "language_info": {
   "codemirror_mode": {
    "name": "ipython",
    "version": 3
   },
   "file_extension": ".py",
   "mimetype": "text/x-python",
   "name": "python",
   "nbconvert_exporter": "python",
   "pygments_lexer": "ipython3",
   "version": "3.9.5"
  },
  "toc": {
   "base_numbering": 1,
   "nav_menu": {
    "height": "215px",
    "width": "403px"
   },
   "number_sections": true,
   "sideBar": true,
   "skip_h1_title": true,
   "title_cell": "Table of Contents",
   "title_sidebar": "Contents",
   "toc_cell": false,
   "toc_position": {
    "height": "calc(100% - 180px)",
    "left": "10px",
    "top": "150px",
    "width": "285.825px"
   },
   "toc_section_display": true,
   "toc_window_display": false
  }
 },
 "nbformat": 4,
 "nbformat_minor": 1
}
