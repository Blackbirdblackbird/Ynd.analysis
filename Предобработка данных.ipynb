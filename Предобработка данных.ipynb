{
 "cells": [
  {
   "cell_type": "markdown",
   "id": "6592b83d",
   "metadata": {},
   "source": [
    "<div style=\"border:solid steelblue 3px; padding: 20px; border-radius: 10px\">\n",
    "\n",
    "**Привет, Сергей!** 👋\n",
    "\n",
    "Меня зовут Алексей Манелюк, я буду проверять твой проект. В Яндекс Практикуме принято общаться на \"ты\" 😉, но если некомфортно - скажи и перейдем на \"Вы\".\n",
    "\n",
    "Моя цель - не указать на ошибки, а поделиться опытом и помочь в освоении анализа данных.\n",
    "\n",
    "В тетрадке ты увидишь мои комментарии, пожалуйста, не удаляй, не перемещай и не изменяй их. У комментариев могут быть приписки **V2**, **V3**, **V...**, которые соответствуют каждой версии проверки. \n",
    "    \n",
    "Я буду использовать цветовую разметку:\n",
    "<p>\n",
    "<div class=\"alert-danger\" style=\"padding: 20px; border-radius: 10px\">\n",
    "<b>Комментарий ревьюера ❌</b>\n",
    "\n",
    "Так выделены критические замечания. Без их отработки я не смогу принять проект. </div>\n",
    "\n",
    "<div class=\"alert-warning\" style=\"padding: 20px; border-radius: 10px\">\n",
    "<b>  Комментарий ревьюера ⚠️</b>\n",
    "\n",
    "Так выделены небольшие замечания или полезные советы. Постарайся учесть их.</div>\n",
    "<p>\n",
    "<div class=\"alert-success\" style=\"padding: 20px; border-radius: 10px\">\n",
    "<b>Комментарий ревьюера ✔️</b>\n",
    "\n",
    "Так выделены правильные решения.</div>\n",
    "\n",
    "Предлагаю работать в диалоге: если что-то дорабатываешь или отвечаешь на мой комментарий - пиши об этом. Мне будет удобней, если ты выделишь свои комментарии:\n",
    "<p>\n",
    "<div class=\"alert-info\" style=\"padding: 20px; border-radius: 10px\">\n",
    "<b>Комментарий студента 💎</b>\n",
    "\n",
    "Здесь исправил.</div>\n",
    "\n",
    "Все это поможет мне быстрее принять твой проект.</div>"
   ]
  },
  {
   "cell_type": "markdown",
   "id": "386f2ae7",
   "metadata": {
    "deletable": false,
    "editable": false,
    "id": "386f2ae7"
   },
   "source": [
    "# Исследование надежности заемщиков\n"
   ]
  },
  {
   "cell_type": "markdown",
   "id": "ffe86f65",
   "metadata": {
    "deletable": false,
    "editable": false,
    "id": "ffe86f65"
   },
   "source": [
    "Во второй части проекта вы выполните шаги 3 и 4. Их вручную проверит ревьюер.\n",
    "Чтобы вам не пришлось писать код заново для шагов 1 и 2, мы добавили авторские решения в ячейки с кодом. \n",
    "\n"
   ]
  },
  {
   "cell_type": "markdown",
   "id": "18ccee70",
   "metadata": {},
   "source": [
    "<div class=\"alert-warning\" style=\"padding: 20px; border-radius: 10px\">\n",
    "<b>Комментарий ревьюера ⚠️</b>\n",
    "\n",
    "Несмотря на то, что первая часть проекта проверяется автоматизрованно, дам по ней пару советов - они пригодятся тебе в следующих проектах. \n",
    "\n",
    "**Их отработка сейчас необязательна**.\n",
    "\n",
    "📌 После названия, обязательно нужно добавлять бриф, цели исследования, описание данных и план работы.</div>"
   ]
  },
  {
   "cell_type": "markdown",
   "id": "aa6cde6c",
   "metadata": {},
   "source": [
    "<div class=\"alert-info\" style=\"padding: 20px; border-radius: 10px\">\n",
    "<b>Комментарий студента 💎</b>\n",
    "\n",
    "Алексей, добрый день! Спасибо, за проверку моего проекта! Замечания будут учтены для последующих работ! .</div>"
   ]
  },
  {
   "cell_type": "markdown",
   "id": "26613308",
   "metadata": {
    "deletable": false,
    "editable": false,
    "id": "26613308"
   },
   "source": [
    "## Откройте таблицу и изучите общую информацию о данных"
   ]
  },
  {
   "cell_type": "markdown",
   "id": "3c9f838e",
   "metadata": {
    "deletable": false,
    "editable": false,
    "id": "3c9f838e"
   },
   "source": [
    "**Задание 1. Импортируйте библиотеку pandas. Считайте данные из csv-файла в датафрейм и сохраните в переменную `data`. Путь к файлу:**\n",
    "\n",
    "`/datasets/data.csv`"
   ]
  },
  {
   "cell_type": "code",
   "execution_count": 1,
   "id": "77a68a90",
   "metadata": {
    "deletable": false,
    "id": "77a68a90"
   },
   "outputs": [],
   "source": [
    "#Проект для кредитного отдела банка. \n",
    "#Нужно разобраться, влияет ли семейное положение и количество детей клиента на факт погашения кредита в срок. \n",
    "import pandas as pd\n",
    "\n",
    "try:\n",
    "    data = pd.read_csv('/datasets/data.csv')\n",
    "except:\n",
    "    data = pd.read_csv('https://code.s3.yandex.net/datasets/data.csv')"
   ]
  },
  {
   "cell_type": "markdown",
   "id": "45365635",
   "metadata": {
    "deletable": false,
    "editable": false,
    "id": "45365635"
   },
   "source": [
    "**Задание 2. Выведите первые 20 строчек датафрейма `data` на экран.**"
   ]
  },
  {
   "cell_type": "code",
   "execution_count": 2,
   "id": "b0451a9a",
   "metadata": {
    "deletable": false,
    "id": "b0451a9a",
    "outputId": "1a8f3ef2-d323-4ec2-ddf7-89670b5944c4"
   },
   "outputs": [
    {
     "data": {
      "text/html": [
       "<div>\n",
       "<style scoped>\n",
       "    .dataframe tbody tr th:only-of-type {\n",
       "        vertical-align: middle;\n",
       "    }\n",
       "\n",
       "    .dataframe tbody tr th {\n",
       "        vertical-align: top;\n",
       "    }\n",
       "\n",
       "    .dataframe thead th {\n",
       "        text-align: right;\n",
       "    }\n",
       "</style>\n",
       "<table border=\"1\" class=\"dataframe\">\n",
       "  <thead>\n",
       "    <tr style=\"text-align: right;\">\n",
       "      <th></th>\n",
       "      <th>children</th>\n",
       "      <th>days_employed</th>\n",
       "      <th>dob_years</th>\n",
       "      <th>education</th>\n",
       "      <th>education_id</th>\n",
       "      <th>family_status</th>\n",
       "      <th>family_status_id</th>\n",
       "      <th>gender</th>\n",
       "      <th>income_type</th>\n",
       "      <th>debt</th>\n",
       "      <th>total_income</th>\n",
       "      <th>purpose</th>\n",
       "    </tr>\n",
       "  </thead>\n",
       "  <tbody>\n",
       "    <tr>\n",
       "      <th>0</th>\n",
       "      <td>1</td>\n",
       "      <td>-8437.673028</td>\n",
       "      <td>42</td>\n",
       "      <td>высшее</td>\n",
       "      <td>0</td>\n",
       "      <td>женат / замужем</td>\n",
       "      <td>0</td>\n",
       "      <td>F</td>\n",
       "      <td>сотрудник</td>\n",
       "      <td>0</td>\n",
       "      <td>253875.639453</td>\n",
       "      <td>покупка жилья</td>\n",
       "    </tr>\n",
       "    <tr>\n",
       "      <th>1</th>\n",
       "      <td>1</td>\n",
       "      <td>-4024.803754</td>\n",
       "      <td>36</td>\n",
       "      <td>среднее</td>\n",
       "      <td>1</td>\n",
       "      <td>женат / замужем</td>\n",
       "      <td>0</td>\n",
       "      <td>F</td>\n",
       "      <td>сотрудник</td>\n",
       "      <td>0</td>\n",
       "      <td>112080.014102</td>\n",
       "      <td>приобретение автомобиля</td>\n",
       "    </tr>\n",
       "    <tr>\n",
       "      <th>2</th>\n",
       "      <td>0</td>\n",
       "      <td>-5623.422610</td>\n",
       "      <td>33</td>\n",
       "      <td>Среднее</td>\n",
       "      <td>1</td>\n",
       "      <td>женат / замужем</td>\n",
       "      <td>0</td>\n",
       "      <td>M</td>\n",
       "      <td>сотрудник</td>\n",
       "      <td>0</td>\n",
       "      <td>145885.952297</td>\n",
       "      <td>покупка жилья</td>\n",
       "    </tr>\n",
       "    <tr>\n",
       "      <th>3</th>\n",
       "      <td>3</td>\n",
       "      <td>-4124.747207</td>\n",
       "      <td>32</td>\n",
       "      <td>среднее</td>\n",
       "      <td>1</td>\n",
       "      <td>женат / замужем</td>\n",
       "      <td>0</td>\n",
       "      <td>M</td>\n",
       "      <td>сотрудник</td>\n",
       "      <td>0</td>\n",
       "      <td>267628.550329</td>\n",
       "      <td>дополнительное образование</td>\n",
       "    </tr>\n",
       "    <tr>\n",
       "      <th>4</th>\n",
       "      <td>0</td>\n",
       "      <td>340266.072047</td>\n",
       "      <td>53</td>\n",
       "      <td>среднее</td>\n",
       "      <td>1</td>\n",
       "      <td>гражданский брак</td>\n",
       "      <td>1</td>\n",
       "      <td>F</td>\n",
       "      <td>пенсионер</td>\n",
       "      <td>0</td>\n",
       "      <td>158616.077870</td>\n",
       "      <td>сыграть свадьбу</td>\n",
       "    </tr>\n",
       "    <tr>\n",
       "      <th>5</th>\n",
       "      <td>0</td>\n",
       "      <td>-926.185831</td>\n",
       "      <td>27</td>\n",
       "      <td>высшее</td>\n",
       "      <td>0</td>\n",
       "      <td>гражданский брак</td>\n",
       "      <td>1</td>\n",
       "      <td>M</td>\n",
       "      <td>компаньон</td>\n",
       "      <td>0</td>\n",
       "      <td>255763.565419</td>\n",
       "      <td>покупка жилья</td>\n",
       "    </tr>\n",
       "    <tr>\n",
       "      <th>6</th>\n",
       "      <td>0</td>\n",
       "      <td>-2879.202052</td>\n",
       "      <td>43</td>\n",
       "      <td>высшее</td>\n",
       "      <td>0</td>\n",
       "      <td>женат / замужем</td>\n",
       "      <td>0</td>\n",
       "      <td>F</td>\n",
       "      <td>компаньон</td>\n",
       "      <td>0</td>\n",
       "      <td>240525.971920</td>\n",
       "      <td>операции с жильем</td>\n",
       "    </tr>\n",
       "    <tr>\n",
       "      <th>7</th>\n",
       "      <td>0</td>\n",
       "      <td>-152.779569</td>\n",
       "      <td>50</td>\n",
       "      <td>СРЕДНЕЕ</td>\n",
       "      <td>1</td>\n",
       "      <td>женат / замужем</td>\n",
       "      <td>0</td>\n",
       "      <td>M</td>\n",
       "      <td>сотрудник</td>\n",
       "      <td>0</td>\n",
       "      <td>135823.934197</td>\n",
       "      <td>образование</td>\n",
       "    </tr>\n",
       "    <tr>\n",
       "      <th>8</th>\n",
       "      <td>2</td>\n",
       "      <td>-6929.865299</td>\n",
       "      <td>35</td>\n",
       "      <td>ВЫСШЕЕ</td>\n",
       "      <td>0</td>\n",
       "      <td>гражданский брак</td>\n",
       "      <td>1</td>\n",
       "      <td>F</td>\n",
       "      <td>сотрудник</td>\n",
       "      <td>0</td>\n",
       "      <td>95856.832424</td>\n",
       "      <td>на проведение свадьбы</td>\n",
       "    </tr>\n",
       "    <tr>\n",
       "      <th>9</th>\n",
       "      <td>0</td>\n",
       "      <td>-2188.756445</td>\n",
       "      <td>41</td>\n",
       "      <td>среднее</td>\n",
       "      <td>1</td>\n",
       "      <td>женат / замужем</td>\n",
       "      <td>0</td>\n",
       "      <td>M</td>\n",
       "      <td>сотрудник</td>\n",
       "      <td>0</td>\n",
       "      <td>144425.938277</td>\n",
       "      <td>покупка жилья для семьи</td>\n",
       "    </tr>\n",
       "    <tr>\n",
       "      <th>10</th>\n",
       "      <td>2</td>\n",
       "      <td>-4171.483647</td>\n",
       "      <td>36</td>\n",
       "      <td>высшее</td>\n",
       "      <td>0</td>\n",
       "      <td>женат / замужем</td>\n",
       "      <td>0</td>\n",
       "      <td>M</td>\n",
       "      <td>компаньон</td>\n",
       "      <td>0</td>\n",
       "      <td>113943.491460</td>\n",
       "      <td>покупка недвижимости</td>\n",
       "    </tr>\n",
       "    <tr>\n",
       "      <th>11</th>\n",
       "      <td>0</td>\n",
       "      <td>-792.701887</td>\n",
       "      <td>40</td>\n",
       "      <td>среднее</td>\n",
       "      <td>1</td>\n",
       "      <td>женат / замужем</td>\n",
       "      <td>0</td>\n",
       "      <td>F</td>\n",
       "      <td>сотрудник</td>\n",
       "      <td>0</td>\n",
       "      <td>77069.234271</td>\n",
       "      <td>покупка коммерческой недвижимости</td>\n",
       "    </tr>\n",
       "    <tr>\n",
       "      <th>12</th>\n",
       "      <td>0</td>\n",
       "      <td>NaN</td>\n",
       "      <td>65</td>\n",
       "      <td>среднее</td>\n",
       "      <td>1</td>\n",
       "      <td>гражданский брак</td>\n",
       "      <td>1</td>\n",
       "      <td>M</td>\n",
       "      <td>пенсионер</td>\n",
       "      <td>0</td>\n",
       "      <td>NaN</td>\n",
       "      <td>сыграть свадьбу</td>\n",
       "    </tr>\n",
       "    <tr>\n",
       "      <th>13</th>\n",
       "      <td>0</td>\n",
       "      <td>-1846.641941</td>\n",
       "      <td>54</td>\n",
       "      <td>неоконченное высшее</td>\n",
       "      <td>2</td>\n",
       "      <td>женат / замужем</td>\n",
       "      <td>0</td>\n",
       "      <td>F</td>\n",
       "      <td>сотрудник</td>\n",
       "      <td>0</td>\n",
       "      <td>130458.228857</td>\n",
       "      <td>приобретение автомобиля</td>\n",
       "    </tr>\n",
       "    <tr>\n",
       "      <th>14</th>\n",
       "      <td>0</td>\n",
       "      <td>-1844.956182</td>\n",
       "      <td>56</td>\n",
       "      <td>высшее</td>\n",
       "      <td>0</td>\n",
       "      <td>гражданский брак</td>\n",
       "      <td>1</td>\n",
       "      <td>F</td>\n",
       "      <td>компаньон</td>\n",
       "      <td>1</td>\n",
       "      <td>165127.911772</td>\n",
       "      <td>покупка жилой недвижимости</td>\n",
       "    </tr>\n",
       "    <tr>\n",
       "      <th>15</th>\n",
       "      <td>1</td>\n",
       "      <td>-972.364419</td>\n",
       "      <td>26</td>\n",
       "      <td>среднее</td>\n",
       "      <td>1</td>\n",
       "      <td>женат / замужем</td>\n",
       "      <td>0</td>\n",
       "      <td>F</td>\n",
       "      <td>сотрудник</td>\n",
       "      <td>0</td>\n",
       "      <td>116820.904450</td>\n",
       "      <td>строительство собственной недвижимости</td>\n",
       "    </tr>\n",
       "    <tr>\n",
       "      <th>16</th>\n",
       "      <td>0</td>\n",
       "      <td>-1719.934226</td>\n",
       "      <td>35</td>\n",
       "      <td>среднее</td>\n",
       "      <td>1</td>\n",
       "      <td>женат / замужем</td>\n",
       "      <td>0</td>\n",
       "      <td>F</td>\n",
       "      <td>сотрудник</td>\n",
       "      <td>0</td>\n",
       "      <td>289202.704229</td>\n",
       "      <td>недвижимость</td>\n",
       "    </tr>\n",
       "    <tr>\n",
       "      <th>17</th>\n",
       "      <td>0</td>\n",
       "      <td>-2369.999720</td>\n",
       "      <td>33</td>\n",
       "      <td>высшее</td>\n",
       "      <td>0</td>\n",
       "      <td>гражданский брак</td>\n",
       "      <td>1</td>\n",
       "      <td>M</td>\n",
       "      <td>сотрудник</td>\n",
       "      <td>0</td>\n",
       "      <td>90410.586745</td>\n",
       "      <td>строительство недвижимости</td>\n",
       "    </tr>\n",
       "    <tr>\n",
       "      <th>18</th>\n",
       "      <td>0</td>\n",
       "      <td>400281.136913</td>\n",
       "      <td>53</td>\n",
       "      <td>среднее</td>\n",
       "      <td>1</td>\n",
       "      <td>вдовец / вдова</td>\n",
       "      <td>2</td>\n",
       "      <td>F</td>\n",
       "      <td>пенсионер</td>\n",
       "      <td>0</td>\n",
       "      <td>56823.777243</td>\n",
       "      <td>на покупку подержанного автомобиля</td>\n",
       "    </tr>\n",
       "    <tr>\n",
       "      <th>19</th>\n",
       "      <td>0</td>\n",
       "      <td>-10038.818549</td>\n",
       "      <td>48</td>\n",
       "      <td>СРЕДНЕЕ</td>\n",
       "      <td>1</td>\n",
       "      <td>в разводе</td>\n",
       "      <td>3</td>\n",
       "      <td>F</td>\n",
       "      <td>сотрудник</td>\n",
       "      <td>0</td>\n",
       "      <td>242831.107982</td>\n",
       "      <td>на покупку своего автомобиля</td>\n",
       "    </tr>\n",
       "  </tbody>\n",
       "</table>\n",
       "</div>"
      ],
      "text/plain": [
       "    children  days_employed  dob_years            education  education_id  \\\n",
       "0          1   -8437.673028         42               высшее             0   \n",
       "1          1   -4024.803754         36              среднее             1   \n",
       "2          0   -5623.422610         33              Среднее             1   \n",
       "3          3   -4124.747207         32              среднее             1   \n",
       "4          0  340266.072047         53              среднее             1   \n",
       "5          0    -926.185831         27               высшее             0   \n",
       "6          0   -2879.202052         43               высшее             0   \n",
       "7          0    -152.779569         50              СРЕДНЕЕ             1   \n",
       "8          2   -6929.865299         35               ВЫСШЕЕ             0   \n",
       "9          0   -2188.756445         41              среднее             1   \n",
       "10         2   -4171.483647         36               высшее             0   \n",
       "11         0    -792.701887         40              среднее             1   \n",
       "12         0            NaN         65              среднее             1   \n",
       "13         0   -1846.641941         54  неоконченное высшее             2   \n",
       "14         0   -1844.956182         56               высшее             0   \n",
       "15         1    -972.364419         26              среднее             1   \n",
       "16         0   -1719.934226         35              среднее             1   \n",
       "17         0   -2369.999720         33               высшее             0   \n",
       "18         0  400281.136913         53              среднее             1   \n",
       "19         0  -10038.818549         48              СРЕДНЕЕ             1   \n",
       "\n",
       "       family_status  family_status_id gender income_type  debt  \\\n",
       "0    женат / замужем                 0      F   сотрудник     0   \n",
       "1    женат / замужем                 0      F   сотрудник     0   \n",
       "2    женат / замужем                 0      M   сотрудник     0   \n",
       "3    женат / замужем                 0      M   сотрудник     0   \n",
       "4   гражданский брак                 1      F   пенсионер     0   \n",
       "5   гражданский брак                 1      M   компаньон     0   \n",
       "6    женат / замужем                 0      F   компаньон     0   \n",
       "7    женат / замужем                 0      M   сотрудник     0   \n",
       "8   гражданский брак                 1      F   сотрудник     0   \n",
       "9    женат / замужем                 0      M   сотрудник     0   \n",
       "10   женат / замужем                 0      M   компаньон     0   \n",
       "11   женат / замужем                 0      F   сотрудник     0   \n",
       "12  гражданский брак                 1      M   пенсионер     0   \n",
       "13   женат / замужем                 0      F   сотрудник     0   \n",
       "14  гражданский брак                 1      F   компаньон     1   \n",
       "15   женат / замужем                 0      F   сотрудник     0   \n",
       "16   женат / замужем                 0      F   сотрудник     0   \n",
       "17  гражданский брак                 1      M   сотрудник     0   \n",
       "18    вдовец / вдова                 2      F   пенсионер     0   \n",
       "19         в разводе                 3      F   сотрудник     0   \n",
       "\n",
       "     total_income                                 purpose  \n",
       "0   253875.639453                           покупка жилья  \n",
       "1   112080.014102                 приобретение автомобиля  \n",
       "2   145885.952297                           покупка жилья  \n",
       "3   267628.550329              дополнительное образование  \n",
       "4   158616.077870                         сыграть свадьбу  \n",
       "5   255763.565419                           покупка жилья  \n",
       "6   240525.971920                       операции с жильем  \n",
       "7   135823.934197                             образование  \n",
       "8    95856.832424                   на проведение свадьбы  \n",
       "9   144425.938277                 покупка жилья для семьи  \n",
       "10  113943.491460                    покупка недвижимости  \n",
       "11   77069.234271       покупка коммерческой недвижимости  \n",
       "12            NaN                         сыграть свадьбу  \n",
       "13  130458.228857                 приобретение автомобиля  \n",
       "14  165127.911772              покупка жилой недвижимости  \n",
       "15  116820.904450  строительство собственной недвижимости  \n",
       "16  289202.704229                            недвижимость  \n",
       "17   90410.586745              строительство недвижимости  \n",
       "18   56823.777243      на покупку подержанного автомобиля  \n",
       "19  242831.107982            на покупку своего автомобиля  "
      ]
     },
     "execution_count": 2,
     "metadata": {},
     "output_type": "execute_result"
    }
   ],
   "source": [
    "data.head(20)"
   ]
  },
  {
   "cell_type": "markdown",
   "id": "0ed8f27f",
   "metadata": {
    "deletable": false,
    "editable": false,
    "id": "0ed8f27f"
   },
   "source": [
    "**Задание 3. Выведите основную информацию о датафрейме с помощью метода `info()`.**"
   ]
  },
  {
   "cell_type": "code",
   "execution_count": 3,
   "id": "ab3f863b",
   "metadata": {
    "deletable": false,
    "id": "ab3f863b",
    "outputId": "15376089-8dad-46c9-b520-c05248d43158"
   },
   "outputs": [
    {
     "name": "stdout",
     "output_type": "stream",
     "text": [
      "<class 'pandas.core.frame.DataFrame'>\n",
      "RangeIndex: 21525 entries, 0 to 21524\n",
      "Data columns (total 12 columns):\n",
      " #   Column            Non-Null Count  Dtype  \n",
      "---  ------            --------------  -----  \n",
      " 0   children          21525 non-null  int64  \n",
      " 1   days_employed     19351 non-null  float64\n",
      " 2   dob_years         21525 non-null  int64  \n",
      " 3   education         21525 non-null  object \n",
      " 4   education_id      21525 non-null  int64  \n",
      " 5   family_status     21525 non-null  object \n",
      " 6   family_status_id  21525 non-null  int64  \n",
      " 7   gender            21525 non-null  object \n",
      " 8   income_type       21525 non-null  object \n",
      " 9   debt              21525 non-null  int64  \n",
      " 10  total_income      19351 non-null  float64\n",
      " 11  purpose           21525 non-null  object \n",
      "dtypes: float64(2), int64(5), object(5)\n",
      "memory usage: 2.0+ MB\n"
     ]
    }
   ],
   "source": [
    "data.info()#После вывода информации, обнаружил, что есть пропуски в данных. При этом пропуски данных мы получили в равных количествах по столбцам days_employed и total_income"
   ]
  },
  {
   "cell_type": "markdown",
   "id": "effa95f0",
   "metadata": {},
   "source": [
    "<div class=\"alert-warning\" style=\"padding: 20px; border-radius: 10px\">\n",
    "<b>Комментарий ревьюера ⚠️</b>\n",
    "\n",
    "📌 Каждый раздел работы стоит завершать кратким выводом, о том что было сделано и какие результаты получены.\n",
    "\n",
    "Как правильно оформить проект ты можешь прочитать в материалах курса:\n",
    "\n",
    "`Полезные инструкции для учёбы - Оформление проекта - Рекомендации по выполнению проектов`\n",
    "</div>"
   ]
  },
  {
   "cell_type": "markdown",
   "id": "60e3e22d",
   "metadata": {
    "deletable": false,
    "editable": false,
    "id": "60e3e22d"
   },
   "source": [
    "## Предобработка данных"
   ]
  },
  {
   "cell_type": "markdown",
   "id": "03dc170c",
   "metadata": {
    "deletable": false,
    "editable": false,
    "id": "03dc170c"
   },
   "source": [
    "### Удаление пропусков"
   ]
  },
  {
   "cell_type": "markdown",
   "id": "a4f54eef",
   "metadata": {
    "deletable": false,
    "editable": false,
    "id": "a4f54eef"
   },
   "source": [
    "**Задание 4. Выведите количество пропущенных значений для каждого столбца. Используйте комбинацию двух методов.**"
   ]
  },
  {
   "cell_type": "code",
   "execution_count": 4,
   "id": "2dc372b2",
   "metadata": {
    "deletable": false,
    "id": "2dc372b2",
    "outputId": "81f4d817-781c-465c-ed15-91ce4446810d"
   },
   "outputs": [
    {
     "data": {
      "text/plain": [
       "children               0\n",
       "days_employed       2174\n",
       "dob_years              0\n",
       "education              0\n",
       "education_id           0\n",
       "family_status          0\n",
       "family_status_id       0\n",
       "gender                 0\n",
       "income_type            0\n",
       "debt                   0\n",
       "total_income        2174\n",
       "purpose                0\n",
       "dtype: int64"
      ]
     },
     "execution_count": 4,
     "metadata": {},
     "output_type": "execute_result"
    }
   ],
   "source": [
    "data.isna().sum()#Выводы подтвердились, имеет равное количество пропусков по двум столбцам"
   ]
  },
  {
   "cell_type": "markdown",
   "id": "14f011b1",
   "metadata": {
    "deletable": false,
    "editable": false,
    "id": "14f011b1"
   },
   "source": [
    "**Задание 5. В двух столбцах есть пропущенные значения. Один из них — `days_employed`. Пропуски в этом столбце вы обработаете на следующем этапе. Другой столбец с пропущенными значениями — `total_income` — хранит данные о доходах. На сумму дохода сильнее всего влияет тип занятости, поэтому заполнить пропуски в этом столбце нужно медианным значением по каждому типу из столбца `income_type`. Например, у человека с типом занятости `сотрудник` пропуск в столбце `total_income` должен быть заполнен медианным доходом среди всех записей с тем же типом.**"
   ]
  },
  {
   "cell_type": "code",
   "execution_count": 5,
   "id": "bdabfb6e",
   "metadata": {
    "deletable": false,
    "id": "bdabfb6e"
   },
   "outputs": [],
   "source": [
    "for t in data['income_type'].unique():#заполнили пропуски total_income медианными значениями\n",
    "    data.loc[(data['income_type'] == t) & (data['total_income'].isna()), 'total_income'] = \\\n",
    "    data.loc[(data['income_type'] == t), 'total_income'].median()"
   ]
  },
  {
   "cell_type": "markdown",
   "id": "5be34059",
   "metadata": {
    "deletable": false,
    "editable": false,
    "id": "5be34059"
   },
   "source": [
    "### Обработка аномальных значений"
   ]
  },
  {
   "cell_type": "markdown",
   "id": "a87606cb",
   "metadata": {
    "deletable": false,
    "editable": false,
    "id": "a87606cb"
   },
   "source": [
    "**Задание 6. В данных могут встречаться артефакты (аномалии) — значения, которые не отражают действительность и появились по какой-то ошибке. таким артефактом будет отрицательное количество дней трудового стажа в столбце `days_employed`. Для реальных данных это нормально. Обработайте значения в этом столбце: замените все отрицательные значения положительными с помощью метода `abs()`.**"
   ]
  },
  {
   "cell_type": "code",
   "execution_count": 6,
   "id": "020c46cc",
   "metadata": {
    "deletable": false,
    "id": "020c46cc"
   },
   "outputs": [],
   "source": [
    "data['days_employed'] = data['days_employed'].abs()"
   ]
  },
  {
   "cell_type": "markdown",
   "id": "45538a3a",
   "metadata": {
    "deletable": false,
    "editable": false,
    "id": "45538a3a"
   },
   "source": [
    "**Задание 7. Для каждого типа занятости выведите медианное значение трудового стажа `days_employed` в днях.**"
   ]
  },
  {
   "cell_type": "code",
   "execution_count": 7,
   "id": "cd3e6328",
   "metadata": {
    "deletable": false,
    "id": "cd3e6328",
    "outputId": "801ef80e-522b-4668-f34e-565af7432bcf"
   },
   "outputs": [
    {
     "data": {
      "text/plain": [
       "income_type\n",
       "безработный        366413.652744\n",
       "в декрете            3296.759962\n",
       "госслужащий          2689.368353\n",
       "компаньон            1547.382223\n",
       "пенсионер          365213.306266\n",
       "предприниматель       520.848083\n",
       "сотрудник            1574.202821\n",
       "студент               578.751554\n",
       "Name: days_employed, dtype: float64"
      ]
     },
     "execution_count": 7,
     "metadata": {},
     "output_type": "execute_result"
    }
   ],
   "source": [
    "data.groupby('income_type')['days_employed'].agg('median')"
   ]
  },
  {
   "cell_type": "markdown",
   "id": "90c5f058",
   "metadata": {
    "deletable": false,
    "editable": false,
    "id": "90c5f058"
   },
   "source": [
    "У двух типов (безработные и пенсионеры) получатся аномально большие значения. Исправить такие значения сложно, поэтому оставьте их как есть."
   ]
  },
  {
   "cell_type": "markdown",
   "id": "9652e50d",
   "metadata": {
    "deletable": false,
    "editable": false,
    "id": "9652e50d"
   },
   "source": [
    "**Задание 8. Выведите перечень уникальных значений столбца `children`.**"
   ]
  },
  {
   "cell_type": "code",
   "execution_count": 8,
   "id": "dbb37b8e",
   "metadata": {
    "deletable": false,
    "id": "dbb37b8e",
    "outputId": "6975b15c-7f95-4697-d16d-a0c79b657b03"
   },
   "outputs": [
    {
     "data": {
      "text/plain": [
       "array([ 1,  0,  3,  2, -1,  4, 20,  5])"
      ]
     },
     "execution_count": 8,
     "metadata": {},
     "output_type": "execute_result"
    }
   ],
   "source": [
    "data['children'].unique()#после вывода уникальных значений chilren получил результаты с отрицательным количеством детей и слишком большим"
   ]
  },
  {
   "cell_type": "markdown",
   "id": "2b8b0715",
   "metadata": {
    "deletable": false,
    "editable": false,
    "id": "2b8b0715"
   },
   "source": [
    "**Задание 9. В столбце `children` есть два аномальных значения. Удалите строки, в которых встречаются такие аномальные значения из датафрейма `data`.**"
   ]
  },
  {
   "cell_type": "code",
   "execution_count": 9,
   "id": "20009df8",
   "metadata": {
    "deletable": false,
    "id": "20009df8"
   },
   "outputs": [],
   "source": [
    "data = data[(data['children'] != -1) & (data['children'] != 20)]#удалил значения"
   ]
  },
  {
   "cell_type": "markdown",
   "id": "8c6ac9f1",
   "metadata": {
    "deletable": false,
    "editable": false,
    "id": "8c6ac9f1"
   },
   "source": [
    "**Задание 10. Ещё раз выведите перечень уникальных значений столбца `children`, чтобы убедиться, что артефакты удалены.**"
   ]
  },
  {
   "cell_type": "code",
   "execution_count": 10,
   "id": "07337b81",
   "metadata": {
    "deletable": false,
    "id": "07337b81",
    "outputId": "b2097101-d49d-44d9-901b-32a65c9463d1"
   },
   "outputs": [
    {
     "data": {
      "text/plain": [
       "array([1, 0, 3, 2, 4, 5])"
      ]
     },
     "execution_count": 10,
     "metadata": {},
     "output_type": "execute_result"
    }
   ],
   "source": [
    "data['children'].unique()"
   ]
  },
  {
   "cell_type": "markdown",
   "id": "ee3f52d4",
   "metadata": {
    "deletable": false,
    "editable": false,
    "id": "ee3f52d4"
   },
   "source": [
    "### Удаление пропусков (продолжение)"
   ]
  },
  {
   "cell_type": "markdown",
   "id": "a700b0e4",
   "metadata": {
    "deletable": false,
    "editable": false,
    "id": "a700b0e4"
   },
   "source": [
    "**Задание 11. Заполните пропуски в столбце `days_employed` медианными значениями по каждого типа занятости `income_type`.**"
   ]
  },
  {
   "cell_type": "code",
   "execution_count": 11,
   "id": "61946b83",
   "metadata": {
    "deletable": false,
    "id": "61946b83"
   },
   "outputs": [],
   "source": [
    "for t in data['income_type'].unique():#заполнили пропуски days_emplyed медианными значениями\n",
    "    data.loc[(data['income_type'] == t) & (data['days_employed'].isna()), 'days_employed'] = \\\n",
    "    data.loc[(data['income_type'] == t), 'days_employed'].median()"
   ]
  },
  {
   "cell_type": "markdown",
   "id": "550dcd9b",
   "metadata": {
    "deletable": false,
    "editable": false,
    "id": "550dcd9b"
   },
   "source": [
    "**Задание 12. Убедитесь, что все пропуски заполнены. Проверьте себя и ещё раз выведите количество пропущенных значений для каждого столбца с помощью двух методов.**"
   ]
  },
  {
   "cell_type": "code",
   "execution_count": 12,
   "id": "937c7014",
   "metadata": {
    "deletable": false,
    "id": "937c7014",
    "outputId": "8da1e4e1-358e-4e87-98c9-f261bce0a7b2"
   },
   "outputs": [
    {
     "data": {
      "text/plain": [
       "children            0\n",
       "days_employed       0\n",
       "dob_years           0\n",
       "education           0\n",
       "education_id        0\n",
       "family_status       0\n",
       "family_status_id    0\n",
       "gender              0\n",
       "income_type         0\n",
       "debt                0\n",
       "total_income        0\n",
       "purpose             0\n",
       "dtype: int64"
      ]
     },
     "execution_count": 12,
     "metadata": {},
     "output_type": "execute_result"
    }
   ],
   "source": [
    "data.isna().sum()#избавился от пропусков"
   ]
  },
  {
   "cell_type": "markdown",
   "id": "d522e295",
   "metadata": {
    "deletable": false,
    "editable": false,
    "id": "d522e295"
   },
   "source": [
    "### Изменение типов данных"
   ]
  },
  {
   "cell_type": "markdown",
   "id": "c229c581",
   "metadata": {
    "deletable": false,
    "editable": false,
    "id": "c229c581"
   },
   "source": [
    "**Задание 13. Замените вещественный тип данных в столбце `total_income` на целочисленный с помощью метода `astype()`.**"
   ]
  },
  {
   "cell_type": "code",
   "execution_count": 13,
   "id": "31036462",
   "metadata": {
    "deletable": false,
    "id": "31036462"
   },
   "outputs": [],
   "source": [
    "data['total_income'] = data['total_income'].astype(int)"
   ]
  },
  {
   "cell_type": "markdown",
   "id": "b8e3d1d9",
   "metadata": {
    "deletable": false,
    "editable": false,
    "id": "b8e3d1d9"
   },
   "source": [
    "### Обработка дубликатов"
   ]
  },
  {
   "cell_type": "markdown",
   "id": "9be53c49",
   "metadata": {
    "deletable": false,
    "editable": false,
    "id": "9be53c49"
   },
   "source": [
    "**Задание 14. Обработайте неявные дубликаты в столбце `education`. В этом столбце есть одни и те же значения, но записанные по-разному: с использованием заглавных и строчных букв. Приведите их к нижнему регистру.**"
   ]
  },
  {
   "cell_type": "code",
   "execution_count": 14,
   "id": "d89e73e1",
   "metadata": {
    "deletable": false,
    "id": "d89e73e1"
   },
   "outputs": [],
   "source": [
    "data['education'] = data['education'].str.lower()"
   ]
  },
  {
   "cell_type": "markdown",
   "id": "01d4500e",
   "metadata": {
    "deletable": false,
    "editable": false,
    "id": "01d4500e"
   },
   "source": [
    "**Задание 15. Выведите на экран количество строк-дубликатов в данных. Если такие строки присутствуют, удалите их.**"
   ]
  },
  {
   "cell_type": "code",
   "execution_count": 15,
   "id": "e10efb23",
   "metadata": {
    "deletable": false,
    "id": "e10efb23",
    "outputId": "9684deba-1934-42d1-99e1-cda61740f822"
   },
   "outputs": [
    {
     "data": {
      "text/plain": [
       "71"
      ]
     },
     "execution_count": 15,
     "metadata": {},
     "output_type": "execute_result"
    }
   ],
   "source": [
    "data.duplicated().sum()"
   ]
  },
  {
   "cell_type": "code",
   "execution_count": 16,
   "id": "df853f20",
   "metadata": {
    "deletable": false,
    "id": "df853f20"
   },
   "outputs": [],
   "source": [
    "data = data.drop_duplicates()#количество дубликатов оказалось 71, удалили"
   ]
  },
  {
   "cell_type": "markdown",
   "id": "627be38f",
   "metadata": {
    "deletable": false,
    "editable": false,
    "id": "627be38f"
   },
   "source": [
    "### Категоризация данных"
   ]
  },
  {
   "cell_type": "markdown",
   "id": "4684c3e0",
   "metadata": {
    "deletable": false,
    "editable": false,
    "id": "4684c3e0"
   },
   "source": [
    "**Задание 16. На основании диапазонов, указанных ниже, создайте в датафрейме `data` столбец `total_income_category` с категориями:**\n",
    "\n",
    "- 0–30000 — `'E'`;\n",
    "- 30001–50000 — `'D'`;\n",
    "- 50001–200000 — `'C'`;\n",
    "- 200001–1000000 — `'B'`;\n",
    "- 1000001 и выше — `'A'`.\n",
    "\n",
    "\n",
    "**Например, кредитополучателю с доходом 25000 нужно назначить категорию `'E'`, а клиенту, получающему 235000, — `'B'`. Используйте собственную функцию с именем `categorize_income()` и метод `apply()`.**"
   ]
  },
  {
   "cell_type": "code",
   "execution_count": 17,
   "id": "78965238",
   "metadata": {
    "deletable": false,
    "id": "78965238"
   },
   "outputs": [],
   "source": [
    "def categorize_income(income):#создал категории клиентов по доходу, было разделение на 5 категорий\n",
    "    try:\n",
    "        if 0 <= income <= 30000:\n",
    "            return 'E'\n",
    "        elif 30001 <= income <= 50000:\n",
    "            return 'D'\n",
    "        elif 50001 <= income <= 200000:\n",
    "            return 'C'\n",
    "        elif 200001 <= income <= 1000000:\n",
    "            return 'B'\n",
    "        elif income >= 1000001:\n",
    "            return 'A'\n",
    "    except:\n",
    "        pass"
   ]
  },
  {
   "cell_type": "code",
   "execution_count": 18,
   "id": "0980ada1",
   "metadata": {
    "deletable": false,
    "id": "0980ada1"
   },
   "outputs": [],
   "source": [
    "data['total_income_category'] = data['total_income'].apply(categorize_income)"
   ]
  },
  {
   "cell_type": "markdown",
   "id": "9917bba0",
   "metadata": {
    "deletable": false,
    "editable": false,
    "id": "9917bba0"
   },
   "source": [
    "**Задание 17. Выведите на экран перечень уникальных целей взятия кредита из столбца `purpose`.**"
   ]
  },
  {
   "cell_type": "code",
   "execution_count": 19,
   "id": "ee07b65e",
   "metadata": {
    "deletable": false,
    "id": "ee07b65e",
    "outputId": "673c12d9-7d7e-4ae0-9812-c622c89dd244"
   },
   "outputs": [
    {
     "data": {
      "text/plain": [
       "array(['покупка жилья', 'приобретение автомобиля',\n",
       "       'дополнительное образование', 'сыграть свадьбу',\n",
       "       'операции с жильем', 'образование', 'на проведение свадьбы',\n",
       "       'покупка жилья для семьи', 'покупка недвижимости',\n",
       "       'покупка коммерческой недвижимости', 'покупка жилой недвижимости',\n",
       "       'строительство собственной недвижимости', 'недвижимость',\n",
       "       'строительство недвижимости', 'на покупку подержанного автомобиля',\n",
       "       'на покупку своего автомобиля',\n",
       "       'операции с коммерческой недвижимостью',\n",
       "       'строительство жилой недвижимости', 'жилье',\n",
       "       'операции со своей недвижимостью', 'автомобили',\n",
       "       'заняться образованием', 'сделка с подержанным автомобилем',\n",
       "       'получение образования', 'автомобиль', 'свадьба',\n",
       "       'получение дополнительного образования', 'покупка своего жилья',\n",
       "       'операции с недвижимостью', 'получение высшего образования',\n",
       "       'свой автомобиль', 'сделка с автомобилем',\n",
       "       'профильное образование', 'высшее образование',\n",
       "       'покупка жилья для сдачи', 'на покупку автомобиля', 'ремонт жилью',\n",
       "       'заняться высшим образованием'], dtype=object)"
      ]
     },
     "execution_count": 19,
     "metadata": {},
     "output_type": "execute_result"
    }
   ],
   "source": [
    "data['purpose'].unique()"
   ]
  },
  {
   "cell_type": "markdown",
   "id": "52b79d56",
   "metadata": {
    "deletable": false,
    "editable": false,
    "id": "52b79d56"
   },
   "source": [
    "**Задание 18. Создайте функцию, которая на основании данных из столбца `purpose` сформирует новый столбец `purpose_category`, в который войдут следующие категории:**\n",
    "\n",
    "- `'операции с автомобилем'`,\n",
    "- `'операции с недвижимостью'`,\n",
    "- `'проведение свадьбы'`,\n",
    "- `'получение образования'`.\n",
    "\n",
    "**Например, если в столбце `purpose` находится подстрока `'на покупку автомобиля'`, то в столбце `purpose_category` должна появиться строка `'операции с автомобилем'`.**\n",
    "\n",
    "**Используйте собственную функцию с именем `categorize_purpose()` и метод `apply()`. Изучите данные в столбце `purpose` и определите, какие подстроки помогут вам правильно определить категорию.**"
   ]
  },
  {
   "cell_type": "code",
   "execution_count": 20,
   "id": "be41da5d",
   "metadata": {
    "deletable": false,
    "id": "be41da5d"
   },
   "outputs": [],
   "source": [
    "def categorize_purpose(row):\n",
    "    try:\n",
    "        if 'автом' in row:\n",
    "            return 'операции с автомобилем'\n",
    "        elif 'жил' in row or 'недвиж' in row:\n",
    "            return 'операции с недвижимостью'\n",
    "        elif 'свад' in row:\n",
    "            return 'проведение свадьбы'\n",
    "        elif 'образов' in row:\n",
    "            return 'получение образования'\n",
    "    except:\n",
    "        return 'нет категории'"
   ]
  },
  {
   "cell_type": "code",
   "execution_count": 21,
   "id": "94c4a19a",
   "metadata": {
    "deletable": false,
    "id": "94c4a19a"
   },
   "outputs": [],
   "source": [
    "data['purpose_category'] = data['purpose'].apply(categorize_purpose)"
   ]
  },
  {
   "cell_type": "markdown",
   "id": "3d596c34",
   "metadata": {
    "deletable": false,
    "editable": false,
    "id": "3d596c34"
   },
   "source": [
    "### Шаг 3. Исследуйте данные и ответьте на вопросы"
   ]
  },
  {
   "cell_type": "markdown",
   "id": "648db036",
   "metadata": {
    "deletable": false,
    "editable": false,
    "id": "648db036"
   },
   "source": [
    "#### 3.1 Есть ли зависимость между количеством детей и возвратом кредита в срок?"
   ]
  },
  {
   "cell_type": "code",
   "execution_count": 22,
   "id": "7fcff25e",
   "metadata": {
    "deletable": false,
    "id": "7fcff25e",
    "scrolled": false
   },
   "outputs": [
    {
     "data": {
      "text/html": [
       "<div>\n",
       "<style scoped>\n",
       "    .dataframe tbody tr th:only-of-type {\n",
       "        vertical-align: middle;\n",
       "    }\n",
       "\n",
       "    .dataframe tbody tr th {\n",
       "        vertical-align: top;\n",
       "    }\n",
       "\n",
       "    .dataframe thead th {\n",
       "        text-align: right;\n",
       "    }\n",
       "</style>\n",
       "<table border=\"1\" class=\"dataframe\">\n",
       "  <thead>\n",
       "    <tr style=\"text-align: right;\">\n",
       "      <th></th>\n",
       "      <th>count</th>\n",
       "      <th>sum</th>\n",
       "      <th>answer</th>\n",
       "    </tr>\n",
       "    <tr>\n",
       "      <th>children</th>\n",
       "      <th></th>\n",
       "      <th></th>\n",
       "      <th></th>\n",
       "    </tr>\n",
       "  </thead>\n",
       "  <tbody>\n",
       "    <tr>\n",
       "      <th>5</th>\n",
       "      <td>9</td>\n",
       "      <td>0</td>\n",
       "      <td>0.000</td>\n",
       "    </tr>\n",
       "    <tr>\n",
       "      <th>0</th>\n",
       "      <td>14091</td>\n",
       "      <td>1063</td>\n",
       "      <td>0.075</td>\n",
       "    </tr>\n",
       "    <tr>\n",
       "      <th>3</th>\n",
       "      <td>330</td>\n",
       "      <td>27</td>\n",
       "      <td>0.082</td>\n",
       "    </tr>\n",
       "    <tr>\n",
       "      <th>1</th>\n",
       "      <td>4808</td>\n",
       "      <td>444</td>\n",
       "      <td>0.092</td>\n",
       "    </tr>\n",
       "    <tr>\n",
       "      <th>2</th>\n",
       "      <td>2052</td>\n",
       "      <td>194</td>\n",
       "      <td>0.095</td>\n",
       "    </tr>\n",
       "    <tr>\n",
       "      <th>4</th>\n",
       "      <td>41</td>\n",
       "      <td>4</td>\n",
       "      <td>0.098</td>\n",
       "    </tr>\n",
       "  </tbody>\n",
       "</table>\n",
       "</div>"
      ],
      "text/plain": [
       "          count   sum  answer\n",
       "children                     \n",
       "5             9     0   0.000\n",
       "0         14091  1063   0.075\n",
       "3           330    27   0.082\n",
       "1          4808   444   0.092\n",
       "2          2052   194   0.095\n",
       "4            41     4   0.098"
      ]
     },
     "metadata": {},
     "output_type": "display_data"
    }
   ],
   "source": [
    "#data.info()# Ваш код будет здесь. Вы можете создавать новые ячейки.\n",
    "#data.head(20)\n",
    "question = data.pivot_table(index = ['children'], values = 'debt', aggfunc = {'count','sum'}) #debt-необходимо посчитать людей у которых есть задолжность\n",
    "question['answer'] = round(question['sum'] / question['count'], 3) #Посчитаем какой процент людей имеет задолжность, для этого разделим количество людей с задолжностью на клиентов.\n",
    "question = question.sort_values(by='answer', ascending=True) #сортируем и выводим по возрастанию\n",
    "display(question)"
   ]
  },
  {
   "cell_type": "markdown",
   "id": "4ff2a96e",
   "metadata": {},
   "source": [
    "<div class=\"alert-warning\" style=\"padding: 20px; border-radius: 10px\">\n",
    "<b>Комментарий ревьюера ⚠️</b>\n",
    "\n",
    "📌 Для более аккуратного вывода таблиц в Jupyter Notebook, лучше использовать функцию `display()` вместо `print()`.\n",
    "\n",
    "А если вывод таблицы в последней строке ячейки Jupyter Notebook, можно вообще эти функции не использовать.</div>"
   ]
  },
  {
   "cell_type": "markdown",
   "id": "84ca8c3d",
   "metadata": {},
   "source": [
    "<div class=\"alert-info\" style=\"padding: 20px; border-radius: 10px\">\n",
    "<b>Комментарий студента 💎</b>\n",
    "\n",
    "Исправил.</div>"
   ]
  },
  {
   "cell_type": "markdown",
   "id": "6ab92a57",
   "metadata": {},
   "source": [
    "<div class=\"alert-success\" style=\"border-radius: 10px; padding: 10px\">\n",
    "<b>Комментарий ревьюера V2 ✔️</b>\n",
    "\n",
    "Отлично!</div>"
   ]
  },
  {
   "cell_type": "markdown",
   "id": "2eb9088e",
   "metadata": {
    "deletable": false,
    "id": "2eb9088e"
   },
   "source": [
    "**Вывод:** Самый большой % задолжности у людей с 4-мя детьми, вероятно из-за высокой фин.нагрузки. почти одинаковые значения у людей с 1 и 2 детьми. Самый маленький % у людей с 5 детьми, вероятно из-за высокого уровня фин.дисциплины, хотя таких клиентов не так много."
   ]
  },
  {
   "cell_type": "markdown",
   "id": "9d2cb0bc",
   "metadata": {},
   "source": [
    "<div class=\"alert-warning\" style=\"padding: 20px; border-radius: 10px\">\n",
    "<b>Комментарий ревьюера ⚠️</b>\n",
    "\n",
    "Ты правильно обратил внимание на то, что выборки несбалансированны. Поэтому выявлять зависимость стоит, сравнивая самые большие, сопоставимые по размеру категории заемщиков. Какую зависимость можно выявить, сравнив категории с 0, 1 и 2 детьми?</div>"
   ]
  },
  {
   "cell_type": "markdown",
   "id": "5c08ea7c",
   "metadata": {},
   "source": [
    "<div class=\"alert-info\" style=\"padding: 20px; border-radius: 10px\">\n",
    "<b>Комментарий студента 💎</b>\n",
    "\n",
    "Зависимость, между тремя этими группами следующая. Категория с 1 и 2 детьми имеет практически одинаковый процент по просрочке. Вероятно, это связано с тем, что на семье находится дополнительная фин.нагрузка из-за детей. Категория, не имеющая детей имеет меньшй % просрочки, так-как они меньшую финансовую нагрузку. Следовательно, люди имеющие детей относятся к группе риска не отдать кредит вовремя.</div>"
   ]
  },
  {
   "cell_type": "markdown",
   "id": "2ffc3140",
   "metadata": {},
   "source": [
    "<div class=\"alert-success\" style=\"border-radius: 10px; padding: 10px\">\n",
    "<b>Комментарий ревьюера V2 ✔️</b>\n",
    "\n",
    "Если сравнить только самые многочисленные выборки с 0, 1 и 2 детьми, можно сказать, что чем больше у заемщика детей, тем выше риск допустить просрочку.</div>"
   ]
  },
  {
   "cell_type": "markdown",
   "id": "74c9b3a7",
   "metadata": {
    "deletable": false,
    "editable": false,
    "id": "74c9b3a7"
   },
   "source": [
    "#### 3.2 Есть ли зависимость между семейным положением и возвратом кредита в срок?"
   ]
  },
  {
   "cell_type": "code",
   "execution_count": 23,
   "id": "8098ab3b",
   "metadata": {
    "deletable": false,
    "id": "8098ab3b"
   },
   "outputs": [
    {
     "data": {
      "text/html": [
       "<div>\n",
       "<style scoped>\n",
       "    .dataframe tbody tr th:only-of-type {\n",
       "        vertical-align: middle;\n",
       "    }\n",
       "\n",
       "    .dataframe tbody tr th {\n",
       "        vertical-align: top;\n",
       "    }\n",
       "\n",
       "    .dataframe thead th {\n",
       "        text-align: right;\n",
       "    }\n",
       "</style>\n",
       "<table border=\"1\" class=\"dataframe\">\n",
       "  <thead>\n",
       "    <tr style=\"text-align: right;\">\n",
       "      <th></th>\n",
       "      <th>count</th>\n",
       "      <th>sum</th>\n",
       "      <th>answer</th>\n",
       "    </tr>\n",
       "    <tr>\n",
       "      <th>family_status</th>\n",
       "      <th></th>\n",
       "      <th></th>\n",
       "      <th></th>\n",
       "    </tr>\n",
       "  </thead>\n",
       "  <tbody>\n",
       "    <tr>\n",
       "      <th>вдовец / вдова</th>\n",
       "      <td>951</td>\n",
       "      <td>63</td>\n",
       "      <td>0.066</td>\n",
       "    </tr>\n",
       "    <tr>\n",
       "      <th>в разводе</th>\n",
       "      <td>1189</td>\n",
       "      <td>84</td>\n",
       "      <td>0.071</td>\n",
       "    </tr>\n",
       "    <tr>\n",
       "      <th>женат / замужем</th>\n",
       "      <td>12261</td>\n",
       "      <td>927</td>\n",
       "      <td>0.076</td>\n",
       "    </tr>\n",
       "    <tr>\n",
       "      <th>гражданский брак</th>\n",
       "      <td>4134</td>\n",
       "      <td>385</td>\n",
       "      <td>0.093</td>\n",
       "    </tr>\n",
       "    <tr>\n",
       "      <th>Не женат / не замужем</th>\n",
       "      <td>2796</td>\n",
       "      <td>273</td>\n",
       "      <td>0.098</td>\n",
       "    </tr>\n",
       "  </tbody>\n",
       "</table>\n",
       "</div>"
      ],
      "text/plain": [
       "                       count  sum  answer\n",
       "family_status                            \n",
       "вдовец / вдова           951   63   0.066\n",
       "в разводе               1189   84   0.071\n",
       "женат / замужем        12261  927   0.076\n",
       "гражданский брак        4134  385   0.093\n",
       "Не женат / не замужем   2796  273   0.098"
      ]
     },
     "metadata": {},
     "output_type": "display_data"
    }
   ],
   "source": [
    "question = data.pivot_table(index = ['family_status'], values = 'debt', aggfunc = {'count','sum'}) #debt-необходимо посчитать людей у которых есть задолжность\n",
    "question['answer'] = round(question['sum'] / question['count'], 3) #Посчитаем какой процент людей имеет задолжность, для этого разделим количество людей с задолжностью на клиентов.\n",
    "question = question.sort_values(by='answer', ascending=True) #сортируем и выводим по возрастанию\n",
    "display(question)"
   ]
  },
  {
   "cell_type": "markdown",
   "id": "c389ca63",
   "metadata": {
    "deletable": false,
    "id": "c389ca63"
   },
   "source": [
    "**Вывод:**  Самый высокий процент по просрочкам у людей с семейным статусом \"не женат/ не замужем\", вероятно из-за низкой фин.дисциплины, так и у людей в гражданском браке, вероятно это люди которые не ведут общего бюджета. Люди с статусом \"женат/замужем\" в середине списка, так-как имеют с одной стороны высокую фин.нагрузку на семью, с другой стороны имеют общий бюджет. Наименьший процент у людей с семейным статусом \"вдовец/вдова\" и \"в разводе\". Вероятно это люди которые находятся старше среднего возраста, наиболее обеспечены и имеют расходы в большей степени только на себя. "
   ]
  },
  {
   "cell_type": "markdown",
   "id": "606d6f6e",
   "metadata": {},
   "source": [
    "<div class=\"alert-success\" style=\"padding: 20px; border-radius: 10px\">\n",
    "<b>Комментарий ревьюера ✔️</b>\n",
    "\n",
    "Верно, если обобщить, то можно сказать, что состоящие или состоявшие в браке заемщики реже допускают просрочки.</div>"
   ]
  },
  {
   "cell_type": "markdown",
   "id": "9529de68",
   "metadata": {
    "deletable": false,
    "editable": false,
    "id": "9529de68"
   },
   "source": [
    "#### 3.3 Есть ли зависимость между уровнем дохода и возвратом кредита в срок?"
   ]
  },
  {
   "cell_type": "code",
   "execution_count": 24,
   "id": "8787f44a",
   "metadata": {
    "deletable": false,
    "id": "8787f44a"
   },
   "outputs": [
    {
     "data": {
      "text/html": [
       "<div>\n",
       "<style scoped>\n",
       "    .dataframe tbody tr th:only-of-type {\n",
       "        vertical-align: middle;\n",
       "    }\n",
       "\n",
       "    .dataframe tbody tr th {\n",
       "        vertical-align: top;\n",
       "    }\n",
       "\n",
       "    .dataframe thead th {\n",
       "        text-align: right;\n",
       "    }\n",
       "</style>\n",
       "<table border=\"1\" class=\"dataframe\">\n",
       "  <thead>\n",
       "    <tr style=\"text-align: right;\">\n",
       "      <th></th>\n",
       "      <th>count</th>\n",
       "      <th>sum</th>\n",
       "      <th>answer</th>\n",
       "    </tr>\n",
       "    <tr>\n",
       "      <th>total_income_category</th>\n",
       "      <th></th>\n",
       "      <th></th>\n",
       "      <th></th>\n",
       "    </tr>\n",
       "  </thead>\n",
       "  <tbody>\n",
       "    <tr>\n",
       "      <th>D</th>\n",
       "      <td>349</td>\n",
       "      <td>21</td>\n",
       "      <td>0.060</td>\n",
       "    </tr>\n",
       "    <tr>\n",
       "      <th>B</th>\n",
       "      <td>5014</td>\n",
       "      <td>354</td>\n",
       "      <td>0.071</td>\n",
       "    </tr>\n",
       "    <tr>\n",
       "      <th>A</th>\n",
       "      <td>25</td>\n",
       "      <td>2</td>\n",
       "      <td>0.080</td>\n",
       "    </tr>\n",
       "    <tr>\n",
       "      <th>C</th>\n",
       "      <td>15921</td>\n",
       "      <td>1353</td>\n",
       "      <td>0.085</td>\n",
       "    </tr>\n",
       "    <tr>\n",
       "      <th>E</th>\n",
       "      <td>22</td>\n",
       "      <td>2</td>\n",
       "      <td>0.091</td>\n",
       "    </tr>\n",
       "  </tbody>\n",
       "</table>\n",
       "</div>"
      ],
      "text/plain": [
       "                       count   sum  answer\n",
       "total_income_category                     \n",
       "D                        349    21   0.060\n",
       "B                       5014   354   0.071\n",
       "A                         25     2   0.080\n",
       "C                      15921  1353   0.085\n",
       "E                         22     2   0.091"
      ]
     },
     "metadata": {},
     "output_type": "display_data"
    }
   ],
   "source": [
    "question = data.pivot_table(index = ['total_income_category'], values = 'debt', aggfunc = {'count','sum'}) #debt-необходимо посчитать людей у которых есть задолжность\n",
    "question['answer'] = round(question['sum'] / question['count'], 3) #Посчитаем какой процент людей имеет задолжность, для этого разделим количество людей с задолжностью на клиентов.\n",
    "question = question.sort_values(by='answer', ascending=True) #сортируем и выводим по возрастанию\n",
    "display(question)\n"
   ]
  },
  {
   "cell_type": "markdown",
   "id": "6dd14b57",
   "metadata": {
    "deletable": false,
    "id": "6dd14b57"
   },
   "source": [
    "**Вывод:** Самый высокий уровень не возврата кредита у категории Е с ЗП до 30 000 рублей , так-как низкая ЗП плата всего ставит перед клиентом высокую фин. дисциплину, но любая жизненная ситуация с непредвидеными расходами поставит эту категорию клиентов в потенциальных должников. Что касается категории Е и А, это самый большие и самые высокие доходы по выборкам, количество таких пользователей крайне мало в % соотношении к другим клиентам. Поэтому по такому количеству клиентов выводы сделать крайне сложно, так-как статистической информации мало. Что касается категории С - это категория имеет большинство среди пользователей, эти пользователи как правило имеют не очень высокую фин. дисциплину, так-как имеют достаточно высокие фин.доходы среди населения РФ например. И вполне могут себе позволить задержать выплату, ввиду штраф для них будет не такой существенной потерей. Самый низкий % невозврата у категории D - эта категория вероятно обладает высоким уровнем дисциплины, так-как при достаточно невысокой зарплате скорее всего планирует свои расходы на месяц, и при этом такую категорию трудно вывести из стабильности незапланированными тратами.\n"
   ]
  },
  {
   "cell_type": "markdown",
   "id": "81e6440e",
   "metadata": {},
   "source": [
    "<div class=\"alert-warning\" style=\"padding: 20px; border-radius: 10px\">\n",
    "<b>Комментарий ревьюера ⚠️</b>\n",
    "\n",
    "А какую можно выявить зависимость, если сравнить только две самые многочисленные выборки?</div>"
   ]
  },
  {
   "cell_type": "markdown",
   "id": "38c93481",
   "metadata": {},
   "source": [
    "<div class=\"alert-info\" style=\"padding: 20px; border-radius: 10px\">\n",
    "<b>Комментарий студента 💎</b>\n",
    "\n",
    "Если сравнивать две самые многочисленные выборки, то группа B - имеет меньший % по задоженности, вероятно эти люди предприниматели, они имеют достаточно высокие доходы и вероятно следят за своей кредитной историей, тем самым имеют самую низий % по задолженности. Что касается самой многочисленной категории, категории С, то это большая часть населения, которая вероятно имеет несколько детей, возможно не один кредит и имеют высокую финансовую нагрузку, возможно некоторые клиенты в этой категории менее беспокоятся за свою кредитную историю.</div>"
   ]
  },
  {
   "cell_type": "markdown",
   "id": "ee6f04da",
   "metadata": {},
   "source": [
    "<div class=\"alert-success\" style=\"border-radius: 10px; padding: 10px\">\n",
    "<b>Комментарий ревьюера V2 ✔️</b>\n",
    "\n",
    "Если сравнить самые большие категории B и C, можно сказать, что заемщики с более высоким доходом платят кредиты вовремя лучше.</div>"
   ]
  },
  {
   "cell_type": "markdown",
   "id": "1dcc9b12",
   "metadata": {
    "deletable": false,
    "editable": false,
    "id": "1dcc9b12"
   },
   "source": [
    "#### 3.4 Как разные цели кредита влияют на его возврат в срок?"
   ]
  },
  {
   "cell_type": "code",
   "execution_count": 25,
   "id": "c602bc8b",
   "metadata": {
    "deletable": false,
    "id": "c602bc8b"
   },
   "outputs": [
    {
     "data": {
      "text/html": [
       "<div>\n",
       "<style scoped>\n",
       "    .dataframe tbody tr th:only-of-type {\n",
       "        vertical-align: middle;\n",
       "    }\n",
       "\n",
       "    .dataframe tbody tr th {\n",
       "        vertical-align: top;\n",
       "    }\n",
       "\n",
       "    .dataframe thead th {\n",
       "        text-align: right;\n",
       "    }\n",
       "</style>\n",
       "<table border=\"1\" class=\"dataframe\">\n",
       "  <thead>\n",
       "    <tr style=\"text-align: right;\">\n",
       "      <th></th>\n",
       "      <th>count</th>\n",
       "      <th>sum</th>\n",
       "      <th>answer</th>\n",
       "    </tr>\n",
       "    <tr>\n",
       "      <th>purpose_category</th>\n",
       "      <th></th>\n",
       "      <th></th>\n",
       "      <th></th>\n",
       "    </tr>\n",
       "  </thead>\n",
       "  <tbody>\n",
       "    <tr>\n",
       "      <th>операции с недвижимостью</th>\n",
       "      <td>10751</td>\n",
       "      <td>780</td>\n",
       "      <td>0.073</td>\n",
       "    </tr>\n",
       "    <tr>\n",
       "      <th>проведение свадьбы</th>\n",
       "      <td>2313</td>\n",
       "      <td>183</td>\n",
       "      <td>0.079</td>\n",
       "    </tr>\n",
       "    <tr>\n",
       "      <th>операции с автомобилем</th>\n",
       "      <td>4279</td>\n",
       "      <td>400</td>\n",
       "      <td>0.093</td>\n",
       "    </tr>\n",
       "    <tr>\n",
       "      <th>получение образования</th>\n",
       "      <td>3988</td>\n",
       "      <td>369</td>\n",
       "      <td>0.093</td>\n",
       "    </tr>\n",
       "  </tbody>\n",
       "</table>\n",
       "</div>"
      ],
      "text/plain": [
       "                          count  sum  answer\n",
       "purpose_category                            \n",
       "операции с недвижимостью  10751  780   0.073\n",
       "проведение свадьбы         2313  183   0.079\n",
       "операции с автомобилем     4279  400   0.093\n",
       "получение образования      3988  369   0.093"
      ]
     },
     "metadata": {},
     "output_type": "display_data"
    }
   ],
   "source": [
    "question = data.pivot_table(index = ['purpose_category'], values = 'debt', aggfunc = {'count','sum'}) #debt-необходимо посчитать людей у которых есть задолжность\n",
    "question['answer'] = round(question['sum'] / question['count'], 3) #Посчитаем какой процент людей имеет задолжность, для этого разделим количество людей с задолжностью на клиентов.\n",
    "question = question.sort_values(by='answer', ascending=True) #сортируем и выводим по возрастанию\n",
    "display(question)"
   ]
  },
  {
   "cell_type": "markdown",
   "id": "cf05ed63",
   "metadata": {
    "deletable": false,
    "id": "cf05ed63"
   },
   "source": [
    "**Вывод:** самый высокий % по невозвратам на \"операции с автомобилем\" и \"получение образования\" - вероятно в этой категории присутствуют лица менее 30 лет, эта категория людей менее ответственна в финансовых вопросах. Что касаемо операцией с недвижимостью, здесь вероятно уже  люди с семьей, более ответственные к планированию бюджета, более состоятельные и имеют скорее всего общий бюджет семейный, все это благотворно сказывается на оплате кредита вовремя "
   ]
  },
  {
   "cell_type": "markdown",
   "id": "07afd37b",
   "metadata": {},
   "source": [
    "<div class=\"alert-success\" style=\"padding: 20px; border-radius: 10px\">\n",
    "<b>Комментарий ревьюера ✔️</b>\n",
    "\n",
    "Все правильно. Молодец, что формулируешь гипотезы о причинах, которые могли привести к полученным результатам. 👍</div>"
   ]
  },
  {
   "cell_type": "markdown",
   "id": "46c1f10b",
   "metadata": {
    "deletable": false,
    "editable": false,
    "id": "46c1f10b"
   },
   "source": [
    "#### 3.5 Приведите возможные причины появления пропусков в исходных данных."
   ]
  },
  {
   "cell_type": "markdown",
   "id": "3697d2a9",
   "metadata": {
    "deletable": false,
    "id": "3697d2a9"
   },
   "source": [
    "    *Ответ:* Пропуски были в 2 столбцах days_empleyed и total_income, самое важное, что количество пропусков в столбце было одинаковое количество. В проекте присутсвуют \"категории безработных,студентов,в декрете\" которые могли бы вместо этих ответов их просто напросто пропустить, из-за того что они на данном этапе равны = 0. Есть вероятность, что одна из категорий решила просто напросто не заполнять эти столбики, так-как их количество равно друг другу. "
   ]
  },
  {
   "cell_type": "markdown",
   "id": "a6269b4c",
   "metadata": {},
   "source": [
    "<div class=\"alert-warning\" style=\"padding: 20px; border-radius: 10px\">\n",
    "<b>Комментарий ревьюера ⚠️</b>\n",
    "\n",
    "Ты правильно указал человеческий фактор (клиент не ввел данные), как наиболее вероятную причину образования пропусков в данных. Но какая причина еще может вызвать потерю данных?</div>"
   ]
  },
  {
   "cell_type": "markdown",
   "id": "fc287345",
   "metadata": {},
   "source": [
    "<div class=\"alert-info\" style=\"padding: 20px; border-radius: 10px\">\n",
    "<b>Комментарий студента 💎</b>\n",
    "\n",
    "Причиной потери данных может быть не только сокрытие информации и неправильный/некорректный ввод. Но возможно ошибки в логике системы \"сбора данных\" или хранении. Следует рассмотреть оба варианта.  Если это первый случай, необходимо не пропускать пользователя дальше, пока он не заполнит корректно \"строки ввода\", если это второй случай, после анализа выгрузить данные с пропусками и принять решение по их исправлению.</div>"
   ]
  },
  {
   "cell_type": "markdown",
   "id": "b3d6530b",
   "metadata": {},
   "source": [
    "<div class=\"alert-success\" style=\"border-radius: 10px; padding: 10px\">\n",
    "<b>Комментарий ревьюера V2 ✔️</b>\n",
    "\n",
    "Техническую ошибку также исключать нельзя. Они могут возникать во время копирования, считывания или записи данных, изменения формата файла.</div>"
   ]
  },
  {
   "cell_type": "markdown",
   "id": "3137d257",
   "metadata": {
    "deletable": false,
    "editable": false,
    "id": "3137d257"
   },
   "source": [
    "#### 3.6 Объясните, почему заполнить пропуски медианным значением — лучшее решение для количественных переменных."
   ]
  },
  {
   "cell_type": "markdown",
   "id": "cf40012a",
   "metadata": {
    "deletable": false,
    "id": "cf40012a"
   },
   "source": [
    "*Ответ:* Арифметическое среднее значение очень грубо отражает данные, благодаря мединному способу мы можем более точно получить информацию и заполнить недостающие атрибуты, это есть в примере теории, когда директору по маркетингу решили платить 300 тыс.руб, а всем остальным по 100."
   ]
  },
  {
   "cell_type": "markdown",
   "id": "481df67d",
   "metadata": {},
   "source": [
    "<div class=\"alert-success\" style=\"padding: 20px; border-radius: 10px\">\n",
    "<b>Комментарий ревьюера ✔️</b>\n",
    "\n",
    "Совершенно верно, медиана менее чувствительна к выбросам. Для примера можешь рассчитать эти метрики для столбца `days_employed`, где есть выбросы.</div>"
   ]
  },
  {
   "cell_type": "markdown",
   "id": "57bc304e",
   "metadata": {
    "deletable": false,
    "editable": false,
    "id": "57bc304e"
   },
   "source": [
    "### Шаг 4: общий вывод."
   ]
  },
  {
   "cell_type": "markdown",
   "id": "1ab75d1c",
   "metadata": {
    "deletable": false,
    "id": "1ab75d1c"
   },
   "source": [
    "Исходя из полученных данных, мы можем предположить , что полноценные семьи с большим количеством детей и неплохим доходов - имеют более высокие риски вовремя не заплатить кредит, нежели категория людей которые не имеют детей, в любом статусе, но при высоких доходах. Самый высокий по риску вариант, если у вас более двух детей, вы не замужем/женаты, и находитесь в категории с ЗП (С). Такой человек имеет самый высокий % иметь задолженность. И наоборот человек без отношений, без детей, с доходом D имеет самые высокие шансы выплатить кредит вовремя. НО шанс, что такие выборки соберутся в единое целое крайне мал, поэтому карреляция прослеживается слабо."
   ]
  },
  {
   "cell_type": "markdown",
   "id": "822ef1fd",
   "metadata": {},
   "source": [
    "<div class=\"alert-warning\" style=\"padding: 20px; border-radius: 10px\">\n",
    "<b>Комментарий ревьюера ⚠️</b>\n",
    "\n",
    "Общий вывод в целом верный, однако есть смысл немного его расширить. Нужно отразить в нем основные результаты по всем шагам работы. Начать с абзаца с описанием входных данных и что сделали на этапе предобработки. \n",
    "\n",
    "Далее описать все выявленные зависимости просрочки от различных факторов в общем виде. \n",
    "\n",
    "Закончить вывод можно рекомендациями банку по улучшению сбора данных.\n",
    "\n",
    "**Зачастую, заказчик читает только общий вывод, поэтому он должен быть максимально информативным.**\n",
    "\n",
    "Можно выделить самые важные моменты форматированием.\n",
    "\n",
    "Вот ссылочка, которая поможет с форматированием текста в ячейке Markdown\n",
    "\n",
    "https://medium.com/analytics-vidhya/the-ultimate-markdown-guide-for-jupyter-notebook-d5e5abf728fd</div>"
   ]
  },
  {
   "cell_type": "markdown",
   "id": "2d9bf603",
   "metadata": {},
   "source": [
    "<div class=\"alert-info\" style=\"padding: 20px; border-radius: 10px\">\n",
    "<b>Комментарий студента 💎</b>\n",
    "\n",
    "Был проведен анализ данных для кредитного отдела банка, с целью улучшения скоринговой оценки на основе статистических данных, а именно \"Влияет ли семейное положение и количество детей клиента на факт погашения кредита в срок\". Заказчиком были переданы статистические данные в формате CSV за период работы отдела. На этапе анализа данных на полноту исследования, были выявлены ряд логических ошибок, такие как:\n",
    "\n",
    "1. В ряде данных отстутсовала информация по столбцам days_empleyed и total_income. В общей сложности, благодаря структурированию данных и их аналитике, было установлено 2174 пропуска в обоих столбцах. Для полноценного анализа данных, пропуски были заполнены средним значением по анализируемым данным, выведенным по медианному значению.\n",
    "    \n",
    "2. По анализируемым данным в столбцах children и education были неверные значения\n",
    "    -children отрицательные и завышенные значения\n",
    "    -education разные шрифты, дублирование данных\n",
    "Исправлено.\n",
    "    \n",
    "На основе дополненных и структурированных данных, был выполнен анализ по вопросам:\n",
    "\n",
    "    а) Есть ли зависимость между количеством детей и возвратом кредита в срок? (Наличие детей, является одним из факторов, что у заемщика будет просрочка.)\n",
    "    б) Есть ли зависимость между семейным положением и возвратом кредита в срок? (состоящие или состоявшие в браке заемщики реже допускают просрочки.)\n",
    "    в) Есть ли зависимость между уровнем дохода и возвратом кредита в срок? (Заёмщики были разбиты на категории по количеству получаемых средств, наиболее большая группа и имеющая большой % по просроченным кредитам, это люди с размером ЗП 50 000 - 200 000)\n",
    "    г) Как разные цели кредита влияют на его возврат в срок?(самый высокий % по невозвратам на \"операции с автомобилем\" и \"получение образования\")\n",
    "\n",
    "Рекомендации по поводу данных:\n",
    "    \n",
    "Причиной потери данных может быть не только сокрытие информации и неправильный/некорректный ввод. Но возможно ошибки в логике системы \"сбора данных\" или хранении. Следует рассмотреть оба варианта. Если это первый случай, необходимо не пропускать пользователя дальше, пока он не заполнит корректно \"строки ввода\", если это второй случай, после анализа выгрузить данные с пропусками и принять решение по их исправлению.\n",
    "    \n",
    " Исходя из полученных данных, мы можем предположить , что полноценные семьи с большим количеством детей и неплохим доходов - имеют более высокие риски вовремя не заплатить кредит, нежели категория людей которые не имеют детей, в любом статусе, но при высоких доходах. Самый высокий по риску вариант, если у вас более двух детей, вы не замужем/женаты, и находитесь в категории с ЗП (С). Такой человек имеет самый высокий % иметь задолженность. И наоборот человек без отношений, без детей, с доходом D имеет самые высокие шансы выплатить кредит вовремя. НО шанс, что такие выборки соберутся в единое целое крайне мал, поэтому карреляция прослеживается слабо.\n",
    "</div>"
   ]
  },
  {
   "cell_type": "markdown",
   "id": "06940cca",
   "metadata": {},
   "source": [
    "<div class=\"alert-success\" style=\"border-radius: 10px; padding: 10px\">\n",
    "<b>Комментарий ревьюера V2 ✔️</b>\n",
    "\n",
    "Теперь у тебя получился подробный общий вывод, отражающий все основные результаты исследования. 👌</div>"
   ]
  },
  {
   "cell_type": "markdown",
   "id": "1d0061c5",
   "metadata": {},
   "source": [
    "<div style=\"border:solid steelblue 3px; padding: 20px; border-radius: 10px\">\n",
    "    \n",
    "<b>Общий комментарий ревьюера</b>\n",
    "\n",
    "С проектом все хорошо, ты здорово справился с заданием. 👌 \n",
    "    \n",
    "Критических замечаний у меня нет, постарайся только отработать желтые комментарии во второй части работы.\n",
    "    \n",
    "Буду ждать твой доработанный проект для принятия. ⌛️\n",
    "    \n",
    "</div>"
   ]
  },
  {
   "cell_type": "markdown",
   "id": "1bb37d14",
   "metadata": {},
   "source": [
    "<div style=\"border:solid steelblue 3px; padding: 20px; border-radius: 10px\">\n",
    "    \n",
    "<b>Общий комментарий ревьюера V2</b>\n",
    "\n",
    "Спасибо, что доработал проект, получилась очень хорошая работа.\n",
    "    \n",
    "Успехов в дальнейшем обучении! 🏆\n",
    "    \n",
    "</div>"
   ]
  }
 ],
 "metadata": {
  "ExecuteTimeLog": [
   {
    "duration": 49,
    "start_time": "2023-01-25T12:27:22.035Z"
   },
   {
    "duration": 5,
    "start_time": "2023-01-25T12:27:44.518Z"
   },
   {
    "duration": 3,
    "start_time": "2023-01-25T12:27:52.516Z"
   },
   {
    "duration": 6,
    "start_time": "2023-01-25T12:27:53.490Z"
   },
   {
    "duration": 6,
    "start_time": "2023-01-25T12:28:32.675Z"
   },
   {
    "duration": 5,
    "start_time": "2023-01-25T12:29:03.500Z"
   },
   {
    "duration": 5,
    "start_time": "2023-01-25T12:30:02.018Z"
   },
   {
    "duration": 7,
    "start_time": "2023-01-25T12:30:25.566Z"
   },
   {
    "duration": 2,
    "start_time": "2023-01-25T12:30:40.765Z"
   },
   {
    "duration": 5,
    "start_time": "2023-01-25T12:30:50.643Z"
   },
   {
    "duration": 481,
    "start_time": "2023-01-25T12:32:59.560Z"
   },
   {
    "duration": 21,
    "start_time": "2023-01-25T12:33:00.043Z"
   },
   {
    "duration": 19,
    "start_time": "2023-01-25T12:33:00.065Z"
   },
   {
    "duration": 31,
    "start_time": "2023-01-25T12:33:00.086Z"
   },
   {
    "duration": 58,
    "start_time": "2023-01-25T12:33:00.119Z"
   },
   {
    "duration": 3,
    "start_time": "2023-01-25T12:33:00.179Z"
   },
   {
    "duration": 43,
    "start_time": "2023-01-25T12:33:00.183Z"
   },
   {
    "duration": 17,
    "start_time": "2023-01-25T12:33:00.228Z"
   },
   {
    "duration": 55,
    "start_time": "2023-01-25T12:33:00.246Z"
   },
   {
    "duration": 31,
    "start_time": "2023-01-25T12:33:00.303Z"
   },
   {
    "duration": 68,
    "start_time": "2023-01-25T12:33:00.336Z"
   },
   {
    "duration": 11,
    "start_time": "2023-01-25T12:33:00.406Z"
   },
   {
    "duration": 12,
    "start_time": "2023-01-25T12:33:00.419Z"
   },
   {
    "duration": 29,
    "start_time": "2023-01-25T12:33:00.432Z"
   },
   {
    "duration": 57,
    "start_time": "2023-01-25T12:33:00.462Z"
   },
   {
    "duration": 21,
    "start_time": "2023-01-25T12:33:00.521Z"
   },
   {
    "duration": 12,
    "start_time": "2023-01-25T12:33:00.543Z"
   },
   {
    "duration": 28,
    "start_time": "2023-01-25T12:33:00.556Z"
   },
   {
    "duration": 20,
    "start_time": "2023-01-25T12:33:00.586Z"
   },
   {
    "duration": 32,
    "start_time": "2023-01-25T12:33:00.607Z"
   },
   {
    "duration": 42,
    "start_time": "2023-01-25T12:33:00.640Z"
   },
   {
    "duration": 43,
    "start_time": "2023-01-25T12:33:00.683Z"
   },
   {
    "duration": 20,
    "start_time": "2023-01-25T12:33:00.728Z"
   },
   {
    "duration": 46,
    "start_time": "2023-01-25T12:33:00.750Z"
   },
   {
    "duration": 29,
    "start_time": "2023-01-25T12:33:00.797Z"
   },
   {
    "duration": 16,
    "start_time": "2023-01-25T12:41:35.149Z"
   },
   {
    "duration": 47,
    "start_time": "2023-01-25T13:04:14.421Z"
   },
   {
    "duration": 67,
    "start_time": "2023-01-25T13:04:31.242Z"
   },
   {
    "duration": 14,
    "start_time": "2023-01-25T13:04:31.310Z"
   },
   {
    "duration": 53,
    "start_time": "2023-01-25T13:04:31.325Z"
   },
   {
    "duration": 28,
    "start_time": "2023-01-25T13:04:31.379Z"
   },
   {
    "duration": 51,
    "start_time": "2023-01-25T13:04:31.409Z"
   },
   {
    "duration": 10,
    "start_time": "2023-01-25T13:04:31.461Z"
   },
   {
    "duration": 54,
    "start_time": "2023-01-25T13:04:31.473Z"
   },
   {
    "duration": 40,
    "start_time": "2023-01-25T13:04:31.529Z"
   },
   {
    "duration": 35,
    "start_time": "2023-01-25T13:04:31.571Z"
   },
   {
    "duration": 19,
    "start_time": "2023-01-25T13:04:31.607Z"
   },
   {
    "duration": 43,
    "start_time": "2023-01-25T13:04:31.628Z"
   },
   {
    "duration": 9,
    "start_time": "2023-01-25T13:04:31.672Z"
   },
   {
    "duration": 22,
    "start_time": "2023-01-25T13:04:31.682Z"
   },
   {
    "duration": 33,
    "start_time": "2023-01-25T13:04:31.706Z"
   },
   {
    "duration": 51,
    "start_time": "2023-01-25T13:04:31.740Z"
   },
   {
    "duration": 57,
    "start_time": "2023-01-25T13:04:31.792Z"
   },
   {
    "duration": 9,
    "start_time": "2023-01-25T13:04:31.851Z"
   },
   {
    "duration": 41,
    "start_time": "2023-01-25T13:04:31.861Z"
   },
   {
    "duration": 36,
    "start_time": "2023-01-25T13:04:31.903Z"
   },
   {
    "duration": 17,
    "start_time": "2023-01-25T13:04:31.940Z"
   },
   {
    "duration": 30,
    "start_time": "2023-01-25T13:04:31.959Z"
   },
   {
    "duration": 42,
    "start_time": "2023-01-25T13:04:31.990Z"
   },
   {
    "duration": 1,
    "start_time": "2023-01-25T13:04:32.033Z"
   },
   {
    "duration": 0,
    "start_time": "2023-01-25T13:04:32.035Z"
   },
   {
    "duration": 0,
    "start_time": "2023-01-25T13:04:32.036Z"
   },
   {
    "duration": 43,
    "start_time": "2023-01-25T13:05:07.176Z"
   },
   {
    "duration": 16,
    "start_time": "2023-01-25T13:05:32.531Z"
   },
   {
    "duration": 45,
    "start_time": "2023-01-25T13:06:01.314Z"
   },
   {
    "duration": 42,
    "start_time": "2023-01-25T13:06:07.433Z"
   },
   {
    "duration": 8,
    "start_time": "2023-01-25T13:06:16.993Z"
   },
   {
    "duration": 16,
    "start_time": "2023-01-25T13:06:25.943Z"
   },
   {
    "duration": 5,
    "start_time": "2023-01-25T13:06:47.388Z"
   },
   {
    "duration": 15,
    "start_time": "2023-01-25T13:07:56.685Z"
   },
   {
    "duration": 17,
    "start_time": "2023-01-25T13:09:39.817Z"
   },
   {
    "duration": 706,
    "start_time": "2023-01-25T13:17:04.572Z"
   },
   {
    "duration": 21,
    "start_time": "2023-01-25T13:18:25.000Z"
   },
   {
    "duration": 708,
    "start_time": "2023-01-25T13:18:40.537Z"
   },
   {
    "duration": 46,
    "start_time": "2023-01-25T13:19:27.925Z"
   },
   {
    "duration": 782,
    "start_time": "2023-01-25T13:19:48.737Z"
   },
   {
    "duration": 723,
    "start_time": "2023-01-25T13:20:17.035Z"
   },
   {
    "duration": 18,
    "start_time": "2023-01-25T13:20:36.147Z"
   },
   {
    "duration": 695,
    "start_time": "2023-01-25T13:20:41.317Z"
   },
   {
    "duration": 86,
    "start_time": "2023-01-25T13:20:51.026Z"
   },
   {
    "duration": 25,
    "start_time": "2023-01-25T13:20:51.114Z"
   },
   {
    "duration": 18,
    "start_time": "2023-01-25T13:20:51.141Z"
   },
   {
    "duration": 8,
    "start_time": "2023-01-25T13:20:51.161Z"
   },
   {
    "duration": 66,
    "start_time": "2023-01-25T13:20:51.171Z"
   },
   {
    "duration": 4,
    "start_time": "2023-01-25T13:20:51.238Z"
   },
   {
    "duration": 10,
    "start_time": "2023-01-25T13:20:51.243Z"
   },
   {
    "duration": 23,
    "start_time": "2023-01-25T13:20:51.254Z"
   },
   {
    "duration": 11,
    "start_time": "2023-01-25T13:20:51.279Z"
   },
   {
    "duration": 33,
    "start_time": "2023-01-25T13:20:51.293Z"
   },
   {
    "duration": 38,
    "start_time": "2023-01-25T13:20:51.328Z"
   },
   {
    "duration": 10,
    "start_time": "2023-01-25T13:20:51.367Z"
   },
   {
    "duration": 14,
    "start_time": "2023-01-25T13:20:51.379Z"
   },
   {
    "duration": 20,
    "start_time": "2023-01-25T13:20:51.394Z"
   },
   {
    "duration": 43,
    "start_time": "2023-01-25T13:20:51.416Z"
   },
   {
    "duration": 16,
    "start_time": "2023-01-25T13:20:51.461Z"
   },
   {
    "duration": 3,
    "start_time": "2023-01-25T13:20:51.479Z"
   },
   {
    "duration": 17,
    "start_time": "2023-01-25T13:20:51.483Z"
   },
   {
    "duration": 35,
    "start_time": "2023-01-25T13:20:51.502Z"
   },
   {
    "duration": 11,
    "start_time": "2023-01-25T13:20:51.538Z"
   },
   {
    "duration": 13,
    "start_time": "2023-01-25T13:20:51.550Z"
   },
   {
    "duration": 715,
    "start_time": "2023-01-25T13:20:51.564Z"
   },
   {
    "duration": 0,
    "start_time": "2023-01-25T13:20:52.281Z"
   },
   {
    "duration": 0,
    "start_time": "2023-01-25T13:20:52.282Z"
   },
   {
    "duration": 0,
    "start_time": "2023-01-25T13:20:52.283Z"
   },
   {
    "duration": 17,
    "start_time": "2023-01-25T13:22:15.250Z"
   },
   {
    "duration": 9,
    "start_time": "2023-01-25T13:22:32.596Z"
   },
   {
    "duration": 14,
    "start_time": "2023-01-25T13:22:38.782Z"
   },
   {
    "duration": 14,
    "start_time": "2023-01-25T13:22:45.623Z"
   },
   {
    "duration": 9,
    "start_time": "2023-01-25T13:22:50.854Z"
   },
   {
    "duration": 11,
    "start_time": "2023-01-25T13:22:55.386Z"
   },
   {
    "duration": 15,
    "start_time": "2023-01-25T13:23:06.523Z"
   },
   {
    "duration": 74,
    "start_time": "2023-01-25T13:23:13.699Z"
   },
   {
    "duration": 17,
    "start_time": "2023-01-25T13:23:13.775Z"
   },
   {
    "duration": 37,
    "start_time": "2023-01-25T13:23:13.795Z"
   },
   {
    "duration": 15,
    "start_time": "2023-01-25T13:23:13.835Z"
   },
   {
    "duration": 44,
    "start_time": "2023-01-25T13:23:13.851Z"
   },
   {
    "duration": 9,
    "start_time": "2023-01-25T13:23:13.897Z"
   },
   {
    "duration": 43,
    "start_time": "2023-01-25T13:23:13.907Z"
   },
   {
    "duration": 4,
    "start_time": "2023-01-25T13:23:13.952Z"
   },
   {
    "duration": 7,
    "start_time": "2023-01-25T13:23:13.957Z"
   },
   {
    "duration": 4,
    "start_time": "2023-01-25T13:23:13.966Z"
   },
   {
    "duration": 32,
    "start_time": "2023-01-25T13:23:13.972Z"
   },
   {
    "duration": 15,
    "start_time": "2023-01-25T13:23:14.006Z"
   },
   {
    "duration": 12,
    "start_time": "2023-01-25T13:23:14.023Z"
   },
   {
    "duration": 12,
    "start_time": "2023-01-25T13:23:14.037Z"
   },
   {
    "duration": 31,
    "start_time": "2023-01-25T13:23:14.053Z"
   },
   {
    "duration": 18,
    "start_time": "2023-01-25T13:23:14.085Z"
   },
   {
    "duration": 9,
    "start_time": "2023-01-25T13:23:14.104Z"
   },
   {
    "duration": 24,
    "start_time": "2023-01-25T13:23:14.115Z"
   },
   {
    "duration": 16,
    "start_time": "2023-01-25T13:23:14.140Z"
   },
   {
    "duration": 7,
    "start_time": "2023-01-25T13:23:14.158Z"
   },
   {
    "duration": 22,
    "start_time": "2023-01-25T13:23:14.166Z"
   },
   {
    "duration": 35,
    "start_time": "2023-01-25T13:23:14.189Z"
   },
   {
    "duration": 4,
    "start_time": "2023-01-25T13:23:14.227Z"
   },
   {
    "duration": 12,
    "start_time": "2023-01-25T13:23:14.233Z"
   },
   {
    "duration": 19,
    "start_time": "2023-01-25T13:23:14.247Z"
   },
   {
    "duration": 6,
    "start_time": "2023-01-25T13:24:47.021Z"
   },
   {
    "duration": 3,
    "start_time": "2023-01-25T13:25:05.820Z"
   },
   {
    "duration": 68,
    "start_time": "2023-01-25T13:25:10.002Z"
   },
   {
    "duration": 15,
    "start_time": "2023-01-25T13:25:10.071Z"
   },
   {
    "duration": 34,
    "start_time": "2023-01-25T13:25:10.088Z"
   },
   {
    "duration": 17,
    "start_time": "2023-01-25T13:25:10.124Z"
   },
   {
    "duration": 31,
    "start_time": "2023-01-25T13:25:10.144Z"
   },
   {
    "duration": 4,
    "start_time": "2023-01-25T13:25:10.176Z"
   },
   {
    "duration": 12,
    "start_time": "2023-01-25T13:25:10.181Z"
   },
   {
    "duration": 18,
    "start_time": "2023-01-25T13:25:10.195Z"
   },
   {
    "duration": 18,
    "start_time": "2023-01-25T13:25:10.214Z"
   },
   {
    "duration": 7,
    "start_time": "2023-01-25T13:25:10.234Z"
   },
   {
    "duration": 34,
    "start_time": "2023-01-25T13:25:10.243Z"
   },
   {
    "duration": 9,
    "start_time": "2023-01-25T13:25:10.280Z"
   },
   {
    "duration": 13,
    "start_time": "2023-01-25T13:25:10.290Z"
   },
   {
    "duration": 13,
    "start_time": "2023-01-25T13:25:10.305Z"
   },
   {
    "duration": 24,
    "start_time": "2023-01-25T13:25:10.320Z"
   },
   {
    "duration": 17,
    "start_time": "2023-01-25T13:25:10.346Z"
   },
   {
    "duration": 4,
    "start_time": "2023-01-25T13:25:10.364Z"
   },
   {
    "duration": 13,
    "start_time": "2023-01-25T13:25:10.369Z"
   },
   {
    "duration": 21,
    "start_time": "2023-01-25T13:25:10.384Z"
   },
   {
    "duration": 6,
    "start_time": "2023-01-25T13:25:10.416Z"
   },
   {
    "duration": 20,
    "start_time": "2023-01-25T13:25:10.424Z"
   },
   {
    "duration": 7,
    "start_time": "2023-01-25T13:25:10.446Z"
   },
   {
    "duration": 0,
    "start_time": "2023-01-25T13:25:10.454Z"
   },
   {
    "duration": 0,
    "start_time": "2023-01-25T13:25:10.455Z"
   },
   {
    "duration": 0,
    "start_time": "2023-01-25T13:25:10.456Z"
   },
   {
    "duration": 7,
    "start_time": "2023-01-25T13:25:19.729Z"
   },
   {
    "duration": 768,
    "start_time": "2023-01-25T13:25:42.786Z"
   },
   {
    "duration": 25,
    "start_time": "2023-01-25T13:26:09.052Z"
   },
   {
    "duration": 19,
    "start_time": "2023-01-25T13:26:22.657Z"
   },
   {
    "duration": 61,
    "start_time": "2023-01-25T13:26:58.997Z"
   },
   {
    "duration": 46,
    "start_time": "2023-01-25T13:27:05.958Z"
   },
   {
    "duration": 17,
    "start_time": "2023-01-25T13:27:09.657Z"
   },
   {
    "duration": 17,
    "start_time": "2023-01-25T13:27:18.098Z"
   },
   {
    "duration": 17,
    "start_time": "2023-01-25T13:46:40.050Z"
   },
   {
    "duration": 16,
    "start_time": "2023-01-25T13:56:31.180Z"
   },
   {
    "duration": 47,
    "start_time": "2023-01-25T15:06:58.488Z"
   },
   {
    "duration": 751,
    "start_time": "2023-01-25T15:07:01.567Z"
   },
   {
    "duration": 25,
    "start_time": "2023-01-25T15:07:02.320Z"
   },
   {
    "duration": 16,
    "start_time": "2023-01-25T15:07:02.347Z"
   },
   {
    "duration": 24,
    "start_time": "2023-01-25T15:07:02.367Z"
   },
   {
    "duration": 41,
    "start_time": "2023-01-25T15:07:02.393Z"
   },
   {
    "duration": 8,
    "start_time": "2023-01-25T15:07:02.436Z"
   },
   {
    "duration": 23,
    "start_time": "2023-01-25T15:07:02.445Z"
   },
   {
    "duration": 13,
    "start_time": "2023-01-25T15:07:02.469Z"
   },
   {
    "duration": 15,
    "start_time": "2023-01-25T15:07:02.484Z"
   },
   {
    "duration": 5,
    "start_time": "2023-01-25T15:07:02.502Z"
   },
   {
    "duration": 68,
    "start_time": "2023-01-25T15:07:02.508Z"
   },
   {
    "duration": 9,
    "start_time": "2023-01-25T15:07:02.578Z"
   },
   {
    "duration": 39,
    "start_time": "2023-01-25T15:07:02.589Z"
   },
   {
    "duration": 23,
    "start_time": "2023-01-25T15:07:02.631Z"
   },
   {
    "duration": 34,
    "start_time": "2023-01-25T15:07:02.656Z"
   },
   {
    "duration": 20,
    "start_time": "2023-01-25T15:07:02.692Z"
   },
   {
    "duration": 11,
    "start_time": "2023-01-25T15:07:02.714Z"
   },
   {
    "duration": 34,
    "start_time": "2023-01-25T15:07:02.726Z"
   },
   {
    "duration": 24,
    "start_time": "2023-01-25T15:07:02.761Z"
   },
   {
    "duration": 15,
    "start_time": "2023-01-25T15:07:02.787Z"
   },
   {
    "duration": 24,
    "start_time": "2023-01-25T15:07:02.804Z"
   },
   {
    "duration": 36,
    "start_time": "2023-01-25T15:07:02.830Z"
   },
   {
    "duration": 19,
    "start_time": "2023-01-25T15:07:02.868Z"
   },
   {
    "duration": 23,
    "start_time": "2023-01-25T15:07:02.889Z"
   },
   {
    "duration": 3,
    "start_time": "2023-01-25T15:07:02.913Z"
   },
   {
    "duration": 25,
    "start_time": "2023-01-25T15:13:35.203Z"
   },
   {
    "duration": 18,
    "start_time": "2023-01-25T15:43:43.914Z"
   },
   {
    "duration": 19,
    "start_time": "2023-01-25T15:43:46.364Z"
   },
   {
    "duration": 19,
    "start_time": "2023-01-25T15:43:47.305Z"
   },
   {
    "duration": 471,
    "start_time": "2023-01-26T07:18:18.835Z"
   },
   {
    "duration": 23,
    "start_time": "2023-01-26T07:18:19.308Z"
   },
   {
    "duration": 19,
    "start_time": "2023-01-26T07:18:19.333Z"
   },
   {
    "duration": 10,
    "start_time": "2023-01-26T07:18:19.354Z"
   },
   {
    "duration": 44,
    "start_time": "2023-01-26T07:18:19.366Z"
   },
   {
    "duration": 3,
    "start_time": "2023-01-26T07:18:19.412Z"
   },
   {
    "duration": 12,
    "start_time": "2023-01-26T07:18:19.426Z"
   },
   {
    "duration": 4,
    "start_time": "2023-01-26T07:18:19.440Z"
   },
   {
    "duration": 13,
    "start_time": "2023-01-26T07:18:19.446Z"
   },
   {
    "duration": 6,
    "start_time": "2023-01-26T07:18:19.461Z"
   },
   {
    "duration": 59,
    "start_time": "2023-01-26T07:18:19.469Z"
   },
   {
    "duration": 10,
    "start_time": "2023-01-26T07:18:19.530Z"
   },
   {
    "duration": 7,
    "start_time": "2023-01-26T07:18:19.542Z"
   },
   {
    "duration": 24,
    "start_time": "2023-01-26T07:18:19.552Z"
   },
   {
    "duration": 29,
    "start_time": "2023-01-26T07:18:19.578Z"
   },
   {
    "duration": 23,
    "start_time": "2023-01-26T07:18:19.609Z"
   },
   {
    "duration": 3,
    "start_time": "2023-01-26T07:18:19.634Z"
   },
   {
    "duration": 24,
    "start_time": "2023-01-26T07:18:19.639Z"
   },
   {
    "duration": 15,
    "start_time": "2023-01-26T07:18:19.664Z"
   },
   {
    "duration": 13,
    "start_time": "2023-01-26T07:18:19.682Z"
   },
   {
    "duration": 14,
    "start_time": "2023-01-26T07:18:19.697Z"
   },
   {
    "duration": 29,
    "start_time": "2023-01-26T07:18:19.713Z"
   },
   {
    "duration": 17,
    "start_time": "2023-01-26T07:18:19.743Z"
   },
   {
    "duration": 24,
    "start_time": "2023-01-26T07:18:19.762Z"
   },
   {
    "duration": 19,
    "start_time": "2023-01-26T07:18:19.788Z"
   },
   {
    "duration": 47,
    "start_time": "2023-01-26T12:01:52.314Z"
   },
   {
    "duration": 9,
    "start_time": "2023-01-26T12:01:58.926Z"
   },
   {
    "duration": 711,
    "start_time": "2023-01-26T12:02:01.227Z"
   },
   {
    "duration": 23,
    "start_time": "2023-01-26T12:02:01.941Z"
   },
   {
    "duration": 95,
    "start_time": "2023-01-26T12:02:01.966Z"
   },
   {
    "duration": 38,
    "start_time": "2023-01-26T12:02:02.063Z"
   },
   {
    "duration": 67,
    "start_time": "2023-01-26T12:02:02.103Z"
   },
   {
    "duration": 21,
    "start_time": "2023-01-26T12:02:02.172Z"
   },
   {
    "duration": 55,
    "start_time": "2023-01-26T12:02:02.195Z"
   },
   {
    "duration": 34,
    "start_time": "2023-01-26T12:02:02.252Z"
   },
   {
    "duration": 33,
    "start_time": "2023-01-26T12:02:02.288Z"
   },
   {
    "duration": 16,
    "start_time": "2023-01-26T12:02:02.323Z"
   },
   {
    "duration": 54,
    "start_time": "2023-01-26T12:02:02.341Z"
   },
   {
    "duration": 10,
    "start_time": "2023-01-26T12:02:02.397Z"
   },
   {
    "duration": 44,
    "start_time": "2023-01-26T12:02:02.408Z"
   },
   {
    "duration": 40,
    "start_time": "2023-01-26T12:02:02.454Z"
   },
   {
    "duration": 64,
    "start_time": "2023-01-26T12:02:02.496Z"
   },
   {
    "duration": 27,
    "start_time": "2023-01-26T12:02:02.561Z"
   },
   {
    "duration": 18,
    "start_time": "2023-01-26T12:02:02.590Z"
   },
   {
    "duration": 48,
    "start_time": "2023-01-26T12:02:02.610Z"
   },
   {
    "duration": 55,
    "start_time": "2023-01-26T12:02:02.660Z"
   },
   {
    "duration": 22,
    "start_time": "2023-01-26T12:02:02.717Z"
   },
   {
    "duration": 35,
    "start_time": "2023-01-26T12:02:02.741Z"
   },
   {
    "duration": 75,
    "start_time": "2023-01-26T12:02:02.778Z"
   },
   {
    "duration": 54,
    "start_time": "2023-01-26T12:02:02.854Z"
   },
   {
    "duration": 25,
    "start_time": "2023-01-26T12:02:02.909Z"
   },
   {
    "duration": 31,
    "start_time": "2023-01-26T12:02:02.936Z"
   },
   {
    "duration": 20,
    "start_time": "2023-01-26T12:02:14.604Z"
   },
   {
    "duration": 19,
    "start_time": "2023-01-26T12:02:31.943Z"
   },
   {
    "duration": 20,
    "start_time": "2023-01-26T12:02:38.018Z"
   },
   {
    "duration": 21,
    "start_time": "2023-01-26T12:02:42.190Z"
   },
   {
    "duration": 68,
    "start_time": "2023-01-26T12:04:38.981Z"
   },
   {
    "duration": 17,
    "start_time": "2023-01-26T12:04:40.672Z"
   },
   {
    "duration": 14,
    "start_time": "2023-01-26T12:04:42.752Z"
   },
   {
    "duration": 14,
    "start_time": "2023-01-26T12:17:51.411Z"
   },
   {
    "duration": 31,
    "start_time": "2023-01-26T12:19:20.937Z"
   },
   {
    "duration": 3,
    "start_time": "2023-01-26T12:19:25.402Z"
   },
   {
    "duration": 70,
    "start_time": "2023-01-26T12:19:29.832Z"
   },
   {
    "duration": 16,
    "start_time": "2023-01-26T12:19:29.904Z"
   },
   {
    "duration": 25,
    "start_time": "2023-01-26T12:19:29.921Z"
   },
   {
    "duration": 18,
    "start_time": "2023-01-26T12:19:29.949Z"
   },
   {
    "duration": 57,
    "start_time": "2023-01-26T12:19:29.969Z"
   },
   {
    "duration": 4,
    "start_time": "2023-01-26T12:19:30.028Z"
   },
   {
    "duration": 42,
    "start_time": "2023-01-26T12:19:30.034Z"
   },
   {
    "duration": 28,
    "start_time": "2023-01-26T12:19:30.078Z"
   },
   {
    "duration": 24,
    "start_time": "2023-01-26T12:19:30.108Z"
   },
   {
    "duration": 30,
    "start_time": "2023-01-26T12:19:30.135Z"
   },
   {
    "duration": 83,
    "start_time": "2023-01-26T12:19:30.167Z"
   },
   {
    "duration": 9,
    "start_time": "2023-01-26T12:19:30.252Z"
   },
   {
    "duration": 17,
    "start_time": "2023-01-26T12:19:30.263Z"
   },
   {
    "duration": 53,
    "start_time": "2023-01-26T12:19:30.282Z"
   },
   {
    "duration": 58,
    "start_time": "2023-01-26T12:19:30.337Z"
   },
   {
    "duration": 41,
    "start_time": "2023-01-26T12:19:30.397Z"
   },
   {
    "duration": 21,
    "start_time": "2023-01-26T12:19:30.440Z"
   },
   {
    "duration": 36,
    "start_time": "2023-01-26T12:19:30.463Z"
   },
   {
    "duration": 39,
    "start_time": "2023-01-26T12:19:30.501Z"
   },
   {
    "duration": 54,
    "start_time": "2023-01-26T12:19:30.542Z"
   },
   {
    "duration": 50,
    "start_time": "2023-01-26T12:19:30.597Z"
   },
   {
    "duration": 54,
    "start_time": "2023-01-26T12:19:30.650Z"
   },
   {
    "duration": 51,
    "start_time": "2023-01-26T12:19:30.706Z"
   },
   {
    "duration": 24,
    "start_time": "2023-01-26T12:19:30.759Z"
   },
   {
    "duration": 45,
    "start_time": "2023-01-26T12:19:30.785Z"
   },
   {
    "duration": 5,
    "start_time": "2023-01-26T12:37:58.074Z"
   },
   {
    "duration": 4,
    "start_time": "2023-01-26T12:40:09.669Z"
   },
   {
    "duration": 13,
    "start_time": "2023-01-26T12:40:13.316Z"
   },
   {
    "duration": 22,
    "start_time": "2023-01-26T12:40:13.993Z"
   },
   {
    "duration": 68,
    "start_time": "2023-01-26T12:40:19.846Z"
   },
   {
    "duration": 17,
    "start_time": "2023-01-26T12:40:19.916Z"
   },
   {
    "duration": 27,
    "start_time": "2023-01-26T12:40:19.935Z"
   },
   {
    "duration": 28,
    "start_time": "2023-01-26T12:40:19.965Z"
   },
   {
    "duration": 47,
    "start_time": "2023-01-26T12:40:19.995Z"
   },
   {
    "duration": 4,
    "start_time": "2023-01-26T12:40:20.044Z"
   },
   {
    "duration": 34,
    "start_time": "2023-01-26T12:40:20.049Z"
   },
   {
    "duration": 17,
    "start_time": "2023-01-26T12:40:20.084Z"
   },
   {
    "duration": 34,
    "start_time": "2023-01-26T12:40:20.103Z"
   },
   {
    "duration": 33,
    "start_time": "2023-01-26T12:40:20.140Z"
   },
   {
    "duration": 73,
    "start_time": "2023-01-26T12:40:20.175Z"
   },
   {
    "duration": 10,
    "start_time": "2023-01-26T12:40:20.249Z"
   },
   {
    "duration": 30,
    "start_time": "2023-01-26T12:40:20.261Z"
   },
   {
    "duration": 25,
    "start_time": "2023-01-26T12:40:20.293Z"
   },
   {
    "duration": 60,
    "start_time": "2023-01-26T12:40:20.320Z"
   },
   {
    "duration": 42,
    "start_time": "2023-01-26T12:40:20.382Z"
   },
   {
    "duration": 5,
    "start_time": "2023-01-26T12:40:20.426Z"
   },
   {
    "duration": 43,
    "start_time": "2023-01-26T12:40:20.433Z"
   },
   {
    "duration": 32,
    "start_time": "2023-01-26T12:40:20.478Z"
   },
   {
    "duration": 33,
    "start_time": "2023-01-26T12:40:20.512Z"
   },
   {
    "duration": 43,
    "start_time": "2023-01-26T12:40:20.547Z"
   },
   {
    "duration": 43,
    "start_time": "2023-01-26T12:40:20.592Z"
   },
   {
    "duration": 29,
    "start_time": "2023-01-26T12:40:20.637Z"
   },
   {
    "duration": 47,
    "start_time": "2023-01-26T12:40:20.669Z"
   },
   {
    "duration": 26,
    "start_time": "2023-01-26T12:40:20.718Z"
   },
   {
    "duration": 72,
    "start_time": "2023-01-26T12:46:14.763Z"
   },
   {
    "duration": 16,
    "start_time": "2023-01-26T12:46:14.837Z"
   },
   {
    "duration": 31,
    "start_time": "2023-01-26T12:46:14.855Z"
   },
   {
    "duration": 11,
    "start_time": "2023-01-26T12:46:14.888Z"
   },
   {
    "duration": 33,
    "start_time": "2023-01-26T12:46:14.901Z"
   },
   {
    "duration": 3,
    "start_time": "2023-01-26T12:46:14.936Z"
   },
   {
    "duration": 10,
    "start_time": "2023-01-26T12:46:14.941Z"
   },
   {
    "duration": 32,
    "start_time": "2023-01-26T12:46:14.953Z"
   },
   {
    "duration": 16,
    "start_time": "2023-01-26T12:46:14.986Z"
   },
   {
    "duration": 7,
    "start_time": "2023-01-26T12:46:15.004Z"
   },
   {
    "duration": 75,
    "start_time": "2023-01-26T12:46:15.012Z"
   },
   {
    "duration": 10,
    "start_time": "2023-01-26T12:46:15.089Z"
   },
   {
    "duration": 24,
    "start_time": "2023-01-26T12:46:15.101Z"
   },
   {
    "duration": 26,
    "start_time": "2023-01-26T12:46:15.127Z"
   },
   {
    "duration": 18,
    "start_time": "2023-01-26T12:46:15.154Z"
   },
   {
    "duration": 18,
    "start_time": "2023-01-26T12:46:15.174Z"
   },
   {
    "duration": 3,
    "start_time": "2023-01-26T12:46:15.194Z"
   },
   {
    "duration": 13,
    "start_time": "2023-01-26T12:46:15.199Z"
   },
   {
    "duration": 11,
    "start_time": "2023-01-26T12:46:15.213Z"
   },
   {
    "duration": 4,
    "start_time": "2023-01-26T12:46:15.226Z"
   },
   {
    "duration": 11,
    "start_time": "2023-01-26T12:46:15.232Z"
   },
   {
    "duration": 48,
    "start_time": "2023-01-26T12:46:15.244Z"
   },
   {
    "duration": 20,
    "start_time": "2023-01-26T12:46:15.293Z"
   },
   {
    "duration": 20,
    "start_time": "2023-01-26T12:46:15.315Z"
   },
   {
    "duration": 54,
    "start_time": "2023-01-26T12:46:15.336Z"
   },
   {
    "duration": 67,
    "start_time": "2023-01-26T12:49:04.182Z"
   },
   {
    "duration": 15,
    "start_time": "2023-01-26T12:49:04.250Z"
   },
   {
    "duration": 19,
    "start_time": "2023-01-26T12:49:04.266Z"
   },
   {
    "duration": 9,
    "start_time": "2023-01-26T12:49:04.287Z"
   },
   {
    "duration": 35,
    "start_time": "2023-01-26T12:49:04.298Z"
   },
   {
    "duration": 3,
    "start_time": "2023-01-26T12:49:04.335Z"
   },
   {
    "duration": 19,
    "start_time": "2023-01-26T12:49:04.339Z"
   },
   {
    "duration": 5,
    "start_time": "2023-01-26T12:49:04.361Z"
   },
   {
    "duration": 25,
    "start_time": "2023-01-26T12:49:04.382Z"
   },
   {
    "duration": 9,
    "start_time": "2023-01-26T12:49:04.410Z"
   },
   {
    "duration": 44,
    "start_time": "2023-01-26T12:49:04.421Z"
   },
   {
    "duration": 11,
    "start_time": "2023-01-26T12:49:04.467Z"
   },
   {
    "duration": 4,
    "start_time": "2023-01-26T12:49:04.481Z"
   },
   {
    "duration": 14,
    "start_time": "2023-01-26T12:49:04.486Z"
   },
   {
    "duration": 19,
    "start_time": "2023-01-26T12:49:04.501Z"
   },
   {
    "duration": 16,
    "start_time": "2023-01-26T12:49:04.522Z"
   },
   {
    "duration": 4,
    "start_time": "2023-01-26T12:49:04.540Z"
   },
   {
    "duration": 36,
    "start_time": "2023-01-26T12:49:04.545Z"
   },
   {
    "duration": 6,
    "start_time": "2023-01-26T12:49:04.583Z"
   },
   {
    "duration": 5,
    "start_time": "2023-01-26T12:49:04.591Z"
   },
   {
    "duration": 10,
    "start_time": "2023-01-26T12:49:04.597Z"
   },
   {
    "duration": 23,
    "start_time": "2023-01-26T12:49:04.609Z"
   },
   {
    "duration": 18,
    "start_time": "2023-01-26T12:49:04.633Z"
   },
   {
    "duration": 20,
    "start_time": "2023-01-26T12:49:04.682Z"
   },
   {
    "duration": 19,
    "start_time": "2023-01-26T12:49:04.704Z"
   },
   {
    "duration": 75,
    "start_time": "2023-01-26T12:49:31.259Z"
   },
   {
    "duration": 20,
    "start_time": "2023-01-26T12:49:31.336Z"
   },
   {
    "duration": 35,
    "start_time": "2023-01-26T12:49:31.383Z"
   },
   {
    "duration": 24,
    "start_time": "2023-01-26T12:49:31.421Z"
   },
   {
    "duration": 63,
    "start_time": "2023-01-26T12:49:31.447Z"
   },
   {
    "duration": 4,
    "start_time": "2023-01-26T12:49:31.512Z"
   },
   {
    "duration": 46,
    "start_time": "2023-01-26T12:49:31.518Z"
   },
   {
    "duration": 32,
    "start_time": "2023-01-26T12:49:31.566Z"
   },
   {
    "duration": 33,
    "start_time": "2023-01-26T12:49:31.600Z"
   },
   {
    "duration": 16,
    "start_time": "2023-01-26T12:49:31.635Z"
   },
   {
    "duration": 37,
    "start_time": "2023-01-26T12:49:31.653Z"
   },
   {
    "duration": 10,
    "start_time": "2023-01-26T12:49:31.692Z"
   },
   {
    "duration": 20,
    "start_time": "2023-01-26T12:49:31.703Z"
   },
   {
    "duration": 56,
    "start_time": "2023-01-26T12:49:31.725Z"
   },
   {
    "duration": 39,
    "start_time": "2023-01-26T12:49:31.783Z"
   },
   {
    "duration": 19,
    "start_time": "2023-01-26T12:49:31.824Z"
   },
   {
    "duration": 4,
    "start_time": "2023-01-26T12:49:31.844Z"
   },
   {
    "duration": 13,
    "start_time": "2023-01-26T12:49:31.850Z"
   },
   {
    "duration": 16,
    "start_time": "2023-01-26T12:49:31.865Z"
   },
   {
    "duration": 18,
    "start_time": "2023-01-26T12:49:31.883Z"
   },
   {
    "duration": 21,
    "start_time": "2023-01-26T12:49:31.903Z"
   },
   {
    "duration": 37,
    "start_time": "2023-01-26T12:49:31.927Z"
   },
   {
    "duration": 37,
    "start_time": "2023-01-26T12:49:31.966Z"
   },
   {
    "duration": 29,
    "start_time": "2023-01-26T12:49:32.005Z"
   },
   {
    "duration": 23,
    "start_time": "2023-01-26T12:49:32.036Z"
   },
   {
    "duration": 70,
    "start_time": "2023-01-26T12:51:01.936Z"
   },
   {
    "duration": 17,
    "start_time": "2023-01-26T12:51:02.008Z"
   },
   {
    "duration": 34,
    "start_time": "2023-01-26T12:51:02.026Z"
   },
   {
    "duration": 10,
    "start_time": "2023-01-26T12:51:02.063Z"
   },
   {
    "duration": 68,
    "start_time": "2023-01-26T12:51:02.074Z"
   },
   {
    "duration": 4,
    "start_time": "2023-01-26T12:51:02.144Z"
   },
   {
    "duration": 23,
    "start_time": "2023-01-26T12:51:02.150Z"
   },
   {
    "duration": 9,
    "start_time": "2023-01-26T12:51:02.174Z"
   },
   {
    "duration": 16,
    "start_time": "2023-01-26T12:51:02.184Z"
   },
   {
    "duration": 9,
    "start_time": "2023-01-26T12:51:02.203Z"
   },
   {
    "duration": 74,
    "start_time": "2023-01-26T12:51:02.213Z"
   },
   {
    "duration": 11,
    "start_time": "2023-01-26T12:51:02.289Z"
   },
   {
    "duration": 29,
    "start_time": "2023-01-26T12:51:02.302Z"
   },
   {
    "duration": 16,
    "start_time": "2023-01-26T12:51:02.333Z"
   },
   {
    "duration": 19,
    "start_time": "2023-01-26T12:51:02.352Z"
   },
   {
    "duration": 20,
    "start_time": "2023-01-26T12:51:02.372Z"
   },
   {
    "duration": 7,
    "start_time": "2023-01-26T12:51:02.394Z"
   },
   {
    "duration": 54,
    "start_time": "2023-01-26T12:51:02.402Z"
   },
   {
    "duration": 20,
    "start_time": "2023-01-26T12:51:02.457Z"
   },
   {
    "duration": 19,
    "start_time": "2023-01-26T12:51:02.479Z"
   },
   {
    "duration": 35,
    "start_time": "2023-01-26T12:51:02.500Z"
   },
   {
    "duration": 51,
    "start_time": "2023-01-26T12:51:02.537Z"
   },
   {
    "duration": 20,
    "start_time": "2023-01-26T12:51:02.590Z"
   },
   {
    "duration": 41,
    "start_time": "2023-01-26T12:51:02.613Z"
   },
   {
    "duration": 20,
    "start_time": "2023-01-26T12:51:02.656Z"
   },
   {
    "duration": 70,
    "start_time": "2023-01-26T14:09:00.777Z"
   },
   {
    "duration": 17,
    "start_time": "2023-01-26T14:09:00.850Z"
   },
   {
    "duration": 57,
    "start_time": "2023-01-26T14:09:00.869Z"
   },
   {
    "duration": 30,
    "start_time": "2023-01-26T14:09:00.929Z"
   },
   {
    "duration": 53,
    "start_time": "2023-01-26T14:09:00.960Z"
   },
   {
    "duration": 3,
    "start_time": "2023-01-26T14:09:01.015Z"
   },
   {
    "duration": 31,
    "start_time": "2023-01-26T14:09:01.020Z"
   },
   {
    "duration": 30,
    "start_time": "2023-01-26T14:09:01.053Z"
   },
   {
    "duration": 39,
    "start_time": "2023-01-26T14:09:01.085Z"
   },
   {
    "duration": 34,
    "start_time": "2023-01-26T14:09:01.127Z"
   },
   {
    "duration": 59,
    "start_time": "2023-01-26T14:09:01.163Z"
   },
   {
    "duration": 10,
    "start_time": "2023-01-26T14:09:01.223Z"
   },
   {
    "duration": 51,
    "start_time": "2023-01-26T14:09:01.235Z"
   },
   {
    "duration": 35,
    "start_time": "2023-01-26T14:09:01.288Z"
   },
   {
    "duration": 39,
    "start_time": "2023-01-26T14:09:01.325Z"
   },
   {
    "duration": 38,
    "start_time": "2023-01-26T14:09:01.366Z"
   },
   {
    "duration": 34,
    "start_time": "2023-01-26T14:09:01.406Z"
   },
   {
    "duration": 52,
    "start_time": "2023-01-26T14:09:01.442Z"
   },
   {
    "duration": 39,
    "start_time": "2023-01-26T14:09:01.495Z"
   },
   {
    "duration": 39,
    "start_time": "2023-01-26T14:09:01.536Z"
   },
   {
    "duration": 30,
    "start_time": "2023-01-26T14:09:01.577Z"
   },
   {
    "duration": 47,
    "start_time": "2023-01-26T14:09:01.609Z"
   },
   {
    "duration": 51,
    "start_time": "2023-01-26T14:09:01.658Z"
   },
   {
    "duration": 45,
    "start_time": "2023-01-26T14:09:01.711Z"
   },
   {
    "duration": 68,
    "start_time": "2023-01-26T14:09:01.758Z"
   },
   {
    "duration": 538,
    "start_time": "2023-01-27T06:20:03.322Z"
   },
   {
    "duration": 22,
    "start_time": "2023-01-27T06:20:03.862Z"
   },
   {
    "duration": 15,
    "start_time": "2023-01-27T06:20:03.886Z"
   },
   {
    "duration": 16,
    "start_time": "2023-01-27T06:20:03.903Z"
   },
   {
    "duration": 52,
    "start_time": "2023-01-27T06:20:03.920Z"
   },
   {
    "duration": 3,
    "start_time": "2023-01-27T06:20:03.973Z"
   },
   {
    "duration": 20,
    "start_time": "2023-01-27T06:20:03.977Z"
   },
   {
    "duration": 11,
    "start_time": "2023-01-27T06:20:03.998Z"
   },
   {
    "duration": 13,
    "start_time": "2023-01-27T06:20:04.010Z"
   },
   {
    "duration": 11,
    "start_time": "2023-01-27T06:20:04.025Z"
   },
   {
    "duration": 38,
    "start_time": "2023-01-27T06:20:04.037Z"
   },
   {
    "duration": 8,
    "start_time": "2023-01-27T06:20:04.077Z"
   },
   {
    "duration": 9,
    "start_time": "2023-01-27T06:20:04.087Z"
   },
   {
    "duration": 16,
    "start_time": "2023-01-27T06:20:04.098Z"
   },
   {
    "duration": 24,
    "start_time": "2023-01-27T06:20:04.116Z"
   },
   {
    "duration": 16,
    "start_time": "2023-01-27T06:20:04.142Z"
   },
   {
    "duration": 4,
    "start_time": "2023-01-27T06:20:04.159Z"
   },
   {
    "duration": 13,
    "start_time": "2023-01-27T06:20:04.164Z"
   },
   {
    "duration": 6,
    "start_time": "2023-01-27T06:20:04.178Z"
   },
   {
    "duration": 4,
    "start_time": "2023-01-27T06:20:04.185Z"
   },
   {
    "duration": 49,
    "start_time": "2023-01-27T06:20:04.210Z"
   },
   {
    "duration": 27,
    "start_time": "2023-01-27T06:20:04.260Z"
   },
   {
    "duration": 20,
    "start_time": "2023-01-27T06:20:04.288Z"
   },
   {
    "duration": 20,
    "start_time": "2023-01-27T06:20:04.310Z"
   },
   {
    "duration": 21,
    "start_time": "2023-01-27T06:20:04.331Z"
   },
   {
    "duration": 110,
    "start_time": "2023-01-27T06:22:57.435Z"
   }
  ],
  "colab": {
   "provenance": []
  },
  "kernelspec": {
   "display_name": "Python 3 (ipykernel)",
   "language": "python",
   "name": "python3"
  },
  "language_info": {
   "codemirror_mode": {
    "name": "ipython",
    "version": 3
   },
   "file_extension": ".py",
   "mimetype": "text/x-python",
   "name": "python",
   "nbconvert_exporter": "python",
   "pygments_lexer": "ipython3",
   "version": "3.9.5"
  },
  "toc": {
   "base_numbering": 1,
   "nav_menu": {},
   "number_sections": true,
   "sideBar": true,
   "skip_h1_title": true,
   "title_cell": "Table of Contents",
   "title_sidebar": "Contents",
   "toc_cell": false,
   "toc_position": {},
   "toc_section_display": true,
   "toc_window_display": false
  }
 },
 "nbformat": 4,
 "nbformat_minor": 5
}
