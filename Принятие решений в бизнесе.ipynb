{
 "cells": [
  {
   "cell_type": "markdown",
   "metadata": {},
   "source": [
    "<div style=\"border:solid Chocolate 2px; padding: 40px\">\n",
    "\n",
    "Сергей, привет, меня зовут Станислав Коротченко, и я буду проверять твой проект. Предлагаю общаться на «ты», но если это неудобно - дай знать, и мы перейдем на «вы».\n",
    "Это учебный проект и здесь не стоит бояться делать ошибки, я хочу поделиться своим опытом и помочь тебе стать аналитиком данных.\n",
    "Уже выполнена большая работа над проектом, давай сделаем его еще лучше. Ниже ты найдешь мои комментарии - пожалуйста, не перемещай, не изменяй и не удаляй их. Я буду использовать цветовую разметку:\n",
    "\n",
    "<div class=\"alert alert-danger\">\n",
    "<b>Комментарий с замечанием ревьюера:</b> Так выделены самые важные замечания. Как только ты их исправишь проект будет принят. </div>\n",
    "\n",
    "<div class=\"alert alert-warning\">\n",
    "<b>Комментарий с небольшим замечанием или советом ревьюера:</b> Так выделены небольшие замечания или советы. \n",
    "</div>\n",
    "\n",
    "<div class=\"alert alert-success\">\n",
    "<b>Комментарий с комплиментом ревьюера:</b> Так я выделяю все остальные комментарии.</div>\n",
    "\n",
    "Давай работать над проектом в диалоге: если ты что-то меняешь в проекте или отвечаешь на мои комментарии — пиши об этом.\n",
    "Мне будет легче отследить изменения, если ты выделишь свои комментарии:\n",
    "<div class=\"alert alert-info\"> <b>Комментарий студента:</b> Например, вот так.</div>\n",
    "\n",
    "Всё это поможет выполнить повторную проверку твоего проекта оперативнее.\n",
    "</div>\n"
   ]
  },
  {
   "cell_type": "markdown",
   "metadata": {},
   "source": [
    "<div style=\"border:solid Chocolate 2px; padding: 40px\">\n",
    "\n",
    "# Общий вывод ревьюера\n",
    "\n",
    "<div class=\"alert alert-success\">\n",
    "\n",
    "Проделана хорошая аналитическая работа. Код написан чисто, соблюдена структура проекта, графики оформлены корректно и написаны логичные и обоснованные выводы. Проект выполнен на хорошем аналитическом уровне, поэтому замечаний не много. Я отметил в проекте моменты, на которые необходимо обратить внимание, исправь их и проект будет принят.\n",
    "\n",
    "- по ссылкам ниже интересные материалы по А/В тестам\n",
    "  \n",
    "    \n",
    "https://habr.com/ru/company/avito/blog/571094/\n",
    "\n",
    "https://habr.com/ru/company/yandex/blog/476826/\n",
    "\n",
    "https://academy.yandex.ru/journal/kak-provesti-a-b-testirovanie-6-prostykh-shagov\n",
    "\n",
    "https://habr.com/ru/company/yandex/blog/342704/\n",
    "\n",
    "https://r-analytics.blogspot.com/2013/10/blog-post_13.html \n",
    "\n",
    "</div>\n",
    "\n",
    "<div class=\"alert alert-danger\">\n",
    "\n",
    "- добавь, пожалуйста, формулировку нулевой и альтернативной гипотез\n",
    "</div>\n",
    "\n",
    "\n"
   ]
  },
  {
   "cell_type": "markdown",
   "metadata": {},
   "source": [
    "<div class=\"alert alert-info\"> <b>Привет, Станислав! Спасибо за проверку и оценку моего проекта!</b> .</div>\n"
   ]
  },
  {
   "cell_type": "markdown",
   "metadata": {},
   "source": [
    "<div style=\"border:solid Chocolate 2px; padding: 40px\">\n",
    "\n",
    "# Общий вывод ревьюера в2\n",
    "\n",
    "<div class=\"alert alert-success\">\n",
    "\n",
    "Отлично, замечания исправлены корректно, работу принимаю и желаю успеха в следующих проектах"
   ]
  },
  {
   "cell_type": "markdown",
   "metadata": {},
   "source": [
    "# Принятие решений в бизнесе"
   ]
  },
  {
   "cell_type": "markdown",
   "metadata": {},
   "source": [
    "### Цель проекта\n",
    "- Приоритизировать гипотезы\n",
    "\n",
    "- запустить A/B-тест\n",
    "\n",
    "- проанализировать результаты. "
   ]
  },
  {
   "cell_type": "markdown",
   "metadata": {},
   "source": [
    "### Описание полученных данных\n",
    "- Данные по гипотезам (Файл: hypothesis.csv)\n",
    "\n",
    "Hypothesis — краткое описание гипотезы;\n",
    "\n",
    "Reach — охват пользователей по 10-балльной шкале;\n",
    "\n",
    "Impact — влияние на пользователей по 10-балльной шкале;\n",
    "\n",
    "Confidence — уверенность в гипотезе по 10-балльной шкале;\n",
    "\n",
    "Efforts — затраты ресурсов на проверку гипотезы по 10-балльной шкале. Чем больше значение Efforts, тем дороже проверка гипотезы.\n",
    "\n",
    "- Датасет заказов интернет-магазина (Файл: orders.csv)\n",
    "\n",
    "transactionId — идентификатор заказа;\n",
    "\n",
    "visitorId — идентификатор пользователя, совершившего заказ;\n",
    "\n",
    "date — дата, когда был совершён заказ;\n",
    "\n",
    "revenue — выручка заказа;\n",
    "\n",
    "group — группа A/B-теста, в которую попал заказ.\n",
    "\n",
    "- Датасет посещения посетителей интернет-магазина (Файл: visitors.csv)\n",
    "\n",
    "date — дата;\n",
    "\n",
    "group — группа A/B-теста;\n",
    "\n",
    "visitors — количество пользователей в указанную дату в указанной группе A/B-теста"
   ]
  },
  {
   "cell_type": "markdown",
   "metadata": {},
   "source": [
    "### Ход исследования\n",
    "- Провека данных на полноту, предобработка и анализ\n",
    "\n",
    "\n",
    "- Приоритизация гипотез.\n",
    "\n",
    "\n",
    "\n",
    "- Анализ A/B-теста\n"
   ]
  },
  {
   "cell_type": "markdown",
   "metadata": {},
   "source": [
    "<div class=\"alert alert-success\">\n",
    "<b>Комментарий с комплиментом ревьюера:</b> \n",
    "    \n",
    "Здорово, что описана цель проекта, описаны данные и выделено содержание.\n"
   ]
  },
  {
   "cell_type": "markdown",
   "metadata": {},
   "source": [
    "## Проверка данных и их предобработка"
   ]
  },
  {
   "cell_type": "code",
   "execution_count": 1,
   "metadata": {},
   "outputs": [],
   "source": [
    "# добавим библиотеки библиотек\n",
    "\n",
    "import pandas as pd\n",
    "import numpy as np\n",
    "import matplotlib.pyplot as plt\n",
    "import seaborn as sns\n",
    "import math\n",
    "import datetime as dt\n",
    "import scipy.stats as stats\n",
    "import warnings\n",
    "\n",
    "from scipy import stats as st"
   ]
  },
  {
   "cell_type": "code",
   "execution_count": 2,
   "metadata": {},
   "outputs": [],
   "source": [
    "# прочитаем исходные файлы Заказчика\n",
    "try:\n",
    "    hypothesis, orders, visitors = (\n",
    "        pd.read_csv('/datasets/hypothesis.csv'),\n",
    "        pd.read_csv('/datasets/orders.csv'),\n",
    "        pd.read_csv('/datasets/visitors.csv')\n",
    "    )\n",
    "\n",
    "\n",
    "except:\n",
    "    hypothesis, orders, visitors = (\n",
    "        pd.read_csv('hypothesis.csv'),\n",
    "        pd.read_csv('orders.csv'),\n",
    "        pd.read_csv('visitors.csv')\n",
    "    )"
   ]
  },
  {
   "cell_type": "code",
   "execution_count": 3,
   "metadata": {
    "scrolled": true
   },
   "outputs": [
    {
     "name": "stdout",
     "output_type": "stream",
     "text": [
      "<class 'pandas.core.frame.DataFrame'>\n",
      "RangeIndex: 9 entries, 0 to 8\n",
      "Data columns (total 5 columns):\n",
      " #   Column      Non-Null Count  Dtype \n",
      "---  ------      --------------  ----- \n",
      " 0   Hypothesis  9 non-null      object\n",
      " 1   Reach       9 non-null      int64 \n",
      " 2   Impact      9 non-null      int64 \n",
      " 3   Confidence  9 non-null      int64 \n",
      " 4   Efforts     9 non-null      int64 \n",
      "dtypes: int64(4), object(1)\n",
      "memory usage: 488.0+ bytes\n"
     ]
    },
    {
     "data": {
      "text/html": [
       "<div>\n",
       "<style scoped>\n",
       "    .dataframe tbody tr th:only-of-type {\n",
       "        vertical-align: middle;\n",
       "    }\n",
       "\n",
       "    .dataframe tbody tr th {\n",
       "        vertical-align: top;\n",
       "    }\n",
       "\n",
       "    .dataframe thead th {\n",
       "        text-align: right;\n",
       "    }\n",
       "</style>\n",
       "<table border=\"1\" class=\"dataframe\">\n",
       "  <thead>\n",
       "    <tr style=\"text-align: right;\">\n",
       "      <th></th>\n",
       "      <th>Hypothesis</th>\n",
       "      <th>Reach</th>\n",
       "      <th>Impact</th>\n",
       "      <th>Confidence</th>\n",
       "      <th>Efforts</th>\n",
       "    </tr>\n",
       "  </thead>\n",
       "  <tbody>\n",
       "    <tr>\n",
       "      <th>0</th>\n",
       "      <td>Добавить два новых канала привлечения трафика,...</td>\n",
       "      <td>3</td>\n",
       "      <td>10</td>\n",
       "      <td>8</td>\n",
       "      <td>6</td>\n",
       "    </tr>\n",
       "    <tr>\n",
       "      <th>1</th>\n",
       "      <td>Запустить собственную службу доставки, что сок...</td>\n",
       "      <td>2</td>\n",
       "      <td>5</td>\n",
       "      <td>4</td>\n",
       "      <td>10</td>\n",
       "    </tr>\n",
       "    <tr>\n",
       "      <th>2</th>\n",
       "      <td>Добавить блоки рекомендаций товаров на сайт ин...</td>\n",
       "      <td>8</td>\n",
       "      <td>3</td>\n",
       "      <td>7</td>\n",
       "      <td>3</td>\n",
       "    </tr>\n",
       "    <tr>\n",
       "      <th>3</th>\n",
       "      <td>Изменить структура категорий, что увеличит кон...</td>\n",
       "      <td>8</td>\n",
       "      <td>3</td>\n",
       "      <td>3</td>\n",
       "      <td>8</td>\n",
       "    </tr>\n",
       "    <tr>\n",
       "      <th>4</th>\n",
       "      <td>Изменить цвет фона главной страницы, чтобы уве...</td>\n",
       "      <td>3</td>\n",
       "      <td>1</td>\n",
       "      <td>1</td>\n",
       "      <td>1</td>\n",
       "    </tr>\n",
       "    <tr>\n",
       "      <th>5</th>\n",
       "      <td>Добавить страницу отзывов клиентов о магазине,...</td>\n",
       "      <td>3</td>\n",
       "      <td>2</td>\n",
       "      <td>2</td>\n",
       "      <td>3</td>\n",
       "    </tr>\n",
       "    <tr>\n",
       "      <th>6</th>\n",
       "      <td>Показать на главной странице баннеры с актуаль...</td>\n",
       "      <td>5</td>\n",
       "      <td>3</td>\n",
       "      <td>8</td>\n",
       "      <td>3</td>\n",
       "    </tr>\n",
       "    <tr>\n",
       "      <th>7</th>\n",
       "      <td>Добавить форму подписки на все основные страни...</td>\n",
       "      <td>10</td>\n",
       "      <td>7</td>\n",
       "      <td>8</td>\n",
       "      <td>5</td>\n",
       "    </tr>\n",
       "    <tr>\n",
       "      <th>8</th>\n",
       "      <td>Запустить акцию, дающую скидку на товар в день...</td>\n",
       "      <td>1</td>\n",
       "      <td>9</td>\n",
       "      <td>9</td>\n",
       "      <td>5</td>\n",
       "    </tr>\n",
       "  </tbody>\n",
       "</table>\n",
       "</div>"
      ],
      "text/plain": [
       "                                          Hypothesis  Reach  Impact  \\\n",
       "0  Добавить два новых канала привлечения трафика,...      3      10   \n",
       "1  Запустить собственную службу доставки, что сок...      2       5   \n",
       "2  Добавить блоки рекомендаций товаров на сайт ин...      8       3   \n",
       "3  Изменить структура категорий, что увеличит кон...      8       3   \n",
       "4  Изменить цвет фона главной страницы, чтобы уве...      3       1   \n",
       "5  Добавить страницу отзывов клиентов о магазине,...      3       2   \n",
       "6  Показать на главной странице баннеры с актуаль...      5       3   \n",
       "7  Добавить форму подписки на все основные страни...     10       7   \n",
       "8  Запустить акцию, дающую скидку на товар в день...      1       9   \n",
       "\n",
       "   Confidence  Efforts  \n",
       "0           8        6  \n",
       "1           4       10  \n",
       "2           7        3  \n",
       "3           3        8  \n",
       "4           1        1  \n",
       "5           2        3  \n",
       "6           8        3  \n",
       "7           8        5  \n",
       "8           9        5  "
      ]
     },
     "execution_count": 3,
     "metadata": {},
     "output_type": "execute_result"
    }
   ],
   "source": [
    "#Проанализируем данные о гипотезах\n",
    "\n",
    "hypothesis.info()\n",
    "hypothesis"
   ]
  },
  {
   "cell_type": "markdown",
   "metadata": {},
   "source": [
    "<div class=\"alert alert-warning\">\n",
    "<b>Комментарий с советом ревьюера:</b> \n",
    "    \n",
    "Чтобы названия гипотез выводились целиком, используй настройку pd.set_option('display.max_colwidth', False)\n",
    " </div>\n"
   ]
  },
  {
   "cell_type": "code",
   "execution_count": 4,
   "metadata": {},
   "outputs": [
    {
     "name": "stdout",
     "output_type": "stream",
     "text": [
      "<class 'pandas.core.frame.DataFrame'>\n",
      "RangeIndex: 1197 entries, 0 to 1196\n",
      "Data columns (total 5 columns):\n",
      " #   Column         Non-Null Count  Dtype \n",
      "---  ------         --------------  ----- \n",
      " 0   transactionId  1197 non-null   int64 \n",
      " 1   visitorId      1197 non-null   int64 \n",
      " 2   date           1197 non-null   object\n",
      " 3   revenue        1197 non-null   int64 \n",
      " 4   group          1197 non-null   object\n",
      "dtypes: int64(3), object(2)\n",
      "memory usage: 46.9+ KB\n"
     ]
    },
    {
     "data": {
      "text/html": [
       "<div>\n",
       "<style scoped>\n",
       "    .dataframe tbody tr th:only-of-type {\n",
       "        vertical-align: middle;\n",
       "    }\n",
       "\n",
       "    .dataframe tbody tr th {\n",
       "        vertical-align: top;\n",
       "    }\n",
       "\n",
       "    .dataframe thead th {\n",
       "        text-align: right;\n",
       "    }\n",
       "</style>\n",
       "<table border=\"1\" class=\"dataframe\">\n",
       "  <thead>\n",
       "    <tr style=\"text-align: right;\">\n",
       "      <th></th>\n",
       "      <th>transactionId</th>\n",
       "      <th>visitorId</th>\n",
       "      <th>date</th>\n",
       "      <th>revenue</th>\n",
       "      <th>group</th>\n",
       "    </tr>\n",
       "  </thead>\n",
       "  <tbody>\n",
       "    <tr>\n",
       "      <th>0</th>\n",
       "      <td>3667963787</td>\n",
       "      <td>3312258926</td>\n",
       "      <td>2019-08-15</td>\n",
       "      <td>1650</td>\n",
       "      <td>B</td>\n",
       "    </tr>\n",
       "    <tr>\n",
       "      <th>1</th>\n",
       "      <td>2804400009</td>\n",
       "      <td>3642806036</td>\n",
       "      <td>2019-08-15</td>\n",
       "      <td>730</td>\n",
       "      <td>B</td>\n",
       "    </tr>\n",
       "    <tr>\n",
       "      <th>2</th>\n",
       "      <td>2961555356</td>\n",
       "      <td>4069496402</td>\n",
       "      <td>2019-08-15</td>\n",
       "      <td>400</td>\n",
       "      <td>A</td>\n",
       "    </tr>\n",
       "    <tr>\n",
       "      <th>3</th>\n",
       "      <td>3797467345</td>\n",
       "      <td>1196621759</td>\n",
       "      <td>2019-08-15</td>\n",
       "      <td>9759</td>\n",
       "      <td>B</td>\n",
       "    </tr>\n",
       "    <tr>\n",
       "      <th>4</th>\n",
       "      <td>2282983706</td>\n",
       "      <td>2322279887</td>\n",
       "      <td>2019-08-15</td>\n",
       "      <td>2308</td>\n",
       "      <td>B</td>\n",
       "    </tr>\n",
       "    <tr>\n",
       "      <th>...</th>\n",
       "      <td>...</td>\n",
       "      <td>...</td>\n",
       "      <td>...</td>\n",
       "      <td>...</td>\n",
       "      <td>...</td>\n",
       "    </tr>\n",
       "    <tr>\n",
       "      <th>1192</th>\n",
       "      <td>2662137336</td>\n",
       "      <td>3733762160</td>\n",
       "      <td>2019-08-14</td>\n",
       "      <td>6490</td>\n",
       "      <td>B</td>\n",
       "    </tr>\n",
       "    <tr>\n",
       "      <th>1193</th>\n",
       "      <td>2203539145</td>\n",
       "      <td>370388673</td>\n",
       "      <td>2019-08-14</td>\n",
       "      <td>3190</td>\n",
       "      <td>A</td>\n",
       "    </tr>\n",
       "    <tr>\n",
       "      <th>1194</th>\n",
       "      <td>1807773912</td>\n",
       "      <td>573423106</td>\n",
       "      <td>2019-08-14</td>\n",
       "      <td>10550</td>\n",
       "      <td>A</td>\n",
       "    </tr>\n",
       "    <tr>\n",
       "      <th>1195</th>\n",
       "      <td>1947021204</td>\n",
       "      <td>1614305549</td>\n",
       "      <td>2019-08-14</td>\n",
       "      <td>100</td>\n",
       "      <td>A</td>\n",
       "    </tr>\n",
       "    <tr>\n",
       "      <th>1196</th>\n",
       "      <td>3936777065</td>\n",
       "      <td>2108080724</td>\n",
       "      <td>2019-08-15</td>\n",
       "      <td>202740</td>\n",
       "      <td>B</td>\n",
       "    </tr>\n",
       "  </tbody>\n",
       "</table>\n",
       "<p>1197 rows × 5 columns</p>\n",
       "</div>"
      ],
      "text/plain": [
       "      transactionId   visitorId        date  revenue group\n",
       "0        3667963787  3312258926  2019-08-15     1650     B\n",
       "1        2804400009  3642806036  2019-08-15      730     B\n",
       "2        2961555356  4069496402  2019-08-15      400     A\n",
       "3        3797467345  1196621759  2019-08-15     9759     B\n",
       "4        2282983706  2322279887  2019-08-15     2308     B\n",
       "...             ...         ...         ...      ...   ...\n",
       "1192     2662137336  3733762160  2019-08-14     6490     B\n",
       "1193     2203539145   370388673  2019-08-14     3190     A\n",
       "1194     1807773912   573423106  2019-08-14    10550     A\n",
       "1195     1947021204  1614305549  2019-08-14      100     A\n",
       "1196     3936777065  2108080724  2019-08-15   202740     B\n",
       "\n",
       "[1197 rows x 5 columns]"
      ]
     },
     "execution_count": 4,
     "metadata": {},
     "output_type": "execute_result"
    }
   ],
   "source": [
    "#Проанализируем данные о заказах\n",
    "orders.info()\n",
    "orders"
   ]
  },
  {
   "cell_type": "code",
   "execution_count": 5,
   "metadata": {},
   "outputs": [
    {
     "name": "stdout",
     "output_type": "stream",
     "text": [
      "<class 'pandas.core.frame.DataFrame'>\n",
      "RangeIndex: 62 entries, 0 to 61\n",
      "Data columns (total 3 columns):\n",
      " #   Column    Non-Null Count  Dtype \n",
      "---  ------    --------------  ----- \n",
      " 0   date      62 non-null     object\n",
      " 1   group     62 non-null     object\n",
      " 2   visitors  62 non-null     int64 \n",
      "dtypes: int64(1), object(2)\n",
      "memory usage: 1.6+ KB\n"
     ]
    },
    {
     "data": {
      "text/html": [
       "<div>\n",
       "<style scoped>\n",
       "    .dataframe tbody tr th:only-of-type {\n",
       "        vertical-align: middle;\n",
       "    }\n",
       "\n",
       "    .dataframe tbody tr th {\n",
       "        vertical-align: top;\n",
       "    }\n",
       "\n",
       "    .dataframe thead th {\n",
       "        text-align: right;\n",
       "    }\n",
       "</style>\n",
       "<table border=\"1\" class=\"dataframe\">\n",
       "  <thead>\n",
       "    <tr style=\"text-align: right;\">\n",
       "      <th></th>\n",
       "      <th>date</th>\n",
       "      <th>group</th>\n",
       "      <th>visitors</th>\n",
       "    </tr>\n",
       "  </thead>\n",
       "  <tbody>\n",
       "    <tr>\n",
       "      <th>0</th>\n",
       "      <td>2019-08-01</td>\n",
       "      <td>A</td>\n",
       "      <td>719</td>\n",
       "    </tr>\n",
       "    <tr>\n",
       "      <th>1</th>\n",
       "      <td>2019-08-02</td>\n",
       "      <td>A</td>\n",
       "      <td>619</td>\n",
       "    </tr>\n",
       "    <tr>\n",
       "      <th>2</th>\n",
       "      <td>2019-08-03</td>\n",
       "      <td>A</td>\n",
       "      <td>507</td>\n",
       "    </tr>\n",
       "    <tr>\n",
       "      <th>3</th>\n",
       "      <td>2019-08-04</td>\n",
       "      <td>A</td>\n",
       "      <td>717</td>\n",
       "    </tr>\n",
       "    <tr>\n",
       "      <th>4</th>\n",
       "      <td>2019-08-05</td>\n",
       "      <td>A</td>\n",
       "      <td>756</td>\n",
       "    </tr>\n",
       "    <tr>\n",
       "      <th>...</th>\n",
       "      <td>...</td>\n",
       "      <td>...</td>\n",
       "      <td>...</td>\n",
       "    </tr>\n",
       "    <tr>\n",
       "      <th>57</th>\n",
       "      <td>2019-08-27</td>\n",
       "      <td>B</td>\n",
       "      <td>720</td>\n",
       "    </tr>\n",
       "    <tr>\n",
       "      <th>58</th>\n",
       "      <td>2019-08-28</td>\n",
       "      <td>B</td>\n",
       "      <td>654</td>\n",
       "    </tr>\n",
       "    <tr>\n",
       "      <th>59</th>\n",
       "      <td>2019-08-29</td>\n",
       "      <td>B</td>\n",
       "      <td>531</td>\n",
       "    </tr>\n",
       "    <tr>\n",
       "      <th>60</th>\n",
       "      <td>2019-08-30</td>\n",
       "      <td>B</td>\n",
       "      <td>490</td>\n",
       "    </tr>\n",
       "    <tr>\n",
       "      <th>61</th>\n",
       "      <td>2019-08-31</td>\n",
       "      <td>B</td>\n",
       "      <td>718</td>\n",
       "    </tr>\n",
       "  </tbody>\n",
       "</table>\n",
       "<p>62 rows × 3 columns</p>\n",
       "</div>"
      ],
      "text/plain": [
       "          date group  visitors\n",
       "0   2019-08-01     A       719\n",
       "1   2019-08-02     A       619\n",
       "2   2019-08-03     A       507\n",
       "3   2019-08-04     A       717\n",
       "4   2019-08-05     A       756\n",
       "..         ...   ...       ...\n",
       "57  2019-08-27     B       720\n",
       "58  2019-08-28     B       654\n",
       "59  2019-08-29     B       531\n",
       "60  2019-08-30     B       490\n",
       "61  2019-08-31     B       718\n",
       "\n",
       "[62 rows x 3 columns]"
      ]
     },
     "execution_count": 5,
     "metadata": {},
     "output_type": "execute_result"
    }
   ],
   "source": [
    "#Проанализируем данные о посетителях\n",
    "\n",
    "visitors.info()\n",
    "visitors"
   ]
  },
  {
   "cell_type": "markdown",
   "metadata": {},
   "source": [
    "#### Выводы:\n",
    "Проанализировав исходные данные, мы видим, что пропусков нет. Тип данных в столбцах не корректный, к примеру тип данных даты записан как object. Проверим данные на наличие дубликатов и приведем все наименования столбцов к единому стилю и нижнему регистру."
   ]
  },
  {
   "cell_type": "markdown",
   "metadata": {},
   "source": [
    "## Предобработка данных"
   ]
  },
  {
   "cell_type": "code",
   "execution_count": 6,
   "metadata": {},
   "outputs": [
    {
     "data": {
      "text/plain": [
       "Index(['hypothesis', 'reach', 'impact', 'confidence', 'efforts'], dtype='object')"
      ]
     },
     "metadata": {},
     "output_type": "display_data"
    },
    {
     "data": {
      "text/plain": [
       "Index(['transaction_id', 'visitor_id', 'date', 'revenue', 'group'], dtype='object')"
      ]
     },
     "execution_count": 6,
     "metadata": {},
     "output_type": "execute_result"
    }
   ],
   "source": [
    "# приведем к единому стилю\n",
    "\n",
    "hypothesis.columns = hypothesis.columns.str.lower()\n",
    "orders.columns = [name.replace('Id', '_id') for name in orders.columns]\n",
    "\n",
    "display(hypothesis.columns)\n",
    "orders.columns"
   ]
  },
  {
   "cell_type": "code",
   "execution_count": 7,
   "metadata": {},
   "outputs": [],
   "source": [
    "#поменяем столбцы где фигурируют даты к верному формату\n",
    "\n",
    "visitors['date'] = pd.to_datetime(visitors['date'])\n",
    "orders['date'] = pd.to_datetime(orders['date'])"
   ]
  },
  {
   "cell_type": "code",
   "execution_count": 8,
   "metadata": {},
   "outputs": [
    {
     "data": {
      "text/plain": [
       "0"
      ]
     },
     "metadata": {},
     "output_type": "display_data"
    },
    {
     "data": {
      "text/plain": [
       "0"
      ]
     },
     "metadata": {},
     "output_type": "display_data"
    },
    {
     "data": {
      "text/plain": [
       "0"
      ]
     },
     "metadata": {},
     "output_type": "display_data"
    }
   ],
   "source": [
    "# проверим данные на наличие дубликатов\n",
    "\n",
    "display(hypothesis.duplicated().sum())\n",
    "display(visitors.duplicated().sum())\n",
    "display(orders.duplicated().sum())"
   ]
  },
  {
   "cell_type": "markdown",
   "metadata": {},
   "source": [
    "<div class=\"alert alert-success\">\n",
    "<b>Комментарий с комплиментом ревьюера:</b>\n",
    "    \n",
    "Данные корректно подготовлены к работе.\n",
    "</div>\n"
   ]
  },
  {
   "cell_type": "markdown",
   "metadata": {},
   "source": [
    "<div class=\"alert alert-warning\">\n",
    "<b>Комментарий с советом ревьюера:</b>\n",
    "\n",
    "Чтобы лучше изучить данные можешь посмотреть:\n",
    "\n",
    "-  сколько у нас групп в АВ-тесте;\n",
    "-  даты начала и окончания теста; \n",
    "-  не попадают ли какие-то пользователи в обе группы - по таблице с заказами. \n",
    " \n",
    "</div>\n"
   ]
  },
  {
   "cell_type": "markdown",
   "metadata": {},
   "source": [
    "## Приоритизация гипотез\n"
   ]
  },
  {
   "cell_type": "markdown",
   "metadata": {},
   "source": [
    "Применим фреймворк ICE для приоритизации гипотез. Отсортируем их по убыванию приоритета."
   ]
  },
  {
   "cell_type": "code",
   "execution_count": 9,
   "metadata": {},
   "outputs": [
    {
     "data": {
      "text/html": [
       "<div>\n",
       "<style scoped>\n",
       "    .dataframe tbody tr th:only-of-type {\n",
       "        vertical-align: middle;\n",
       "    }\n",
       "\n",
       "    .dataframe tbody tr th {\n",
       "        vertical-align: top;\n",
       "    }\n",
       "\n",
       "    .dataframe thead th {\n",
       "        text-align: right;\n",
       "    }\n",
       "</style>\n",
       "<table border=\"1\" class=\"dataframe\">\n",
       "  <thead>\n",
       "    <tr style=\"text-align: right;\">\n",
       "      <th></th>\n",
       "      <th>hypothesis</th>\n",
       "      <th>ice</th>\n",
       "    </tr>\n",
       "  </thead>\n",
       "  <tbody>\n",
       "    <tr>\n",
       "      <th>8</th>\n",
       "      <td>Запустить акцию, дающую скидку на товар в день...</td>\n",
       "      <td>16.200000</td>\n",
       "    </tr>\n",
       "    <tr>\n",
       "      <th>0</th>\n",
       "      <td>Добавить два новых канала привлечения трафика,...</td>\n",
       "      <td>13.333333</td>\n",
       "    </tr>\n",
       "    <tr>\n",
       "      <th>7</th>\n",
       "      <td>Добавить форму подписки на все основные страни...</td>\n",
       "      <td>11.200000</td>\n",
       "    </tr>\n",
       "    <tr>\n",
       "      <th>6</th>\n",
       "      <td>Показать на главной странице баннеры с актуаль...</td>\n",
       "      <td>8.000000</td>\n",
       "    </tr>\n",
       "    <tr>\n",
       "      <th>2</th>\n",
       "      <td>Добавить блоки рекомендаций товаров на сайт ин...</td>\n",
       "      <td>7.000000</td>\n",
       "    </tr>\n",
       "  </tbody>\n",
       "</table>\n",
       "</div>"
      ],
      "text/plain": [
       "                                          hypothesis        ice\n",
       "8  Запустить акцию, дающую скидку на товар в день...  16.200000\n",
       "0  Добавить два новых канала привлечения трафика,...  13.333333\n",
       "7  Добавить форму подписки на все основные страни...  11.200000\n",
       "6  Показать на главной странице баннеры с актуаль...   8.000000\n",
       "2  Добавить блоки рекомендаций товаров на сайт ин...   7.000000"
      ]
     },
     "execution_count": 9,
     "metadata": {},
     "output_type": "execute_result"
    }
   ],
   "source": [
    "hypothesis['ice'] = hypothesis['impact'] * hypothesis['confidence'] / hypothesis['efforts']\n",
    "\n",
    "hypothesis[['hypothesis', 'ice']].sort_values(by='ice', ascending=False).head(5)"
   ]
  },
  {
   "cell_type": "markdown",
   "metadata": {},
   "source": [
    "<div class=\"alert alert-warning\">\n",
    "<b>Комментарий с советом ревьюера:</b> \n",
    "\n",
    "Для удобства можно округлить значения в колонке ICE до 2 знаков после запятой. \n",
    "</div>\n"
   ]
  },
  {
   "cell_type": "markdown",
   "metadata": {},
   "source": [
    "Составлен список ТОП-5 гипотез которым надо уделить основное внимание."
   ]
  },
  {
   "cell_type": "markdown",
   "metadata": {},
   "source": [
    "Применим фреймворк RICE для приоритизации гипотез. Отсортируем их по убыванию приоритета."
   ]
  },
  {
   "cell_type": "code",
   "execution_count": 10,
   "metadata": {},
   "outputs": [
    {
     "data": {
      "text/html": [
       "<div>\n",
       "<style scoped>\n",
       "    .dataframe tbody tr th:only-of-type {\n",
       "        vertical-align: middle;\n",
       "    }\n",
       "\n",
       "    .dataframe tbody tr th {\n",
       "        vertical-align: top;\n",
       "    }\n",
       "\n",
       "    .dataframe thead th {\n",
       "        text-align: right;\n",
       "    }\n",
       "</style>\n",
       "<table border=\"1\" class=\"dataframe\">\n",
       "  <thead>\n",
       "    <tr style=\"text-align: right;\">\n",
       "      <th></th>\n",
       "      <th>hypothesis</th>\n",
       "      <th>rice</th>\n",
       "    </tr>\n",
       "  </thead>\n",
       "  <tbody>\n",
       "    <tr>\n",
       "      <th>7</th>\n",
       "      <td>Добавить форму подписки на все основные страни...</td>\n",
       "      <td>112.0</td>\n",
       "    </tr>\n",
       "    <tr>\n",
       "      <th>2</th>\n",
       "      <td>Добавить блоки рекомендаций товаров на сайт ин...</td>\n",
       "      <td>56.0</td>\n",
       "    </tr>\n",
       "    <tr>\n",
       "      <th>0</th>\n",
       "      <td>Добавить два новых канала привлечения трафика,...</td>\n",
       "      <td>40.0</td>\n",
       "    </tr>\n",
       "    <tr>\n",
       "      <th>6</th>\n",
       "      <td>Показать на главной странице баннеры с актуаль...</td>\n",
       "      <td>40.0</td>\n",
       "    </tr>\n",
       "    <tr>\n",
       "      <th>8</th>\n",
       "      <td>Запустить акцию, дающую скидку на товар в день...</td>\n",
       "      <td>16.2</td>\n",
       "    </tr>\n",
       "  </tbody>\n",
       "</table>\n",
       "</div>"
      ],
      "text/plain": [
       "                                          hypothesis   rice\n",
       "7  Добавить форму подписки на все основные страни...  112.0\n",
       "2  Добавить блоки рекомендаций товаров на сайт ин...   56.0\n",
       "0  Добавить два новых канала привлечения трафика,...   40.0\n",
       "6  Показать на главной странице баннеры с актуаль...   40.0\n",
       "8  Запустить акцию, дающую скидку на товар в день...   16.2"
      ]
     },
     "execution_count": 10,
     "metadata": {},
     "output_type": "execute_result"
    }
   ],
   "source": [
    "hypothesis['rice'] = hypothesis['reach'] * hypothesis['impact'] * hypothesis['confidence'] / hypothesis['efforts']\n",
    "\n",
    "hypothesis[['hypothesis', 'rice']].sort_values(by='rice', ascending=False).head(5)"
   ]
  },
  {
   "cell_type": "markdown",
   "metadata": {},
   "source": [
    "Применив фреймворк RICE для приоритизации гипотез мы видим, что гипотезы выстраились в точности до наоборот. Но все теже входят в  ТОП 5."
   ]
  },
  {
   "cell_type": "markdown",
   "metadata": {},
   "source": [
    "Укажите, как изменилась приоритизация гипотез при применении RICE вместо ICE."
   ]
  },
  {
   "cell_type": "code",
   "execution_count": 11,
   "metadata": {},
   "outputs": [
    {
     "data": {
      "text/html": [
       "<div>\n",
       "<style scoped>\n",
       "    .dataframe tbody tr th:only-of-type {\n",
       "        vertical-align: middle;\n",
       "    }\n",
       "\n",
       "    .dataframe tbody tr th {\n",
       "        vertical-align: top;\n",
       "    }\n",
       "\n",
       "    .dataframe thead th {\n",
       "        text-align: right;\n",
       "    }\n",
       "</style>\n",
       "<table border=\"1\" class=\"dataframe\">\n",
       "  <thead>\n",
       "    <tr style=\"text-align: right;\">\n",
       "      <th></th>\n",
       "      <th>hypothesis</th>\n",
       "      <th>ice</th>\n",
       "      <th>rice</th>\n",
       "    </tr>\n",
       "  </thead>\n",
       "  <tbody>\n",
       "    <tr>\n",
       "      <th>7</th>\n",
       "      <td>Добавить форму подписки на все основные страни...</td>\n",
       "      <td>11.200000</td>\n",
       "      <td>112.0</td>\n",
       "    </tr>\n",
       "    <tr>\n",
       "      <th>2</th>\n",
       "      <td>Добавить блоки рекомендаций товаров на сайт ин...</td>\n",
       "      <td>7.000000</td>\n",
       "      <td>56.0</td>\n",
       "    </tr>\n",
       "    <tr>\n",
       "      <th>0</th>\n",
       "      <td>Добавить два новых канала привлечения трафика,...</td>\n",
       "      <td>13.333333</td>\n",
       "      <td>40.0</td>\n",
       "    </tr>\n",
       "    <tr>\n",
       "      <th>6</th>\n",
       "      <td>Показать на главной странице баннеры с актуаль...</td>\n",
       "      <td>8.000000</td>\n",
       "      <td>40.0</td>\n",
       "    </tr>\n",
       "    <tr>\n",
       "      <th>8</th>\n",
       "      <td>Запустить акцию, дающую скидку на товар в день...</td>\n",
       "      <td>16.200000</td>\n",
       "      <td>16.2</td>\n",
       "    </tr>\n",
       "  </tbody>\n",
       "</table>\n",
       "</div>"
      ],
      "text/plain": [
       "                                          hypothesis        ice   rice\n",
       "7  Добавить форму подписки на все основные страни...  11.200000  112.0\n",
       "2  Добавить блоки рекомендаций товаров на сайт ин...   7.000000   56.0\n",
       "0  Добавить два новых канала привлечения трафика,...  13.333333   40.0\n",
       "6  Показать на главной странице баннеры с актуаль...   8.000000   40.0\n",
       "8  Запустить акцию, дающую скидку на товар в день...  16.200000   16.2"
      ]
     },
     "execution_count": 11,
     "metadata": {},
     "output_type": "execute_result"
    }
   ],
   "source": [
    "hypothesis[['hypothesis','ice', 'rice']].sort_values(by='rice', ascending=False).head(5)"
   ]
  },
  {
   "cell_type": "markdown",
   "metadata": {},
   "source": [
    "Топ гипотез по ICE - 8,0 и 7. \n",
    "\n",
    "Топ гипотез по RICE - 7,2 и 0. \n",
    "\n",
    "ICE в отличии от RICE не учитывает охват изменений, но это важная оценка гипотезы. Исходя из этого, в нашем случае приоритетными будут гипотезы 7,2,0."
   ]
  },
  {
   "cell_type": "markdown",
   "metadata": {},
   "source": [
    "<div class=\"alert alert-success\">\n",
    "<b>Комментарий с комплиментом ревьюера:</b>\n",
    "    \n",
    "Гипотезы проанализированы верно, молодец.\n",
    "\n",
    "Здорово, что указано на изменение приоритетов при учете охвата.\n",
    "</div>\n"
   ]
  },
  {
   "cell_type": "markdown",
   "metadata": {},
   "source": [
    "## Анализ A/B Теста\n"
   ]
  },
  {
   "cell_type": "markdown",
   "metadata": {},
   "source": [
    "Построим график кумулятивной выручки по группам. Сделайте выводы и предположения."
   ]
  },
  {
   "cell_type": "code",
   "execution_count": 12,
   "metadata": {},
   "outputs": [
    {
     "data": {
      "text/html": [
       "<div>\n",
       "<style scoped>\n",
       "    .dataframe tbody tr th:only-of-type {\n",
       "        vertical-align: middle;\n",
       "    }\n",
       "\n",
       "    .dataframe tbody tr th {\n",
       "        vertical-align: top;\n",
       "    }\n",
       "\n",
       "    .dataframe thead th {\n",
       "        text-align: right;\n",
       "    }\n",
       "</style>\n",
       "<table border=\"1\" class=\"dataframe\">\n",
       "  <thead>\n",
       "    <tr style=\"text-align: right;\">\n",
       "      <th></th>\n",
       "      <th>date</th>\n",
       "      <th>group</th>\n",
       "      <th>orders</th>\n",
       "      <th>buyers</th>\n",
       "      <th>revenue</th>\n",
       "      <th>visitors</th>\n",
       "    </tr>\n",
       "  </thead>\n",
       "  <tbody>\n",
       "    <tr>\n",
       "      <th>0</th>\n",
       "      <td>2019-08-01</td>\n",
       "      <td>A</td>\n",
       "      <td>24</td>\n",
       "      <td>20</td>\n",
       "      <td>148579</td>\n",
       "      <td>719</td>\n",
       "    </tr>\n",
       "    <tr>\n",
       "      <th>1</th>\n",
       "      <td>2019-08-01</td>\n",
       "      <td>B</td>\n",
       "      <td>21</td>\n",
       "      <td>20</td>\n",
       "      <td>101217</td>\n",
       "      <td>713</td>\n",
       "    </tr>\n",
       "    <tr>\n",
       "      <th>2</th>\n",
       "      <td>2019-08-02</td>\n",
       "      <td>A</td>\n",
       "      <td>44</td>\n",
       "      <td>38</td>\n",
       "      <td>242401</td>\n",
       "      <td>1338</td>\n",
       "    </tr>\n",
       "    <tr>\n",
       "      <th>3</th>\n",
       "      <td>2019-08-02</td>\n",
       "      <td>B</td>\n",
       "      <td>45</td>\n",
       "      <td>43</td>\n",
       "      <td>266748</td>\n",
       "      <td>1294</td>\n",
       "    </tr>\n",
       "    <tr>\n",
       "      <th>4</th>\n",
       "      <td>2019-08-03</td>\n",
       "      <td>A</td>\n",
       "      <td>68</td>\n",
       "      <td>62</td>\n",
       "      <td>354874</td>\n",
       "      <td>1845</td>\n",
       "    </tr>\n",
       "  </tbody>\n",
       "</table>\n",
       "</div>"
      ],
      "text/plain": [
       "        date group  orders  buyers  revenue  visitors\n",
       "0 2019-08-01     A      24      20   148579       719\n",
       "1 2019-08-01     B      21      20   101217       713\n",
       "2 2019-08-02     A      44      38   242401      1338\n",
       "3 2019-08-02     B      45      43   266748      1294\n",
       "4 2019-08-03     A      68      62   354874      1845"
      ]
     },
     "execution_count": 12,
     "metadata": {},
     "output_type": "execute_result"
    }
   ],
   "source": [
    "#уникальные значения дат и групп\n",
    "datesGroups = orders [['date', 'group']].drop_duplicates()\n",
    "\n",
    "#кумулятивные показатели orders\n",
    "ordersAggregated = datesGroups.apply(lambda x: orders[np.logical_and(orders['date'] <= x['date'], orders['group'] == x['group'])]\\\n",
    ".agg({'date' : 'max', 'group' : 'max', 'transaction_id' : 'nunique', 'visitor_id' : 'nunique', 'revenue' : 'sum'}), axis=1).sort_values(by=['date','group'])\n",
    "\n",
    "#кумулятивные показатели visitors\n",
    "visitorsAggregated = datesGroups.apply(lambda x: visitors[np.logical_and(visitors['date'] <= x['date'], visitors['group'] == x['group'])].agg({'date' : 'max', 'group' : 'max', 'visitors' : 'sum'}), axis=1).sort_values(by=['date','group']) \n",
    "cumulativeData = ordersAggregated.merge(visitorsAggregated, left_on=['date', 'group'], right_on=['date', 'group'])\n",
    "cumulativeData.columns = ['date', 'group', 'orders', 'buyers', 'revenue', 'visitors']\n",
    "\n",
    "cumulativeData.head(5)"
   ]
  },
  {
   "cell_type": "code",
   "execution_count": 13,
   "metadata": {},
   "outputs": [
    {
     "data": {
      "image/png": "[encoded data removed]",
      "text/plain": [
       "<Figure size 1152x432 with 1 Axes>"
      ]
     },
     "metadata": {
      "needs_background": "light"
     },
     "output_type": "display_data"
    }
   ],
   "source": [
    "cumulativeDataA = cumulativeData[cumulativeData['group']=='A']\n",
    "cumulativeDataB = cumulativeData[cumulativeData['group']=='B']\n",
    "plt.figure(figsize=(16,6))\n",
    "plt.plot(cumulativeDataA['date'], cumulativeDataA['revenue'], label = 'A')\n",
    "plt.plot(cumulativeDataB['date'], cumulativeDataB['revenue'], label = 'B')\n",
    "\n",
    "plt.ylabel('Выручка')\n",
    "plt.xlabel('Временной период')\n",
    "plt.title('Кумулятивная выручка по группам A/B')\n",
    "plt.legend()\n",
    "plt.show()"
   ]
  },
  {
   "cell_type": "markdown",
   "metadata": {},
   "source": [
    "На графике видно, что группа B показывает большую выручку чем группа А."
   ]
  },
  {
   "cell_type": "markdown",
   "metadata": {},
   "source": [
    "<div class=\"alert alert-success\">\n",
    "<b>Комментарий с комплиментом ревьюера:</b>\n",
    "    \n",
    "Верно\n",
    "</div>\n"
   ]
  },
  {
   "cell_type": "markdown",
   "metadata": {},
   "source": [
    "Построим график кумулятивного среднего чека по группам."
   ]
  },
  {
   "cell_type": "code",
   "execution_count": 14,
   "metadata": {},
   "outputs": [
    {
     "data": {
      "image/png": "[encoded data removed]",
      "text/plain": [
       "<Figure size 1152x432 with 1 Axes>"
      ]
     },
     "metadata": {
      "needs_background": "light"
     },
     "output_type": "display_data"
    }
   ],
   "source": [
    "plt.figure(figsize=(16,6))\n",
    "plt.plot(cumulativeDataA['date'], cumulativeDataA['revenue']/cumulativeDataA['orders'], label = 'A')\n",
    "plt.plot(cumulativeDataB['date'], cumulativeDataB['revenue']/cumulativeDataB['orders'], label = 'B')\n",
    "\n",
    "plt.title('Средний чек по группам A/B')\n",
    "plt.ylabel('Средний чек')\n",
    "plt.xlabel('Временной период')\n",
    "plt.legend()\n",
    "plt.show()"
   ]
  },
  {
   "cell_type": "markdown",
   "metadata": {},
   "source": [
    "По началу графики показывают нам, что ср.чек группы B был выше А, но в середине временного отрезка идет высокий скачек группы B вверх, произойти это могло из-за большого заказа или же мы сталкнулись с аномалиями."
   ]
  },
  {
   "cell_type": "markdown",
   "metadata": {},
   "source": [
    "<div class=\"alert alert-success\">\n",
    "<b>Комментарий с комплиментом ревьюера:</b>\n",
    "    \n",
    "График интерпретирован верно, здорово, что выдвинуто предположение природы появления всплеска.\n",
    "</div>\n"
   ]
  },
  {
   "cell_type": "markdown",
   "metadata": {},
   "source": [
    "Построим график относительного изменения кумулятивного среднего чека группы B к группе A."
   ]
  },
  {
   "cell_type": "code",
   "execution_count": 15,
   "metadata": {},
   "outputs": [
    {
     "data": {
      "image/png": "[encoded data removed]",
      "text/plain": [
       "<Figure size 1152x432 with 1 Axes>"
      ]
     },
     "metadata": {
      "needs_background": "light"
     },
     "output_type": "display_data"
    }
   ],
   "source": [
    "generalCumulativeData = cumulativeDataA.merge(cumulativeDataB, left_on='date', right_on='date', suffixes=['A', 'B'])\n",
    "\n",
    "plt.figure(figsize=(16,6))\n",
    "plt.plot(generalCumulativeData['date'], ((generalCumulativeData['revenueB']/generalCumulativeData['ordersB'])/(generalCumulativeData['revenueA']/generalCumulativeData['ordersA'])-1))\n",
    "plt.axhline(y=0, color='black', linestyle = '--')\n",
    "\n",
    "plt.title('Изменения кумулятивного среднего чека группы B к группе A')\n",
    "plt.xlabel('Временной период')\n",
    "plt.show()"
   ]
  },
  {
   "cell_type": "markdown",
   "metadata": {},
   "source": [
    "График скачет в нескольких точках,при этом скачки слишком резкие, предполагаем что это все таки большие заказы либо аномалии."
   ]
  },
  {
   "cell_type": "markdown",
   "metadata": {},
   "source": [
    "<div class=\"alert alert-success\">\n",
    "<b>Комментарий с комплиментом ревьюера:</b>\n",
    "    \n",
    "Сначала средний чек группы B стабильно растет, потом резко падает и снова растет. Согласен, влияние крупных заказов.   \n",
    "</div>\n"
   ]
  },
  {
   "cell_type": "markdown",
   "metadata": {},
   "source": [
    "Построим график кумулятивного среднего количества заказов на посетителя по группам."
   ]
  },
  {
   "cell_type": "code",
   "execution_count": 16,
   "metadata": {},
   "outputs": [
    {
     "data": {
      "image/png": "[encoded data removed]",
      "text/plain": [
       "<Figure size 1152x432 with 1 Axes>"
      ]
     },
     "metadata": {
      "needs_background": "light"
     },
     "output_type": "display_data"
    }
   ],
   "source": [
    "generalCumulativeData['conversionA'] =  generalCumulativeData['ordersA'] / generalCumulativeData['visitorsA'] \n",
    "generalCumulativeData['conversionB'] =  generalCumulativeData['ordersB'] / generalCumulativeData['visitorsB']\n",
    "\n",
    "plt.figure(figsize=(16,6))\n",
    "plt.plot(generalCumulativeData['date'], generalCumulativeData['conversionA'], label='A')\n",
    "plt.plot(generalCumulativeData['date'], generalCumulativeData['conversionB'], label='B')\n",
    "\n",
    "plt.title('График среднего количества заказов по группам A/B')\n",
    "plt.xlabel('Временной интервал')\n",
    "plt.ylabel('Ср.кол заказов')\n",
    "plt.legend()\n",
    "plt.show()"
   ]
  },
  {
   "cell_type": "markdown",
   "metadata": {},
   "source": [
    "Группа B показывает большие результаты, чем группа А."
   ]
  },
  {
   "cell_type": "markdown",
   "metadata": {},
   "source": [
    "\n",
    "<div class=\"alert alert-success\">\n",
    "<b>Комментарий с комплиментом ревьюера:</b>\n",
    "    \n",
    "Все верно, среднее количество заказов группы В продолжает выигрывать до конца.  \n",
    "    \n",
    "Как ты считаешь: была ли стабилизация результатов или нет?    \n",
    "</div>\n"
   ]
  },
  {
   "cell_type": "markdown",
   "metadata": {},
   "source": [
    "Постройте график относительного изменения кумулятивного среднего количества заказов на посетителя группы B к группе A."
   ]
  },
  {
   "cell_type": "code",
   "execution_count": 17,
   "metadata": {},
   "outputs": [
    {
     "data": {
      "image/png": "[encoded data removed]",
      "text/plain": [
       "<Figure size 1152x432 with 1 Axes>"
      ]
     },
     "metadata": {
      "needs_background": "light"
     },
     "output_type": "display_data"
    }
   ],
   "source": [
    "plt.figure(figsize=(16,6))\n",
    "plt.plot(generalCumulativeData['date'], ((generalCumulativeData['conversionB']/generalCumulativeData['conversionA'])-1))\n",
    "\n",
    "plt.title('График относительного изменения кумулятивного среднего количества заказов на посетителя группы B к группе A.')\n",
    "plt.axhline(y=0, color='red', linestyle='--')\n",
    "plt.axhline(y=0.1, color='grey', linestyle='--')\n",
    "plt.xlabel('Временной интервал')\n",
    "plt.show()"
   ]
  },
  {
   "cell_type": "markdown",
   "metadata": {},
   "source": [
    "С 1 авгста по 5 количество заказов \"A\" было больше на 5-10% кроме  2 августа - был сильный рост конверсии в группе \"B\" и по итогу дня результат \"B\" был на 5% больше \"A\"\n",
    "\n",
    "Начиная с 6 августа группа \"B\" лидировала до конца периода. Рост был до 15 августа и разница с \"A\" на максимуме был 21%, после снизился до 10%-14%.*"
   ]
  },
  {
   "cell_type": "markdown",
   "metadata": {},
   "source": [
    "<div class=\"alert alert-success\">\n",
    "<b>Комментарий с комплиментом ревьюера:</b>\n",
    "    \n",
    "Все верно, здорово, что для анализа была использована axhline.\n"
   ]
  },
  {
   "cell_type": "markdown",
   "metadata": {},
   "source": [
    "Построим точечный график количества заказов по пользователям."
   ]
  },
  {
   "cell_type": "code",
   "execution_count": 18,
   "metadata": {},
   "outputs": [
    {
     "data": {
      "text/plain": [
       "count    1031.000000\n",
       "mean        1.161009\n",
       "std         0.724919\n",
       "min         1.000000\n",
       "25%         1.000000\n",
       "50%         1.000000\n",
       "75%         1.000000\n",
       "max        11.000000\n",
       "Name: orders, dtype: float64"
      ]
     },
     "metadata": {},
     "output_type": "display_data"
    },
    {
     "data": {
      "image/png": "[encoded data removed]",
      "text/plain": [
       "<Figure size 1152x432 with 1 Axes>"
      ]
     },
     "metadata": {
      "needs_background": "light"
     },
     "output_type": "display_data"
    }
   ],
   "source": [
    "plt.figure(figsize=(16,6))\n",
    "orders_by_users = (\n",
    "    orders.groupby('visitor_id', as_index=False)\n",
    "    .agg({'transaction_id': 'nunique'})\n",
    ")\n",
    "orders_by_users.columns =  ['visitor_id', 'orders']\n",
    "display(orders_by_users['orders'].describe())\n",
    "\n",
    "# строим гистограмму\n",
    "plt.hist(orders_by_users['orders'], alpha=0.5) \n",
    "plt.title('Распределение количества заказов по пользователям')\n",
    "plt.xlabel('Количество заказов')\n",
    "plt.ylabel('Количество пользователей')\n",
    "plt.show()"
   ]
  },
  {
   "cell_type": "markdown",
   "metadata": {},
   "source": [
    "Большинсво делают по 1 заказу, есть пользователь который заказывал 11 заказов"
   ]
  },
  {
   "cell_type": "code",
   "execution_count": 19,
   "metadata": {},
   "outputs": [
    {
     "data": {
      "image/png": "[encoded data removed]",
      "text/plain": [
       "<Figure size 1152x432 with 1 Axes>"
      ]
     },
     "metadata": {
      "needs_background": "light"
     },
     "output_type": "display_data"
    }
   ],
   "source": [
    "plt.figure(figsize=(16,6))\n",
    "x_values = pd.Series(range(0,len(orders_by_users)))\n",
    "\n",
    "# строим точечную диаграмму\n",
    "plt.scatter(x_values, orders_by_users['orders'], color='red', alpha=0.5)\n",
    "plt.title('Заказы по пользователям')\n",
    "plt.show()"
   ]
  },
  {
   "cell_type": "markdown",
   "metadata": {},
   "source": [
    "Исходя из графиков, большинство пользователей не делают более 2 заказов"
   ]
  },
  {
   "cell_type": "markdown",
   "metadata": {},
   "source": [
    "<div class=\"alert alert-success\">\n",
    "<b>Комментарий с комплиментом ревьюера:</b>\n",
    "\n",
    "Отличный анализ, можно предположить, что граница нормальных и аномальных пользователей проходит примерно на уровне 3-4 заказа на одного пользователя.\n",
    "<div>\n"
   ]
  },
  {
   "cell_type": "markdown",
   "metadata": {},
   "source": [
    "Посчитайте 95-й и 99-й перцентили количества заказов на пользователя. Выберите границу для определения аномальных пользователей."
   ]
  },
  {
   "cell_type": "code",
   "execution_count": 20,
   "metadata": {},
   "outputs": [
    {
     "data": {
      "text/plain": [
       "array([2., 4.])"
      ]
     },
     "execution_count": 20,
     "metadata": {},
     "output_type": "execute_result"
    }
   ],
   "source": [
    "np.percentile(orders_by_users['orders'], [95, 99])"
   ]
  },
  {
   "cell_type": "markdown",
   "metadata": {},
   "source": [
    "Не более 5% совершали больше 2-х покупок в течение теста. Только 1% - четыре и более покупок."
   ]
  },
  {
   "cell_type": "markdown",
   "metadata": {},
   "source": [
    "<div class=\"alert alert-warning\">\n",
    "<b>Комментарий с небольшим замечанием ревьюера:</b>\n",
    "    \n",
    "Согласно заданию, здесь надо выбрать нижнюю границу числа заказов.\n",
    " \n",
    "</div>\n"
   ]
  },
  {
   "cell_type": "markdown",
   "metadata": {},
   "source": [
    "<div class=\"alert alert-info\"> <b>\n",
    "Для установления критерия к аномальным пользователям мы выбрали нижнию границу числа заказов = 2</b> .</div>\n"
   ]
  },
  {
   "cell_type": "markdown",
   "metadata": {},
   "source": [
    "<div class=\"alert alert-success\">\n",
    "<b>Комментарий с комплиментом ревьюера в2:</b> \n",
    "    \n",
    "Отлично"
   ]
  },
  {
   "cell_type": "markdown",
   "metadata": {},
   "source": [
    "Постройте точечный график стоимостей заказов. Сделайте выводы и предположения."
   ]
  },
  {
   "cell_type": "code",
   "execution_count": 21,
   "metadata": {},
   "outputs": [
    {
     "data": {
      "image/png": "[encoded data removed]",
      "text/plain": [
       "<Figure size 1152x432 with 1 Axes>"
      ]
     },
     "metadata": {
      "needs_background": "light"
     },
     "output_type": "display_data"
    }
   ],
   "source": [
    "#Изучим стоимость заказов.\n",
    "\n",
    "x_values = pd.Series(range(0, len(orders)))\n",
    "plt.figure(figsize=(16,6))\n",
    "plt.scatter(x_values, orders['revenue'])\n",
    "plt.title('Точечный график стоимостей заказов')\n",
    "plt.axis([0, 1000, 0, 190000])\n",
    "plt.show()"
   ]
  },
  {
   "cell_type": "markdown",
   "metadata": {},
   "source": [
    "По графику видно , что большая часть заказов, не превышает 25 000 рублей."
   ]
  },
  {
   "cell_type": "markdown",
   "metadata": {},
   "source": [
    "<div class=\"alert alert-success\">\n",
    "<b>Комментарий с комплиментом ревьюера:</b>\n",
    "    \n",
    "График построен правильно, видны аномалии. Можно добавить еще один график, ограничив значения по оси Y, чтобы мы могли рассмотреть основную часть заказов. </div>\n"
   ]
  },
  {
   "cell_type": "markdown",
   "metadata": {},
   "source": [
    "Посчитаем 95-й и 99-й перцентили стоимости заказов. Выберем границу для определения аномальных заказов."
   ]
  },
  {
   "cell_type": "code",
   "execution_count": 22,
   "metadata": {},
   "outputs": [
    {
     "name": "stdout",
     "output_type": "stream",
     "text": [
      "[28000.  58233.2]\n"
     ]
    }
   ],
   "source": [
    "print(np.percentile(orders['revenue'] , [95, 99]))"
   ]
  },
  {
   "cell_type": "markdown",
   "metadata": {},
   "source": [
    "Всего 5% заказов дороже 28000 и 1% дороже 58233,2."
   ]
  },
  {
   "cell_type": "markdown",
   "metadata": {},
   "source": [
    "\n",
    "<div class=\"alert alert-warning\">\n",
    "<b>Комментарий с небольшим замечанием ревьюера:</b>\n",
    "    \n",
    "Согласно заданию, здесь надо выбрать нижнюю границу стоимости заказов.\n",
    " \n",
    "</div>\n"
   ]
  },
  {
   "cell_type": "markdown",
   "metadata": {},
   "source": [
    "<div class=\"alert alert-info\"> <b>\n",
    "Для установления критерия к аномальным пользователям мы выбрали нижнию границу стоимости заказов = 28 000</b> .</div>\n"
   ]
  },
  {
   "cell_type": "markdown",
   "metadata": {},
   "source": [
    "<div class=\"alert alert-success\">\n",
    "<b>Комментарий с комплиментом ревьюера в2:</b> \n",
    "    \n",
    "Отлично"
   ]
  },
  {
   "cell_type": "markdown",
   "metadata": {},
   "source": [
    "**Анализ статистической значимости**"
   ]
  },
  {
   "cell_type": "markdown",
   "metadata": {},
   "source": [
    "Посчитаем статистическую значимость различий в среднем количестве заказов на посетителя между группами по «сырым» данным. Сделайте выводы и предположения."
   ]
  },
  {
   "cell_type": "code",
   "execution_count": 23,
   "metadata": {},
   "outputs": [
    {
     "name": "stdout",
     "output_type": "stream",
     "text": [
      "Покупатели группы A: 503\n",
      "Покупки А: 557\n",
      "Посетители A: 18736\n",
      "\n",
      "Покупатели группы B: 586\n",
      "Покупки B: 640\n",
      "Посетители B: 18916\n"
     ]
    }
   ],
   "source": [
    "ordersByUsersA = orders[orders['group']=='A'].groupby('visitor_id', as_index=False).agg({'transaction_id':'nunique'})\n",
    "ordersByUsersA.columns = ['visitor_id', 'orders']\n",
    "\n",
    "ordersByUsersB = orders[orders['group']=='B'].groupby('visitor_id', as_index=False).agg({'transaction_id':'nunique'})\n",
    "ordersByUsersB.columns = ['visitor_id', 'orders']\n",
    "\n",
    "print('Покупатели группы A: {}'.format(len(ordersByUsersA)))\n",
    "print('Покупки А: {}'.format(ordersByUsersA['orders'].sum()))\n",
    "print('Посетители A: {}\\n'.format(visitors[visitors['group']=='A']['visitors'].sum()))\n",
    "\n",
    "print('Покупатели группы B: {}'.format(len(ordersByUsersB)))\n",
    "print('Покупки B: {}'.format(ordersByUsersB['orders'].sum()))\n",
    "print('Посетители B: {}'.format(visitors[visitors['group']=='B']['visitors'].sum()))\n",
    "\n"
   ]
  },
  {
   "cell_type": "markdown",
   "metadata": {},
   "source": [
    "<div class=\"alert alert-danger\">\n",
    "<b>Комментарий с замечанием:</b> \n",
    "    \n",
    "Сформулируй, пожалуйста, нулевую и альтернативную гипотезы.\n",
    " \n",
    "</div>\n"
   ]
  },
  {
   "cell_type": "markdown",
   "metadata": {},
   "source": [
    "<div class=\"alert alert-info\"> <b>\n",
    "Это я посчтиал списки групп, к этому заданию статистическая значимость чуть ниже.\n",
    "    \n",
    "Прирост конверсии группы B к группе A: 0.138\n",
    "P-value: 0.016792355056752608\n",
    "По \"сырым\" данным разница статистически значима между групп А и В    </b> .</div>\n"
   ]
  },
  {
   "cell_type": "markdown",
   "metadata": {},
   "source": [
    "<div class=\"alert alert-warning\">\n",
    "<b>Комментарий с советом ревьюера:</b>\n",
    "    \n",
    "Вместе с формулировкой гипотез необходимо задать значение alpha и указать какой метод будешь использовать для проверки гипотез.\n",
    "</div>\n"
   ]
  },
  {
   "cell_type": "markdown",
   "metadata": {},
   "source": [
    "<div class=\"alert alert-info\"> <b>\n",
    "Для расчета р-value применял напараметрический тест Уилкоксона-Манна-Уитни, так как в анализе были выбросы.\n",
    "    \n",
    "Так же формировании нулевой и альтернативную гипотезы.  Порогом статистической значимости устанавливал alpha=0.05</b> .</div>\n"
   ]
  },
  {
   "cell_type": "markdown",
   "metadata": {},
   "source": [
    "<div class=\"alert alert-success\">\n",
    "<b>Комментарий с комплиментом ревьюера в2:</b> \n",
    "    \n",
    "Отлично"
   ]
  },
  {
   "cell_type": "code",
   "execution_count": 24,
   "metadata": {},
   "outputs": [
    {
     "name": "stdout",
     "output_type": "stream",
     "text": [
      "\n",
      " Прирост конверсии группы B к группе A: 0.138\n",
      "P-value: 0.016792355056752608\n",
      "По \"сырым\" данным разница статистически значима между групп А и В\n"
     ]
    }
   ],
   "source": [
    "#составим списки кол-ва заказов sampleA и sampleB по всем пользователям \n",
    "list_orders_1 =[]\n",
    "for i in range(0,(visitors[visitors['group']=='A']['visitors'].sum()-len(ordersByUsersA))):\n",
    "    list_orders_1.append(0)\n",
    "orders_by_non_purchased_users_A = pd.Series(data = list_orders_1, name = 'orders')\n",
    "\n",
    "list_orders_2 =[]\n",
    "for i in range(0,(visitors[visitors['group']=='B']['visitors'].sum()-len(ordersByUsersB))):\n",
    "    list_orders_2.append(0)\n",
    "orders_by_non_purchased_users_B = pd.Series(data = list_orders_2, name = 'orders')\n",
    "\n",
    "sampleA = pd.concat([ordersByUsersA['orders'], orders_by_non_purchased_users_A], axis=0)\n",
    "sampleB = pd.concat([ordersByUsersB['orders'], orders_by_non_purchased_users_B], axis=0)\n",
    "\n",
    "print('\\n Прирост конверсии группы B к группе A: {:.3f}'.format(sampleB.mean()/sampleA.mean()-1))\n",
    "\n",
    "alpha = 0.05\n",
    "results = stats.mannwhitneyu(sampleA, sampleB)\n",
    "\n",
    "print('P-value: {}'.format(results.pvalue))\n",
    "if results.pvalue < alpha:\n",
    "    print('По \"сырым\" данным разница статистически значима между групп А и В')\n",
    "else:\n",
    "    print('По \"сырым\" данным нет различий в конверсиях между группами А и B')"
   ]
  },
  {
   "cell_type": "markdown",
   "metadata": {},
   "source": [
    "<div class=\"alert alert-success\">\n",
    "<b>Комментарий с комплиментом ревьюера:</b> \n",
    "\n",
    "Все верно, молодец, что используешь форматированный вывод.\n",
    "</div>\n"
   ]
  },
  {
   "cell_type": "markdown",
   "metadata": {},
   "source": [
    "Посчитайте статистическую значимость различий в среднем чеке заказа между группами по «сырым» данным"
   ]
  },
  {
   "cell_type": "code",
   "execution_count": 25,
   "metadata": {},
   "outputs": [
    {
     "name": "stdout",
     "output_type": "stream",
     "text": [
      "Изменение среднего чека в группе B по отношению группы A: 0.259\n",
      "P-value: 0.7292909855432458\n",
      "По \"сырым\" данным различий в средних чеках в группах A и B нету\n"
     ]
    }
   ],
   "source": [
    "print('Изменение среднего чека в группе B по отношению группы A: {:.3f}'.format(\n",
    "orders[orders['group']=='B']['revenue'].mean()/orders[orders['group']=='A']['revenue'].mean()-1))\n",
    "results = stats.mannwhitneyu(orders[orders['group']=='A']['revenue'], orders[orders['group']=='B']['revenue'])\n",
    "print('P-value: {}'.format(results.pvalue))\n",
    "if results.pvalue < alpha:\n",
    "    print('По \"сырым\" данным различие в средних чеках в группах A и B статистически значима!')\n",
    "else:\n",
    "    print('По \"сырым\" данным различий в средних чеках в группах A и B нету')"
   ]
  },
  {
   "cell_type": "markdown",
   "metadata": {},
   "source": [
    "<div class=\"alert alert-success\">\n",
    "<b>Комментарий с комплиментом ревьюера:</b> \n",
    "\n",
    "Все верно. \n",
    "\n",
    "Если p-value > alpha значит средний чек группы B **равен** среднему чеку группы A (или не отличается). Наблюдаемое различие не значимо, получено случайно из-за единичных выбросов.\n",
    "\n",
    "</div>\n"
   ]
  },
  {
   "cell_type": "markdown",
   "metadata": {},
   "source": [
    "Посчитайте статистическую значимость различий в среднем количестве заказов на посетителя между группами по «очищенным» данным."
   ]
  },
  {
   "cell_type": "code",
   "execution_count": 26,
   "metadata": {},
   "outputs": [
    {
     "name": "stdout",
     "output_type": "stream",
     "text": [
      "Аномальные пользователей: 74\n"
     ]
    }
   ],
   "source": [
    "#для начала установик критерии для поиска аномальных пользователей\n",
    "max_orders = 2\n",
    "max_revenue = 28000\n",
    "\n",
    "#найдем аномальных пользователей\n",
    "usersWithManyOrders = pd.concat([ordersByUsersA[ordersByUsersA['orders']>max_orders]['visitor_id'], \n",
    "                                ordersByUsersB[ordersByUsersB['orders']>max_orders]['visitor_id']], axis = 0)\n",
    "\n",
    "usersWithExpensiveOrders = orders[orders['revenue']>max_revenue]['visitor_id']\n",
    "\n",
    "anomalUsers = pd.concat([usersWithManyOrders, usersWithExpensiveOrders], axis = 0).drop_duplicates().sort_values()\n",
    "print('Аномальные пользователей: {}'.format(len(anomalUsers)))"
   ]
  },
  {
   "cell_type": "code",
   "execution_count": 27,
   "metadata": {
    "scrolled": true
   },
   "outputs": [
    {
     "name": "stdout",
     "output_type": "stream",
     "text": [
      "\n",
      " Прирост конверсии группы B по отношению к группе A после очистки данных: 0.173\n",
      "P-value: 0.013042592743036745\n",
      "По \"очищенным\" данным разница статистически значима между групп А и В\n"
     ]
    }
   ],
   "source": [
    "sampleAFiltered = pd.concat([\n",
    "    ordersByUsersA[np.logical_not(ordersByUsersA['visitor_id'].isin(anomalUsers))]['orders'],\n",
    "    orders_by_non_purchased_users_A\n",
    "], axis = 0)\n",
    "\n",
    "sampleBFiltered = pd.concat([\n",
    "    ordersByUsersB[np.logical_not(ordersByUsersB['visitor_id'].isin(anomalUsers))]['orders'],\n",
    "    orders_by_non_purchased_users_B\n",
    "], axis = 0)\n",
    "\n",
    "print('\\n Прирост конверсии группы B по отношению к группе A после очистки данных: {:.3f}'.format(sampleBFiltered.mean()/sampleAFiltered.mean()-1))\n",
    "results = stats.mannwhitneyu(sampleAFiltered, sampleBFiltered)\n",
    "\n",
    "print('P-value: {}'.format(results.pvalue))\n",
    "if results.pvalue < alpha:\n",
    "    print('По \"очищенным\" данным разница статистически значима между групп А и В')\n",
    "else:\n",
    "    print('По \"очищенным\" данным нет различий в конверсиях между группами А и B!')"
   ]
  },
  {
   "cell_type": "markdown",
   "metadata": {},
   "source": [
    "<div class=\"alert alert-success\">\n",
    "<b>Комментарий с комплиментом ревьюера:</b> \n",
    "    \n",
    "Проверка проведена корректно, согласен группа B лучше группы A на 17.3%.\n"
   ]
  },
  {
   "cell_type": "markdown",
   "metadata": {},
   "source": [
    "Посчитайте статистическую значимость различий в среднем чеке заказа между группами по «очищенным» данным. "
   ]
  },
  {
   "cell_type": "code",
   "execution_count": 28,
   "metadata": {},
   "outputs": [
    {
     "name": "stdout",
     "output_type": "stream",
     "text": [
      "Относительное изменение среднего чека в группе B по отношению группы A после очистки данных: -0.020\n",
      "P-value: 0.738481751314565\n",
      "По \"очищенным\" данным различий в средних чеках в группах A и B нет\n"
     ]
    }
   ],
   "source": [
    "print('Относительное изменение среднего чека в группе B по отношению группы A после очистки данных: {:.3f}'.format(\n",
    "orders[np.logical_and(orders['group']=='B', np.logical_not(orders['visitor_id'].isin(anomalUsers)))]['revenue'].mean()\\\n",
    "/orders[np.logical_and(orders['group']=='A', np.logical_not(orders['visitor_id'].isin(anomalUsers)))]['revenue'].mean()-1))\n",
    "       \n",
    "       \n",
    "results = stats.mannwhitneyu(orders[np.logical_and(orders['group']=='A', np.logical_not(orders['visitor_id'].isin(anomalUsers)))]['revenue'],\n",
    "                             orders[np.logical_and(orders['group']=='B', np.logical_not(orders['visitor_id'].isin(anomalUsers)))]['revenue'])\n",
    "\n",
    "print('P-value: {}'.format(results.pvalue))\n",
    "if results.pvalue < alpha:\n",
    "    print('По \"очищенным\" данным разница в средних чеках в группах A и B статистически значима')\n",
    "else:\n",
    "    print('По \"очищенным\" данным различий в средних чеках в группах A и B нет')"
   ]
  },
  {
   "cell_type": "markdown",
   "metadata": {},
   "source": [
    "<div class=\"alert alert-success\">\n",
    "<b>Комментарий с комплиментом ревьюера:</b> \n",
    " \n",
    "Верно, сильное влияние аномалий.\n"
   ]
  },
  {
   "cell_type": "markdown",
   "metadata": {},
   "source": [
    "Примите решение по результатам теста и объясните его. Варианты решений:\n",
    "1. Остановить тест, зафиксировать победу одной из групп.\n",
    "2. Остановить тест, зафиксировать отсутствие различий между группами.\n",
    "3. Продолжить тест"
   ]
  },
  {
   "cell_type": "markdown",
   "metadata": {},
   "source": [
    "Вывод:\n",
    "\n",
    "Получив данные от интернет-компании в формате CSV, мы загрузили их и приступили к анализу данных. За период работы, была проведена работа по проверке и предобработке данных, а именно были проанализированы и проверены на полноту загруженные данные, изменен формат данных в временных данных, данные были проверены на дубликаты и приведены к одному виду. В последующем мы приоритизировали гипотезы и выбрали топ 5 гипотез по разным фреймворкам. ICE в отличии от RICE не учитывает охват изменений, но это важная оценка гипотезы. Исходя из этого, приоритетными стали гипотезы 7,2,0. После предобработки данных, приступили к A/B тесту. Были построены графики кумулятивной выручки по группам, показывающие нам, что группа B показала большую выручку чем группа А. Построен график кумулятивного среднего чека по группам, который указал нам, на большие заказы и аномальные данные группы В. Изменения  кумулятивного среднего чека группы В к группе А показал нам , что были слишком резкие скачки группы В, что подтверждало гипотезу по аномальным данным. Построив график среднего количества заказов по группам А/B  график показал, что группа В имела большие количества заказов относительно группы А. График относительного изменения среднего кол-ва заказов между группами показал нам, что с С 1 авгста по 5 количество заказов \"A\" было больше на 5-10% кроме 2 августа - был сильный рост конверсии в группе \"B\" и по итогу дня результат \"B\" был на 5% больше \"A\". А начиная с 6 августа группа \"B\" лидировала до конца периода. Рост был до 15 августа и разница с \"A\" на максимуме был 21%, после снизился до 10%-14%. Построив точечный график количества заказов пользователей мы увидили что большинство людей ограничиваются 1 заказом, но были и данные с 11 заказами. Процентили по заказам, дали нам информацию о том, что не более 5% совершали больше 2-х покупок в течение теста и только 1% - четыре и более покупок. По графику стоимостей заказов видно , что большая часть заказов, не превышает 25 000 рублей. По процентилям - Всего 5% заказов дороже 28000 и 1% дороже 58233,2\n",
    "\n",
    "Анализ статистической значимости показал нам, что:\n",
    "\n",
    "По \"сырым\" данным разница статистически значима между групп А и В.\n",
    "\n",
    "По \"сырым\" данным различий в средних чеках в группах A и B нету\n",
    "\n",
    "Количество аномальных пользователей Аномальные пользователей: 74\n",
    "\n",
    "По \"очищенным\" данным разница статистически значима между групп А и В\n",
    "\n",
    "По \"очищенным\" данным различий в средних чеках в группах A и B нет\n",
    "\n",
    "\n",
    "Разница показателей конверсии между группами и до, и после очистки данных является СТАТИСТИЧЕСКИ ЗНАЧИМОЙ, и мы можем сделать следующий вывод - мы можем остановить наш A/B тест и зафиксировать победу группы B!"
   ]
  },
  {
   "cell_type": "markdown",
   "metadata": {},
   "source": [
    "<div class=\"alert alert-success\">\n",
    "<b>Комментарий с комплиментом ревьюера:</b> \n",
    "    \n",
    "Решение верное.\n",
    "    \n",
    "Хороший аналитический вывод, вынесены основные показатели, которые получены в результате анализа.\n",
    "\n",
    "Действительно группы равны по среднему чеку, а по среднему количеству заказов группа В лучше группы А.  \n"
   ]
  },
  {
   "cell_type": "markdown",
   "metadata": {},
   "source": [
    "<div style=\"border:solid Chocolate 2px; padding: 40px\">\n",
    "\n",
    "# Общий вывод ревьюера\n",
    "\n",
    "<div class=\"alert alert-success\">\n",
    "\n",
    "Проделана хорошая аналитическая работа. Код написан чисто, соблюдена структура проекта, графики оформлены корректно и написаны логичные и обоснованные выводы. Проект выполнен на хорошем аналитическом уровне, поэтому замечаний не много. Я отметил в проекте моменты, на которые необходимо обратить внимание, исправь их и проект будет принят.\n",
    "\n",
    "- по ссылкам ниже интересные материалы по А/В тестам\n",
    "  \n",
    "    \n",
    "https://habr.com/ru/company/avito/blog/571094/\n",
    "\n",
    "https://habr.com/ru/company/yandex/blog/476826/\n",
    "\n",
    "https://academy.yandex.ru/journal/kak-provesti-a-b-testirovanie-6-prostykh-shagov\n",
    "\n",
    "https://habr.com/ru/company/yandex/blog/342704/\n",
    "\n",
    "https://r-analytics.blogspot.com/2013/10/blog-post_13.html \n",
    "\n",
    "</div>\n",
    "\n",
    "<div class=\"alert alert-danger\">\n",
    "\n",
    "- добавь, пожалуйста, формулировку нулевой и альтернативной гипотез\n",
    "</div>\n",
    "\n",
    "\n"
   ]
  },
  {
   "cell_type": "markdown",
   "metadata": {},
   "source": [
    "<div class=\"alert alert-info\"> <b>\n",
    "Станислав, спасибо за дополнительные материалы!</b> .</div>\n"
   ]
  },
  {
   "cell_type": "code",
   "execution_count": null,
   "metadata": {},
   "outputs": [],
   "source": []
  }
 ],
 "metadata": {
  "ExecuteTimeLog": [
   {
    "duration": 99,
    "start_time": "2023-05-02T10:02:21.291Z"
   },
   {
    "duration": 93,
    "start_time": "2023-05-02T10:02:24.955Z"
   },
   {
    "duration": 76,
    "start_time": "2023-05-02T10:02:44.236Z"
   },
   {
    "duration": 109,
    "start_time": "2023-05-02T10:02:47.239Z"
   },
   {
    "duration": 3,
    "start_time": "2023-05-02T10:05:04.814Z"
   },
   {
    "duration": 3,
    "start_time": "2023-05-02T10:05:11.452Z"
   },
   {
    "duration": 3,
    "start_time": "2023-05-02T10:05:19.105Z"
   },
   {
    "duration": 6,
    "start_time": "2023-05-02T10:05:21.991Z"
   },
   {
    "duration": 3,
    "start_time": "2023-05-02T10:05:40.720Z"
   },
   {
    "duration": 3,
    "start_time": "2023-05-02T10:05:52.297Z"
   },
   {
    "duration": 2,
    "start_time": "2023-05-02T10:06:22.133Z"
   },
   {
    "duration": 1433,
    "start_time": "2023-05-02T10:54:23.214Z"
   },
   {
    "duration": 259,
    "start_time": "2023-05-02T10:56:53.210Z"
   },
   {
    "duration": 82,
    "start_time": "2023-05-02T10:57:14.256Z"
   },
   {
    "duration": 27,
    "start_time": "2023-05-02T10:57:40.805Z"
   },
   {
    "duration": 21,
    "start_time": "2023-05-02T10:58:26.274Z"
   },
   {
    "duration": 40,
    "start_time": "2023-05-02T10:58:59.106Z"
   },
   {
    "duration": 8,
    "start_time": "2023-05-02T11:05:33.560Z"
   },
   {
    "duration": 7,
    "start_time": "2023-05-02T11:06:11.572Z"
   },
   {
    "duration": 8,
    "start_time": "2023-05-02T11:07:01.970Z"
   },
   {
    "duration": 10,
    "start_time": "2023-05-02T11:07:25.947Z"
   },
   {
    "duration": 4,
    "start_time": "2023-05-02T11:08:01.652Z"
   },
   {
    "duration": 10,
    "start_time": "2023-05-02T11:08:11.204Z"
   },
   {
    "duration": 10,
    "start_time": "2023-05-02T11:08:45.968Z"
   },
   {
    "duration": 15,
    "start_time": "2023-05-02T11:09:39.780Z"
   },
   {
    "duration": 54,
    "start_time": "2023-05-03T14:52:54.321Z"
   },
   {
    "duration": 1419,
    "start_time": "2023-05-03T14:52:57.314Z"
   },
   {
    "duration": 194,
    "start_time": "2023-05-03T14:52:58.735Z"
   },
   {
    "duration": 24,
    "start_time": "2023-05-03T14:52:58.931Z"
   },
   {
    "duration": 23,
    "start_time": "2023-05-03T14:52:58.957Z"
   },
   {
    "duration": 28,
    "start_time": "2023-05-03T14:52:58.982Z"
   },
   {
    "duration": 9,
    "start_time": "2023-05-03T14:52:59.012Z"
   },
   {
    "duration": 15,
    "start_time": "2023-05-03T14:52:59.023Z"
   },
   {
    "duration": 27,
    "start_time": "2023-05-03T14:52:59.040Z"
   },
   {
    "duration": 19,
    "start_time": "2023-05-03T14:52:59.069Z"
   },
   {
    "duration": 13,
    "start_time": "2023-05-03T14:56:02.328Z"
   },
   {
    "duration": 11,
    "start_time": "2023-05-03T14:58:39.424Z"
   },
   {
    "duration": 76,
    "start_time": "2023-05-04T07:54:51.771Z"
   },
   {
    "duration": 1718,
    "start_time": "2023-05-04T07:54:55.318Z"
   },
   {
    "duration": 240,
    "start_time": "2023-05-04T07:54:57.043Z"
   },
   {
    "duration": 31,
    "start_time": "2023-05-04T07:54:57.285Z"
   },
   {
    "duration": 41,
    "start_time": "2023-05-04T07:54:57.318Z"
   },
   {
    "duration": 24,
    "start_time": "2023-05-04T07:54:57.362Z"
   },
   {
    "duration": 10,
    "start_time": "2023-05-04T07:54:57.395Z"
   },
   {
    "duration": 16,
    "start_time": "2023-05-04T07:54:57.409Z"
   },
   {
    "duration": 28,
    "start_time": "2023-05-04T07:54:57.427Z"
   },
   {
    "duration": 16,
    "start_time": "2023-05-04T07:54:57.459Z"
   },
   {
    "duration": 29,
    "start_time": "2023-05-04T07:54:57.477Z"
   },
   {
    "duration": 25,
    "start_time": "2023-05-04T07:54:57.510Z"
   },
   {
    "duration": 169,
    "start_time": "2023-05-04T07:54:57.537Z"
   },
   {
    "duration": 311,
    "start_time": "2023-05-04T07:58:31.675Z"
   },
   {
    "duration": 370,
    "start_time": "2023-05-04T07:59:48.595Z"
   },
   {
    "duration": 15,
    "start_time": "2023-05-04T08:00:28.018Z"
   },
   {
    "duration": 15,
    "start_time": "2023-05-04T08:01:40.346Z"
   },
   {
    "duration": 264,
    "start_time": "2023-05-04T08:01:53.816Z"
   },
   {
    "duration": 181,
    "start_time": "2023-05-04T08:02:34.748Z"
   },
   {
    "duration": 174,
    "start_time": "2023-05-04T08:12:50.508Z"
   },
   {
    "duration": 204,
    "start_time": "2023-05-04T08:13:00.812Z"
   },
   {
    "duration": 228,
    "start_time": "2023-05-04T08:13:13.615Z"
   },
   {
    "duration": 231,
    "start_time": "2023-05-04T08:13:20.872Z"
   },
   {
    "duration": 278,
    "start_time": "2023-05-04T08:13:32.827Z"
   },
   {
    "duration": 206,
    "start_time": "2023-05-04T08:13:46.815Z"
   },
   {
    "duration": 215,
    "start_time": "2023-05-04T08:14:31.711Z"
   },
   {
    "duration": 334,
    "start_time": "2023-05-04T08:23:21.121Z"
   },
   {
    "duration": 388,
    "start_time": "2023-05-04T08:23:37.570Z"
   },
   {
    "duration": 343,
    "start_time": "2023-05-04T08:23:51.878Z"
   },
   {
    "duration": 309,
    "start_time": "2023-05-04T08:24:04.309Z"
   },
   {
    "duration": 303,
    "start_time": "2023-05-04T08:24:17.417Z"
   },
   {
    "duration": 296,
    "start_time": "2023-05-04T08:24:40.116Z"
   },
   {
    "duration": 306,
    "start_time": "2023-05-04T08:24:47.858Z"
   },
   {
    "duration": 335,
    "start_time": "2023-05-04T08:25:09.384Z"
   },
   {
    "duration": 12,
    "start_time": "2023-05-04T08:39:58.622Z"
   },
   {
    "duration": 11,
    "start_time": "2023-05-04T08:41:58.057Z"
   },
   {
    "duration": 11,
    "start_time": "2023-05-04T08:42:32.417Z"
   },
   {
    "duration": 9,
    "start_time": "2023-05-04T08:42:38.973Z"
   },
   {
    "duration": 11,
    "start_time": "2023-05-04T08:42:46.738Z"
   },
   {
    "duration": 266,
    "start_time": "2023-05-04T08:42:55.305Z"
   },
   {
    "duration": 220,
    "start_time": "2023-05-04T08:43:03.812Z"
   },
   {
    "duration": 52,
    "start_time": "2023-05-04T13:32:46.281Z"
   },
   {
    "duration": 1428,
    "start_time": "2023-05-04T13:32:49.932Z"
   },
   {
    "duration": 221,
    "start_time": "2023-05-04T13:32:51.362Z"
   },
   {
    "duration": 22,
    "start_time": "2023-05-04T13:32:51.585Z"
   },
   {
    "duration": 23,
    "start_time": "2023-05-04T13:32:51.609Z"
   },
   {
    "duration": 28,
    "start_time": "2023-05-04T13:32:51.634Z"
   },
   {
    "duration": 17,
    "start_time": "2023-05-04T13:32:51.664Z"
   },
   {
    "duration": 33,
    "start_time": "2023-05-04T13:32:51.683Z"
   },
   {
    "duration": 40,
    "start_time": "2023-05-04T13:32:51.718Z"
   },
   {
    "duration": 30,
    "start_time": "2023-05-04T13:32:51.760Z"
   },
   {
    "duration": 38,
    "start_time": "2023-05-04T13:32:51.792Z"
   },
   {
    "duration": 18,
    "start_time": "2023-05-04T13:32:51.832Z"
   },
   {
    "duration": 304,
    "start_time": "2023-05-04T13:32:51.852Z"
   },
   {
    "duration": 326,
    "start_time": "2023-05-04T13:32:52.158Z"
   },
   {
    "duration": 244,
    "start_time": "2023-05-04T13:32:52.486Z"
   },
   {
    "duration": 409,
    "start_time": "2023-05-04T13:32:52.733Z"
   },
   {
    "duration": 267,
    "start_time": "2023-05-04T13:32:53.144Z"
   },
   {
    "duration": 428,
    "start_time": "2023-05-04T13:35:24.684Z"
   },
   {
    "duration": 241,
    "start_time": "2023-05-04T13:36:04.235Z"
   },
   {
    "duration": 115,
    "start_time": "2023-05-04T14:07:13.537Z"
   },
   {
    "duration": 373,
    "start_time": "2023-05-04T14:07:27.234Z"
   },
   {
    "duration": 290,
    "start_time": "2023-05-04T14:10:35.953Z"
   },
   {
    "duration": 254,
    "start_time": "2023-05-04T14:11:09.527Z"
   },
   {
    "duration": 347,
    "start_time": "2023-05-04T14:11:38.086Z"
   },
   {
    "duration": 17,
    "start_time": "2023-05-04T14:21:50.840Z"
   },
   {
    "duration": 23,
    "start_time": "2023-05-04T14:22:01.999Z"
   },
   {
    "duration": 336,
    "start_time": "2023-05-04T14:22:38.378Z"
   },
   {
    "duration": 304,
    "start_time": "2023-05-04T14:22:47.733Z"
   },
   {
    "duration": 308,
    "start_time": "2023-05-04T14:23:40.345Z"
   },
   {
    "duration": 35,
    "start_time": "2023-05-04T14:26:07.009Z"
   },
   {
    "duration": 394,
    "start_time": "2023-05-04T14:26:23.932Z"
   },
   {
    "duration": 442,
    "start_time": "2023-05-04T14:27:58.906Z"
   },
   {
    "duration": 421,
    "start_time": "2023-05-04T14:28:07.934Z"
   },
   {
    "duration": 324,
    "start_time": "2023-05-04T14:28:15.247Z"
   },
   {
    "duration": 442,
    "start_time": "2023-05-04T14:28:24.742Z"
   },
   {
    "duration": 431,
    "start_time": "2023-05-04T14:28:46.368Z"
   },
   {
    "duration": 419,
    "start_time": "2023-05-04T14:28:54.762Z"
   },
   {
    "duration": 259,
    "start_time": "2023-05-04T14:42:09.081Z"
   },
   {
    "duration": 237,
    "start_time": "2023-05-04T14:42:27.609Z"
   },
   {
    "duration": 135,
    "start_time": "2023-05-04T14:42:35.864Z"
   },
   {
    "duration": 193,
    "start_time": "2023-05-04T14:43:00.375Z"
   },
   {
    "duration": 156,
    "start_time": "2023-05-04T14:43:08.281Z"
   },
   {
    "duration": 190,
    "start_time": "2023-05-04T14:43:25.239Z"
   },
   {
    "duration": 45,
    "start_time": "2023-05-05T07:16:22.944Z"
   },
   {
    "duration": 1423,
    "start_time": "2023-05-05T07:16:44.608Z"
   },
   {
    "duration": 211,
    "start_time": "2023-05-05T07:16:46.033Z"
   },
   {
    "duration": 19,
    "start_time": "2023-05-05T07:16:46.246Z"
   },
   {
    "duration": 18,
    "start_time": "2023-05-05T07:16:46.267Z"
   },
   {
    "duration": 16,
    "start_time": "2023-05-05T07:16:46.287Z"
   },
   {
    "duration": 8,
    "start_time": "2023-05-05T07:16:46.305Z"
   },
   {
    "duration": 8,
    "start_time": "2023-05-05T07:16:46.315Z"
   },
   {
    "duration": 11,
    "start_time": "2023-05-05T07:16:46.324Z"
   },
   {
    "duration": 11,
    "start_time": "2023-05-05T07:16:46.336Z"
   },
   {
    "duration": 45,
    "start_time": "2023-05-05T07:16:46.349Z"
   },
   {
    "duration": 10,
    "start_time": "2023-05-05T07:16:46.396Z"
   },
   {
    "duration": 279,
    "start_time": "2023-05-05T07:16:46.407Z"
   },
   {
    "duration": 286,
    "start_time": "2023-05-05T07:16:46.694Z"
   },
   {
    "duration": 216,
    "start_time": "2023-05-05T07:16:46.981Z"
   },
   {
    "duration": 73,
    "start_time": "2023-05-05T07:16:47.199Z"
   },
   {
    "duration": 0,
    "start_time": "2023-05-05T07:16:47.274Z"
   },
   {
    "duration": 0,
    "start_time": "2023-05-05T07:16:47.275Z"
   },
   {
    "duration": 0,
    "start_time": "2023-05-05T07:16:47.294Z"
   },
   {
    "duration": 0,
    "start_time": "2023-05-05T07:16:47.295Z"
   },
   {
    "duration": 0,
    "start_time": "2023-05-05T07:16:47.296Z"
   },
   {
    "duration": 4,
    "start_time": "2023-05-05T07:19:35.312Z"
   },
   {
    "duration": 72,
    "start_time": "2023-05-05T07:19:35.318Z"
   },
   {
    "duration": 16,
    "start_time": "2023-05-05T07:19:35.392Z"
   },
   {
    "duration": 27,
    "start_time": "2023-05-05T07:19:35.410Z"
   },
   {
    "duration": 26,
    "start_time": "2023-05-05T07:19:35.439Z"
   },
   {
    "duration": 28,
    "start_time": "2023-05-05T07:19:35.467Z"
   },
   {
    "duration": 5,
    "start_time": "2023-05-05T07:19:35.497Z"
   },
   {
    "duration": 14,
    "start_time": "2023-05-05T07:19:35.504Z"
   },
   {
    "duration": 22,
    "start_time": "2023-05-05T07:19:35.520Z"
   },
   {
    "duration": 17,
    "start_time": "2023-05-05T07:19:35.544Z"
   },
   {
    "duration": 35,
    "start_time": "2023-05-05T07:19:35.564Z"
   },
   {
    "duration": 308,
    "start_time": "2023-05-05T07:19:35.600Z"
   },
   {
    "duration": 253,
    "start_time": "2023-05-05T07:19:35.910Z"
   },
   {
    "duration": 258,
    "start_time": "2023-05-05T07:19:36.165Z"
   },
   {
    "duration": 18,
    "start_time": "2023-05-05T07:19:36.425Z"
   },
   {
    "duration": 0,
    "start_time": "2023-05-05T07:19:36.444Z"
   },
   {
    "duration": 0,
    "start_time": "2023-05-05T07:19:36.446Z"
   },
   {
    "duration": 0,
    "start_time": "2023-05-05T07:19:36.447Z"
   },
   {
    "duration": 0,
    "start_time": "2023-05-05T07:19:36.448Z"
   },
   {
    "duration": 0,
    "start_time": "2023-05-05T07:19:36.449Z"
   },
   {
    "duration": 455,
    "start_time": "2023-05-05T07:20:34.095Z"
   },
   {
    "duration": 215,
    "start_time": "2023-05-05T07:20:38.918Z"
   },
   {
    "duration": 288,
    "start_time": "2023-05-05T07:20:39.464Z"
   },
   {
    "duration": 154,
    "start_time": "2023-05-05T07:20:40.429Z"
   },
   {
    "duration": 131,
    "start_time": "2023-05-05T07:20:40.922Z"
   },
   {
    "duration": 5,
    "start_time": "2023-05-05T07:20:42.242Z"
   },
   {
    "duration": 41,
    "start_time": "2023-05-05T07:28:59.287Z"
   },
   {
    "duration": 8,
    "start_time": "2023-05-05T07:29:20.687Z"
   },
   {
    "duration": 130,
    "start_time": "2023-05-05T07:30:44.781Z"
   },
   {
    "duration": 150,
    "start_time": "2023-05-05T07:30:57.943Z"
   },
   {
    "duration": 143,
    "start_time": "2023-05-05T07:31:18.681Z"
   },
   {
    "duration": 147,
    "start_time": "2023-05-05T07:31:32.226Z"
   },
   {
    "duration": 180,
    "start_time": "2023-05-05T07:31:41.178Z"
   },
   {
    "duration": 153,
    "start_time": "2023-05-05T09:45:46.039Z"
   },
   {
    "duration": 49,
    "start_time": "2023-05-05T09:48:31.597Z"
   },
   {
    "duration": 169,
    "start_time": "2023-05-05T09:48:36.560Z"
   },
   {
    "duration": 48,
    "start_time": "2023-05-05T09:48:38.170Z"
   },
   {
    "duration": 6,
    "start_time": "2023-05-05T09:49:14.138Z"
   },
   {
    "duration": 187,
    "start_time": "2023-05-05T12:47:54.784Z"
   },
   {
    "duration": 99,
    "start_time": "2023-05-05T12:48:48.073Z"
   },
   {
    "duration": 167,
    "start_time": "2023-05-05T12:49:04.666Z"
   },
   {
    "duration": 235,
    "start_time": "2023-05-05T12:49:46.180Z"
   },
   {
    "duration": 189,
    "start_time": "2023-05-05T12:49:52.060Z"
   },
   {
    "duration": 23,
    "start_time": "2023-05-05T12:50:26.525Z"
   },
   {
    "duration": 22,
    "start_time": "2023-05-05T12:51:16.387Z"
   },
   {
    "duration": 18,
    "start_time": "2023-05-05T14:08:48.203Z"
   },
   {
    "duration": 17,
    "start_time": "2023-05-05T14:09:09.980Z"
   },
   {
    "duration": 15,
    "start_time": "2023-05-05T14:09:36.120Z"
   },
   {
    "duration": 17,
    "start_time": "2023-05-05T14:10:27.311Z"
   },
   {
    "duration": 16,
    "start_time": "2023-05-05T14:11:01.484Z"
   },
   {
    "duration": 15,
    "start_time": "2023-05-05T14:11:42.374Z"
   },
   {
    "duration": 15,
    "start_time": "2023-05-05T14:12:09.006Z"
   },
   {
    "duration": 37,
    "start_time": "2023-05-05T14:13:38.236Z"
   },
   {
    "duration": 40,
    "start_time": "2023-05-05T14:14:15.744Z"
   },
   {
    "duration": 38,
    "start_time": "2023-05-05T14:14:29.732Z"
   },
   {
    "duration": 37,
    "start_time": "2023-05-05T14:14:55.298Z"
   },
   {
    "duration": 38,
    "start_time": "2023-05-05T14:16:41.190Z"
   },
   {
    "duration": 38,
    "start_time": "2023-05-05T14:17:26.510Z"
   },
   {
    "duration": 37,
    "start_time": "2023-05-05T14:17:35.193Z"
   },
   {
    "duration": 41,
    "start_time": "2023-05-05T14:17:39.272Z"
   },
   {
    "duration": 40,
    "start_time": "2023-05-05T14:18:30.840Z"
   },
   {
    "duration": 13,
    "start_time": "2023-05-05T14:21:49.913Z"
   },
   {
    "duration": 762,
    "start_time": "2023-05-05T14:28:30.793Z"
   },
   {
    "duration": 11,
    "start_time": "2023-05-05T14:29:08.397Z"
   },
   {
    "duration": 10,
    "start_time": "2023-05-05T14:30:47.529Z"
   },
   {
    "duration": 720,
    "start_time": "2023-05-05T14:39:41.636Z"
   },
   {
    "duration": 11,
    "start_time": "2023-05-05T14:40:00.602Z"
   },
   {
    "duration": 9,
    "start_time": "2023-05-05T14:41:00.526Z"
   },
   {
    "duration": 24,
    "start_time": "2023-05-05T14:41:20.655Z"
   },
   {
    "duration": 36,
    "start_time": "2023-05-05T14:42:14.143Z"
   },
   {
    "duration": 25,
    "start_time": "2023-05-05T14:43:58.729Z"
   },
   {
    "duration": 1259,
    "start_time": "2023-05-05T14:45:12.974Z"
   },
   {
    "duration": 15,
    "start_time": "2023-05-05T14:46:22.774Z"
   },
   {
    "duration": 10,
    "start_time": "2023-05-05T14:47:47.935Z"
   },
   {
    "duration": 10,
    "start_time": "2023-05-05T14:47:57.196Z"
   },
   {
    "duration": 15,
    "start_time": "2023-05-05T14:48:33.222Z"
   },
   {
    "duration": 18,
    "start_time": "2023-05-05T14:58:07.399Z"
   },
   {
    "duration": 28,
    "start_time": "2023-05-05T14:58:15.792Z"
   },
   {
    "duration": 11,
    "start_time": "2023-05-05T14:58:29.715Z"
   },
   {
    "duration": 3,
    "start_time": "2023-05-05T17:23:36.823Z"
   },
   {
    "duration": 69,
    "start_time": "2023-05-05T17:23:36.828Z"
   },
   {
    "duration": 16,
    "start_time": "2023-05-05T17:23:36.899Z"
   },
   {
    "duration": 18,
    "start_time": "2023-05-05T17:23:36.917Z"
   },
   {
    "duration": 15,
    "start_time": "2023-05-05T17:23:36.937Z"
   },
   {
    "duration": 8,
    "start_time": "2023-05-05T17:23:36.954Z"
   },
   {
    "duration": 33,
    "start_time": "2023-05-05T17:23:36.963Z"
   },
   {
    "duration": 9,
    "start_time": "2023-05-05T17:23:36.997Z"
   },
   {
    "duration": 9,
    "start_time": "2023-05-05T17:23:37.008Z"
   },
   {
    "duration": 10,
    "start_time": "2023-05-05T17:23:37.019Z"
   },
   {
    "duration": 12,
    "start_time": "2023-05-05T17:23:37.030Z"
   },
   {
    "duration": 312,
    "start_time": "2023-05-05T17:23:37.043Z"
   },
   {
    "duration": 213,
    "start_time": "2023-05-05T17:23:37.356Z"
   },
   {
    "duration": 196,
    "start_time": "2023-05-05T17:23:37.570Z"
   },
   {
    "duration": 360,
    "start_time": "2023-05-05T17:23:37.768Z"
   },
   {
    "duration": 212,
    "start_time": "2023-05-05T17:23:38.130Z"
   },
   {
    "duration": 276,
    "start_time": "2023-05-05T17:23:38.343Z"
   },
   {
    "duration": 149,
    "start_time": "2023-05-05T17:23:38.621Z"
   },
   {
    "duration": 133,
    "start_time": "2023-05-05T17:23:38.771Z"
   },
   {
    "duration": 5,
    "start_time": "2023-05-05T17:23:38.906Z"
   },
   {
    "duration": 157,
    "start_time": "2023-05-05T17:23:38.912Z"
   },
   {
    "duration": 3,
    "start_time": "2023-05-05T17:23:39.071Z"
   },
   {
    "duration": 28,
    "start_time": "2023-05-05T17:23:39.076Z"
   },
   {
    "duration": 33,
    "start_time": "2023-05-05T17:23:39.106Z"
   },
   {
    "duration": 11,
    "start_time": "2023-05-05T17:23:39.140Z"
   },
   {
    "duration": 11,
    "start_time": "2023-05-05T17:23:39.152Z"
   },
   {
    "duration": 42,
    "start_time": "2023-05-05T17:23:39.164Z"
   },
   {
    "duration": 13,
    "start_time": "2023-05-05T17:23:39.207Z"
   },
   {
    "duration": 135,
    "start_time": "2023-05-05T17:34:49.962Z"
   },
   {
    "duration": 51,
    "start_time": "2023-05-05T17:35:44.141Z"
   },
   {
    "duration": 10,
    "start_time": "2023-05-05T17:38:24.475Z"
   },
   {
    "duration": 10,
    "start_time": "2023-05-05T17:38:28.606Z"
   },
   {
    "duration": 3,
    "start_time": "2023-05-05T17:45:22.639Z"
   },
   {
    "duration": 65,
    "start_time": "2023-05-05T17:45:22.644Z"
   },
   {
    "duration": 15,
    "start_time": "2023-05-05T17:45:22.710Z"
   },
   {
    "duration": 18,
    "start_time": "2023-05-05T17:45:22.726Z"
   },
   {
    "duration": 14,
    "start_time": "2023-05-05T17:45:22.746Z"
   },
   {
    "duration": 6,
    "start_time": "2023-05-05T17:45:22.762Z"
   },
   {
    "duration": 24,
    "start_time": "2023-05-05T17:45:22.770Z"
   },
   {
    "duration": 16,
    "start_time": "2023-05-05T17:45:22.796Z"
   },
   {
    "duration": 8,
    "start_time": "2023-05-05T17:45:22.814Z"
   },
   {
    "duration": 11,
    "start_time": "2023-05-05T17:45:22.824Z"
   },
   {
    "duration": 9,
    "start_time": "2023-05-05T17:45:22.837Z"
   },
   {
    "duration": 277,
    "start_time": "2023-05-05T17:45:22.847Z"
   },
   {
    "duration": 200,
    "start_time": "2023-05-05T17:45:23.125Z"
   },
   {
    "duration": 200,
    "start_time": "2023-05-05T17:45:23.327Z"
   },
   {
    "duration": 285,
    "start_time": "2023-05-05T17:45:23.529Z"
   },
   {
    "duration": 209,
    "start_time": "2023-05-05T17:45:23.816Z"
   },
   {
    "duration": 382,
    "start_time": "2023-05-05T17:45:24.027Z"
   },
   {
    "duration": 152,
    "start_time": "2023-05-05T17:45:24.411Z"
   },
   {
    "duration": 131,
    "start_time": "2023-05-05T17:45:24.565Z"
   },
   {
    "duration": 4,
    "start_time": "2023-05-05T17:45:24.697Z"
   },
   {
    "duration": 148,
    "start_time": "2023-05-05T17:45:24.703Z"
   },
   {
    "duration": 4,
    "start_time": "2023-05-05T17:45:24.852Z"
   },
   {
    "duration": 19,
    "start_time": "2023-05-05T17:45:24.857Z"
   },
   {
    "duration": 50,
    "start_time": "2023-05-05T17:45:24.878Z"
   },
   {
    "duration": 14,
    "start_time": "2023-05-05T17:45:24.930Z"
   },
   {
    "duration": 7,
    "start_time": "2023-05-05T17:45:24.946Z"
   },
   {
    "duration": 37,
    "start_time": "2023-05-05T17:45:24.954Z"
   },
   {
    "duration": 11,
    "start_time": "2023-05-05T17:45:24.992Z"
   },
   {
    "duration": 1276,
    "start_time": "2023-05-05T22:09:27.261Z"
   },
   {
    "duration": 73,
    "start_time": "2023-05-05T22:09:28.539Z"
   },
   {
    "duration": 21,
    "start_time": "2023-05-05T22:09:28.613Z"
   },
   {
    "duration": 20,
    "start_time": "2023-05-05T22:09:28.636Z"
   },
   {
    "duration": 18,
    "start_time": "2023-05-05T22:09:28.657Z"
   },
   {
    "duration": 23,
    "start_time": "2023-05-05T22:09:28.676Z"
   },
   {
    "duration": 7,
    "start_time": "2023-05-05T22:09:28.701Z"
   },
   {
    "duration": 14,
    "start_time": "2023-05-05T22:09:28.710Z"
   },
   {
    "duration": 11,
    "start_time": "2023-05-05T22:09:28.726Z"
   },
   {
    "duration": 11,
    "start_time": "2023-05-05T22:09:28.740Z"
   },
   {
    "duration": 45,
    "start_time": "2023-05-05T22:09:28.752Z"
   },
   {
    "duration": 303,
    "start_time": "2023-05-05T22:09:28.798Z"
   },
   {
    "duration": 323,
    "start_time": "2023-05-05T22:09:29.103Z"
   },
   {
    "duration": 237,
    "start_time": "2023-05-05T22:09:29.428Z"
   },
   {
    "duration": 367,
    "start_time": "2023-05-05T22:09:29.667Z"
   },
   {
    "duration": 278,
    "start_time": "2023-05-05T22:09:30.036Z"
   },
   {
    "duration": 321,
    "start_time": "2023-05-05T22:09:30.316Z"
   },
   {
    "duration": 255,
    "start_time": "2023-05-05T22:09:30.639Z"
   },
   {
    "duration": 155,
    "start_time": "2023-05-05T22:09:30.900Z"
   },
   {
    "duration": 6,
    "start_time": "2023-05-05T22:09:31.057Z"
   },
   {
    "duration": 286,
    "start_time": "2023-05-05T22:09:31.064Z"
   },
   {
    "duration": 5,
    "start_time": "2023-05-05T22:09:31.353Z"
   },
   {
    "duration": 46,
    "start_time": "2023-05-05T22:09:31.361Z"
   },
   {
    "duration": 62,
    "start_time": "2023-05-05T22:09:31.409Z"
   },
   {
    "duration": 36,
    "start_time": "2023-05-05T22:09:31.472Z"
   },
   {
    "duration": 31,
    "start_time": "2023-05-05T22:09:31.511Z"
   },
   {
    "duration": 66,
    "start_time": "2023-05-05T22:09:31.544Z"
   },
   {
    "duration": 27,
    "start_time": "2023-05-05T22:09:31.613Z"
   },
   {
    "duration": 44,
    "start_time": "2023-05-06T14:48:23.893Z"
   },
   {
    "duration": 1230,
    "start_time": "2023-05-06T14:48:32.602Z"
   },
   {
    "duration": 290,
    "start_time": "2023-05-06T14:48:33.834Z"
   },
   {
    "duration": 10,
    "start_time": "2023-05-06T14:48:34.125Z"
   },
   {
    "duration": 20,
    "start_time": "2023-05-06T14:48:34.137Z"
   },
   {
    "duration": 23,
    "start_time": "2023-05-06T14:48:34.158Z"
   },
   {
    "duration": 9,
    "start_time": "2023-05-06T14:48:34.183Z"
   },
   {
    "duration": 5,
    "start_time": "2023-05-06T14:48:34.193Z"
   },
   {
    "duration": 16,
    "start_time": "2023-05-06T14:48:34.199Z"
   },
   {
    "duration": 11,
    "start_time": "2023-05-06T14:48:34.216Z"
   },
   {
    "duration": 9,
    "start_time": "2023-05-06T14:48:34.229Z"
   },
   {
    "duration": 11,
    "start_time": "2023-05-06T14:48:34.240Z"
   },
   {
    "duration": 267,
    "start_time": "2023-05-06T14:48:34.253Z"
   },
   {
    "duration": 266,
    "start_time": "2023-05-06T14:48:34.522Z"
   },
   {
    "duration": 202,
    "start_time": "2023-05-06T14:48:34.789Z"
   },
   {
    "duration": 309,
    "start_time": "2023-05-06T14:48:34.992Z"
   },
   {
    "duration": 210,
    "start_time": "2023-05-06T14:48:35.302Z"
   },
   {
    "duration": 280,
    "start_time": "2023-05-06T14:48:35.514Z"
   },
   {
    "duration": 148,
    "start_time": "2023-05-06T14:48:35.796Z"
   },
   {
    "duration": 140,
    "start_time": "2023-05-06T14:48:35.946Z"
   },
   {
    "duration": 4,
    "start_time": "2023-05-06T14:48:36.088Z"
   },
   {
    "duration": 194,
    "start_time": "2023-05-06T14:48:36.093Z"
   },
   {
    "duration": 3,
    "start_time": "2023-05-06T14:48:36.289Z"
   },
   {
    "duration": 16,
    "start_time": "2023-05-06T14:48:36.294Z"
   },
   {
    "duration": 33,
    "start_time": "2023-05-06T14:48:36.311Z"
   },
   {
    "duration": 9,
    "start_time": "2023-05-06T14:48:36.345Z"
   },
   {
    "duration": 9,
    "start_time": "2023-05-06T14:48:36.378Z"
   },
   {
    "duration": 25,
    "start_time": "2023-05-06T14:48:36.388Z"
   },
   {
    "duration": 11,
    "start_time": "2023-05-06T14:48:36.416Z"
   },
   {
    "duration": 3,
    "start_time": "2023-05-06T14:49:35.850Z"
   },
   {
    "duration": 84,
    "start_time": "2023-05-06T14:49:35.860Z"
   },
   {
    "duration": 14,
    "start_time": "2023-05-06T14:49:35.946Z"
   },
   {
    "duration": 36,
    "start_time": "2023-05-06T14:49:35.961Z"
   },
   {
    "duration": 14,
    "start_time": "2023-05-06T14:49:35.999Z"
   },
   {
    "duration": 26,
    "start_time": "2023-05-06T14:49:36.014Z"
   },
   {
    "duration": 26,
    "start_time": "2023-05-06T14:49:36.041Z"
   },
   {
    "duration": 31,
    "start_time": "2023-05-06T14:49:36.068Z"
   },
   {
    "duration": 14,
    "start_time": "2023-05-06T14:49:36.101Z"
   },
   {
    "duration": 10,
    "start_time": "2023-05-06T14:49:36.116Z"
   },
   {
    "duration": 25,
    "start_time": "2023-05-06T14:49:36.128Z"
   },
   {
    "duration": 302,
    "start_time": "2023-05-06T14:49:36.154Z"
   },
   {
    "duration": 197,
    "start_time": "2023-05-06T14:49:36.458Z"
   },
   {
    "duration": 188,
    "start_time": "2023-05-06T14:49:36.656Z"
   },
   {
    "duration": 309,
    "start_time": "2023-05-06T14:49:36.845Z"
   },
   {
    "duration": 206,
    "start_time": "2023-05-06T14:49:37.156Z"
   },
   {
    "duration": 295,
    "start_time": "2023-05-06T14:49:37.364Z"
   },
   {
    "duration": 148,
    "start_time": "2023-05-06T14:49:37.660Z"
   },
   {
    "duration": 124,
    "start_time": "2023-05-06T14:49:37.809Z"
   },
   {
    "duration": 4,
    "start_time": "2023-05-06T14:49:37.935Z"
   },
   {
    "duration": 146,
    "start_time": "2023-05-06T14:49:37.941Z"
   },
   {
    "duration": 4,
    "start_time": "2023-05-06T14:49:38.088Z"
   },
   {
    "duration": 17,
    "start_time": "2023-05-06T14:49:38.093Z"
   },
   {
    "duration": 30,
    "start_time": "2023-05-06T14:49:38.111Z"
   },
   {
    "duration": 7,
    "start_time": "2023-05-06T14:49:38.143Z"
   },
   {
    "duration": 30,
    "start_time": "2023-05-06T14:49:38.151Z"
   },
   {
    "duration": 27,
    "start_time": "2023-05-06T14:49:38.186Z"
   },
   {
    "duration": 13,
    "start_time": "2023-05-06T14:49:38.214Z"
   },
   {
    "duration": 10,
    "start_time": "2023-05-06T14:50:43.315Z"
   },
   {
    "duration": 16,
    "start_time": "2023-05-06T14:50:57.236Z"
   },
   {
    "duration": 22,
    "start_time": "2023-05-06T14:51:08.067Z"
   },
   {
    "duration": 14,
    "start_time": "2023-05-06T14:51:18.509Z"
   },
   {
    "duration": 3,
    "start_time": "2023-05-06T14:51:47.739Z"
   },
   {
    "duration": 96,
    "start_time": "2023-05-06T14:51:47.749Z"
   },
   {
    "duration": 12,
    "start_time": "2023-05-06T14:51:47.847Z"
   },
   {
    "duration": 51,
    "start_time": "2023-05-06T14:51:47.860Z"
   },
   {
    "duration": 14,
    "start_time": "2023-05-06T14:51:47.912Z"
   },
   {
    "duration": 12,
    "start_time": "2023-05-06T14:51:47.927Z"
   },
   {
    "duration": 31,
    "start_time": "2023-05-06T14:51:47.940Z"
   },
   {
    "duration": 32,
    "start_time": "2023-05-06T14:51:47.986Z"
   },
   {
    "duration": 21,
    "start_time": "2023-05-06T14:51:48.019Z"
   },
   {
    "duration": 25,
    "start_time": "2023-05-06T14:51:48.042Z"
   },
   {
    "duration": 37,
    "start_time": "2023-05-06T14:51:48.069Z"
   },
   {
    "duration": 252,
    "start_time": "2023-05-06T14:51:48.108Z"
   },
   {
    "duration": 257,
    "start_time": "2023-05-06T14:51:48.362Z"
   },
   {
    "duration": 205,
    "start_time": "2023-05-06T14:51:48.620Z"
   },
   {
    "duration": 287,
    "start_time": "2023-05-06T14:51:48.826Z"
   },
   {
    "duration": 214,
    "start_time": "2023-05-06T14:51:49.115Z"
   },
   {
    "duration": 288,
    "start_time": "2023-05-06T14:51:49.331Z"
   },
   {
    "duration": 144,
    "start_time": "2023-05-06T14:51:49.620Z"
   },
   {
    "duration": 135,
    "start_time": "2023-05-06T14:51:49.781Z"
   },
   {
    "duration": 4,
    "start_time": "2023-05-06T14:51:49.918Z"
   },
   {
    "duration": 154,
    "start_time": "2023-05-06T14:51:49.923Z"
   },
   {
    "duration": 5,
    "start_time": "2023-05-06T14:51:50.081Z"
   },
   {
    "duration": 29,
    "start_time": "2023-05-06T14:51:50.090Z"
   },
   {
    "duration": 30,
    "start_time": "2023-05-06T14:51:50.120Z"
   },
   {
    "duration": 8,
    "start_time": "2023-05-06T14:51:50.152Z"
   },
   {
    "duration": 37,
    "start_time": "2023-05-06T14:51:50.161Z"
   },
   {
    "duration": 28,
    "start_time": "2023-05-06T14:51:50.199Z"
   },
   {
    "duration": 12,
    "start_time": "2023-05-06T14:51:50.229Z"
   },
   {
    "duration": 1154,
    "start_time": "2023-05-06T23:02:32.085Z"
   },
   {
    "duration": 79,
    "start_time": "2023-05-06T23:02:33.242Z"
   },
   {
    "duration": 21,
    "start_time": "2023-05-06T23:02:33.322Z"
   },
   {
    "duration": 24,
    "start_time": "2023-05-06T23:02:33.346Z"
   },
   {
    "duration": 32,
    "start_time": "2023-05-06T23:02:33.371Z"
   },
   {
    "duration": 18,
    "start_time": "2023-05-06T23:02:33.405Z"
   },
   {
    "duration": 19,
    "start_time": "2023-05-06T23:02:33.425Z"
   },
   {
    "duration": 21,
    "start_time": "2023-05-06T23:02:33.447Z"
   },
   {
    "duration": 25,
    "start_time": "2023-05-06T23:02:33.469Z"
   },
   {
    "duration": 9,
    "start_time": "2023-05-06T23:02:33.496Z"
   },
   {
    "duration": 14,
    "start_time": "2023-05-06T23:02:33.506Z"
   },
   {
    "duration": 289,
    "start_time": "2023-05-06T23:02:33.521Z"
   },
   {
    "duration": 307,
    "start_time": "2023-05-06T23:02:33.811Z"
   },
   {
    "duration": 216,
    "start_time": "2023-05-06T23:02:34.120Z"
   },
   {
    "duration": 317,
    "start_time": "2023-05-06T23:02:34.338Z"
   },
   {
    "duration": 222,
    "start_time": "2023-05-06T23:02:34.657Z"
   },
   {
    "duration": 292,
    "start_time": "2023-05-06T23:02:34.881Z"
   },
   {
    "duration": 155,
    "start_time": "2023-05-06T23:02:35.175Z"
   },
   {
    "duration": 142,
    "start_time": "2023-05-06T23:02:35.332Z"
   },
   {
    "duration": 5,
    "start_time": "2023-05-06T23:02:35.475Z"
   },
   {
    "duration": 235,
    "start_time": "2023-05-06T23:02:35.481Z"
   },
   {
    "duration": 3,
    "start_time": "2023-05-06T23:02:35.718Z"
   },
   {
    "duration": 24,
    "start_time": "2023-05-06T23:02:35.723Z"
   },
   {
    "duration": 37,
    "start_time": "2023-05-06T23:02:35.750Z"
   },
   {
    "duration": 10,
    "start_time": "2023-05-06T23:02:35.789Z"
   },
   {
    "duration": 37,
    "start_time": "2023-05-06T23:02:35.800Z"
   },
   {
    "duration": 38,
    "start_time": "2023-05-06T23:02:35.839Z"
   },
   {
    "duration": 13,
    "start_time": "2023-05-06T23:02:35.880Z"
   }
  ],
  "kernelspec": {
   "display_name": "Python 3 (ipykernel)",
   "language": "python",
   "name": "python3"
  },
  "language_info": {
   "codemirror_mode": {
    "name": "ipython",
    "version": 3
   },
   "file_extension": ".py",
   "mimetype": "text/x-python",
   "name": "python",
   "nbconvert_exporter": "python",
   "pygments_lexer": "ipython3",
   "version": "3.9.5"
  },
  "toc": {
   "base_numbering": 1,
   "nav_menu": {},
   "number_sections": true,
   "sideBar": true,
   "skip_h1_title": true,
   "title_cell": "Table of Contents",
   "title_sidebar": "Contents",
   "toc_cell": false,
   "toc_position": {},
   "toc_section_display": true,
   "toc_window_display": false
  }
 },
 "nbformat": 4,
 "nbformat_minor": 2
}
